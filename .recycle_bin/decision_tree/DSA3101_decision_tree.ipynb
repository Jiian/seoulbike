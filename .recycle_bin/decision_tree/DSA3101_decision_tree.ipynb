{
  "nbformat": 4,
  "nbformat_minor": 0,
  "metadata": {
    "colab": {
      "name": "DSA3101 DecisionTree.ipynb",
      "provenance": []
    },
    "kernelspec": {
      "name": "python3",
      "display_name": "Python 3"
    },
    "language_info": {
      "name": "python"
    }
  },
  "cells": [
    {
      "cell_type": "code",
      "metadata": {
        "id": "KzjypZVhqhoq"
      },
      "source": [
        "import pandas as pd\n",
        "import numpy as np\n",
        "from sklearn.preprocessing import StandardScaler\n",
        "from sklearn.model_selection import train_test_split\n",
        "from sklearn.ensemble import RandomForestRegressor\n",
        "from sklearn.compose import ColumnTransformer\n",
        "from sklearn.preprocessing import OneHotEncoder\n",
        "from sklearn import metrics\n",
        "import matplotlib.pyplot as plt\n",
        "import pickle"
      ],
      "execution_count": 399,
      "outputs": []
    },
    {
      "cell_type": "code",
      "metadata": {
        "id": "vBCJ7NPgqyvx"
      },
      "source": [
        "#change the url for your own dataset\n",
        "url = '/content/drive/MyDrive/bike_clean.csv'\n",
        "df = pd.read_csv(url)"
      ],
      "execution_count": 351,
      "outputs": []
    },
    {
      "cell_type": "code",
      "metadata": {
        "colab": {
          "base_uri": "https://localhost:8080/",
          "height": 204
        },
        "id": "lBUWMswFstSi",
        "outputId": "2f35bf47-b11e-4547-d09e-3045f8c7ec64"
      },
      "source": [
        "df.head()"
      ],
      "execution_count": 352,
      "outputs": [
        {
          "output_type": "execute_result",
          "data": {
            "text/html": [
              "<div>\n",
              "<style scoped>\n",
              "    .dataframe tbody tr th:only-of-type {\n",
              "        vertical-align: middle;\n",
              "    }\n",
              "\n",
              "    .dataframe tbody tr th {\n",
              "        vertical-align: top;\n",
              "    }\n",
              "\n",
              "    .dataframe thead th {\n",
              "        text-align: right;\n",
              "    }\n",
              "</style>\n",
              "<table border=\"1\" class=\"dataframe\">\n",
              "  <thead>\n",
              "    <tr style=\"text-align: right;\">\n",
              "      <th></th>\n",
              "      <th>Unnamed: 0</th>\n",
              "      <th>datetime</th>\n",
              "      <th>date</th>\n",
              "      <th>hour</th>\n",
              "      <th>season</th>\n",
              "      <th>holiday</th>\n",
              "      <th>open</th>\n",
              "      <th>rent_count</th>\n",
              "      <th>temperature</th>\n",
              "      <th>humidity</th>\n",
              "      <th>wind_speed</th>\n",
              "      <th>visibility</th>\n",
              "      <th>dewpoint_temp</th>\n",
              "      <th>solar_radiation</th>\n",
              "      <th>rainfall</th>\n",
              "      <th>snowfall</th>\n",
              "    </tr>\n",
              "  </thead>\n",
              "  <tbody>\n",
              "    <tr>\n",
              "      <th>0</th>\n",
              "      <td>1</td>\n",
              "      <td>2017-12-01 00:00:00</td>\n",
              "      <td>2017-12-01</td>\n",
              "      <td>0</td>\n",
              "      <td>Winter</td>\n",
              "      <td>No Holiday</td>\n",
              "      <td>Yes</td>\n",
              "      <td>254</td>\n",
              "      <td>-5.2</td>\n",
              "      <td>37</td>\n",
              "      <td>2.2</td>\n",
              "      <td>20000</td>\n",
              "      <td>-17.6</td>\n",
              "      <td>0.0</td>\n",
              "      <td>0.0</td>\n",
              "      <td>0</td>\n",
              "    </tr>\n",
              "    <tr>\n",
              "      <th>1</th>\n",
              "      <td>2</td>\n",
              "      <td>2017-12-01 01:00:00</td>\n",
              "      <td>2017-12-01</td>\n",
              "      <td>1</td>\n",
              "      <td>Winter</td>\n",
              "      <td>No Holiday</td>\n",
              "      <td>Yes</td>\n",
              "      <td>204</td>\n",
              "      <td>-5.5</td>\n",
              "      <td>38</td>\n",
              "      <td>0.8</td>\n",
              "      <td>20000</td>\n",
              "      <td>-17.6</td>\n",
              "      <td>0.0</td>\n",
              "      <td>0.0</td>\n",
              "      <td>0</td>\n",
              "    </tr>\n",
              "    <tr>\n",
              "      <th>2</th>\n",
              "      <td>3</td>\n",
              "      <td>2017-12-01 02:00:00</td>\n",
              "      <td>2017-12-01</td>\n",
              "      <td>2</td>\n",
              "      <td>Winter</td>\n",
              "      <td>No Holiday</td>\n",
              "      <td>Yes</td>\n",
              "      <td>173</td>\n",
              "      <td>-6.0</td>\n",
              "      <td>39</td>\n",
              "      <td>1.0</td>\n",
              "      <td>20000</td>\n",
              "      <td>-17.7</td>\n",
              "      <td>0.0</td>\n",
              "      <td>0.0</td>\n",
              "      <td>0</td>\n",
              "    </tr>\n",
              "    <tr>\n",
              "      <th>3</th>\n",
              "      <td>4</td>\n",
              "      <td>2017-12-01 03:00:00</td>\n",
              "      <td>2017-12-01</td>\n",
              "      <td>3</td>\n",
              "      <td>Winter</td>\n",
              "      <td>No Holiday</td>\n",
              "      <td>Yes</td>\n",
              "      <td>107</td>\n",
              "      <td>-6.2</td>\n",
              "      <td>40</td>\n",
              "      <td>0.9</td>\n",
              "      <td>20000</td>\n",
              "      <td>-17.6</td>\n",
              "      <td>0.0</td>\n",
              "      <td>0.0</td>\n",
              "      <td>0</td>\n",
              "    </tr>\n",
              "    <tr>\n",
              "      <th>4</th>\n",
              "      <td>5</td>\n",
              "      <td>2017-12-01 04:00:00</td>\n",
              "      <td>2017-12-01</td>\n",
              "      <td>4</td>\n",
              "      <td>Winter</td>\n",
              "      <td>No Holiday</td>\n",
              "      <td>Yes</td>\n",
              "      <td>78</td>\n",
              "      <td>-6.0</td>\n",
              "      <td>36</td>\n",
              "      <td>2.3</td>\n",
              "      <td>20000</td>\n",
              "      <td>-18.6</td>\n",
              "      <td>0.0</td>\n",
              "      <td>0.0</td>\n",
              "      <td>0</td>\n",
              "    </tr>\n",
              "  </tbody>\n",
              "</table>\n",
              "</div>"
            ],
            "text/plain": [
              "   Unnamed: 0             datetime  ... rainfall  snowfall\n",
              "0           1  2017-12-01 00:00:00  ...      0.0         0\n",
              "1           2  2017-12-01 01:00:00  ...      0.0         0\n",
              "2           3  2017-12-01 02:00:00  ...      0.0         0\n",
              "3           4  2017-12-01 03:00:00  ...      0.0         0\n",
              "4           5  2017-12-01 04:00:00  ...      0.0         0\n",
              "\n",
              "[5 rows x 16 columns]"
            ]
          },
          "metadata": {},
          "execution_count": 352
        }
      ]
    },
    {
      "cell_type": "code",
      "metadata": {
        "colab": {
          "base_uri": "https://localhost:8080/"
        },
        "id": "0SXFQDTjrc_Z",
        "outputId": "5cd92f34-afea-4286-dd2c-4b1dc5e2f508"
      },
      "source": [
        "df.columns"
      ],
      "execution_count": 353,
      "outputs": [
        {
          "output_type": "execute_result",
          "data": {
            "text/plain": [
              "Index(['Unnamed: 0', 'datetime', 'date', 'hour', 'season', 'holiday', 'open',\n",
              "       'rent_count', 'temperature', 'humidity', 'wind_speed', 'visibility',\n",
              "       'dewpoint_temp', 'solar_radiation', 'rainfall', 'snowfall'],\n",
              "      dtype='object')"
            ]
          },
          "metadata": {},
          "execution_count": 353
        }
      ]
    },
    {
      "cell_type": "code",
      "metadata": {
        "id": "QZkCJmgVt45a"
      },
      "source": [
        "# I kept the month and day to see if there might be correlations to the rent count\n",
        "df['month'] = pd.DatetimeIndex(df['datetime']).month\n",
        "df['day'] = pd.DatetimeIndex(df['datetime']).day\n",
        "df['weekday'] = pd.DatetimeIndex(df['datetime']).dayofweek"
      ],
      "execution_count": 354,
      "outputs": []
    },
    {
      "cell_type": "code",
      "metadata": {
        "id": "JahPmfq3r0rR"
      },
      "source": [
        "# dropping the date columns\n",
        "df.drop(columns = [\"Unnamed: 0\", \"datetime\", \"date\"], inplace = True)"
      ],
      "execution_count": 355,
      "outputs": []
    },
    {
      "cell_type": "code",
      "metadata": {
        "colab": {
          "base_uri": "https://localhost:8080/",
          "height": 297
        },
        "id": "h_dunhr32VYZ",
        "outputId": "79e0bc30-7f96-4e6f-c837-78462be1b601"
      },
      "source": [
        "df.describe()"
      ],
      "execution_count": 356,
      "outputs": [
        {
          "output_type": "execute_result",
          "data": {
            "text/html": [
              "<div>\n",
              "<style scoped>\n",
              "    .dataframe tbody tr th:only-of-type {\n",
              "        vertical-align: middle;\n",
              "    }\n",
              "\n",
              "    .dataframe tbody tr th {\n",
              "        vertical-align: top;\n",
              "    }\n",
              "\n",
              "    .dataframe thead th {\n",
              "        text-align: right;\n",
              "    }\n",
              "</style>\n",
              "<table border=\"1\" class=\"dataframe\">\n",
              "  <thead>\n",
              "    <tr style=\"text-align: right;\">\n",
              "      <th></th>\n",
              "      <th>hour</th>\n",
              "      <th>rent_count</th>\n",
              "      <th>temperature</th>\n",
              "      <th>humidity</th>\n",
              "      <th>wind_speed</th>\n",
              "      <th>visibility</th>\n",
              "      <th>dewpoint_temp</th>\n",
              "      <th>solar_radiation</th>\n",
              "      <th>rainfall</th>\n",
              "      <th>snowfall</th>\n",
              "      <th>month</th>\n",
              "      <th>day</th>\n",
              "      <th>weekday</th>\n",
              "    </tr>\n",
              "  </thead>\n",
              "  <tbody>\n",
              "    <tr>\n",
              "      <th>count</th>\n",
              "      <td>8760.000000</td>\n",
              "      <td>8760.000000</td>\n",
              "      <td>8760.000000</td>\n",
              "      <td>8760.000000</td>\n",
              "      <td>8760.000000</td>\n",
              "      <td>8760.000000</td>\n",
              "      <td>8760.000000</td>\n",
              "      <td>8760.000000</td>\n",
              "      <td>8760.000000</td>\n",
              "      <td>8760.000000</td>\n",
              "      <td>8760.000000</td>\n",
              "      <td>8760.000000</td>\n",
              "      <td>8760.000000</td>\n",
              "    </tr>\n",
              "    <tr>\n",
              "      <th>mean</th>\n",
              "      <td>11.500000</td>\n",
              "      <td>704.602055</td>\n",
              "      <td>12.882922</td>\n",
              "      <td>58.226256</td>\n",
              "      <td>1.724909</td>\n",
              "      <td>14368.257991</td>\n",
              "      <td>4.073813</td>\n",
              "      <td>0.569111</td>\n",
              "      <td>0.148687</td>\n",
              "      <td>0.750685</td>\n",
              "      <td>6.526027</td>\n",
              "      <td>15.720548</td>\n",
              "      <td>3.002740</td>\n",
              "    </tr>\n",
              "    <tr>\n",
              "      <th>std</th>\n",
              "      <td>6.922582</td>\n",
              "      <td>644.997468</td>\n",
              "      <td>11.944825</td>\n",
              "      <td>20.362413</td>\n",
              "      <td>1.036300</td>\n",
              "      <td>6082.987120</td>\n",
              "      <td>13.060369</td>\n",
              "      <td>0.868746</td>\n",
              "      <td>1.128193</td>\n",
              "      <td>4.367462</td>\n",
              "      <td>3.448048</td>\n",
              "      <td>8.796749</td>\n",
              "      <td>1.998056</td>\n",
              "    </tr>\n",
              "    <tr>\n",
              "      <th>min</th>\n",
              "      <td>0.000000</td>\n",
              "      <td>0.000000</td>\n",
              "      <td>-17.800000</td>\n",
              "      <td>0.000000</td>\n",
              "      <td>0.000000</td>\n",
              "      <td>270.000000</td>\n",
              "      <td>-30.600000</td>\n",
              "      <td>0.000000</td>\n",
              "      <td>0.000000</td>\n",
              "      <td>0.000000</td>\n",
              "      <td>1.000000</td>\n",
              "      <td>1.000000</td>\n",
              "      <td>0.000000</td>\n",
              "    </tr>\n",
              "    <tr>\n",
              "      <th>25%</th>\n",
              "      <td>5.750000</td>\n",
              "      <td>191.000000</td>\n",
              "      <td>3.500000</td>\n",
              "      <td>42.000000</td>\n",
              "      <td>0.900000</td>\n",
              "      <td>9400.000000</td>\n",
              "      <td>-4.700000</td>\n",
              "      <td>0.000000</td>\n",
              "      <td>0.000000</td>\n",
              "      <td>0.000000</td>\n",
              "      <td>4.000000</td>\n",
              "      <td>8.000000</td>\n",
              "      <td>1.000000</td>\n",
              "    </tr>\n",
              "    <tr>\n",
              "      <th>50%</th>\n",
              "      <td>11.500000</td>\n",
              "      <td>504.500000</td>\n",
              "      <td>13.700000</td>\n",
              "      <td>57.000000</td>\n",
              "      <td>1.500000</td>\n",
              "      <td>16980.000000</td>\n",
              "      <td>5.100000</td>\n",
              "      <td>0.010000</td>\n",
              "      <td>0.000000</td>\n",
              "      <td>0.000000</td>\n",
              "      <td>7.000000</td>\n",
              "      <td>16.000000</td>\n",
              "      <td>3.000000</td>\n",
              "    </tr>\n",
              "    <tr>\n",
              "      <th>75%</th>\n",
              "      <td>17.250000</td>\n",
              "      <td>1065.250000</td>\n",
              "      <td>22.500000</td>\n",
              "      <td>74.000000</td>\n",
              "      <td>2.300000</td>\n",
              "      <td>20000.000000</td>\n",
              "      <td>14.800000</td>\n",
              "      <td>0.930000</td>\n",
              "      <td>0.000000</td>\n",
              "      <td>0.000000</td>\n",
              "      <td>10.000000</td>\n",
              "      <td>23.000000</td>\n",
              "      <td>5.000000</td>\n",
              "    </tr>\n",
              "    <tr>\n",
              "      <th>max</th>\n",
              "      <td>23.000000</td>\n",
              "      <td>3556.000000</td>\n",
              "      <td>39.400000</td>\n",
              "      <td>98.000000</td>\n",
              "      <td>7.400000</td>\n",
              "      <td>20000.000000</td>\n",
              "      <td>27.200000</td>\n",
              "      <td>3.520000</td>\n",
              "      <td>35.000000</td>\n",
              "      <td>88.000000</td>\n",
              "      <td>12.000000</td>\n",
              "      <td>31.000000</td>\n",
              "      <td>6.000000</td>\n",
              "    </tr>\n",
              "  </tbody>\n",
              "</table>\n",
              "</div>"
            ],
            "text/plain": [
              "              hour   rent_count  ...          day      weekday\n",
              "count  8760.000000  8760.000000  ...  8760.000000  8760.000000\n",
              "mean     11.500000   704.602055  ...    15.720548     3.002740\n",
              "std       6.922582   644.997468  ...     8.796749     1.998056\n",
              "min       0.000000     0.000000  ...     1.000000     0.000000\n",
              "25%       5.750000   191.000000  ...     8.000000     1.000000\n",
              "50%      11.500000   504.500000  ...    16.000000     3.000000\n",
              "75%      17.250000  1065.250000  ...    23.000000     5.000000\n",
              "max      23.000000  3556.000000  ...    31.000000     6.000000\n",
              "\n",
              "[8 rows x 13 columns]"
            ]
          },
          "metadata": {},
          "execution_count": 356
        }
      ]
    },
    {
      "cell_type": "code",
      "metadata": {
        "colab": {
          "base_uri": "https://localhost:8080/",
          "height": 204
        },
        "id": "xnH6rFxjuHzh",
        "outputId": "4449e3a0-e943-493e-934e-5bea5c57e637"
      },
      "source": [
        "df.head()"
      ],
      "execution_count": 357,
      "outputs": [
        {
          "output_type": "execute_result",
          "data": {
            "text/html": [
              "<div>\n",
              "<style scoped>\n",
              "    .dataframe tbody tr th:only-of-type {\n",
              "        vertical-align: middle;\n",
              "    }\n",
              "\n",
              "    .dataframe tbody tr th {\n",
              "        vertical-align: top;\n",
              "    }\n",
              "\n",
              "    .dataframe thead th {\n",
              "        text-align: right;\n",
              "    }\n",
              "</style>\n",
              "<table border=\"1\" class=\"dataframe\">\n",
              "  <thead>\n",
              "    <tr style=\"text-align: right;\">\n",
              "      <th></th>\n",
              "      <th>hour</th>\n",
              "      <th>season</th>\n",
              "      <th>holiday</th>\n",
              "      <th>open</th>\n",
              "      <th>rent_count</th>\n",
              "      <th>temperature</th>\n",
              "      <th>humidity</th>\n",
              "      <th>wind_speed</th>\n",
              "      <th>visibility</th>\n",
              "      <th>dewpoint_temp</th>\n",
              "      <th>solar_radiation</th>\n",
              "      <th>rainfall</th>\n",
              "      <th>snowfall</th>\n",
              "      <th>month</th>\n",
              "      <th>day</th>\n",
              "      <th>weekday</th>\n",
              "    </tr>\n",
              "  </thead>\n",
              "  <tbody>\n",
              "    <tr>\n",
              "      <th>0</th>\n",
              "      <td>0</td>\n",
              "      <td>Winter</td>\n",
              "      <td>No Holiday</td>\n",
              "      <td>Yes</td>\n",
              "      <td>254</td>\n",
              "      <td>-5.2</td>\n",
              "      <td>37</td>\n",
              "      <td>2.2</td>\n",
              "      <td>20000</td>\n",
              "      <td>-17.6</td>\n",
              "      <td>0.0</td>\n",
              "      <td>0.0</td>\n",
              "      <td>0</td>\n",
              "      <td>12</td>\n",
              "      <td>1</td>\n",
              "      <td>4</td>\n",
              "    </tr>\n",
              "    <tr>\n",
              "      <th>1</th>\n",
              "      <td>1</td>\n",
              "      <td>Winter</td>\n",
              "      <td>No Holiday</td>\n",
              "      <td>Yes</td>\n",
              "      <td>204</td>\n",
              "      <td>-5.5</td>\n",
              "      <td>38</td>\n",
              "      <td>0.8</td>\n",
              "      <td>20000</td>\n",
              "      <td>-17.6</td>\n",
              "      <td>0.0</td>\n",
              "      <td>0.0</td>\n",
              "      <td>0</td>\n",
              "      <td>12</td>\n",
              "      <td>1</td>\n",
              "      <td>4</td>\n",
              "    </tr>\n",
              "    <tr>\n",
              "      <th>2</th>\n",
              "      <td>2</td>\n",
              "      <td>Winter</td>\n",
              "      <td>No Holiday</td>\n",
              "      <td>Yes</td>\n",
              "      <td>173</td>\n",
              "      <td>-6.0</td>\n",
              "      <td>39</td>\n",
              "      <td>1.0</td>\n",
              "      <td>20000</td>\n",
              "      <td>-17.7</td>\n",
              "      <td>0.0</td>\n",
              "      <td>0.0</td>\n",
              "      <td>0</td>\n",
              "      <td>12</td>\n",
              "      <td>1</td>\n",
              "      <td>4</td>\n",
              "    </tr>\n",
              "    <tr>\n",
              "      <th>3</th>\n",
              "      <td>3</td>\n",
              "      <td>Winter</td>\n",
              "      <td>No Holiday</td>\n",
              "      <td>Yes</td>\n",
              "      <td>107</td>\n",
              "      <td>-6.2</td>\n",
              "      <td>40</td>\n",
              "      <td>0.9</td>\n",
              "      <td>20000</td>\n",
              "      <td>-17.6</td>\n",
              "      <td>0.0</td>\n",
              "      <td>0.0</td>\n",
              "      <td>0</td>\n",
              "      <td>12</td>\n",
              "      <td>1</td>\n",
              "      <td>4</td>\n",
              "    </tr>\n",
              "    <tr>\n",
              "      <th>4</th>\n",
              "      <td>4</td>\n",
              "      <td>Winter</td>\n",
              "      <td>No Holiday</td>\n",
              "      <td>Yes</td>\n",
              "      <td>78</td>\n",
              "      <td>-6.0</td>\n",
              "      <td>36</td>\n",
              "      <td>2.3</td>\n",
              "      <td>20000</td>\n",
              "      <td>-18.6</td>\n",
              "      <td>0.0</td>\n",
              "      <td>0.0</td>\n",
              "      <td>0</td>\n",
              "      <td>12</td>\n",
              "      <td>1</td>\n",
              "      <td>4</td>\n",
              "    </tr>\n",
              "  </tbody>\n",
              "</table>\n",
              "</div>"
            ],
            "text/plain": [
              "   hour  season     holiday open  ...  snowfall  month  day  weekday\n",
              "0     0  Winter  No Holiday  Yes  ...         0     12    1        4\n",
              "1     1  Winter  No Holiday  Yes  ...         0     12    1        4\n",
              "2     2  Winter  No Holiday  Yes  ...         0     12    1        4\n",
              "3     3  Winter  No Holiday  Yes  ...         0     12    1        4\n",
              "4     4  Winter  No Holiday  Yes  ...         0     12    1        4\n",
              "\n",
              "[5 rows x 16 columns]"
            ]
          },
          "metadata": {},
          "execution_count": 357
        }
      ]
    },
    {
      "cell_type": "markdown",
      "metadata": {
        "id": "CqPd42CUvNkh"
      },
      "source": [
        "#Scaling the data"
      ]
    },
    {
      "cell_type": "code",
      "metadata": {
        "id": "hJVQpNySvQUh"
      },
      "source": [
        "colnames = list(df.columns)\n",
        "columns_to_scale = colnames[5:13] #scaling specific columns changes the order of the columns so I had to label them back\n",
        "columns_untouched = colnames[:5] + colnames[13:]\n",
        "\n",
        "features = df[colnames]\n",
        "ct = ColumnTransformer([\n",
        "            ('scaled_df', StandardScaler(), columns_to_scale)\n",
        "                    ], remainder = 'passthrough')\n",
        "\n",
        "scaled_df = pd.DataFrame(ct.fit_transform(features))\n",
        "scaled_df.columns = columns_to_scale + columns_untouched"
      ],
      "execution_count": 358,
      "outputs": []
    },
    {
      "cell_type": "markdown",
      "metadata": {
        "id": "bAyXLCGe1kc0"
      },
      "source": [
        "# Decision Tree (Random Forest)"
      ]
    },
    {
      "cell_type": "markdown",
      "metadata": {
        "id": "9KvgvmsI1506"
      },
      "source": [
        "## Splitting the data"
      ]
    },
    {
      "cell_type": "code",
      "metadata": {
        "id": "_8L5MX2W29NM"
      },
      "source": [
        "# X is the variables and y is the response\n",
        "X = scaled_df.iloc[:, scaled_df.columns != \"rent_count\"]\n",
        "y = scaled_df.iloc[:, 12]\n",
        "X_train, X_test, y_train, y_test = train_test_split(X, y, train_size = 0.7, random_state = 42)\n",
        "X_column_names = X_train.columns # just keeping track of the column names"
      ],
      "execution_count": 359,
      "outputs": []
    },
    {
      "cell_type": "code",
      "metadata": {
        "id": "wzeCfWoc8dsm"
      },
      "source": [
        "#vectorising the data for the model to work\n",
        "categorical_encoder = OneHotEncoder(handle_unknown = \"ignore\")\n",
        "ct = ColumnTransformer(\n",
        "    transformers = [(\"categorical\", categorical_encoder, list(range(8,15)))]\n",
        "    , remainder = 'passthrough'\n",
        ")\n",
        "X_train = ct.fit_transform(X_train)\n",
        "X_test = ct.fit_transform(X_test)"
      ],
      "execution_count": 361,
      "outputs": []
    },
    {
      "cell_type": "markdown",
      "metadata": {
        "id": "RDCsMtqq7TSd"
      },
      "source": [
        "## Training the model"
      ]
    },
    {
      "cell_type": "code",
      "metadata": {
        "colab": {
          "base_uri": "https://localhost:8080/"
        },
        "id": "WQ7AIZ8K4S3s",
        "outputId": "c2b93f9a-f864-4b5a-a768-6806fc2ea551"
      },
      "source": [
        "model = RandomForestRegressor(random_state = 42)\n",
        "model.fit(X_train, y_train)"
      ],
      "execution_count": 362,
      "outputs": [
        {
          "output_type": "execute_result",
          "data": {
            "text/plain": [
              "RandomForestRegressor(bootstrap=True, ccp_alpha=0.0, criterion='mse',\n",
              "                      max_depth=None, max_features='auto', max_leaf_nodes=None,\n",
              "                      max_samples=None, min_impurity_decrease=0.0,\n",
              "                      min_impurity_split=None, min_samples_leaf=1,\n",
              "                      min_samples_split=2, min_weight_fraction_leaf=0.0,\n",
              "                      n_estimators=100, n_jobs=None, oob_score=False,\n",
              "                      random_state=42, verbose=0, warm_start=False)"
            ]
          },
          "metadata": {},
          "execution_count": 362
        }
      ]
    },
    {
      "cell_type": "markdown",
      "metadata": {
        "id": "aXTcPTynEN1d"
      },
      "source": [
        "##Checking the error between prediction and test value"
      ]
    },
    {
      "cell_type": "code",
      "metadata": {
        "id": "kKV6gohbEIwe"
      },
      "source": [
        "y_pred = model.predict(X_test)"
      ],
      "execution_count": 369,
      "outputs": []
    },
    {
      "cell_type": "code",
      "metadata": {
        "colab": {
          "base_uri": "https://localhost:8080/"
        },
        "id": "iCJTvlj0QZFZ",
        "outputId": "8ffbf44e-3790-45e5-8dcd-a8457cda4fa1"
      },
      "source": [
        "print('Explained Variance Score:', metrics.explained_variance_score(y_test, y_pred))\n",
        "print('Mean Squared Error:', metrics.mean_squared_error(y_test, y_pred))\n",
        "print('R Squared Score:', (metrics.r2_score(y_test, y_pred)))"
      ],
      "execution_count": 372,
      "outputs": [
        {
          "output_type": "stream",
          "text": [
            "Explained Variance Score: 0.8903919648869464\n",
            "Mean Squared Error: 44945.08028207762\n",
            "R Squared Score: 0.8903217047174007\n"
          ],
          "name": "stdout"
        }
      ]
    },
    {
      "cell_type": "markdown",
      "metadata": {
        "id": "NOsfZsxYW6nK"
      },
      "source": [
        "##Finding the important features"
      ]
    },
    {
      "cell_type": "code",
      "metadata": {
        "id": "K3p6QLvSR5I5"
      },
      "source": [
        "#sorting them\n",
        "sorted_features = []\n",
        "for feature, importance in zip(X.columns, model.feature_importances_):\n",
        "    sorted_features.append((feature, importance))\n",
        "sorted_features.sort(key = lambda x: x[1], reverse = True)"
      ],
      "execution_count": 389,
      "outputs": []
    },
    {
      "cell_type": "code",
      "metadata": {
        "colab": {
          "base_uri": "https://localhost:8080/"
        },
        "id": "urmSji2jSTvJ",
        "outputId": "81e82493-ecf1-47e7-dc51-77a06e8f485f"
      },
      "source": [
        "sorted_features"
      ],
      "execution_count": 390,
      "outputs": [
        {
          "output_type": "execute_result",
          "data": {
            "text/plain": [
              "[('hour', 0.019483172047932845),\n",
              " ('temperature', 0.005944168102267746),\n",
              " ('dewpoint_temp', 0.00521316650697633),\n",
              " ('solar_radiation', 0.004317792346613977),\n",
              " ('humidity', 0.0034692559919782674),\n",
              " ('snowfall', 0.0029435263982009498),\n",
              " ('visibility', 0.002482501289439264),\n",
              " ('holiday', 0.0024687803649073247),\n",
              " ('wind_speed', 0.002044960559499399),\n",
              " ('rainfall', 0.0014936041476304026),\n",
              " ('season', 0.0009350121418399237),\n",
              " ('open', 0.0008796406728789732),\n",
              " ('weekday', 0.0002694971105251361),\n",
              " ('month', 0.00023755922798162802),\n",
              " ('day', 0.00019178479528295735)]"
            ]
          },
          "metadata": {},
          "execution_count": 390
        }
      ]
    },
    {
      "cell_type": "code",
      "metadata": {
        "colab": {
          "base_uri": "https://localhost:8080/",
          "height": 332
        },
        "id": "KwGpmSaIUscC",
        "outputId": "00532655-71f6-45f8-b277-76e2d609cd6d"
      },
      "source": [
        "plt.bar([x[0] for x in sorted_features], [y[1] for y in sorted_features])\n",
        "plt.xticks(rotation='vertical')\n",
        "plt.show()"
      ],
      "execution_count": 397,
      "outputs": [
        {
          "output_type": "display_data",
          "data": {
            "image/png": "[encoded data removed]",
            "text/plain": [
              "<Figure size 432x288 with 1 Axes>"
            ]
          },
          "metadata": {
            "needs_background": "light"
          }
        }
      ]
    },
    {
      "cell_type": "markdown",
      "metadata": {
        "id": "kemRoJ-hXEth"
      },
      "source": [
        "#Saving / Loading the model"
      ]
    },
    {
      "cell_type": "code",
      "metadata": {
        "id": "XUviZk4DXG2q"
      },
      "source": [
        "pkl_filename = \"pickle_model.pkl\"\n",
        "file_directory = 'Add the path of your google drive folder'\n",
        "\n",
        "# Save to file in the current working directory\n",
        "with open(file_directory + pkl_filename, 'wb') as file:\n",
        "    #pickle.dump(model, file)\n",
        "\n",
        "# Load from file\n",
        "with open(file_directory + pkl_filename, 'rb') as file:\n",
        "    #pickle_model = pickle.load(file)"
      ],
      "execution_count": 401,
      "outputs": []
    }
  ]
}