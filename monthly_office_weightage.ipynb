{
 "cells": [
  {
   "cell_type": "code",
   "execution_count": 46,
   "id": "068d5748-10fd-41f8-8462-2bc1cdf8b059",
   "metadata": {},
   "outputs": [],
   "source": [
    "import pandas as pd\n",
    "from datetime import datetime"
   ]
  },
  {
   "cell_type": "code",
   "execution_count": 47,
   "id": "47dc4cf8-a3c8-4ed6-9bff-8f8b7b5793ff",
   "metadata": {},
   "outputs": [],
   "source": [
    "data = pd.read_csv('./data/location_jan17_may19_clean.csv', encoding = 'cp949')"
   ]
  },
  {
   "cell_type": "code",
   "execution_count": 48,
   "id": "21acb8eb-ed29-4a89-9710-4d6d9de7f86d",
   "metadata": {},
   "outputs": [],
   "source": [
    "data = data[['code', 'month', 'rentals']].drop_duplicates()"
   ]
  },
  {
   "cell_type": "code",
   "execution_count": 49,
   "id": "2bf51100-9f6d-4438-bbf9-d714accb94d2",
   "metadata": {},
   "outputs": [],
   "source": [
    "data.month = pd.to_datetime(data.month)"
   ]
  },
  {
   "cell_type": "code",
   "execution_count": 50,
   "id": "dcc8b218-dc9c-4cfc-bc1e-471fe6a79464",
   "metadata": {},
   "outputs": [],
   "source": [
    "data['month_label'] = data.month.dt.month"
   ]
  },
  {
   "cell_type": "code",
   "execution_count": 51,
   "id": "b7141cef-951c-41fe-ada0-2989befa3c5c",
   "metadata": {},
   "outputs": [],
   "source": [
    "df_monthly_rental_sum = data.groupby('month').rentals.sum().reset_index()\n",
    "df_monthly_rental_sum.columns = ['month', 'rental_sum']"
   ]
  },
  {
   "cell_type": "code",
   "execution_count": 52,
   "id": "0df933bd-579c-4da4-9e20-2e947d8e7502",
   "metadata": {},
   "outputs": [],
   "source": [
    "data_with_sum = data.merge(df_monthly_rental_sum, on = 'month', how = 'left')\n",
    "data_with_sum['rental_percentage'] = data_with_sum.rentals/data_with_sum.rental_sum"
   ]
  },
  {
   "cell_type": "code",
   "execution_count": 53,
   "id": "3cc495f4-b492-4676-b206-38f25cbe40b9",
   "metadata": {},
   "outputs": [],
   "source": [
    "df_final = data_with_sum.groupby(['code','month_label']).rental_percentage.mean().reset_index()"
   ]
  },
  {
   "cell_type": "code",
   "execution_count": 90,
   "id": "5fc41b58-49d4-408a-895f-5dd36fc0437c",
   "metadata": {},
   "outputs": [],
   "source": [
    "df_final.to_csv('office_monthly_weightage.csv', index=False)"
   ]
  },
  {
   "cell_type": "code",
   "execution_count": 11,
   "id": "fe19e184-9e54-4c47-98e8-dc702db599f0",
   "metadata": {},
   "outputs": [
    {
     "data": {
      "text/html": [
       "<div>\n",
       "<style scoped>\n",
       "    .dataframe tbody tr th:only-of-type {\n",
       "        vertical-align: middle;\n",
       "    }\n",
       "\n",
       "    .dataframe tbody tr th {\n",
       "        vertical-align: top;\n",
       "    }\n",
       "\n",
       "    .dataframe thead th {\n",
       "        text-align: right;\n",
       "    }\n",
       "</style>\n",
       "<table border=\"1\" class=\"dataframe\">\n",
       "  <thead>\n",
       "    <tr style=\"text-align: right;\">\n",
       "      <th></th>\n",
       "      <th>code</th>\n",
       "      <th>month_label</th>\n",
       "      <th>rental_percentage</th>\n",
       "    </tr>\n",
       "  </thead>\n",
       "  <tbody>\n",
       "    <tr>\n",
       "      <th>0</th>\n",
       "      <td>1001</td>\n",
       "      <td>1</td>\n",
       "      <td>0.000933</td>\n",
       "    </tr>\n",
       "    <tr>\n",
       "      <th>1</th>\n",
       "      <td>1001</td>\n",
       "      <td>2</td>\n",
       "      <td>0.001008</td>\n",
       "    </tr>\n",
       "    <tr>\n",
       "      <th>2</th>\n",
       "      <td>1001</td>\n",
       "      <td>3</td>\n",
       "      <td>0.001010</td>\n",
       "    </tr>\n",
       "    <tr>\n",
       "      <th>3</th>\n",
       "      <td>1001</td>\n",
       "      <td>4</td>\n",
       "      <td>0.000676</td>\n",
       "    </tr>\n",
       "    <tr>\n",
       "      <th>4</th>\n",
       "      <td>1001</td>\n",
       "      <td>5</td>\n",
       "      <td>0.001097</td>\n",
       "    </tr>\n",
       "    <tr>\n",
       "      <th>...</th>\n",
       "      <td>...</td>\n",
       "      <td>...</td>\n",
       "      <td>...</td>\n",
       "    </tr>\n",
       "    <tr>\n",
       "      <th>17529</th>\n",
       "      <td>중랑센터</td>\n",
       "      <td>2</td>\n",
       "      <td>0.000286</td>\n",
       "    </tr>\n",
       "    <tr>\n",
       "      <th>17530</th>\n",
       "      <td>중랑센터</td>\n",
       "      <td>3</td>\n",
       "      <td>0.000124</td>\n",
       "    </tr>\n",
       "    <tr>\n",
       "      <th>17531</th>\n",
       "      <td>중랑센터</td>\n",
       "      <td>4</td>\n",
       "      <td>0.000177</td>\n",
       "    </tr>\n",
       "    <tr>\n",
       "      <th>17532</th>\n",
       "      <td>중랑센터</td>\n",
       "      <td>5</td>\n",
       "      <td>0.000094</td>\n",
       "    </tr>\n",
       "    <tr>\n",
       "      <th>17533</th>\n",
       "      <td>중랑센터</td>\n",
       "      <td>6</td>\n",
       "      <td>0.000062</td>\n",
       "    </tr>\n",
       "  </tbody>\n",
       "</table>\n",
       "<p>17534 rows × 3 columns</p>\n",
       "</div>"
      ],
      "text/plain": [
       "       code  month_label  rental_percentage\n",
       "0      1001            1           0.000933\n",
       "1      1001            2           0.001008\n",
       "2      1001            3           0.001010\n",
       "3      1001            4           0.000676\n",
       "4      1001            5           0.001097\n",
       "...     ...          ...                ...\n",
       "17529  중랑센터            2           0.000286\n",
       "17530  중랑센터            3           0.000124\n",
       "17531  중랑센터            4           0.000177\n",
       "17532  중랑센터            5           0.000094\n",
       "17533  중랑센터            6           0.000062\n",
       "\n",
       "[17534 rows x 3 columns]"
      ]
     },
     "execution_count": 11,
     "metadata": {},
     "output_type": "execute_result"
    }
   ],
   "source": [
    "df_final"
   ]
  }
 ],
 "metadata": {
  "kernelspec": {
   "display_name": "Python 3",
   "language": "python",
   "name": "python3"
  },
  "language_info": {
   "codemirror_mode": {
    "name": "ipython",
    "version": 3
   },
   "file_extension": ".py",
   "mimetype": "text/x-python",
   "name": "python",
   "nbconvert_exporter": "python",
   "pygments_lexer": "ipython3",
   "version": "3.8.11"
  }
 },
 "nbformat": 4,
 "nbformat_minor": 5
}
