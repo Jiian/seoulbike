{
 "cells": [
  {
   "cell_type": "code",
   "execution_count": 2,
   "id": "c4007f20-7151-426d-8aa8-a577ecdb81eb",
   "metadata": {
    "tags": []
   },
   "outputs": [],
   "source": [
    "# !pip install googletrans==3.1.0a0"
   ]
  },
  {
   "cell_type": "code",
   "execution_count": 50,
   "id": "4a21f9a4-2bc2-4c67-9b3a-31f6e3edf410",
   "metadata": {},
   "outputs": [],
   "source": [
    "import pandas as pd\n",
    "from googletrans import Translator\n",
    "translator = Translator()"
   ]
  },
  {
   "cell_type": "code",
   "execution_count": 51,
   "id": "99b06a77-2751-4d76-a803-dc0b1255aa8b",
   "metadata": {},
   "outputs": [
    {
     "data": {
      "text/plain": [
       "<googletrans.models.Detected at 0x1aa7d9d5c70>"
      ]
     },
     "execution_count": 51,
     "metadata": {},
     "output_type": "execute_result"
    }
   ],
   "source": [
    "translator.detect(\"안녕하세요\")"
   ]
  },
  {
   "cell_type": "code",
   "execution_count": 52,
   "id": "45e6ae2b-37fe-4985-a2b9-8d2eec334a4a",
   "metadata": {},
   "outputs": [
    {
     "name": "stdout",
     "output_type": "stream",
     "text": [
      "안녕하세요 (en) --> 안녕하세요 (en)\n"
     ]
    }
   ],
   "source": [
    "translation = translator.translate(\"안녕하세요\", src= 'ko', dest = 'en')\n",
    "print(f\"{translation.origin} ({translation.src}) --> {translation.text} ({translation.dest})\")"
   ]
  },
  {
   "cell_type": "code",
   "execution_count": 4,
   "id": "7b7326d4-6a93-4112-9d93-592cc1a41ba1",
   "metadata": {},
   "outputs": [],
   "source": [
    "df_rental1 = pd.read_csv('../data/rental_office_info.csv', encoding='cp949')"
   ]
  },
  {
   "cell_type": "code",
   "execution_count": 5,
   "id": "e4c910fa-85a7-45bc-a661-d86320dc5567",
   "metadata": {},
   "outputs": [
    {
     "data": {
      "text/html": [
       "<div>\n",
       "<style scoped>\n",
       "    .dataframe tbody tr th:only-of-type {\n",
       "        vertical-align: middle;\n",
       "    }\n",
       "\n",
       "    .dataframe tbody tr th {\n",
       "        vertical-align: top;\n",
       "    }\n",
       "\n",
       "    .dataframe thead th {\n",
       "        text-align: right;\n",
       "    }\n",
       "</style>\n",
       "<table border=\"1\" class=\"dataframe\">\n",
       "  <thead>\n",
       "    <tr style=\"text-align: right;\">\n",
       "      <th></th>\n",
       "      <th>code</th>\n",
       "      <th>office</th>\n",
       "      <th>borough</th>\n",
       "      <th>address</th>\n",
       "      <th>latitude</th>\n",
       "      <th>longitude</th>\n",
       "      <th>install_date</th>\n",
       "      <th>LCD</th>\n",
       "      <th>QR</th>\n",
       "      <th>type</th>\n",
       "    </tr>\n",
       "  </thead>\n",
       "  <tbody>\n",
       "    <tr>\n",
       "      <th>0</th>\n",
       "      <td>301</td>\n",
       "      <td>경복궁역 7번출구 앞</td>\n",
       "      <td>종로구</td>\n",
       "      <td>서울특별시 종로구 사직로 지하130</td>\n",
       "      <td>37.575794</td>\n",
       "      <td>126.971451</td>\n",
       "      <td>07/10/2015</td>\n",
       "      <td>16.0</td>\n",
       "      <td>NaN</td>\n",
       "      <td>LCD</td>\n",
       "    </tr>\n",
       "    <tr>\n",
       "      <th>1</th>\n",
       "      <td>302</td>\n",
       "      <td>경복궁역 4번출구 뒤</td>\n",
       "      <td>종로구</td>\n",
       "      <td>서울특별시 종로구 사직로 지하130</td>\n",
       "      <td>37.575947</td>\n",
       "      <td>126.974060</td>\n",
       "      <td>07/10/2015</td>\n",
       "      <td>12.0</td>\n",
       "      <td>NaN</td>\n",
       "      <td>LCD</td>\n",
       "    </tr>\n",
       "    <tr>\n",
       "      <th>2</th>\n",
       "      <td>303</td>\n",
       "      <td>광화문역 1번출구 앞</td>\n",
       "      <td>종로구</td>\n",
       "      <td>서울특별시 종로구 세종대로 지하189</td>\n",
       "      <td>37.571770</td>\n",
       "      <td>126.974663</td>\n",
       "      <td>07/10/2015</td>\n",
       "      <td>8.0</td>\n",
       "      <td>NaN</td>\n",
       "      <td>LCD</td>\n",
       "    </tr>\n",
       "    <tr>\n",
       "      <th>3</th>\n",
       "      <td>304</td>\n",
       "      <td>광화문역 2번출구 앞</td>\n",
       "      <td>종로구</td>\n",
       "      <td>서울특별시 종로구 세종대로 지하172</td>\n",
       "      <td>37.572113</td>\n",
       "      <td>126.977577</td>\n",
       "      <td>26/01/2021</td>\n",
       "      <td>NaN</td>\n",
       "      <td>7.0</td>\n",
       "      <td>QR</td>\n",
       "    </tr>\n",
       "    <tr>\n",
       "      <th>4</th>\n",
       "      <td>305</td>\n",
       "      <td>종로구청 옆</td>\n",
       "      <td>종로구</td>\n",
       "      <td>서울특별시 종로구 삼봉로 43</td>\n",
       "      <td>37.572582</td>\n",
       "      <td>126.978355</td>\n",
       "      <td>07/10/2015</td>\n",
       "      <td>16.0</td>\n",
       "      <td>NaN</td>\n",
       "      <td>LCD</td>\n",
       "    </tr>\n",
       "  </tbody>\n",
       "</table>\n",
       "</div>"
      ],
      "text/plain": [
       "   code       office borough               address   latitude   longitude  \\\n",
       "0   301  경복궁역 7번출구 앞     종로구   서울특별시 종로구 사직로 지하130  37.575794  126.971451   \n",
       "1   302  경복궁역 4번출구 뒤     종로구   서울특별시 종로구 사직로 지하130  37.575947  126.974060   \n",
       "2   303  광화문역 1번출구 앞     종로구  서울특별시 종로구 세종대로 지하189  37.571770  126.974663   \n",
       "3   304  광화문역 2번출구 앞     종로구  서울특별시 종로구 세종대로 지하172  37.572113  126.977577   \n",
       "4   305       종로구청 옆     종로구      서울특별시 종로구 삼봉로 43  37.572582  126.978355   \n",
       "\n",
       "  install_date   LCD   QR type  \n",
       "0   07/10/2015  16.0  NaN  LCD  \n",
       "1   07/10/2015  12.0  NaN  LCD  \n",
       "2   07/10/2015   8.0  NaN  LCD  \n",
       "3   26/01/2021   NaN  7.0   QR  \n",
       "4   07/10/2015  16.0  NaN  LCD  "
      ]
     },
     "execution_count": 5,
     "metadata": {},
     "output_type": "execute_result"
    }
   ],
   "source": [
    "df_rental1.head()"
   ]
  },
  {
   "cell_type": "code",
   "execution_count": 6,
   "id": "9e076158-bb64-48c1-807c-5acf360a2029",
   "metadata": {},
   "outputs": [
    {
     "data": {
      "text/plain": [
       "1                Behind Gyeongbokgung Station Exit 4\n",
       "2             In front of Gwanghwamun Station Exit 1\n",
       "3             In front of Gwanghwamun Station Exit 2\n",
       "4                           Next to Jongno-gu Office\n",
       "5             In front of Gwanghwamun Station Exit 7\n",
       "6                In front of Seoul Museum of History\n",
       "7                    In front of Gwanghwamun S Tower\n",
       "8                 Next to Gwanghwamun Station Exit 6\n",
       "9     National Museum of Modern and Contemporary Art\n",
       "10                In front of Jonggak Station Exit 1\n",
       "Name: office, dtype: object"
      ]
     },
     "execution_count": 6,
     "metadata": {},
     "output_type": "execute_result"
    }
   ],
   "source": [
    "df_rental1.loc[1:10].office.apply(lambda x: translator.translate(x, dest='en').text)"
   ]
  },
  {
   "cell_type": "code",
   "execution_count": 7,
   "id": "1d4fcafd-fca9-4cf6-947c-f030bf3d104a",
   "metadata": {},
   "outputs": [],
   "source": [
    "df_rental1['translated_office'] = df_rental1.office.apply(lambda x: translator.translate(x, dest='en').text)"
   ]
  },
  {
   "cell_type": "code",
   "execution_count": 31,
   "id": "9eb81a5b-3fb2-451e-a7a3-c4f6efecbb1a",
   "metadata": {},
   "outputs": [
    {
     "data": {
      "text/plain": [
       "code                                563\n",
       "office                        성동세무서 건너편\n",
       "borough                             성동구\n",
       "address              서울특별시 성동구 광나루로 302\n",
       "latitude                      37.547913\n",
       "longitude                    127.062752\n",
       "install_date                 06/07/2016\n",
       "LCD                                10.0\n",
       "QR                                  NaN\n",
       "type                                LCD\n",
       "translated_office             성동세무서 건너편\n",
       "Name: 286, dtype: object"
      ]
     },
     "execution_count": 31,
     "metadata": {},
     "output_type": "execute_result"
    }
   ],
   "source": [
    "df_rental1.loc[286]"
   ]
  }
 ],
 "metadata": {
  "kernelspec": {
   "display_name": "Python 3",
   "language": "python",
   "name": "python3"
  },
  "language_info": {
   "codemirror_mode": {
    "name": "ipython",
    "version": 3
   },
   "file_extension": ".py",
   "mimetype": "text/x-python",
   "name": "python",
   "nbconvert_exporter": "python",
   "pygments_lexer": "ipython3",
   "version": "3.8.11"
  }
 },
 "nbformat": 4,
 "nbformat_minor": 5
}
