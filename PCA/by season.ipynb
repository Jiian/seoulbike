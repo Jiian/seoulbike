{
 "cells": [
  {
   "cell_type": "code",
   "execution_count": 1,
   "id": "d2839382-1f80-4c19-b5d2-b1b371d25ee4",
   "metadata": {},
   "outputs": [],
   "source": [
    "import pandas as pd\n",
    "import numpy as np\n",
    "import seaborn as sns\n",
    "import matplotlib.pyplot as plt\n",
    "from sklearn.preprocessing import StandardScaler\n",
    "from sklearn.decomposition import PCA\n",
    "from factor_analyzer import FactorAnalyzer\n",
    "from yellowbrick.features import PCA as YBPCA\n",
    "from kneed import KneeLocator\n",
    "from factor_analyzer.factor_analyzer import calculate_bartlett_sphericity\n",
    "from factor_analyzer.factor_analyzer import calculate_kmo\n",
    "#import plotly.express as px"
   ]
  },
  {
   "cell_type": "code",
   "execution_count": 2,
   "id": "efdd65ba-4465-4ed5-b5eb-1081cc6e8fd7",
   "metadata": {},
   "outputs": [],
   "source": [
    "# factor analysis\n",
    "def evaluate_pcs(num_of_pcs,data):\n",
    "    def encode_vals(x): #helper functions to suppress loading less than 0.7 \n",
    "    #a gradual process to lead to this function\n",
    "    # if x<=-0.5, we drop the variable\n",
    "        if x <= -0.5 or x >= 0.5: #Adjust the threshold value \n",
    "            return x\n",
    "        else:\n",
    "            return(\"\")    \n",
    "    f = FactorAnalyzer(n_factors=num_of_pcs, method = 'principal',rotation='varimax') #Conduct PCA + varimax rotation to extract latent factors \n",
    "    f.fit(data)\n",
    "    loadings = pd.DataFrame(f.loadings_).set_index(data.columns)\n",
    "    loadings = loadings.applymap(encode_vals)\n",
    "    loadingcols= list(loadings.columns)\n",
    "    newcols = {}\n",
    "    for i in loadingcols:\n",
    "        newcols[i] = \"PC\" + str(i+1)\n",
    "    loadings.rename(columns = newcols,inplace=True)\n",
    "    \n",
    "    \n",
    "    df_pca = f.transform(data)\n",
    "    return loadings , df_pca\n",
    "\n",
    "# The following function generates the rotation matrix. Recall that we use\n",
    "# this matrix to determine if the PCs generated are easily understandable and appropriate.\n",
    "# The argument \"num_of_pcs\" specifies, the number of PCs we wish to generate."
   ]
  },
  {
   "cell_type": "code",
   "execution_count": 3,
   "id": "17758041-2c93-4b02-b94d-c44ec56682ec",
   "metadata": {},
   "outputs": [],
   "source": [
    "def CronbachAlpha(itemscores): #calculate the CronbachAlpha to see how closely related a set of items are as a group\n",
    "    itemscores = np.asarray(itemscores)\n",
    "    itemvars = itemscores.var(axis=0, ddof=1)\n",
    "    tscores = itemscores.sum(axis=1)\n",
    "    nitems = itemscores.shape[1]\n",
    "    return (nitems / (nitems-1)) * (1 - (itemvars.sum() / tscores.var(ddof=1)))"
   ]
  },
  {
   "cell_type": "markdown",
   "id": "f2aac2ee-cf21-4449-9ccd-f4caafa8a816",
   "metadata": {},
   "source": [
    "# Exploring Data in each Season"
   ]
  },
  {
   "cell_type": "markdown",
   "id": "80e8145c-f74d-41ff-95f1-f21d9dad91a4",
   "metadata": {},
   "source": [
    "## Winter Data"
   ]
  },
  {
   "cell_type": "code",
   "execution_count": 5,
   "id": "350c0c3b-34e3-4ca3-939c-3d006f4e66d5",
   "metadata": {},
   "outputs": [
    {
     "data": {
      "text/html": [
       "<div>\n",
       "<style scoped>\n",
       "    .dataframe tbody tr th:only-of-type {\n",
       "        vertical-align: middle;\n",
       "    }\n",
       "\n",
       "    .dataframe tbody tr th {\n",
       "        vertical-align: top;\n",
       "    }\n",
       "\n",
       "    .dataframe thead th {\n",
       "        text-align: right;\n",
       "    }\n",
       "</style>\n",
       "<table border=\"1\" class=\"dataframe\">\n",
       "  <thead>\n",
       "    <tr style=\"text-align: right;\">\n",
       "      <th></th>\n",
       "      <th>Unnamed: 0</th>\n",
       "      <th>date</th>\n",
       "      <th>rent_count</th>\n",
       "      <th>temperature</th>\n",
       "      <th>rainfall</th>\n",
       "      <th>snowfall</th>\n",
       "      <th>season</th>\n",
       "      <th>holiday</th>\n",
       "      <th>wind_speed</th>\n",
       "      <th>visibility</th>\n",
       "      <th>solar_radiation</th>\n",
       "      <th>dewpoint_temp</th>\n",
       "      <th>humidity</th>\n",
       "      <th>season_no</th>\n",
       "    </tr>\n",
       "  </thead>\n",
       "  <tbody>\n",
       "  </tbody>\n",
       "</table>\n",
       "</div>"
      ],
      "text/plain": [
       "Empty DataFrame\n",
       "Columns: [Unnamed: 0, date, rent_count, temperature, rainfall, snowfall, season, holiday, wind_speed, visibility, solar_radiation, dewpoint_temp, humidity, season_no]\n",
       "Index: []"
      ]
     },
     "execution_count": 5,
     "metadata": {},
     "output_type": "execute_result"
    }
   ],
   "source": [
    "bike_winter = pd.read_csv('bike_winter.csv')\n",
    "bike_winter.head()"
   ]
  },
  {
   "cell_type": "code",
   "execution_count": null,
   "id": "8532f7c9-06b2-4116-bf0c-a92d53ffce93",
   "metadata": {},
   "outputs": [],
   "source": []
  }
 ],
 "metadata": {
  "kernelspec": {
   "display_name": "Python 3 (ipykernel)",
   "language": "python",
   "name": "python3"
  },
  "language_info": {
   "codemirror_mode": {
    "name": "ipython",
    "version": 3
   },
   "file_extension": ".py",
   "mimetype": "text/x-python",
   "name": "python",
   "nbconvert_exporter": "python",
   "pygments_lexer": "ipython3",
   "version": "3.8.5"
  }
 },
 "nbformat": 4,
 "nbformat_minor": 5
}
