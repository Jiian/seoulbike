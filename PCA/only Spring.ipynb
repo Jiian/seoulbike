{
 "cells": [
  {
   "cell_type": "code",
   "execution_count": 2,
   "id": "5e394055-b46b-4040-a6b0-ce5fbf06c787",
   "metadata": {},
   "outputs": [],
   "source": [
    "import pandas as pd\n",
    "import numpy as np\n",
    "import seaborn as sns\n",
    "import matplotlib.pyplot as plt\n",
    "from sklearn.preprocessing import StandardScaler\n",
    "from sklearn.decomposition import PCA\n",
    "from factor_analyzer import FactorAnalyzer\n",
    "from yellowbrick.features import PCA as YBPCA\n",
    "from kneed import KneeLocator\n",
    "from factor_analyzer.factor_analyzer import calculate_bartlett_sphericity\n",
    "from factor_analyzer.factor_analyzer import calculate_kmo\n",
    "#import plotly.express as px"
   ]
  },
  {
   "cell_type": "code",
   "execution_count": 3,
   "id": "00911e28-5abd-457f-b7eb-80474331aeca",
   "metadata": {},
   "outputs": [
    {
     "data": {
      "text/html": [
       "<div>\n",
       "<style scoped>\n",
       "    .dataframe tbody tr th:only-of-type {\n",
       "        vertical-align: middle;\n",
       "    }\n",
       "\n",
       "    .dataframe tbody tr th {\n",
       "        vertical-align: top;\n",
       "    }\n",
       "\n",
       "    .dataframe thead th {\n",
       "        text-align: right;\n",
       "    }\n",
       "</style>\n",
       "<table border=\"1\" class=\"dataframe\">\n",
       "  <thead>\n",
       "    <tr style=\"text-align: right;\">\n",
       "      <th></th>\n",
       "      <th>Unnamed: 0</th>\n",
       "      <th>datetime</th>\n",
       "      <th>date</th>\n",
       "      <th>hour</th>\n",
       "      <th>season</th>\n",
       "      <th>holiday</th>\n",
       "      <th>open</th>\n",
       "      <th>rent_count</th>\n",
       "      <th>temperature</th>\n",
       "      <th>humidity</th>\n",
       "      <th>wind_speed</th>\n",
       "      <th>visibility</th>\n",
       "      <th>dewpoint_temp</th>\n",
       "      <th>solar_radiation</th>\n",
       "      <th>rainfall</th>\n",
       "      <th>snowfall</th>\n",
       "    </tr>\n",
       "  </thead>\n",
       "  <tbody>\n",
       "    <tr>\n",
       "      <th>0</th>\n",
       "      <td>1</td>\n",
       "      <td>2018-03-01 00:00:00</td>\n",
       "      <td>2018-03-01</td>\n",
       "      <td>0</td>\n",
       "      <td>Spring</td>\n",
       "      <td>Holiday</td>\n",
       "      <td>Yes</td>\n",
       "      <td>71</td>\n",
       "      <td>2.0</td>\n",
       "      <td>96</td>\n",
       "      <td>1.3</td>\n",
       "      <td>18940</td>\n",
       "      <td>1.4</td>\n",
       "      <td>0.0</td>\n",
       "      <td>2.0</td>\n",
       "      <td>0</td>\n",
       "    </tr>\n",
       "    <tr>\n",
       "      <th>1</th>\n",
       "      <td>2</td>\n",
       "      <td>2018-03-01 01:00:00</td>\n",
       "      <td>2018-03-01</td>\n",
       "      <td>1</td>\n",
       "      <td>Spring</td>\n",
       "      <td>Holiday</td>\n",
       "      <td>Yes</td>\n",
       "      <td>147</td>\n",
       "      <td>2.1</td>\n",
       "      <td>97</td>\n",
       "      <td>0.2</td>\n",
       "      <td>8590</td>\n",
       "      <td>1.6</td>\n",
       "      <td>0.0</td>\n",
       "      <td>0.0</td>\n",
       "      <td>0</td>\n",
       "    </tr>\n",
       "    <tr>\n",
       "      <th>2</th>\n",
       "      <td>3</td>\n",
       "      <td>2018-03-01 02:00:00</td>\n",
       "      <td>2018-03-01</td>\n",
       "      <td>2</td>\n",
       "      <td>Spring</td>\n",
       "      <td>Holiday</td>\n",
       "      <td>Yes</td>\n",
       "      <td>180</td>\n",
       "      <td>2.0</td>\n",
       "      <td>97</td>\n",
       "      <td>1.0</td>\n",
       "      <td>5800</td>\n",
       "      <td>1.5</td>\n",
       "      <td>0.0</td>\n",
       "      <td>0.0</td>\n",
       "      <td>0</td>\n",
       "    </tr>\n",
       "    <tr>\n",
       "      <th>3</th>\n",
       "      <td>4</td>\n",
       "      <td>2018-03-01 03:00:00</td>\n",
       "      <td>2018-03-01</td>\n",
       "      <td>3</td>\n",
       "      <td>Spring</td>\n",
       "      <td>Holiday</td>\n",
       "      <td>Yes</td>\n",
       "      <td>92</td>\n",
       "      <td>1.6</td>\n",
       "      <td>97</td>\n",
       "      <td>2.3</td>\n",
       "      <td>4690</td>\n",
       "      <td>1.1</td>\n",
       "      <td>0.0</td>\n",
       "      <td>0.1</td>\n",
       "      <td>0</td>\n",
       "    </tr>\n",
       "    <tr>\n",
       "      <th>4</th>\n",
       "      <td>5</td>\n",
       "      <td>2018-03-01 04:00:00</td>\n",
       "      <td>2018-03-01</td>\n",
       "      <td>4</td>\n",
       "      <td>Spring</td>\n",
       "      <td>Holiday</td>\n",
       "      <td>Yes</td>\n",
       "      <td>28</td>\n",
       "      <td>1.6</td>\n",
       "      <td>97</td>\n",
       "      <td>1.1</td>\n",
       "      <td>6360</td>\n",
       "      <td>1.1</td>\n",
       "      <td>0.0</td>\n",
       "      <td>0.0</td>\n",
       "      <td>0</td>\n",
       "    </tr>\n",
       "  </tbody>\n",
       "</table>\n",
       "</div>"
      ],
      "text/plain": [
       "   Unnamed: 0             datetime        date  hour  season  holiday open  \\\n",
       "0           1  2018-03-01 00:00:00  2018-03-01     0  Spring  Holiday  Yes   \n",
       "1           2  2018-03-01 01:00:00  2018-03-01     1  Spring  Holiday  Yes   \n",
       "2           3  2018-03-01 02:00:00  2018-03-01     2  Spring  Holiday  Yes   \n",
       "3           4  2018-03-01 03:00:00  2018-03-01     3  Spring  Holiday  Yes   \n",
       "4           5  2018-03-01 04:00:00  2018-03-01     4  Spring  Holiday  Yes   \n",
       "\n",
       "   rent_count  temperature  humidity  wind_speed  visibility  dewpoint_temp  \\\n",
       "0          71          2.0        96         1.3       18940            1.4   \n",
       "1         147          2.1        97         0.2        8590            1.6   \n",
       "2         180          2.0        97         1.0        5800            1.5   \n",
       "3          92          1.6        97         2.3        4690            1.1   \n",
       "4          28          1.6        97         1.1        6360            1.1   \n",
       "\n",
       "   solar_radiation  rainfall  snowfall  \n",
       "0              0.0       2.0         0  \n",
       "1              0.0       0.0         0  \n",
       "2              0.0       0.0         0  \n",
       "3              0.0       0.1         0  \n",
       "4              0.0       0.0         0  "
      ]
     },
     "execution_count": 3,
     "metadata": {},
     "output_type": "execute_result"
    }
   ],
   "source": [
    "bike_spring = pd.read_csv(\"bike_spring.csv\")\n",
    "bike_spring.head()"
   ]
  },
  {
   "cell_type": "code",
   "execution_count": 4,
   "id": "55ac7575-9d81-477d-9310-47efa8144598",
   "metadata": {},
   "outputs": [
    {
     "data": {
      "text/plain": [
       "['datetime', 'date', 'season', 'holiday', 'open']"
      ]
     },
     "execution_count": 4,
     "metadata": {},
     "output_type": "execute_result"
    }
   ],
   "source": [
    "bike_spring_col = list(bike_spring.columns)\n",
    "bike_spring_numeric_col = list(bike_spring.describe().columns)\n",
    "diff_names = []\n",
    "for i in bike_spring_col:\n",
    "\tif i not in bike_spring_numeric_col:\n",
    "\t\tdiff_names.append(i)\n",
    "diff_names"
   ]
  },
  {
   "cell_type": "code",
   "execution_count": 5,
   "id": "f2269ff7-da09-4eb3-98d5-56250e2ac0e1",
   "metadata": {},
   "outputs": [
    {
     "data": {
      "text/html": [
       "<div>\n",
       "<style scoped>\n",
       "    .dataframe tbody tr th:only-of-type {\n",
       "        vertical-align: middle;\n",
       "    }\n",
       "\n",
       "    .dataframe tbody tr th {\n",
       "        vertical-align: top;\n",
       "    }\n",
       "\n",
       "    .dataframe thead th {\n",
       "        text-align: right;\n",
       "    }\n",
       "</style>\n",
       "<table border=\"1\" class=\"dataframe\">\n",
       "  <thead>\n",
       "    <tr style=\"text-align: right;\">\n",
       "      <th></th>\n",
       "      <th>Unnamed: 0</th>\n",
       "      <th>hour</th>\n",
       "      <th>temperature</th>\n",
       "      <th>humidity</th>\n",
       "      <th>wind_speed</th>\n",
       "      <th>visibility</th>\n",
       "      <th>solar_radiation</th>\n",
       "      <th>rainfall</th>\n",
       "      <th>snowfall</th>\n",
       "    </tr>\n",
       "  </thead>\n",
       "  <tbody>\n",
       "    <tr>\n",
       "      <th>0</th>\n",
       "      <td>1</td>\n",
       "      <td>0</td>\n",
       "      <td>2.0</td>\n",
       "      <td>96</td>\n",
       "      <td>1.3</td>\n",
       "      <td>18940</td>\n",
       "      <td>0.0</td>\n",
       "      <td>2.0</td>\n",
       "      <td>0</td>\n",
       "    </tr>\n",
       "    <tr>\n",
       "      <th>1</th>\n",
       "      <td>2</td>\n",
       "      <td>1</td>\n",
       "      <td>2.1</td>\n",
       "      <td>97</td>\n",
       "      <td>0.2</td>\n",
       "      <td>8590</td>\n",
       "      <td>0.0</td>\n",
       "      <td>0.0</td>\n",
       "      <td>0</td>\n",
       "    </tr>\n",
       "    <tr>\n",
       "      <th>2</th>\n",
       "      <td>3</td>\n",
       "      <td>2</td>\n",
       "      <td>2.0</td>\n",
       "      <td>97</td>\n",
       "      <td>1.0</td>\n",
       "      <td>5800</td>\n",
       "      <td>0.0</td>\n",
       "      <td>0.0</td>\n",
       "      <td>0</td>\n",
       "    </tr>\n",
       "    <tr>\n",
       "      <th>3</th>\n",
       "      <td>4</td>\n",
       "      <td>3</td>\n",
       "      <td>1.6</td>\n",
       "      <td>97</td>\n",
       "      <td>2.3</td>\n",
       "      <td>4690</td>\n",
       "      <td>0.0</td>\n",
       "      <td>0.1</td>\n",
       "      <td>0</td>\n",
       "    </tr>\n",
       "    <tr>\n",
       "      <th>4</th>\n",
       "      <td>5</td>\n",
       "      <td>4</td>\n",
       "      <td>1.6</td>\n",
       "      <td>97</td>\n",
       "      <td>1.1</td>\n",
       "      <td>6360</td>\n",
       "      <td>0.0</td>\n",
       "      <td>0.0</td>\n",
       "      <td>0</td>\n",
       "    </tr>\n",
       "  </tbody>\n",
       "</table>\n",
       "</div>"
      ],
      "text/plain": [
       "   Unnamed: 0  hour  temperature  humidity  wind_speed  visibility  \\\n",
       "0           1     0          2.0        96         1.3       18940   \n",
       "1           2     1          2.1        97         0.2        8590   \n",
       "2           3     2          2.0        97         1.0        5800   \n",
       "3           4     3          1.6        97         2.3        4690   \n",
       "4           5     4          1.6        97         1.1        6360   \n",
       "\n",
       "   solar_radiation  rainfall  snowfall  \n",
       "0              0.0       2.0         0  \n",
       "1              0.0       0.0         0  \n",
       "2              0.0       0.0         0  \n",
       "3              0.0       0.1         0  \n",
       "4              0.0       0.0         0  "
      ]
     },
     "execution_count": 5,
     "metadata": {},
     "output_type": "execute_result"
    }
   ],
   "source": [
    "bike_spring2 = bike_spring.copy()\n",
    "bike_spring2.drop(columns = diff_names,inplace=True)\n",
    "#bike_spring2.drop(columns = ['rent_count'], inplace = True)\n",
    "bike_spring2.drop(columns = ['rent_count','dewpoint_temp'], inplace = True)\n",
    "bike_spring2.head()"
   ]
  },
  {
   "cell_type": "code",
   "execution_count": 9,
   "id": "9523cc2a-d309-4a2e-b563-5853f724c509",
   "metadata": {},
   "outputs": [
    {
     "data": {
      "text/html": [
       "<div>\n",
       "<style scoped>\n",
       "    .dataframe tbody tr th:only-of-type {\n",
       "        vertical-align: middle;\n",
       "    }\n",
       "\n",
       "    .dataframe tbody tr th {\n",
       "        vertical-align: top;\n",
       "    }\n",
       "\n",
       "    .dataframe thead th {\n",
       "        text-align: right;\n",
       "    }\n",
       "</style>\n",
       "<table border=\"1\" class=\"dataframe\">\n",
       "  <thead>\n",
       "    <tr style=\"text-align: right;\">\n",
       "      <th></th>\n",
       "      <th>hour</th>\n",
       "      <th>temperature</th>\n",
       "      <th>humidity</th>\n",
       "      <th>wind_speed</th>\n",
       "      <th>visibility</th>\n",
       "      <th>solar_radiation</th>\n",
       "      <th>rainfall</th>\n",
       "    </tr>\n",
       "  </thead>\n",
       "  <tbody>\n",
       "    <tr>\n",
       "      <th>0</th>\n",
       "      <td>0</td>\n",
       "      <td>2.0</td>\n",
       "      <td>96</td>\n",
       "      <td>1.3</td>\n",
       "      <td>18940</td>\n",
       "      <td>0.0</td>\n",
       "      <td>2.0</td>\n",
       "    </tr>\n",
       "    <tr>\n",
       "      <th>1</th>\n",
       "      <td>1</td>\n",
       "      <td>2.1</td>\n",
       "      <td>97</td>\n",
       "      <td>0.2</td>\n",
       "      <td>8590</td>\n",
       "      <td>0.0</td>\n",
       "      <td>0.0</td>\n",
       "    </tr>\n",
       "    <tr>\n",
       "      <th>2</th>\n",
       "      <td>2</td>\n",
       "      <td>2.0</td>\n",
       "      <td>97</td>\n",
       "      <td>1.0</td>\n",
       "      <td>5800</td>\n",
       "      <td>0.0</td>\n",
       "      <td>0.0</td>\n",
       "    </tr>\n",
       "    <tr>\n",
       "      <th>3</th>\n",
       "      <td>3</td>\n",
       "      <td>1.6</td>\n",
       "      <td>97</td>\n",
       "      <td>2.3</td>\n",
       "      <td>4690</td>\n",
       "      <td>0.0</td>\n",
       "      <td>0.1</td>\n",
       "    </tr>\n",
       "    <tr>\n",
       "      <th>4</th>\n",
       "      <td>4</td>\n",
       "      <td>1.6</td>\n",
       "      <td>97</td>\n",
       "      <td>1.1</td>\n",
       "      <td>6360</td>\n",
       "      <td>0.0</td>\n",
       "      <td>0.0</td>\n",
       "    </tr>\n",
       "  </tbody>\n",
       "</table>\n",
       "</div>"
      ],
      "text/plain": [
       "   hour  temperature  humidity  wind_speed  visibility  solar_radiation  \\\n",
       "0     0          2.0        96         1.3       18940              0.0   \n",
       "1     1          2.1        97         0.2        8590              0.0   \n",
       "2     2          2.0        97         1.0        5800              0.0   \n",
       "3     3          1.6        97         2.3        4690              0.0   \n",
       "4     4          1.6        97         1.1        6360              0.0   \n",
       "\n",
       "   rainfall  \n",
       "0       2.0  \n",
       "1       0.0  \n",
       "2       0.0  \n",
       "3       0.1  \n",
       "4       0.0  "
      ]
     },
     "execution_count": 9,
     "metadata": {},
     "output_type": "execute_result"
    }
   ],
   "source": [
    "bike_spring3 = bike_spring2.iloc[: , 1:-1]\n",
    "bike_spring3.head()"
   ]
  },
  {
   "cell_type": "code",
   "execution_count": 10,
   "id": "d45ef735-db19-4fdf-b7c1-6cf68c9e85f0",
   "metadata": {},
   "outputs": [
    {
     "data": {
      "text/html": [
       "<div>\n",
       "<style scoped>\n",
       "    .dataframe tbody tr th:only-of-type {\n",
       "        vertical-align: middle;\n",
       "    }\n",
       "\n",
       "    .dataframe tbody tr th {\n",
       "        vertical-align: top;\n",
       "    }\n",
       "\n",
       "    .dataframe thead th {\n",
       "        text-align: right;\n",
       "    }\n",
       "</style>\n",
       "<table border=\"1\" class=\"dataframe\">\n",
       "  <thead>\n",
       "    <tr style=\"text-align: right;\">\n",
       "      <th></th>\n",
       "      <th>hour</th>\n",
       "      <th>temperature</th>\n",
       "      <th>humidity</th>\n",
       "      <th>wind_speed</th>\n",
       "      <th>visibility</th>\n",
       "      <th>solar_radiation</th>\n",
       "      <th>rainfall</th>\n",
       "    </tr>\n",
       "  </thead>\n",
       "  <tbody>\n",
       "    <tr>\n",
       "      <th>count</th>\n",
       "      <td>2208.000000</td>\n",
       "      <td>2208.000000</td>\n",
       "      <td>2208.000000</td>\n",
       "      <td>2208.000000</td>\n",
       "      <td>2208.000000</td>\n",
       "      <td>2208.000000</td>\n",
       "      <td>2208.00000</td>\n",
       "    </tr>\n",
       "    <tr>\n",
       "      <th>mean</th>\n",
       "      <td>11.500000</td>\n",
       "      <td>13.046694</td>\n",
       "      <td>58.776721</td>\n",
       "      <td>1.874592</td>\n",
       "      <td>12403.645833</td>\n",
       "      <td>0.688786</td>\n",
       "      <td>0.18288</td>\n",
       "    </tr>\n",
       "    <tr>\n",
       "      <th>std</th>\n",
       "      <td>6.923755</td>\n",
       "      <td>6.617154</td>\n",
       "      <td>22.573616</td>\n",
       "      <td>1.071014</td>\n",
       "      <td>6379.583214</td>\n",
       "      <td>0.986609</td>\n",
       "      <td>1.20144</td>\n",
       "    </tr>\n",
       "    <tr>\n",
       "      <th>min</th>\n",
       "      <td>0.000000</td>\n",
       "      <td>-6.600000</td>\n",
       "      <td>0.000000</td>\n",
       "      <td>0.100000</td>\n",
       "      <td>270.000000</td>\n",
       "      <td>0.000000</td>\n",
       "      <td>0.00000</td>\n",
       "    </tr>\n",
       "    <tr>\n",
       "      <th>25%</th>\n",
       "      <td>5.750000</td>\n",
       "      <td>8.200000</td>\n",
       "      <td>42.000000</td>\n",
       "      <td>1.100000</td>\n",
       "      <td>6067.500000</td>\n",
       "      <td>0.000000</td>\n",
       "      <td>0.00000</td>\n",
       "    </tr>\n",
       "    <tr>\n",
       "      <th>50%</th>\n",
       "      <td>11.500000</td>\n",
       "      <td>13.300000</td>\n",
       "      <td>58.000000</td>\n",
       "      <td>1.700000</td>\n",
       "      <td>13075.000000</td>\n",
       "      <td>0.060000</td>\n",
       "      <td>0.00000</td>\n",
       "    </tr>\n",
       "    <tr>\n",
       "      <th>75%</th>\n",
       "      <td>17.250000</td>\n",
       "      <td>18.100000</td>\n",
       "      <td>77.250000</td>\n",
       "      <td>2.500000</td>\n",
       "      <td>19112.500000</td>\n",
       "      <td>1.145000</td>\n",
       "      <td>0.00000</td>\n",
       "    </tr>\n",
       "    <tr>\n",
       "      <th>max</th>\n",
       "      <td>23.000000</td>\n",
       "      <td>29.400000</td>\n",
       "      <td>98.000000</td>\n",
       "      <td>7.400000</td>\n",
       "      <td>20000.000000</td>\n",
       "      <td>3.520000</td>\n",
       "      <td>35.00000</td>\n",
       "    </tr>\n",
       "  </tbody>\n",
       "</table>\n",
       "</div>"
      ],
      "text/plain": [
       "              hour  temperature     humidity   wind_speed    visibility  \\\n",
       "count  2208.000000  2208.000000  2208.000000  2208.000000   2208.000000   \n",
       "mean     11.500000    13.046694    58.776721     1.874592  12403.645833   \n",
       "std       6.923755     6.617154    22.573616     1.071014   6379.583214   \n",
       "min       0.000000    -6.600000     0.000000     0.100000    270.000000   \n",
       "25%       5.750000     8.200000    42.000000     1.100000   6067.500000   \n",
       "50%      11.500000    13.300000    58.000000     1.700000  13075.000000   \n",
       "75%      17.250000    18.100000    77.250000     2.500000  19112.500000   \n",
       "max      23.000000    29.400000    98.000000     7.400000  20000.000000   \n",
       "\n",
       "       solar_radiation    rainfall  \n",
       "count      2208.000000  2208.00000  \n",
       "mean          0.688786     0.18288  \n",
       "std           0.986609     1.20144  \n",
       "min           0.000000     0.00000  \n",
       "25%           0.000000     0.00000  \n",
       "50%           0.060000     0.00000  \n",
       "75%           1.145000     0.00000  \n",
       "max           3.520000    35.00000  "
      ]
     },
     "execution_count": 10,
     "metadata": {},
     "output_type": "execute_result"
    }
   ],
   "source": [
    "bike_spring3.describe()"
   ]
  },
  {
   "cell_type": "code",
   "execution_count": 11,
   "id": "f1b2f677-c979-4227-94e4-f576373e8e26",
   "metadata": {},
   "outputs": [
    {
     "data": {
      "text/plain": [
       "0.0"
      ]
     },
     "execution_count": 11,
     "metadata": {},
     "output_type": "execute_result"
    }
   ],
   "source": [
    "_ , p_value = calculate_bartlett_sphericity(bike_spring3)\n",
    "p_value"
   ]
  },
  {
   "cell_type": "code",
   "execution_count": 12,
   "id": "553065d8-7ff4-4a9d-9319-315be43eae6d",
   "metadata": {},
   "outputs": [
    {
     "data": {
      "text/plain": [
       "0.604138782648966"
      ]
     },
     "execution_count": 12,
     "metadata": {},
     "output_type": "execute_result"
    }
   ],
   "source": [
    "_, kmo_score = calculate_kmo(bike_spring3)\n",
    "kmo_score "
   ]
  },
  {
   "cell_type": "code",
   "execution_count": 23,
   "id": "52812417-81cc-4fe2-90da-ea2c3daa9c72",
   "metadata": {},
   "outputs": [],
   "source": [
    "colnames = list(bike_spring3.columns)\n",
    "\n",
    "scaler = StandardScaler(with_mean=True,with_std=True)\n",
    "scaled_features = pd.DataFrame(scaler.fit_transform(bike_spring3))\n",
    "\n",
    "scaled_features.columns = colnames"
   ]
  },
  {
   "cell_type": "code",
   "execution_count": 14,
   "id": "f4f76828-e383-45b6-ac0f-4d27376cff4b",
   "metadata": {},
   "outputs": [
    {
     "data": {
      "text/plain": [
       "PCA(n_components=7)"
      ]
     },
     "execution_count": 14,
     "metadata": {},
     "output_type": "execute_result"
    }
   ],
   "source": [
    "N = 7\n",
    "pca = PCA(n_components=N)\n",
    "pca.fit(scaled_features)\n"
   ]
  },
  {
   "cell_type": "code",
   "execution_count": 15,
   "id": "4d522cee-5e74-495b-98f2-0985e9148ac0",
   "metadata": {},
   "outputs": [],
   "source": [
    "explained_variance_ratio = pca.explained_variance_ratio_\n",
    "cumulative_variance = np.cumsum(np.round(explained_variance_ratio, decimals=3))\n"
   ]
  },
  {
   "cell_type": "code",
   "execution_count": 16,
   "id": "d0072ee6-80c2-449a-895b-913e5b5bacaf",
   "metadata": {},
   "outputs": [
    {
     "data": {
      "text/plain": [
       "<matplotlib.lines.Line2D at 0x7faee10bcf40>"
      ]
     },
     "execution_count": 16,
     "metadata": {},
     "output_type": "execute_result"
    },
    {
     "data": {
      "image/png": "[encoded data removed]",
      "text/plain": [
       "<Figure size 720x504 with 1 Axes>"
      ]
     },
     "metadata": {},
     "output_type": "display_data"
    }
   ],
   "source": [
    "\n",
    "x = list(range(1,N+1))\n",
    "plt.figure(figsize=(10, 7)) \n",
    "plt.bar(x,explained_variance_ratio)\n",
    "plt.scatter(range(1,N+1),cumulative_variance)\n",
    "plt.plot(x,cumulative_variance)\n",
    "plt.title('Variance')\n",
    "plt.xlabel('PC Number')\n",
    "plt.ylabel('Proportion of Variance Explained by PC')\n",
    "plt.axhline(y=0.7, color = 'r')"
   ]
  },
  {
   "cell_type": "code",
   "execution_count": 17,
   "id": "01923615-40a4-4412-acab-b11b8b0f4bcd",
   "metadata": {},
   "outputs": [
    {
     "data": {
      "image/png": "[encoded data removed]",
      "text/plain": [
       "<Figure size 720x504 with 1 Axes>"
      ]
     },
     "metadata": {},
     "output_type": "display_data"
    }
   ],
   "source": [
    "\n",
    "plt.figure(figsize=(10, 7)) \n",
    "plt.scatter(range(1,N+1),pca.explained_variance_ratio_)\n",
    "plt.plot(range(1,N+1),pca.explained_variance_ratio_)\n",
    "plt.title('Scree Plot')\n",
    "plt.xlabel('PC Number')\n",
    "plt.ylabel('Variance Explained by PC')\n",
    "plt.grid()"
   ]
  },
  {
   "cell_type": "code",
   "execution_count": 18,
   "id": "c7d8ad7d-2c4a-4aca-b3fe-79fe9b7ea106",
   "metadata": {},
   "outputs": [
    {
     "data": {
      "text/plain": [
       "2"
      ]
     },
     "execution_count": 18,
     "metadata": {},
     "output_type": "execute_result"
    }
   ],
   "source": [
    "\n",
    "kl = KneeLocator(range(1, N+1), pca.explained_variance_ratio_, curve=\"convex\", direction=\"decreasing\")\n",
    "\n",
    "kl.elbow\n"
   ]
  },
  {
   "cell_type": "code",
   "execution_count": 19,
   "id": "b8d34ed3-98da-4a53-8e28-7d773092666b",
   "metadata": {},
   "outputs": [],
   "source": [
    "def evaluate_pcs(num_of_pcs,data):\n",
    "    def encode_vals(x): #helper functions to suppress loading less than 0.7 \n",
    "    #a gradual process to lead to this function\n",
    "    # if x<=-0.5, we drop the variable\n",
    "        if x <= -0.5 or x >= 0.5: #Adjust the threshold value \n",
    "            return x\n",
    "        else:\n",
    "            return(\"\")    \n",
    "    f = FactorAnalyzer(n_factors=num_of_pcs, method = 'principal',rotation='varimax') #Conduct PCA + varimax rotation to extract latent factors \n",
    "    f.fit(data)\n",
    "    loadings = pd.DataFrame(f.loadings_).set_index(data.columns)\n",
    "    loadings = loadings.applymap(encode_vals)\n",
    "    loadingcols= list(loadings.columns)\n",
    "    newcols = {}\n",
    "    for i in loadingcols:\n",
    "        newcols[i] = \"PC\" + str(i+1)\n",
    "    loadings.rename(columns = newcols,inplace=True)\n",
    "    return loadings"
   ]
  },
  {
   "cell_type": "code",
   "execution_count": 20,
   "id": "78804866-dee7-440d-83f4-102c16399d7d",
   "metadata": {},
   "outputs": [],
   "source": [
    "\n",
    "def CronbachAlpha(itemscores): #calculate the CronbachAlpha to see how closely related a set of items are as a group\n",
    "    itemscores = np.asarray(itemscores)\n",
    "    itemvars = itemscores.var(axis=0, ddof=1)\n",
    "    tscores = itemscores.sum(axis=1)\n",
    "    nitems = itemscores.shape[1]\n",
    "    return (nitems / (nitems-1)) * (1 - (itemvars.sum() / tscores.var(ddof=1)))\n",
    "\n"
   ]
  },
  {
   "cell_type": "code",
   "execution_count": 21,
   "id": "9a29c139-2306-4f4d-b2a4-148f4bbd6500",
   "metadata": {},
   "outputs": [
    {
     "data": {
      "text/html": [
       "<div>\n",
       "<style scoped>\n",
       "    .dataframe tbody tr th:only-of-type {\n",
       "        vertical-align: middle;\n",
       "    }\n",
       "\n",
       "    .dataframe tbody tr th {\n",
       "        vertical-align: top;\n",
       "    }\n",
       "\n",
       "    .dataframe thead th {\n",
       "        text-align: right;\n",
       "    }\n",
       "</style>\n",
       "<table border=\"1\" class=\"dataframe\">\n",
       "  <thead>\n",
       "    <tr style=\"text-align: right;\">\n",
       "      <th></th>\n",
       "      <th>PC1</th>\n",
       "      <th>PC2</th>\n",
       "    </tr>\n",
       "  </thead>\n",
       "  <tbody>\n",
       "    <tr>\n",
       "      <th>hour</th>\n",
       "      <td>0.622179</td>\n",
       "      <td></td>\n",
       "    </tr>\n",
       "    <tr>\n",
       "      <th>temperature</th>\n",
       "      <td>0.718207</td>\n",
       "      <td></td>\n",
       "    </tr>\n",
       "    <tr>\n",
       "      <th>humidity</th>\n",
       "      <td></td>\n",
       "      <td>0.763946</td>\n",
       "    </tr>\n",
       "    <tr>\n",
       "      <th>wind_speed</th>\n",
       "      <td>0.619308</td>\n",
       "      <td></td>\n",
       "    </tr>\n",
       "    <tr>\n",
       "      <th>visibility</th>\n",
       "      <td></td>\n",
       "      <td>-0.775962</td>\n",
       "    </tr>\n",
       "    <tr>\n",
       "      <th>solar_radiation</th>\n",
       "      <td>0.690983</td>\n",
       "      <td></td>\n",
       "    </tr>\n",
       "    <tr>\n",
       "      <th>rainfall</th>\n",
       "      <td></td>\n",
       "      <td>0.602588</td>\n",
       "    </tr>\n",
       "  </tbody>\n",
       "</table>\n",
       "</div>"
      ],
      "text/plain": [
       "                      PC1       PC2\n",
       "hour             0.622179          \n",
       "temperature      0.718207          \n",
       "humidity                   0.763946\n",
       "wind_speed       0.619308          \n",
       "visibility                -0.775962\n",
       "solar_radiation  0.690983          \n",
       "rainfall                   0.602588"
      ]
     },
     "execution_count": 21,
     "metadata": {},
     "output_type": "execute_result"
    }
   ],
   "source": [
    "evaluate_pcs(2,scaled_features[colnames])"
   ]
  },
  {
   "cell_type": "code",
   "execution_count": 22,
   "id": "c4175589-f879-42ed-9d4c-b1056e5fb8dc",
   "metadata": {},
   "outputs": [
    {
     "name": "stdout",
     "output_type": "stream",
     "text": [
      "0.6133089104771201\n",
      "0.39129919866160723\n"
     ]
    }
   ],
   "source": [
    "print(CronbachAlpha(scaled_features[['hour','temperature','wind_speed','solar_radiation']])) #Reliability of PC1\n",
    "print(CronbachAlpha(scaled_features[['humidity','rainfall']])) #Reliability of PC2"
   ]
  },
  {
   "cell_type": "code",
   "execution_count": null,
   "id": "077e22e5-7605-47fb-bee9-9e3fd098787b",
   "metadata": {},
   "outputs": [],
   "source": []
  },
  {
   "cell_type": "code",
   "execution_count": null,
   "id": "b40deecc-5892-416d-a210-b2be47cdd364",
   "metadata": {},
   "outputs": [],
   "source": []
  }
 ],
 "metadata": {
  "kernelspec": {
   "display_name": "Python 3 (ipykernel)",
   "language": "python",
   "name": "python3"
  },
  "language_info": {
   "codemirror_mode": {
    "name": "ipython",
    "version": 3
   },
   "file_extension": ".py",
   "mimetype": "text/x-python",
   "name": "python",
   "nbconvert_exporter": "python",
   "pygments_lexer": "ipython3",
   "version": "3.8.5"
  }
 },
 "nbformat": 4,
 "nbformat_minor": 5
}
