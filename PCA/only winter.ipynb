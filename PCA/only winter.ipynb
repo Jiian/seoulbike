{
 "cells": [
  {
   "cell_type": "code",
   "execution_count": 1,
   "id": "5e394055-b46b-4040-a6b0-ce5fbf06c787",
   "metadata": {},
   "outputs": [],
   "source": [
    "import pandas as pd\n",
    "import numpy as np\n",
    "import seaborn as sns\n",
    "import matplotlib.pyplot as plt\n",
    "from sklearn.preprocessing import StandardScaler\n",
    "from sklearn.decomposition import PCA\n",
    "from factor_analyzer import FactorAnalyzer\n",
    "from yellowbrick.features import PCA as YBPCA\n",
    "from kneed import KneeLocator\n",
    "from factor_analyzer.factor_analyzer import calculate_bartlett_sphericity\n",
    "from factor_analyzer.factor_analyzer import calculate_kmo\n",
    "#import plotly.express as px"
   ]
  },
  {
   "cell_type": "code",
   "execution_count": 2,
   "id": "00911e28-5abd-457f-b7eb-80474331aeca",
   "metadata": {},
   "outputs": [
    {
     "data": {
      "text/html": [
       "<div>\n",
       "<style scoped>\n",
       "    .dataframe tbody tr th:only-of-type {\n",
       "        vertical-align: middle;\n",
       "    }\n",
       "\n",
       "    .dataframe tbody tr th {\n",
       "        vertical-align: top;\n",
       "    }\n",
       "\n",
       "    .dataframe thead th {\n",
       "        text-align: right;\n",
       "    }\n",
       "</style>\n",
       "<table border=\"1\" class=\"dataframe\">\n",
       "  <thead>\n",
       "    <tr style=\"text-align: right;\">\n",
       "      <th></th>\n",
       "      <th>Unnamed: 0</th>\n",
       "      <th>datetime</th>\n",
       "      <th>date</th>\n",
       "      <th>hour</th>\n",
       "      <th>season</th>\n",
       "      <th>holiday</th>\n",
       "      <th>open</th>\n",
       "      <th>rent_count</th>\n",
       "      <th>temperature</th>\n",
       "      <th>humidity</th>\n",
       "      <th>wind_speed</th>\n",
       "      <th>visibility</th>\n",
       "      <th>dewpoint_temp</th>\n",
       "      <th>solar_radiation</th>\n",
       "      <th>rainfall</th>\n",
       "      <th>snowfall</th>\n",
       "    </tr>\n",
       "  </thead>\n",
       "  <tbody>\n",
       "    <tr>\n",
       "      <th>0</th>\n",
       "      <td>1</td>\n",
       "      <td>2017-12-01 00:00:00</td>\n",
       "      <td>2017-12-01</td>\n",
       "      <td>0</td>\n",
       "      <td>Winter</td>\n",
       "      <td>No Holiday</td>\n",
       "      <td>Yes</td>\n",
       "      <td>254</td>\n",
       "      <td>-5.2</td>\n",
       "      <td>37</td>\n",
       "      <td>2.2</td>\n",
       "      <td>20000</td>\n",
       "      <td>-17.6</td>\n",
       "      <td>0.0</td>\n",
       "      <td>0.0</td>\n",
       "      <td>0</td>\n",
       "    </tr>\n",
       "    <tr>\n",
       "      <th>1</th>\n",
       "      <td>2</td>\n",
       "      <td>2017-12-01 01:00:00</td>\n",
       "      <td>2017-12-01</td>\n",
       "      <td>1</td>\n",
       "      <td>Winter</td>\n",
       "      <td>No Holiday</td>\n",
       "      <td>Yes</td>\n",
       "      <td>204</td>\n",
       "      <td>-5.5</td>\n",
       "      <td>38</td>\n",
       "      <td>0.8</td>\n",
       "      <td>20000</td>\n",
       "      <td>-17.6</td>\n",
       "      <td>0.0</td>\n",
       "      <td>0.0</td>\n",
       "      <td>0</td>\n",
       "    </tr>\n",
       "    <tr>\n",
       "      <th>2</th>\n",
       "      <td>3</td>\n",
       "      <td>2017-12-01 02:00:00</td>\n",
       "      <td>2017-12-01</td>\n",
       "      <td>2</td>\n",
       "      <td>Winter</td>\n",
       "      <td>No Holiday</td>\n",
       "      <td>Yes</td>\n",
       "      <td>173</td>\n",
       "      <td>-6.0</td>\n",
       "      <td>39</td>\n",
       "      <td>1.0</td>\n",
       "      <td>20000</td>\n",
       "      <td>-17.7</td>\n",
       "      <td>0.0</td>\n",
       "      <td>0.0</td>\n",
       "      <td>0</td>\n",
       "    </tr>\n",
       "    <tr>\n",
       "      <th>3</th>\n",
       "      <td>4</td>\n",
       "      <td>2017-12-01 03:00:00</td>\n",
       "      <td>2017-12-01</td>\n",
       "      <td>3</td>\n",
       "      <td>Winter</td>\n",
       "      <td>No Holiday</td>\n",
       "      <td>Yes</td>\n",
       "      <td>107</td>\n",
       "      <td>-6.2</td>\n",
       "      <td>40</td>\n",
       "      <td>0.9</td>\n",
       "      <td>20000</td>\n",
       "      <td>-17.6</td>\n",
       "      <td>0.0</td>\n",
       "      <td>0.0</td>\n",
       "      <td>0</td>\n",
       "    </tr>\n",
       "    <tr>\n",
       "      <th>4</th>\n",
       "      <td>5</td>\n",
       "      <td>2017-12-01 04:00:00</td>\n",
       "      <td>2017-12-01</td>\n",
       "      <td>4</td>\n",
       "      <td>Winter</td>\n",
       "      <td>No Holiday</td>\n",
       "      <td>Yes</td>\n",
       "      <td>78</td>\n",
       "      <td>-6.0</td>\n",
       "      <td>36</td>\n",
       "      <td>2.3</td>\n",
       "      <td>20000</td>\n",
       "      <td>-18.6</td>\n",
       "      <td>0.0</td>\n",
       "      <td>0.0</td>\n",
       "      <td>0</td>\n",
       "    </tr>\n",
       "  </tbody>\n",
       "</table>\n",
       "</div>"
      ],
      "text/plain": [
       "   Unnamed: 0             datetime        date  hour  season     holiday open  \\\n",
       "0           1  2017-12-01 00:00:00  2017-12-01     0  Winter  No Holiday  Yes   \n",
       "1           2  2017-12-01 01:00:00  2017-12-01     1  Winter  No Holiday  Yes   \n",
       "2           3  2017-12-01 02:00:00  2017-12-01     2  Winter  No Holiday  Yes   \n",
       "3           4  2017-12-01 03:00:00  2017-12-01     3  Winter  No Holiday  Yes   \n",
       "4           5  2017-12-01 04:00:00  2017-12-01     4  Winter  No Holiday  Yes   \n",
       "\n",
       "   rent_count  temperature  humidity  wind_speed  visibility  dewpoint_temp  \\\n",
       "0         254         -5.2        37         2.2       20000          -17.6   \n",
       "1         204         -5.5        38         0.8       20000          -17.6   \n",
       "2         173         -6.0        39         1.0       20000          -17.7   \n",
       "3         107         -6.2        40         0.9       20000          -17.6   \n",
       "4          78         -6.0        36         2.3       20000          -18.6   \n",
       "\n",
       "   solar_radiation  rainfall  snowfall  \n",
       "0              0.0       0.0         0  \n",
       "1              0.0       0.0         0  \n",
       "2              0.0       0.0         0  \n",
       "3              0.0       0.0         0  \n",
       "4              0.0       0.0         0  "
      ]
     },
     "execution_count": 2,
     "metadata": {},
     "output_type": "execute_result"
    }
   ],
   "source": [
    "bike_winter = pd.read_csv(\"bike_winter.csv\")\n",
    "bike_winter.head()"
   ]
  },
  {
   "cell_type": "code",
   "execution_count": 3,
   "id": "55ac7575-9d81-477d-9310-47efa8144598",
   "metadata": {},
   "outputs": [
    {
     "data": {
      "text/plain": [
       "['datetime', 'date', 'season', 'holiday', 'open']"
      ]
     },
     "execution_count": 3,
     "metadata": {},
     "output_type": "execute_result"
    }
   ],
   "source": [
    "bike_winter_col = list(bike_winter.columns)\n",
    "bike_winter_numeric_col = list(bike_winter.describe().columns)\n",
    "diff_names = []\n",
    "for i in bike_winter_col:\n",
    "\tif i not in bike_winter_numeric_col:\n",
    "\t\tdiff_names.append(i)\n",
    "diff_names"
   ]
  },
  {
   "cell_type": "code",
   "execution_count": 35,
   "id": "f2269ff7-da09-4eb3-98d5-56250e2ac0e1",
   "metadata": {},
   "outputs": [
    {
     "data": {
      "text/html": [
       "<div>\n",
       "<style scoped>\n",
       "    .dataframe tbody tr th:only-of-type {\n",
       "        vertical-align: middle;\n",
       "    }\n",
       "\n",
       "    .dataframe tbody tr th {\n",
       "        vertical-align: top;\n",
       "    }\n",
       "\n",
       "    .dataframe thead th {\n",
       "        text-align: right;\n",
       "    }\n",
       "</style>\n",
       "<table border=\"1\" class=\"dataframe\">\n",
       "  <thead>\n",
       "    <tr style=\"text-align: right;\">\n",
       "      <th></th>\n",
       "      <th>Unnamed: 0</th>\n",
       "      <th>hour</th>\n",
       "      <th>temperature</th>\n",
       "      <th>humidity</th>\n",
       "      <th>wind_speed</th>\n",
       "      <th>visibility</th>\n",
       "      <th>solar_radiation</th>\n",
       "      <th>rainfall</th>\n",
       "      <th>snowfall</th>\n",
       "    </tr>\n",
       "  </thead>\n",
       "  <tbody>\n",
       "    <tr>\n",
       "      <th>0</th>\n",
       "      <td>1</td>\n",
       "      <td>0</td>\n",
       "      <td>-5.2</td>\n",
       "      <td>37</td>\n",
       "      <td>2.2</td>\n",
       "      <td>20000</td>\n",
       "      <td>0.0</td>\n",
       "      <td>0.0</td>\n",
       "      <td>0</td>\n",
       "    </tr>\n",
       "    <tr>\n",
       "      <th>1</th>\n",
       "      <td>2</td>\n",
       "      <td>1</td>\n",
       "      <td>-5.5</td>\n",
       "      <td>38</td>\n",
       "      <td>0.8</td>\n",
       "      <td>20000</td>\n",
       "      <td>0.0</td>\n",
       "      <td>0.0</td>\n",
       "      <td>0</td>\n",
       "    </tr>\n",
       "    <tr>\n",
       "      <th>2</th>\n",
       "      <td>3</td>\n",
       "      <td>2</td>\n",
       "      <td>-6.0</td>\n",
       "      <td>39</td>\n",
       "      <td>1.0</td>\n",
       "      <td>20000</td>\n",
       "      <td>0.0</td>\n",
       "      <td>0.0</td>\n",
       "      <td>0</td>\n",
       "    </tr>\n",
       "    <tr>\n",
       "      <th>3</th>\n",
       "      <td>4</td>\n",
       "      <td>3</td>\n",
       "      <td>-6.2</td>\n",
       "      <td>40</td>\n",
       "      <td>0.9</td>\n",
       "      <td>20000</td>\n",
       "      <td>0.0</td>\n",
       "      <td>0.0</td>\n",
       "      <td>0</td>\n",
       "    </tr>\n",
       "    <tr>\n",
       "      <th>4</th>\n",
       "      <td>5</td>\n",
       "      <td>4</td>\n",
       "      <td>-6.0</td>\n",
       "      <td>36</td>\n",
       "      <td>2.3</td>\n",
       "      <td>20000</td>\n",
       "      <td>0.0</td>\n",
       "      <td>0.0</td>\n",
       "      <td>0</td>\n",
       "    </tr>\n",
       "  </tbody>\n",
       "</table>\n",
       "</div>"
      ],
      "text/plain": [
       "   Unnamed: 0  hour  temperature  humidity  wind_speed  visibility  \\\n",
       "0           1     0         -5.2        37         2.2       20000   \n",
       "1           2     1         -5.5        38         0.8       20000   \n",
       "2           3     2         -6.0        39         1.0       20000   \n",
       "3           4     3         -6.2        40         0.9       20000   \n",
       "4           5     4         -6.0        36         2.3       20000   \n",
       "\n",
       "   solar_radiation  rainfall  snowfall  \n",
       "0              0.0       0.0         0  \n",
       "1              0.0       0.0         0  \n",
       "2              0.0       0.0         0  \n",
       "3              0.0       0.0         0  \n",
       "4              0.0       0.0         0  "
      ]
     },
     "execution_count": 35,
     "metadata": {},
     "output_type": "execute_result"
    }
   ],
   "source": [
    "bike_winter2 = bike_winter.copy()\n",
    "bike_winter2.drop(columns = diff_names,inplace=True)\n",
    "#bike_winter2.drop(columns = ['rent_count'], inplace = True)\n",
    "bike_winter2.drop(columns = ['rent_count', 'dewpoint_temp'], inplace = True)\n",
    "bike_winter2.head()"
   ]
  },
  {
   "cell_type": "code",
   "execution_count": 36,
   "id": "9523cc2a-d309-4a2e-b563-5853f724c509",
   "metadata": {},
   "outputs": [
    {
     "data": {
      "text/html": [
       "<div>\n",
       "<style scoped>\n",
       "    .dataframe tbody tr th:only-of-type {\n",
       "        vertical-align: middle;\n",
       "    }\n",
       "\n",
       "    .dataframe tbody tr th {\n",
       "        vertical-align: top;\n",
       "    }\n",
       "\n",
       "    .dataframe thead th {\n",
       "        text-align: right;\n",
       "    }\n",
       "</style>\n",
       "<table border=\"1\" class=\"dataframe\">\n",
       "  <thead>\n",
       "    <tr style=\"text-align: right;\">\n",
       "      <th></th>\n",
       "      <th>hour</th>\n",
       "      <th>temperature</th>\n",
       "      <th>humidity</th>\n",
       "      <th>wind_speed</th>\n",
       "      <th>visibility</th>\n",
       "      <th>solar_radiation</th>\n",
       "      <th>rainfall</th>\n",
       "      <th>snowfall</th>\n",
       "    </tr>\n",
       "  </thead>\n",
       "  <tbody>\n",
       "    <tr>\n",
       "      <th>0</th>\n",
       "      <td>0</td>\n",
       "      <td>-5.2</td>\n",
       "      <td>37</td>\n",
       "      <td>2.2</td>\n",
       "      <td>20000</td>\n",
       "      <td>0.0</td>\n",
       "      <td>0.0</td>\n",
       "      <td>0</td>\n",
       "    </tr>\n",
       "    <tr>\n",
       "      <th>1</th>\n",
       "      <td>1</td>\n",
       "      <td>-5.5</td>\n",
       "      <td>38</td>\n",
       "      <td>0.8</td>\n",
       "      <td>20000</td>\n",
       "      <td>0.0</td>\n",
       "      <td>0.0</td>\n",
       "      <td>0</td>\n",
       "    </tr>\n",
       "    <tr>\n",
       "      <th>2</th>\n",
       "      <td>2</td>\n",
       "      <td>-6.0</td>\n",
       "      <td>39</td>\n",
       "      <td>1.0</td>\n",
       "      <td>20000</td>\n",
       "      <td>0.0</td>\n",
       "      <td>0.0</td>\n",
       "      <td>0</td>\n",
       "    </tr>\n",
       "    <tr>\n",
       "      <th>3</th>\n",
       "      <td>3</td>\n",
       "      <td>-6.2</td>\n",
       "      <td>40</td>\n",
       "      <td>0.9</td>\n",
       "      <td>20000</td>\n",
       "      <td>0.0</td>\n",
       "      <td>0.0</td>\n",
       "      <td>0</td>\n",
       "    </tr>\n",
       "    <tr>\n",
       "      <th>4</th>\n",
       "      <td>4</td>\n",
       "      <td>-6.0</td>\n",
       "      <td>36</td>\n",
       "      <td>2.3</td>\n",
       "      <td>20000</td>\n",
       "      <td>0.0</td>\n",
       "      <td>0.0</td>\n",
       "      <td>0</td>\n",
       "    </tr>\n",
       "  </tbody>\n",
       "</table>\n",
       "</div>"
      ],
      "text/plain": [
       "   hour  temperature  humidity  wind_speed  visibility  solar_radiation  \\\n",
       "0     0         -5.2        37         2.2       20000              0.0   \n",
       "1     1         -5.5        38         0.8       20000              0.0   \n",
       "2     2         -6.0        39         1.0       20000              0.0   \n",
       "3     3         -6.2        40         0.9       20000              0.0   \n",
       "4     4         -6.0        36         2.3       20000              0.0   \n",
       "\n",
       "   rainfall  snowfall  \n",
       "0       0.0         0  \n",
       "1       0.0         0  \n",
       "2       0.0         0  \n",
       "3       0.0         0  \n",
       "4       0.0         0  "
      ]
     },
     "execution_count": 36,
     "metadata": {},
     "output_type": "execute_result"
    }
   ],
   "source": [
    "bike_winter3 = bike_winter2.iloc[: , 1:]\n",
    "bike_winter3.head()"
   ]
  },
  {
   "cell_type": "code",
   "execution_count": 37,
   "id": "d45ef735-db19-4fdf-b7c1-6cf68c9e85f0",
   "metadata": {},
   "outputs": [
    {
     "data": {
      "text/html": [
       "<div>\n",
       "<style scoped>\n",
       "    .dataframe tbody tr th:only-of-type {\n",
       "        vertical-align: middle;\n",
       "    }\n",
       "\n",
       "    .dataframe tbody tr th {\n",
       "        vertical-align: top;\n",
       "    }\n",
       "\n",
       "    .dataframe thead th {\n",
       "        text-align: right;\n",
       "    }\n",
       "</style>\n",
       "<table border=\"1\" class=\"dataframe\">\n",
       "  <thead>\n",
       "    <tr style=\"text-align: right;\">\n",
       "      <th></th>\n",
       "      <th>hour</th>\n",
       "      <th>temperature</th>\n",
       "      <th>humidity</th>\n",
       "      <th>wind_speed</th>\n",
       "      <th>visibility</th>\n",
       "      <th>solar_radiation</th>\n",
       "      <th>rainfall</th>\n",
       "      <th>snowfall</th>\n",
       "    </tr>\n",
       "  </thead>\n",
       "  <tbody>\n",
       "    <tr>\n",
       "      <th>count</th>\n",
       "      <td>2160.000000</td>\n",
       "      <td>2160.000000</td>\n",
       "      <td>2160.000000</td>\n",
       "      <td>2160.000000</td>\n",
       "      <td>2160.000000</td>\n",
       "      <td>2160.000000</td>\n",
       "      <td>2160.000000</td>\n",
       "      <td>2160.000000</td>\n",
       "    </tr>\n",
       "    <tr>\n",
       "      <th>mean</th>\n",
       "      <td>11.500000</td>\n",
       "      <td>-2.540463</td>\n",
       "      <td>49.744907</td>\n",
       "      <td>1.922685</td>\n",
       "      <td>14459.870370</td>\n",
       "      <td>0.298181</td>\n",
       "      <td>0.032824</td>\n",
       "      <td>2.475000</td>\n",
       "    </tr>\n",
       "    <tr>\n",
       "      <th>std</th>\n",
       "      <td>6.923789</td>\n",
       "      <td>5.469763</td>\n",
       "      <td>19.303054</td>\n",
       "      <td>1.156028</td>\n",
       "      <td>6348.564457</td>\n",
       "      <td>0.523243</td>\n",
       "      <td>0.422526</td>\n",
       "      <td>6.983692</td>\n",
       "    </tr>\n",
       "    <tr>\n",
       "      <th>min</th>\n",
       "      <td>0.000000</td>\n",
       "      <td>-17.800000</td>\n",
       "      <td>14.000000</td>\n",
       "      <td>0.000000</td>\n",
       "      <td>540.000000</td>\n",
       "      <td>0.000000</td>\n",
       "      <td>0.000000</td>\n",
       "      <td>0.000000</td>\n",
       "    </tr>\n",
       "    <tr>\n",
       "      <th>25%</th>\n",
       "      <td>5.750000</td>\n",
       "      <td>-6.200000</td>\n",
       "      <td>34.000000</td>\n",
       "      <td>1.000000</td>\n",
       "      <td>9537.500000</td>\n",
       "      <td>0.000000</td>\n",
       "      <td>0.000000</td>\n",
       "      <td>0.000000</td>\n",
       "    </tr>\n",
       "    <tr>\n",
       "      <th>50%</th>\n",
       "      <td>11.500000</td>\n",
       "      <td>-2.200000</td>\n",
       "      <td>47.000000</td>\n",
       "      <td>1.700000</td>\n",
       "      <td>17620.000000</td>\n",
       "      <td>0.000000</td>\n",
       "      <td>0.000000</td>\n",
       "      <td>0.000000</td>\n",
       "    </tr>\n",
       "    <tr>\n",
       "      <th>75%</th>\n",
       "      <td>17.250000</td>\n",
       "      <td>1.500000</td>\n",
       "      <td>63.000000</td>\n",
       "      <td>2.700000</td>\n",
       "      <td>19980.000000</td>\n",
       "      <td>0.452500</td>\n",
       "      <td>0.000000</td>\n",
       "      <td>0.000000</td>\n",
       "    </tr>\n",
       "    <tr>\n",
       "      <th>max</th>\n",
       "      <td>23.000000</td>\n",
       "      <td>10.300000</td>\n",
       "      <td>97.000000</td>\n",
       "      <td>6.700000</td>\n",
       "      <td>20000.000000</td>\n",
       "      <td>2.520000</td>\n",
       "      <td>9.500000</td>\n",
       "      <td>51.000000</td>\n",
       "    </tr>\n",
       "  </tbody>\n",
       "</table>\n",
       "</div>"
      ],
      "text/plain": [
       "              hour  temperature     humidity   wind_speed    visibility  \\\n",
       "count  2160.000000  2160.000000  2160.000000  2160.000000   2160.000000   \n",
       "mean     11.500000    -2.540463    49.744907     1.922685  14459.870370   \n",
       "std       6.923789     5.469763    19.303054     1.156028   6348.564457   \n",
       "min       0.000000   -17.800000    14.000000     0.000000    540.000000   \n",
       "25%       5.750000    -6.200000    34.000000     1.000000   9537.500000   \n",
       "50%      11.500000    -2.200000    47.000000     1.700000  17620.000000   \n",
       "75%      17.250000     1.500000    63.000000     2.700000  19980.000000   \n",
       "max      23.000000    10.300000    97.000000     6.700000  20000.000000   \n",
       "\n",
       "       solar_radiation     rainfall     snowfall  \n",
       "count      2160.000000  2160.000000  2160.000000  \n",
       "mean          0.298181     0.032824     2.475000  \n",
       "std           0.523243     0.422526     6.983692  \n",
       "min           0.000000     0.000000     0.000000  \n",
       "25%           0.000000     0.000000     0.000000  \n",
       "50%           0.000000     0.000000     0.000000  \n",
       "75%           0.452500     0.000000     0.000000  \n",
       "max           2.520000     9.500000    51.000000  "
      ]
     },
     "execution_count": 37,
     "metadata": {},
     "output_type": "execute_result"
    }
   ],
   "source": [
    "bike_winter3.describe()"
   ]
  },
  {
   "cell_type": "code",
   "execution_count": 38,
   "id": "f1b2f677-c979-4227-94e4-f576373e8e26",
   "metadata": {},
   "outputs": [
    {
     "data": {
      "text/plain": [
       "0.0"
      ]
     },
     "execution_count": 38,
     "metadata": {},
     "output_type": "execute_result"
    }
   ],
   "source": [
    "_ , p_value = calculate_bartlett_sphericity(bike_winter3)\n",
    "p_value"
   ]
  },
  {
   "cell_type": "code",
   "execution_count": 39,
   "id": "553065d8-7ff4-4a9d-9319-315be43eae6d",
   "metadata": {},
   "outputs": [
    {
     "data": {
      "text/plain": [
       "0.5693304013173582"
      ]
     },
     "execution_count": 39,
     "metadata": {},
     "output_type": "execute_result"
    }
   ],
   "source": [
    "_, kmo_score = calculate_kmo(bike_winter3)\n",
    "kmo_score "
   ]
  },
  {
   "cell_type": "code",
   "execution_count": 40,
   "id": "52812417-81cc-4fe2-90da-ea2c3daa9c72",
   "metadata": {},
   "outputs": [],
   "source": [
    "colnames = list(bike_winter3.columns)\n",
    "\n",
    "scaler = StandardScaler(with_mean=True,with_std=True)\n",
    "scaled_features = pd.DataFrame(scaler.fit_transform(bike_winter3))\n",
    "\n",
    "scaled_features.columns = colnames"
   ]
  },
  {
   "cell_type": "code",
   "execution_count": 41,
   "id": "f45c7c34-7195-411b-996e-8cb12708f506",
   "metadata": {},
   "outputs": [
    {
     "data": {
      "text/html": [
       "<div>\n",
       "<style scoped>\n",
       "    .dataframe tbody tr th:only-of-type {\n",
       "        vertical-align: middle;\n",
       "    }\n",
       "\n",
       "    .dataframe tbody tr th {\n",
       "        vertical-align: top;\n",
       "    }\n",
       "\n",
       "    .dataframe thead th {\n",
       "        text-align: right;\n",
       "    }\n",
       "</style>\n",
       "<table border=\"1\" class=\"dataframe\">\n",
       "  <thead>\n",
       "    <tr style=\"text-align: right;\">\n",
       "      <th></th>\n",
       "      <th>hour</th>\n",
       "      <th>temperature</th>\n",
       "      <th>humidity</th>\n",
       "      <th>wind_speed</th>\n",
       "      <th>visibility</th>\n",
       "      <th>solar_radiation</th>\n",
       "      <th>rainfall</th>\n",
       "      <th>snowfall</th>\n",
       "    </tr>\n",
       "  </thead>\n",
       "  <tbody>\n",
       "    <tr>\n",
       "      <th>hour</th>\n",
       "      <td>1.000000</td>\n",
       "      <td>0.220823</td>\n",
       "      <td>-0.192557</td>\n",
       "      <td>0.204463</td>\n",
       "      <td>0.050296</td>\n",
       "      <td>0.134496</td>\n",
       "      <td>0.020527</td>\n",
       "      <td>-0.055960</td>\n",
       "    </tr>\n",
       "    <tr>\n",
       "      <th>temperature</th>\n",
       "      <td>0.220823</td>\n",
       "      <td>1.000000</td>\n",
       "      <td>0.226316</td>\n",
       "      <td>-0.125166</td>\n",
       "      <td>-0.552616</td>\n",
       "      <td>0.189294</td>\n",
       "      <td>0.066779</td>\n",
       "      <td>-0.057513</td>\n",
       "    </tr>\n",
       "    <tr>\n",
       "      <th>humidity</th>\n",
       "      <td>-0.192557</td>\n",
       "      <td>0.226316</td>\n",
       "      <td>1.000000</td>\n",
       "      <td>-0.349294</td>\n",
       "      <td>-0.749572</td>\n",
       "      <td>-0.464243</td>\n",
       "      <td>0.163973</td>\n",
       "      <td>0.328238</td>\n",
       "    </tr>\n",
       "    <tr>\n",
       "      <th>wind_speed</th>\n",
       "      <td>0.204463</td>\n",
       "      <td>-0.125166</td>\n",
       "      <td>-0.349294</td>\n",
       "      <td>1.000000</td>\n",
       "      <td>0.296282</td>\n",
       "      <td>0.364400</td>\n",
       "      <td>-0.010278</td>\n",
       "      <td>-0.057215</td>\n",
       "    </tr>\n",
       "    <tr>\n",
       "      <th>visibility</th>\n",
       "      <td>0.050296</td>\n",
       "      <td>-0.552616</td>\n",
       "      <td>-0.749572</td>\n",
       "      <td>0.296282</td>\n",
       "      <td>1.000000</td>\n",
       "      <td>0.165397</td>\n",
       "      <td>-0.113759</td>\n",
       "      <td>-0.204558</td>\n",
       "    </tr>\n",
       "    <tr>\n",
       "      <th>solar_radiation</th>\n",
       "      <td>0.134496</td>\n",
       "      <td>0.189294</td>\n",
       "      <td>-0.464243</td>\n",
       "      <td>0.364400</td>\n",
       "      <td>0.165397</td>\n",
       "      <td>1.000000</td>\n",
       "      <td>-0.040979</td>\n",
       "      <td>-0.072475</td>\n",
       "    </tr>\n",
       "    <tr>\n",
       "      <th>rainfall</th>\n",
       "      <td>0.020527</td>\n",
       "      <td>0.066779</td>\n",
       "      <td>0.163973</td>\n",
       "      <td>-0.010278</td>\n",
       "      <td>-0.113759</td>\n",
       "      <td>-0.040979</td>\n",
       "      <td>1.000000</td>\n",
       "      <td>0.062319</td>\n",
       "    </tr>\n",
       "    <tr>\n",
       "      <th>snowfall</th>\n",
       "      <td>-0.055960</td>\n",
       "      <td>-0.057513</td>\n",
       "      <td>0.328238</td>\n",
       "      <td>-0.057215</td>\n",
       "      <td>-0.204558</td>\n",
       "      <td>-0.072475</td>\n",
       "      <td>0.062319</td>\n",
       "      <td>1.000000</td>\n",
       "    </tr>\n",
       "  </tbody>\n",
       "</table>\n",
       "</div>"
      ],
      "text/plain": [
       "                     hour  temperature  humidity  wind_speed  visibility  \\\n",
       "hour             1.000000     0.220823 -0.192557    0.204463    0.050296   \n",
       "temperature      0.220823     1.000000  0.226316   -0.125166   -0.552616   \n",
       "humidity        -0.192557     0.226316  1.000000   -0.349294   -0.749572   \n",
       "wind_speed       0.204463    -0.125166 -0.349294    1.000000    0.296282   \n",
       "visibility       0.050296    -0.552616 -0.749572    0.296282    1.000000   \n",
       "solar_radiation  0.134496     0.189294 -0.464243    0.364400    0.165397   \n",
       "rainfall         0.020527     0.066779  0.163973   -0.010278   -0.113759   \n",
       "snowfall        -0.055960    -0.057513  0.328238   -0.057215   -0.204558   \n",
       "\n",
       "                 solar_radiation  rainfall  snowfall  \n",
       "hour                    0.134496  0.020527 -0.055960  \n",
       "temperature             0.189294  0.066779 -0.057513  \n",
       "humidity               -0.464243  0.163973  0.328238  \n",
       "wind_speed              0.364400 -0.010278 -0.057215  \n",
       "visibility              0.165397 -0.113759 -0.204558  \n",
       "solar_radiation         1.000000 -0.040979 -0.072475  \n",
       "rainfall               -0.040979  1.000000  0.062319  \n",
       "snowfall               -0.072475  0.062319  1.000000  "
      ]
     },
     "execution_count": 41,
     "metadata": {},
     "output_type": "execute_result"
    }
   ],
   "source": [
    "corr = scaled_features.corr()\n",
    "corr"
   ]
  },
  {
   "cell_type": "code",
   "execution_count": 42,
   "id": "6e6701a1-963a-4401-8932-568040594d76",
   "metadata": {},
   "outputs": [
    {
     "data": {
      "text/plain": [
       "<AxesSubplot:>"
      ]
     },
     "execution_count": 42,
     "metadata": {},
     "output_type": "execute_result"
    },
    {
     "data": {
      "image/png": "[encoded data removed]",
      "text/plain": [
       "<Figure size 1440x720 with 2 Axes>"
      ]
     },
     "metadata": {},
     "output_type": "display_data"
    }
   ],
   "source": [
    "plt.subplots(figsize=(20, 10))\n",
    "# Generate a custom diverging colormap\n",
    "cmap = sns.diverging_palette(230, 20, as_cmap=True)\n",
    "\n",
    "mask = np.triu(np.ones_like(corr, dtype=bool))\n",
    "\n",
    "# Draw the heatmap with the mask and correct aspect ratio\n",
    "sns.heatmap(corr, mask=mask,cmap=cmap,vmax =0.7, center=0,\n",
    "            square=True, linewidths=.5, cbar_kws={\"shrink\": .5})"
   ]
  },
  {
   "cell_type": "code",
   "execution_count": 44,
   "id": "8b6b388b-2a93-4f0b-9e2e-b442703522f3",
   "metadata": {},
   "outputs": [
    {
     "data": {
      "text/plain": [
       "PCA(n_components=8)"
      ]
     },
     "execution_count": 44,
     "metadata": {},
     "output_type": "execute_result"
    }
   ],
   "source": [
    "#We will set n_components to 10\n",
    "\n",
    "N = 8\n",
    "pca = PCA(n_components=N)\n",
    "pca.fit(scaled_features)"
   ]
  },
  {
   "cell_type": "code",
   "execution_count": 45,
   "id": "936d0764-2535-4a66-9f89-9216ac2261c1",
   "metadata": {},
   "outputs": [
    {
     "data": {
      "text/plain": [
       "array([0.31219139, 0.18987981, 0.13183238, 0.11830367, 0.10701505,\n",
       "       0.08113904, 0.04097706, 0.0186616 ])"
      ]
     },
     "execution_count": 45,
     "metadata": {},
     "output_type": "execute_result"
    }
   ],
   "source": [
    "explained_variance_ratio = pca.explained_variance_ratio_\n",
    "explained_variance_ratio\n"
   ]
  },
  {
   "cell_type": "code",
   "execution_count": 46,
   "id": "bdfd2e51-cae6-4d83-93f8-820b2d4987c8",
   "metadata": {},
   "outputs": [
    {
     "data": {
      "text/plain": [
       "array([0.312, 0.502, 0.634, 0.752, 0.859, 0.94 , 0.981, 1.   ])"
      ]
     },
     "execution_count": 46,
     "metadata": {},
     "output_type": "execute_result"
    }
   ],
   "source": [
    "cumulative_variance = np.cumsum(np.round(explained_variance_ratio, decimals=3))\n",
    "cumulative_variance"
   ]
  },
  {
   "cell_type": "code",
   "execution_count": 47,
   "id": "3fe89cbe-9fef-402f-9abb-6fa7755cf622",
   "metadata": {},
   "outputs": [
    {
     "data": {
      "text/plain": [
       "<matplotlib.lines.Line2D at 0x7fe53c16b880>"
      ]
     },
     "execution_count": 47,
     "metadata": {},
     "output_type": "execute_result"
    },
    {
     "data": {
      "image/png": "[encoded data removed]",
      "text/plain": [
       "<Figure size 720x504 with 1 Axes>"
      ]
     },
     "metadata": {},
     "output_type": "display_data"
    }
   ],
   "source": [
    "x = list(range(1,N+1))\n",
    "plt.figure(figsize=(10, 7)) \n",
    "plt.bar(x,explained_variance_ratio)\n",
    "plt.scatter(range(1,N+1),cumulative_variance)\n",
    "plt.plot(x,cumulative_variance)\n",
    "plt.title('Variance')\n",
    "plt.xlabel('PC Number')\n",
    "plt.ylabel('Proportion of Variance Explained by PC')\n",
    "plt.axhline(y=0.7, color = 'r')"
   ]
  },
  {
   "cell_type": "code",
   "execution_count": 48,
   "id": "274f294c-a635-4885-b5ba-9c1df82ff81b",
   "metadata": {},
   "outputs": [
    {
     "data": {
      "image/png": "[encoded data removed]",
      "text/plain": [
       "<Figure size 720x504 with 1 Axes>"
      ]
     },
     "metadata": {},
     "output_type": "display_data"
    }
   ],
   "source": [
    "plt.figure(figsize=(10, 7)) \n",
    "plt.scatter(range(1,N+1),pca.explained_variance_ratio_)\n",
    "plt.plot(range(1,N+1),pca.explained_variance_ratio_)\n",
    "plt.title('Scree Plot')\n",
    "plt.xlabel('PC Number')\n",
    "plt.ylabel('Variance Explained by PC')\n",
    "plt.grid()"
   ]
  },
  {
   "cell_type": "code",
   "execution_count": 49,
   "id": "6aab920c-30f4-4714-87d5-359549733b81",
   "metadata": {},
   "outputs": [
    {
     "data": {
      "text/plain": [
       "3"
      ]
     },
     "execution_count": 49,
     "metadata": {},
     "output_type": "execute_result"
    }
   ],
   "source": [
    "kl = KneeLocator(range(1, N+1), pca.explained_variance_ratio_, curve=\"convex\", direction=\"decreasing\")\n",
    "\n",
    "kl.elbow"
   ]
  },
  {
   "cell_type": "code",
   "execution_count": 50,
   "id": "803dce11-ac9d-42ca-a148-4004ce35f6e6",
   "metadata": {},
   "outputs": [],
   "source": [
    "# factor analysis\n",
    "def evaluate_pcs(num_of_pcs,data):\n",
    "    def encode_vals(x): #helper functions to suppress loading less than 0.7 \n",
    "    #a gradual process to lead to this function\n",
    "    # if x<=-0.5, we drop the variable\n",
    "        if x <= -0.5 or x >= 0.5: #Adjust the threshold value \n",
    "            return x\n",
    "        else:\n",
    "            return(\"\")    \n",
    "    f = FactorAnalyzer(n_factors=num_of_pcs, method = 'principal',rotation='varimax') #Conduct PCA + varimax rotation to extract latent factors \n",
    "    f.fit(data)\n",
    "    loadings = pd.DataFrame(f.loadings_).set_index(data.columns)\n",
    "    loadings = loadings.applymap(encode_vals)\n",
    "    loadingcols= list(loadings.columns)\n",
    "    newcols = {}\n",
    "    for i in loadingcols:\n",
    "        newcols[i] = \"PC\" + str(i+1)\n",
    "    loadings.rename(columns = newcols,inplace=True)\n",
    "    return loadings\n",
    "\n"
   ]
  },
  {
   "cell_type": "code",
   "execution_count": 51,
   "id": "cf77590d-c592-44fa-a1e2-8045e3ecea2f",
   "metadata": {},
   "outputs": [],
   "source": [
    "def CronbachAlpha(itemscores): #calculate the CronbachAlpha to see how closely related a set of items are as a group\n",
    "    itemscores = np.asarray(itemscores)\n",
    "    itemvars = itemscores.var(axis=0, ddof=1)\n",
    "    tscores = itemscores.sum(axis=1)\n",
    "    nitems = itemscores.shape[1]\n",
    "    return (nitems / (nitems-1)) * (1 - (itemvars.sum() / tscores.var(ddof=1)))"
   ]
  },
  {
   "cell_type": "code",
   "execution_count": 52,
   "id": "654a2fab-4a69-4e6d-a1ff-70abfdc65380",
   "metadata": {},
   "outputs": [
    {
     "data": {
      "text/html": [
       "<div>\n",
       "<style scoped>\n",
       "    .dataframe tbody tr th:only-of-type {\n",
       "        vertical-align: middle;\n",
       "    }\n",
       "\n",
       "    .dataframe tbody tr th {\n",
       "        vertical-align: top;\n",
       "    }\n",
       "\n",
       "    .dataframe thead th {\n",
       "        text-align: right;\n",
       "    }\n",
       "</style>\n",
       "<table border=\"1\" class=\"dataframe\">\n",
       "  <thead>\n",
       "    <tr style=\"text-align: right;\">\n",
       "      <th></th>\n",
       "      <th>PC1</th>\n",
       "      <th>PC2</th>\n",
       "      <th>PC3</th>\n",
       "    </tr>\n",
       "  </thead>\n",
       "  <tbody>\n",
       "    <tr>\n",
       "      <th>hour</th>\n",
       "      <td></td>\n",
       "      <td>0.599996</td>\n",
       "      <td></td>\n",
       "    </tr>\n",
       "    <tr>\n",
       "      <th>temperature</th>\n",
       "      <td>0.857629</td>\n",
       "      <td></td>\n",
       "      <td></td>\n",
       "    </tr>\n",
       "    <tr>\n",
       "      <th>humidity</th>\n",
       "      <td>0.592746</td>\n",
       "      <td>-0.546991</td>\n",
       "      <td></td>\n",
       "    </tr>\n",
       "    <tr>\n",
       "      <th>wind_speed</th>\n",
       "      <td></td>\n",
       "      <td>0.650896</td>\n",
       "      <td></td>\n",
       "    </tr>\n",
       "    <tr>\n",
       "      <th>visibility</th>\n",
       "      <td>-0.856294</td>\n",
       "      <td></td>\n",
       "      <td></td>\n",
       "    </tr>\n",
       "    <tr>\n",
       "      <th>solar_radiation</th>\n",
       "      <td></td>\n",
       "      <td>0.756149</td>\n",
       "      <td></td>\n",
       "    </tr>\n",
       "    <tr>\n",
       "      <th>rainfall</th>\n",
       "      <td></td>\n",
       "      <td></td>\n",
       "      <td>0.598578</td>\n",
       "    </tr>\n",
       "    <tr>\n",
       "      <th>snowfall</th>\n",
       "      <td></td>\n",
       "      <td></td>\n",
       "      <td>0.766129</td>\n",
       "    </tr>\n",
       "  </tbody>\n",
       "</table>\n",
       "</div>"
      ],
      "text/plain": [
       "                      PC1       PC2       PC3\n",
       "hour                       0.599996          \n",
       "temperature      0.857629                    \n",
       "humidity         0.592746 -0.546991          \n",
       "wind_speed                 0.650896          \n",
       "visibility      -0.856294                    \n",
       "solar_radiation            0.756149          \n",
       "rainfall                             0.598578\n",
       "snowfall                             0.766129"
      ]
     },
     "execution_count": 52,
     "metadata": {},
     "output_type": "execute_result"
    }
   ],
   "source": [
    "evaluate_pcs(3,scaled_features[colnames])"
   ]
  },
  {
   "cell_type": "code",
   "execution_count": 53,
   "id": "9a85d4c2-1008-44e7-9800-41d2f1d6e8c4",
   "metadata": {},
   "outputs": [
    {
     "name": "stdout",
     "output_type": "stream",
     "text": [
      "0.3690988344825732\n",
      "0.4788320648958179\n",
      "0.11732717614778476\n"
     ]
    }
   ],
   "source": [
    "print(CronbachAlpha(scaled_features[['temperature','humidity']]))\n",
    "print(CronbachAlpha(scaled_features[['hour','wind_speed','solar_radiation']]))\n",
    "print(CronbachAlpha(scaled_features[['rainfall','snowfall']]))"
   ]
  },
  {
   "cell_type": "code",
   "execution_count": null,
   "id": "85191736-50d7-4066-8d39-2564cec6dc4e",
   "metadata": {},
   "outputs": [],
   "source": []
  }
 ],
 "metadata": {
  "kernelspec": {
   "display_name": "Python 3 (ipykernel)",
   "language": "python",
   "name": "python3"
  },
  "language_info": {
   "codemirror_mode": {
    "name": "ipython",
    "version": 3
   },
   "file_extension": ".py",
   "mimetype": "text/x-python",
   "name": "python",
   "nbconvert_exporter": "python",
   "pygments_lexer": "ipython3",
   "version": "3.8.5"
  }
 },
 "nbformat": 4,
 "nbformat_minor": 5
}
