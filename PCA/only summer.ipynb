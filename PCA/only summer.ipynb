{
 "cells": [
  {
   "cell_type": "code",
   "execution_count": 2,
   "id": "5e394055-b46b-4040-a6b0-ce5fbf06c787",
   "metadata": {},
   "outputs": [],
   "source": [
    "import pandas as pd\n",
    "import numpy as np\n",
    "import seaborn as sns\n",
    "import matplotlib.pyplot as plt\n",
    "from sklearn.preprocessing import StandardScaler\n",
    "from sklearn.decomposition import PCA\n",
    "from factor_analyzer import FactorAnalyzer\n",
    "from yellowbrick.features import PCA as YBPCA\n",
    "from kneed import KneeLocator\n",
    "from factor_analyzer.factor_analyzer import calculate_bartlett_sphericity\n",
    "from factor_analyzer.factor_analyzer import calculate_kmo\n",
    "#import plotly.express as px"
   ]
  },
  {
   "cell_type": "code",
   "execution_count": 3,
   "id": "00911e28-5abd-457f-b7eb-80474331aeca",
   "metadata": {},
   "outputs": [
    {
     "data": {
      "text/html": [
       "<div>\n",
       "<style scoped>\n",
       "    .dataframe tbody tr th:only-of-type {\n",
       "        vertical-align: middle;\n",
       "    }\n",
       "\n",
       "    .dataframe tbody tr th {\n",
       "        vertical-align: top;\n",
       "    }\n",
       "\n",
       "    .dataframe thead th {\n",
       "        text-align: right;\n",
       "    }\n",
       "</style>\n",
       "<table border=\"1\" class=\"dataframe\">\n",
       "  <thead>\n",
       "    <tr style=\"text-align: right;\">\n",
       "      <th></th>\n",
       "      <th>Unnamed: 0</th>\n",
       "      <th>datetime</th>\n",
       "      <th>date</th>\n",
       "      <th>hour</th>\n",
       "      <th>season</th>\n",
       "      <th>holiday</th>\n",
       "      <th>open</th>\n",
       "      <th>rent_count</th>\n",
       "      <th>temperature</th>\n",
       "      <th>humidity</th>\n",
       "      <th>wind_speed</th>\n",
       "      <th>visibility</th>\n",
       "      <th>dewpoint_temp</th>\n",
       "      <th>solar_radiation</th>\n",
       "      <th>rainfall</th>\n",
       "      <th>snowfall</th>\n",
       "    </tr>\n",
       "  </thead>\n",
       "  <tbody>\n",
       "    <tr>\n",
       "      <th>0</th>\n",
       "      <td>1</td>\n",
       "      <td>2018-06-01 00:00:00</td>\n",
       "      <td>2018-06-01</td>\n",
       "      <td>0</td>\n",
       "      <td>Summer</td>\n",
       "      <td>No Holiday</td>\n",
       "      <td>Yes</td>\n",
       "      <td>963</td>\n",
       "      <td>20.1</td>\n",
       "      <td>63</td>\n",
       "      <td>1.1</td>\n",
       "      <td>16980</td>\n",
       "      <td>12.8</td>\n",
       "      <td>0.0</td>\n",
       "      <td>0.0</td>\n",
       "      <td>0</td>\n",
       "    </tr>\n",
       "    <tr>\n",
       "      <th>1</th>\n",
       "      <td>2</td>\n",
       "      <td>2018-06-01 01:00:00</td>\n",
       "      <td>2018-06-01</td>\n",
       "      <td>1</td>\n",
       "      <td>Summer</td>\n",
       "      <td>No Holiday</td>\n",
       "      <td>Yes</td>\n",
       "      <td>776</td>\n",
       "      <td>19.5</td>\n",
       "      <td>65</td>\n",
       "      <td>0.4</td>\n",
       "      <td>16620</td>\n",
       "      <td>12.7</td>\n",
       "      <td>0.0</td>\n",
       "      <td>0.0</td>\n",
       "      <td>0</td>\n",
       "    </tr>\n",
       "    <tr>\n",
       "      <th>2</th>\n",
       "      <td>3</td>\n",
       "      <td>2018-06-01 02:00:00</td>\n",
       "      <td>2018-06-01</td>\n",
       "      <td>2</td>\n",
       "      <td>Summer</td>\n",
       "      <td>No Holiday</td>\n",
       "      <td>Yes</td>\n",
       "      <td>554</td>\n",
       "      <td>19.0</td>\n",
       "      <td>72</td>\n",
       "      <td>1.4</td>\n",
       "      <td>12580</td>\n",
       "      <td>13.8</td>\n",
       "      <td>0.0</td>\n",
       "      <td>0.0</td>\n",
       "      <td>0</td>\n",
       "    </tr>\n",
       "    <tr>\n",
       "      <th>3</th>\n",
       "      <td>4</td>\n",
       "      <td>2018-06-01 03:00:00</td>\n",
       "      <td>2018-06-01</td>\n",
       "      <td>3</td>\n",
       "      <td>Summer</td>\n",
       "      <td>No Holiday</td>\n",
       "      <td>Yes</td>\n",
       "      <td>366</td>\n",
       "      <td>18.6</td>\n",
       "      <td>72</td>\n",
       "      <td>1.4</td>\n",
       "      <td>13400</td>\n",
       "      <td>13.4</td>\n",
       "      <td>0.0</td>\n",
       "      <td>0.0</td>\n",
       "      <td>0</td>\n",
       "    </tr>\n",
       "    <tr>\n",
       "      <th>4</th>\n",
       "      <td>5</td>\n",
       "      <td>2018-06-01 04:00:00</td>\n",
       "      <td>2018-06-01</td>\n",
       "      <td>4</td>\n",
       "      <td>Summer</td>\n",
       "      <td>No Holiday</td>\n",
       "      <td>Yes</td>\n",
       "      <td>265</td>\n",
       "      <td>18.1</td>\n",
       "      <td>76</td>\n",
       "      <td>1.8</td>\n",
       "      <td>5610</td>\n",
       "      <td>13.7</td>\n",
       "      <td>0.0</td>\n",
       "      <td>0.0</td>\n",
       "      <td>0</td>\n",
       "    </tr>\n",
       "  </tbody>\n",
       "</table>\n",
       "</div>"
      ],
      "text/plain": [
       "   Unnamed: 0             datetime        date  hour  season     holiday open  \\\n",
       "0           1  2018-06-01 00:00:00  2018-06-01     0  Summer  No Holiday  Yes   \n",
       "1           2  2018-06-01 01:00:00  2018-06-01     1  Summer  No Holiday  Yes   \n",
       "2           3  2018-06-01 02:00:00  2018-06-01     2  Summer  No Holiday  Yes   \n",
       "3           4  2018-06-01 03:00:00  2018-06-01     3  Summer  No Holiday  Yes   \n",
       "4           5  2018-06-01 04:00:00  2018-06-01     4  Summer  No Holiday  Yes   \n",
       "\n",
       "   rent_count  temperature  humidity  wind_speed  visibility  dewpoint_temp  \\\n",
       "0         963         20.1        63         1.1       16980           12.8   \n",
       "1         776         19.5        65         0.4       16620           12.7   \n",
       "2         554         19.0        72         1.4       12580           13.8   \n",
       "3         366         18.6        72         1.4       13400           13.4   \n",
       "4         265         18.1        76         1.8        5610           13.7   \n",
       "\n",
       "   solar_radiation  rainfall  snowfall  \n",
       "0              0.0       0.0         0  \n",
       "1              0.0       0.0         0  \n",
       "2              0.0       0.0         0  \n",
       "3              0.0       0.0         0  \n",
       "4              0.0       0.0         0  "
      ]
     },
     "execution_count": 3,
     "metadata": {},
     "output_type": "execute_result"
    }
   ],
   "source": [
    "bike_summer = pd.read_csv(\"bike_summer.csv\")\n",
    "bike_summer.head()"
   ]
  },
  {
   "cell_type": "code",
   "execution_count": 4,
   "id": "55ac7575-9d81-477d-9310-47efa8144598",
   "metadata": {},
   "outputs": [
    {
     "data": {
      "text/plain": [
       "['datetime', 'date', 'season', 'holiday', 'open']"
      ]
     },
     "execution_count": 4,
     "metadata": {},
     "output_type": "execute_result"
    }
   ],
   "source": [
    "bike_summer_col = list(bike_summer.columns)\n",
    "bike_summer_numeric_col = list(bike_summer.describe().columns)\n",
    "diff_names = []\n",
    "for i in bike_summer_col:\n",
    "\tif i not in bike_summer_numeric_col:\n",
    "\t\tdiff_names.append(i)\n",
    "diff_names"
   ]
  },
  {
   "cell_type": "code",
   "execution_count": 5,
   "id": "f2269ff7-da09-4eb3-98d5-56250e2ac0e1",
   "metadata": {},
   "outputs": [
    {
     "data": {
      "text/html": [
       "<div>\n",
       "<style scoped>\n",
       "    .dataframe tbody tr th:only-of-type {\n",
       "        vertical-align: middle;\n",
       "    }\n",
       "\n",
       "    .dataframe tbody tr th {\n",
       "        vertical-align: top;\n",
       "    }\n",
       "\n",
       "    .dataframe thead th {\n",
       "        text-align: right;\n",
       "    }\n",
       "</style>\n",
       "<table border=\"1\" class=\"dataframe\">\n",
       "  <thead>\n",
       "    <tr style=\"text-align: right;\">\n",
       "      <th></th>\n",
       "      <th>Unnamed: 0</th>\n",
       "      <th>hour</th>\n",
       "      <th>temperature</th>\n",
       "      <th>humidity</th>\n",
       "      <th>wind_speed</th>\n",
       "      <th>visibility</th>\n",
       "      <th>solar_radiation</th>\n",
       "      <th>rainfall</th>\n",
       "      <th>snowfall</th>\n",
       "    </tr>\n",
       "  </thead>\n",
       "  <tbody>\n",
       "    <tr>\n",
       "      <th>0</th>\n",
       "      <td>1</td>\n",
       "      <td>0</td>\n",
       "      <td>20.1</td>\n",
       "      <td>63</td>\n",
       "      <td>1.1</td>\n",
       "      <td>16980</td>\n",
       "      <td>0.0</td>\n",
       "      <td>0.0</td>\n",
       "      <td>0</td>\n",
       "    </tr>\n",
       "    <tr>\n",
       "      <th>1</th>\n",
       "      <td>2</td>\n",
       "      <td>1</td>\n",
       "      <td>19.5</td>\n",
       "      <td>65</td>\n",
       "      <td>0.4</td>\n",
       "      <td>16620</td>\n",
       "      <td>0.0</td>\n",
       "      <td>0.0</td>\n",
       "      <td>0</td>\n",
       "    </tr>\n",
       "    <tr>\n",
       "      <th>2</th>\n",
       "      <td>3</td>\n",
       "      <td>2</td>\n",
       "      <td>19.0</td>\n",
       "      <td>72</td>\n",
       "      <td>1.4</td>\n",
       "      <td>12580</td>\n",
       "      <td>0.0</td>\n",
       "      <td>0.0</td>\n",
       "      <td>0</td>\n",
       "    </tr>\n",
       "    <tr>\n",
       "      <th>3</th>\n",
       "      <td>4</td>\n",
       "      <td>3</td>\n",
       "      <td>18.6</td>\n",
       "      <td>72</td>\n",
       "      <td>1.4</td>\n",
       "      <td>13400</td>\n",
       "      <td>0.0</td>\n",
       "      <td>0.0</td>\n",
       "      <td>0</td>\n",
       "    </tr>\n",
       "    <tr>\n",
       "      <th>4</th>\n",
       "      <td>5</td>\n",
       "      <td>4</td>\n",
       "      <td>18.1</td>\n",
       "      <td>76</td>\n",
       "      <td>1.8</td>\n",
       "      <td>5610</td>\n",
       "      <td>0.0</td>\n",
       "      <td>0.0</td>\n",
       "      <td>0</td>\n",
       "    </tr>\n",
       "  </tbody>\n",
       "</table>\n",
       "</div>"
      ],
      "text/plain": [
       "   Unnamed: 0  hour  temperature  humidity  wind_speed  visibility  \\\n",
       "0           1     0         20.1        63         1.1       16980   \n",
       "1           2     1         19.5        65         0.4       16620   \n",
       "2           3     2         19.0        72         1.4       12580   \n",
       "3           4     3         18.6        72         1.4       13400   \n",
       "4           5     4         18.1        76         1.8        5610   \n",
       "\n",
       "   solar_radiation  rainfall  snowfall  \n",
       "0              0.0       0.0         0  \n",
       "1              0.0       0.0         0  \n",
       "2              0.0       0.0         0  \n",
       "3              0.0       0.0         0  \n",
       "4              0.0       0.0         0  "
      ]
     },
     "execution_count": 5,
     "metadata": {},
     "output_type": "execute_result"
    }
   ],
   "source": [
    "bike_summer2 = bike_summer.copy()\n",
    "bike_summer2.drop(columns = diff_names,inplace=True)\n",
    "bike_summer2.drop(columns = ['rent_count','dewpoint_temp'], inplace = True)\n",
    "#bike_summer2.drop(columns = ['rent_count'], inplace = True)\n",
    "bike_summer2.head()"
   ]
  },
  {
   "cell_type": "code",
   "execution_count": 10,
   "id": "9523cc2a-d309-4a2e-b563-5853f724c509",
   "metadata": {},
   "outputs": [
    {
     "data": {
      "text/html": [
       "<div>\n",
       "<style scoped>\n",
       "    .dataframe tbody tr th:only-of-type {\n",
       "        vertical-align: middle;\n",
       "    }\n",
       "\n",
       "    .dataframe tbody tr th {\n",
       "        vertical-align: top;\n",
       "    }\n",
       "\n",
       "    .dataframe thead th {\n",
       "        text-align: right;\n",
       "    }\n",
       "</style>\n",
       "<table border=\"1\" class=\"dataframe\">\n",
       "  <thead>\n",
       "    <tr style=\"text-align: right;\">\n",
       "      <th></th>\n",
       "      <th>hour</th>\n",
       "      <th>temperature</th>\n",
       "      <th>humidity</th>\n",
       "      <th>wind_speed</th>\n",
       "      <th>visibility</th>\n",
       "      <th>solar_radiation</th>\n",
       "      <th>rainfall</th>\n",
       "    </tr>\n",
       "  </thead>\n",
       "  <tbody>\n",
       "    <tr>\n",
       "      <th>0</th>\n",
       "      <td>0</td>\n",
       "      <td>20.1</td>\n",
       "      <td>63</td>\n",
       "      <td>1.1</td>\n",
       "      <td>16980</td>\n",
       "      <td>0.0</td>\n",
       "      <td>0.0</td>\n",
       "    </tr>\n",
       "    <tr>\n",
       "      <th>1</th>\n",
       "      <td>1</td>\n",
       "      <td>19.5</td>\n",
       "      <td>65</td>\n",
       "      <td>0.4</td>\n",
       "      <td>16620</td>\n",
       "      <td>0.0</td>\n",
       "      <td>0.0</td>\n",
       "    </tr>\n",
       "    <tr>\n",
       "      <th>2</th>\n",
       "      <td>2</td>\n",
       "      <td>19.0</td>\n",
       "      <td>72</td>\n",
       "      <td>1.4</td>\n",
       "      <td>12580</td>\n",
       "      <td>0.0</td>\n",
       "      <td>0.0</td>\n",
       "    </tr>\n",
       "    <tr>\n",
       "      <th>3</th>\n",
       "      <td>3</td>\n",
       "      <td>18.6</td>\n",
       "      <td>72</td>\n",
       "      <td>1.4</td>\n",
       "      <td>13400</td>\n",
       "      <td>0.0</td>\n",
       "      <td>0.0</td>\n",
       "    </tr>\n",
       "    <tr>\n",
       "      <th>4</th>\n",
       "      <td>4</td>\n",
       "      <td>18.1</td>\n",
       "      <td>76</td>\n",
       "      <td>1.8</td>\n",
       "      <td>5610</td>\n",
       "      <td>0.0</td>\n",
       "      <td>0.0</td>\n",
       "    </tr>\n",
       "  </tbody>\n",
       "</table>\n",
       "</div>"
      ],
      "text/plain": [
       "   hour  temperature  humidity  wind_speed  visibility  solar_radiation  \\\n",
       "0     0         20.1        63         1.1       16980              0.0   \n",
       "1     1         19.5        65         0.4       16620              0.0   \n",
       "2     2         19.0        72         1.4       12580              0.0   \n",
       "3     3         18.6        72         1.4       13400              0.0   \n",
       "4     4         18.1        76         1.8        5610              0.0   \n",
       "\n",
       "   rainfall  \n",
       "0       0.0  \n",
       "1       0.0  \n",
       "2       0.0  \n",
       "3       0.0  \n",
       "4       0.0  "
      ]
     },
     "execution_count": 10,
     "metadata": {},
     "output_type": "execute_result"
    }
   ],
   "source": [
    "bike_summer3 = bike_summer2.iloc[: , 1:-1] # drop snowfall as std =0\n",
    "bike_summer3.head()"
   ]
  },
  {
   "cell_type": "code",
   "execution_count": 11,
   "id": "d45ef735-db19-4fdf-b7c1-6cf68c9e85f0",
   "metadata": {},
   "outputs": [
    {
     "data": {
      "text/html": [
       "<div>\n",
       "<style scoped>\n",
       "    .dataframe tbody tr th:only-of-type {\n",
       "        vertical-align: middle;\n",
       "    }\n",
       "\n",
       "    .dataframe tbody tr th {\n",
       "        vertical-align: top;\n",
       "    }\n",
       "\n",
       "    .dataframe thead th {\n",
       "        text-align: right;\n",
       "    }\n",
       "</style>\n",
       "<table border=\"1\" class=\"dataframe\">\n",
       "  <thead>\n",
       "    <tr style=\"text-align: right;\">\n",
       "      <th></th>\n",
       "      <th>hour</th>\n",
       "      <th>temperature</th>\n",
       "      <th>humidity</th>\n",
       "      <th>wind_speed</th>\n",
       "      <th>visibility</th>\n",
       "      <th>solar_radiation</th>\n",
       "      <th>rainfall</th>\n",
       "    </tr>\n",
       "  </thead>\n",
       "  <tbody>\n",
       "    <tr>\n",
       "      <th>count</th>\n",
       "      <td>2208.000000</td>\n",
       "      <td>2208.000000</td>\n",
       "      <td>2208.000000</td>\n",
       "      <td>2208.000000</td>\n",
       "      <td>2208.000000</td>\n",
       "      <td>2208.000000</td>\n",
       "      <td>2208.000000</td>\n",
       "    </tr>\n",
       "    <tr>\n",
       "      <th>mean</th>\n",
       "      <td>11.500000</td>\n",
       "      <td>26.582790</td>\n",
       "      <td>64.981431</td>\n",
       "      <td>1.609420</td>\n",
       "      <td>15017.454710</td>\n",
       "      <td>0.761255</td>\n",
       "      <td>0.253487</td>\n",
       "    </tr>\n",
       "    <tr>\n",
       "      <th>std</th>\n",
       "      <td>6.923755</td>\n",
       "      <td>4.662299</td>\n",
       "      <td>17.570961</td>\n",
       "      <td>0.914289</td>\n",
       "      <td>5405.439653</td>\n",
       "      <td>0.999001</td>\n",
       "      <td>1.587507</td>\n",
       "    </tr>\n",
       "    <tr>\n",
       "      <th>min</th>\n",
       "      <td>0.000000</td>\n",
       "      <td>16.300000</td>\n",
       "      <td>21.000000</td>\n",
       "      <td>0.000000</td>\n",
       "      <td>700.000000</td>\n",
       "      <td>0.000000</td>\n",
       "      <td>0.000000</td>\n",
       "    </tr>\n",
       "    <tr>\n",
       "      <th>25%</th>\n",
       "      <td>5.750000</td>\n",
       "      <td>23.100000</td>\n",
       "      <td>52.000000</td>\n",
       "      <td>0.900000</td>\n",
       "      <td>10767.500000</td>\n",
       "      <td>0.000000</td>\n",
       "      <td>0.000000</td>\n",
       "    </tr>\n",
       "    <tr>\n",
       "      <th>50%</th>\n",
       "      <td>11.500000</td>\n",
       "      <td>26.600000</td>\n",
       "      <td>65.000000</td>\n",
       "      <td>1.500000</td>\n",
       "      <td>17405.000000</td>\n",
       "      <td>0.160000</td>\n",
       "      <td>0.000000</td>\n",
       "    </tr>\n",
       "    <tr>\n",
       "      <th>75%</th>\n",
       "      <td>17.250000</td>\n",
       "      <td>29.800000</td>\n",
       "      <td>79.000000</td>\n",
       "      <td>2.200000</td>\n",
       "      <td>19990.000000</td>\n",
       "      <td>1.360000</td>\n",
       "      <td>0.000000</td>\n",
       "    </tr>\n",
       "    <tr>\n",
       "      <th>max</th>\n",
       "      <td>23.000000</td>\n",
       "      <td>39.400000</td>\n",
       "      <td>98.000000</td>\n",
       "      <td>6.900000</td>\n",
       "      <td>20000.000000</td>\n",
       "      <td>3.450000</td>\n",
       "      <td>29.500000</td>\n",
       "    </tr>\n",
       "  </tbody>\n",
       "</table>\n",
       "</div>"
      ],
      "text/plain": [
       "              hour  temperature     humidity   wind_speed    visibility  \\\n",
       "count  2208.000000  2208.000000  2208.000000  2208.000000   2208.000000   \n",
       "mean     11.500000    26.582790    64.981431     1.609420  15017.454710   \n",
       "std       6.923755     4.662299    17.570961     0.914289   5405.439653   \n",
       "min       0.000000    16.300000    21.000000     0.000000    700.000000   \n",
       "25%       5.750000    23.100000    52.000000     0.900000  10767.500000   \n",
       "50%      11.500000    26.600000    65.000000     1.500000  17405.000000   \n",
       "75%      17.250000    29.800000    79.000000     2.200000  19990.000000   \n",
       "max      23.000000    39.400000    98.000000     6.900000  20000.000000   \n",
       "\n",
       "       solar_radiation     rainfall  \n",
       "count      2208.000000  2208.000000  \n",
       "mean          0.761255     0.253487  \n",
       "std           0.999001     1.587507  \n",
       "min           0.000000     0.000000  \n",
       "25%           0.000000     0.000000  \n",
       "50%           0.160000     0.000000  \n",
       "75%           1.360000     0.000000  \n",
       "max           3.450000    29.500000  "
      ]
     },
     "execution_count": 11,
     "metadata": {},
     "output_type": "execute_result"
    }
   ],
   "source": [
    "bike_summer3.describe()"
   ]
  },
  {
   "cell_type": "code",
   "execution_count": 12,
   "id": "f1b2f677-c979-4227-94e4-f576373e8e26",
   "metadata": {},
   "outputs": [
    {
     "data": {
      "text/plain": [
       "0.0"
      ]
     },
     "execution_count": 12,
     "metadata": {},
     "output_type": "execute_result"
    }
   ],
   "source": [
    "_ , p_value = calculate_bartlett_sphericity(bike_summer3)\n",
    "p_value"
   ]
  },
  {
   "cell_type": "code",
   "execution_count": 13,
   "id": "553065d8-7ff4-4a9d-9319-315be43eae6d",
   "metadata": {},
   "outputs": [
    {
     "data": {
      "text/plain": [
       "0.7001904632094446"
      ]
     },
     "execution_count": 13,
     "metadata": {},
     "output_type": "execute_result"
    }
   ],
   "source": [
    "_, kmo_score = calculate_kmo(bike_summer3)\n",
    "kmo_score "
   ]
  },
  {
   "cell_type": "code",
   "execution_count": 14,
   "id": "52812417-81cc-4fe2-90da-ea2c3daa9c72",
   "metadata": {},
   "outputs": [],
   "source": [
    "colnames = list(bike_summer3.columns)\n",
    "\n",
    "scaler = StandardScaler(with_mean=True,with_std=True)\n",
    "scaled_features = pd.DataFrame(scaler.fit_transform(bike_summer3))\n",
    "\n",
    "scaled_features.columns = colnames"
   ]
  },
  {
   "cell_type": "code",
   "execution_count": 15,
   "id": "84e9305a-0598-4791-ba17-a5ddda101ea8",
   "metadata": {},
   "outputs": [
    {
     "data": {
      "text/plain": [
       "PCA(n_components=7)"
      ]
     },
     "execution_count": 15,
     "metadata": {},
     "output_type": "execute_result"
    }
   ],
   "source": [
    "N = 7\n",
    "pca = PCA(n_components=N)\n",
    "pca.fit(scaled_features)"
   ]
  },
  {
   "cell_type": "code",
   "execution_count": 16,
   "id": "67d87536-1bd1-41ad-b66e-881652925926",
   "metadata": {},
   "outputs": [],
   "source": [
    "explained_variance_ratio = pca.explained_variance_ratio_\n",
    "cumulative_variance = np.cumsum(np.round(explained_variance_ratio, decimals=3))"
   ]
  },
  {
   "cell_type": "code",
   "execution_count": 17,
   "id": "571b7140-949d-4867-acaa-b5251af2910b",
   "metadata": {},
   "outputs": [
    {
     "data": {
      "text/plain": [
       "<matplotlib.lines.Line2D at 0x7fbcce899310>"
      ]
     },
     "execution_count": 17,
     "metadata": {},
     "output_type": "execute_result"
    },
    {
     "data": {
      "image/png": "[encoded data removed]",
      "text/plain": [
       "<Figure size 720x504 with 1 Axes>"
      ]
     },
     "metadata": {},
     "output_type": "display_data"
    }
   ],
   "source": [
    "x = list(range(1,N+1))\n",
    "plt.figure(figsize=(10, 7)) \n",
    "plt.bar(x,explained_variance_ratio)\n",
    "plt.scatter(range(1,N+1),cumulative_variance)\n",
    "plt.plot(x,cumulative_variance)\n",
    "plt.title('Variance')\n",
    "plt.xlabel('PC Number')\n",
    "plt.ylabel('Proportion of Variance Explained by PC')\n",
    "plt.axhline(y=0.7, color = 'r')"
   ]
  },
  {
   "cell_type": "code",
   "execution_count": 18,
   "id": "cd7135a5-7f63-4c78-9739-ed9e565861af",
   "metadata": {},
   "outputs": [
    {
     "data": {
      "image/png": "[encoded data removed]",
      "text/plain": [
       "<Figure size 720x504 with 1 Axes>"
      ]
     },
     "metadata": {},
     "output_type": "display_data"
    }
   ],
   "source": [
    "plt.figure(figsize=(10, 7)) \n",
    "plt.scatter(range(1,N+1),pca.explained_variance_ratio_)\n",
    "plt.plot(range(1,N+1),pca.explained_variance_ratio_)\n",
    "plt.title('Scree Plot')\n",
    "plt.xlabel('PC Number')\n",
    "plt.ylabel('Variance Explained by PC')\n",
    "plt.grid()"
   ]
  },
  {
   "cell_type": "code",
   "execution_count": 19,
   "id": "e64203b7-0715-4488-8b02-a6b01eb182a2",
   "metadata": {},
   "outputs": [
    {
     "data": {
      "text/plain": [
       "2"
      ]
     },
     "execution_count": 19,
     "metadata": {},
     "output_type": "execute_result"
    }
   ],
   "source": [
    "kl = KneeLocator(range(1, N+1), pca.explained_variance_ratio_, curve=\"convex\", direction=\"decreasing\")\n",
    "\n",
    "kl.elbow"
   ]
  },
  {
   "cell_type": "code",
   "execution_count": 20,
   "id": "b47a6b02-3d78-4285-ae69-3898b40b2633",
   "metadata": {},
   "outputs": [],
   "source": [
    "def evaluate_pcs(num_of_pcs,data):\n",
    "    def encode_vals(x): #helper functions to suppress loading less than 0.7 \n",
    "    #a gradual process to lead to this function\n",
    "    # if x<=-0.5, we drop the variable\n",
    "        if x <= -0.5 or x >= 0.5: #Adjust the threshold value \n",
    "            return x\n",
    "        else:\n",
    "            return(\"\")    \n",
    "    f = FactorAnalyzer(n_factors=num_of_pcs, method = 'principal',rotation='varimax') #Conduct PCA + varimax rotation to extract latent factors \n",
    "    f.fit(data)\n",
    "    loadings = pd.DataFrame(f.loadings_).set_index(data.columns)\n",
    "    loadings = loadings.applymap(encode_vals)\n",
    "    loadingcols= list(loadings.columns)\n",
    "    newcols = {}\n",
    "    for i in loadingcols:\n",
    "        newcols[i] = \"PC\" + str(i+1)\n",
    "    loadings.rename(columns = newcols,inplace=True)\n",
    "    return loadings\n",
    "\n"
   ]
  },
  {
   "cell_type": "code",
   "execution_count": 21,
   "id": "ad3658c5-ff65-466e-94d1-95bbeaccc3c5",
   "metadata": {},
   "outputs": [],
   "source": [
    "def CronbachAlpha(itemscores): #calculate the CronbachAlpha to see how closely related a set of items are as a group\n",
    "    itemscores = np.asarray(itemscores)\n",
    "    itemvars = itemscores.var(axis=0, ddof=1)\n",
    "    tscores = itemscores.sum(axis=1)\n",
    "    nitems = itemscores.shape[1]\n",
    "    return (nitems / (nitems-1)) * (1 - (itemvars.sum() / tscores.var(ddof=1)))"
   ]
  },
  {
   "cell_type": "code",
   "execution_count": 22,
   "id": "43422080-ed0a-491d-bea1-4c5fe063093e",
   "metadata": {},
   "outputs": [
    {
     "data": {
      "text/html": [
       "<div>\n",
       "<style scoped>\n",
       "    .dataframe tbody tr th:only-of-type {\n",
       "        vertical-align: middle;\n",
       "    }\n",
       "\n",
       "    .dataframe tbody tr th {\n",
       "        vertical-align: top;\n",
       "    }\n",
       "\n",
       "    .dataframe thead th {\n",
       "        text-align: right;\n",
       "    }\n",
       "</style>\n",
       "<table border=\"1\" class=\"dataframe\">\n",
       "  <thead>\n",
       "    <tr style=\"text-align: right;\">\n",
       "      <th></th>\n",
       "      <th>PC1</th>\n",
       "      <th>PC2</th>\n",
       "    </tr>\n",
       "  </thead>\n",
       "  <tbody>\n",
       "    <tr>\n",
       "      <th>hour</th>\n",
       "      <td>0.66496</td>\n",
       "      <td></td>\n",
       "    </tr>\n",
       "    <tr>\n",
       "      <th>temperature</th>\n",
       "      <td>0.684176</td>\n",
       "      <td></td>\n",
       "    </tr>\n",
       "    <tr>\n",
       "      <th>humidity</th>\n",
       "      <td>-0.647323</td>\n",
       "      <td>0.599373</td>\n",
       "    </tr>\n",
       "    <tr>\n",
       "      <th>wind_speed</th>\n",
       "      <td>0.721204</td>\n",
       "      <td></td>\n",
       "    </tr>\n",
       "    <tr>\n",
       "      <th>visibility</th>\n",
       "      <td></td>\n",
       "      <td>-0.716361</td>\n",
       "    </tr>\n",
       "    <tr>\n",
       "      <th>solar_radiation</th>\n",
       "      <td>0.698365</td>\n",
       "      <td></td>\n",
       "    </tr>\n",
       "    <tr>\n",
       "      <th>rainfall</th>\n",
       "      <td></td>\n",
       "      <td>0.761716</td>\n",
       "    </tr>\n",
       "  </tbody>\n",
       "</table>\n",
       "</div>"
      ],
      "text/plain": [
       "                      PC1       PC2\n",
       "hour              0.66496          \n",
       "temperature      0.684176          \n",
       "humidity        -0.647323  0.599373\n",
       "wind_speed       0.721204          \n",
       "visibility                -0.716361\n",
       "solar_radiation  0.698365          \n",
       "rainfall                   0.761716"
      ]
     },
     "execution_count": 22,
     "metadata": {},
     "output_type": "execute_result"
    }
   ],
   "source": [
    "evaluate_pcs(2,scaled_features[colnames])"
   ]
  },
  {
   "cell_type": "code",
   "execution_count": 85,
   "id": "70d88eae-e602-4794-952d-d481296c28f0",
   "metadata": {},
   "outputs": [
    {
     "name": "stdout",
     "output_type": "stream",
     "text": [
      "0.6780119537981936\n",
      "0.43380119135190576\n"
     ]
    }
   ],
   "source": [
    "print(CronbachAlpha(scaled_features[['hour','temperature','wind_speed','solar_radiation']])) #Reliability of PC1\n",
    "print(CronbachAlpha(scaled_features[['humidity','rainfall']])) #Reliability of PC2"
   ]
  },
  {
   "cell_type": "code",
   "execution_count": null,
   "id": "8b06a84d-79e3-42ef-ae30-abd36dd7d893",
   "metadata": {},
   "outputs": [],
   "source": []
  },
  {
   "cell_type": "code",
   "execution_count": null,
   "id": "bcc44b42-bae7-485a-97c2-fa744a4fd6bb",
   "metadata": {},
   "outputs": [],
   "source": []
  }
 ],
 "metadata": {
  "kernelspec": {
   "display_name": "Python 3 (ipykernel)",
   "language": "python",
   "name": "python3"
  },
  "language_info": {
   "codemirror_mode": {
    "name": "ipython",
    "version": 3
   },
   "file_extension": ".py",
   "mimetype": "text/x-python",
   "name": "python",
   "nbconvert_exporter": "python",
   "pygments_lexer": "ipython3",
   "version": "3.8.5"
  }
 },
 "nbformat": 4,
 "nbformat_minor": 5
}
