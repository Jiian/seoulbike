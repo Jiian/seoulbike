{
 "cells": [
  {
   "cell_type": "code",
   "execution_count": 1,
   "id": "4e1f18e0-11d4-45b4-9831-0de9854a13c5",
   "metadata": {},
   "outputs": [
    {
     "name": "stdout",
     "output_type": "stream",
     "text": [
      "\u001b[33mWARNING: You are using pip version 21.0.1; however, version 21.2.4 is available.\n",
      "You should consider upgrading via the '/Library/Frameworks/Python.framework/Versions/3.8/bin/python3.8 -m pip install --upgrade pip' command.\u001b[0m\n",
      "\u001b[33mWARNING: You are using pip version 21.0.1; however, version 21.2.4 is available.\n",
      "You should consider upgrading via the '/Library/Frameworks/Python.framework/Versions/3.8/bin/python3.8 -m pip install --upgrade pip' command.\u001b[0m\n",
      "\u001b[33mWARNING: You are using pip version 21.0.1; however, version 21.2.4 is available.\n",
      "You should consider upgrading via the '/Library/Frameworks/Python.framework/Versions/3.8/bin/python3.8 -m pip install --upgrade pip' command.\u001b[0m\n",
      "\u001b[33mWARNING: You are using pip version 21.0.1; however, version 21.2.4 is available.\n",
      "You should consider upgrading via the '/Library/Frameworks/Python.framework/Versions/3.8/bin/python3.8 -m pip install --upgrade pip' command.\u001b[0m\n"
     ]
    }
   ],
   "source": [
    "!pip -q install yellowbrick==1.3\n",
    "\n",
    "!pip -q install kneed\n",
    "!pip -q install factor_analyzer\n",
    "!pip -q install seaborn"
   ]
  },
  {
   "cell_type": "code",
   "execution_count": 30,
   "id": "24b8233e-0bdc-4bf1-be31-3cc8e1980787",
   "metadata": {},
   "outputs": [],
   "source": [
    "import pandas as pd\n",
    "import numpy as np\n",
    "import seaborn as sns\n",
    "import matplotlib.pyplot as plt\n",
    "from sklearn.preprocessing import StandardScaler\n",
    "from sklearn.decomposition import PCA\n",
    "from factor_analyzer import FactorAnalyzer\n",
    "from yellowbrick.features import PCA as YBPCA\n",
    "from kneed import KneeLocator\n",
    "from factor_analyzer.factor_analyzer import calculate_bartlett_sphericity\n",
    "from factor_analyzer.factor_analyzer import calculate_kmo\n",
    "#import plotly.express as px"
   ]
  },
  {
   "cell_type": "code",
   "execution_count": 91,
   "id": "cf0defc8-9a9c-4f10-b00c-da6ff240e947",
   "metadata": {},
   "outputs": [
    {
     "data": {
      "text/html": [
       "<div>\n",
       "<style scoped>\n",
       "    .dataframe tbody tr th:only-of-type {\n",
       "        vertical-align: middle;\n",
       "    }\n",
       "\n",
       "    .dataframe tbody tr th {\n",
       "        vertical-align: top;\n",
       "    }\n",
       "\n",
       "    .dataframe thead th {\n",
       "        text-align: right;\n",
       "    }\n",
       "</style>\n",
       "<table border=\"1\" class=\"dataframe\">\n",
       "  <thead>\n",
       "    <tr style=\"text-align: right;\">\n",
       "      <th></th>\n",
       "      <th>Unnamed: 0</th>\n",
       "      <th>date</th>\n",
       "      <th>rent_count</th>\n",
       "      <th>temperature</th>\n",
       "      <th>rainfall</th>\n",
       "      <th>snowfall</th>\n",
       "      <th>season</th>\n",
       "      <th>holiday</th>\n",
       "      <th>wind_speed</th>\n",
       "      <th>visibility</th>\n",
       "      <th>solar_radiation</th>\n",
       "      <th>dewpoint_temp</th>\n",
       "      <th>humidity</th>\n",
       "      <th>season_no</th>\n",
       "    </tr>\n",
       "  </thead>\n",
       "  <tbody>\n",
       "    <tr>\n",
       "      <th>0</th>\n",
       "      <td>1</td>\n",
       "      <td>2018-04-11</td>\n",
       "      <td>0</td>\n",
       "      <td>12.866667</td>\n",
       "      <td>0.0</td>\n",
       "      <td>0</td>\n",
       "      <td>Spring</td>\n",
       "      <td>No Holiday</td>\n",
       "      <td>3.008333</td>\n",
       "      <td>13315.416667</td>\n",
       "      <td>1.035833</td>\n",
       "      <td>2.120833</td>\n",
       "      <td>53.375000</td>\n",
       "      <td>1</td>\n",
       "    </tr>\n",
       "    <tr>\n",
       "      <th>1</th>\n",
       "      <td>2</td>\n",
       "      <td>2018-05-10</td>\n",
       "      <td>0</td>\n",
       "      <td>15.470833</td>\n",
       "      <td>0.0</td>\n",
       "      <td>0</td>\n",
       "      <td>Spring</td>\n",
       "      <td>No Holiday</td>\n",
       "      <td>2.254167</td>\n",
       "      <td>10999.583333</td>\n",
       "      <td>1.105417</td>\n",
       "      <td>8.700000</td>\n",
       "      <td>65.833333</td>\n",
       "      <td>1</td>\n",
       "    </tr>\n",
       "    <tr>\n",
       "      <th>2</th>\n",
       "      <td>3</td>\n",
       "      <td>2018-09-18</td>\n",
       "      <td>0</td>\n",
       "      <td>21.850000</td>\n",
       "      <td>0.0</td>\n",
       "      <td>0</td>\n",
       "      <td>Spring</td>\n",
       "      <td>No Holiday</td>\n",
       "      <td>1.329167</td>\n",
       "      <td>18191.250000</td>\n",
       "      <td>0.660417</td>\n",
       "      <td>13.058333</td>\n",
       "      <td>59.666667</td>\n",
       "      <td>1</td>\n",
       "    </tr>\n",
       "    <tr>\n",
       "      <th>3</th>\n",
       "      <td>4</td>\n",
       "      <td>2018-09-19</td>\n",
       "      <td>0</td>\n",
       "      <td>22.204167</td>\n",
       "      <td>0.2</td>\n",
       "      <td>0</td>\n",
       "      <td>Spring</td>\n",
       "      <td>No Holiday</td>\n",
       "      <td>0.950000</td>\n",
       "      <td>17292.083333</td>\n",
       "      <td>0.444167</td>\n",
       "      <td>13.591667</td>\n",
       "      <td>59.750000</td>\n",
       "      <td>1</td>\n",
       "    </tr>\n",
       "    <tr>\n",
       "      <th>4</th>\n",
       "      <td>5</td>\n",
       "      <td>2018-09-28</td>\n",
       "      <td>0</td>\n",
       "      <td>17.525000</td>\n",
       "      <td>0.0</td>\n",
       "      <td>0</td>\n",
       "      <td>Spring</td>\n",
       "      <td>No Holiday</td>\n",
       "      <td>1.295833</td>\n",
       "      <td>19993.333333</td>\n",
       "      <td>0.365000</td>\n",
       "      <td>8.833333</td>\n",
       "      <td>57.291667</td>\n",
       "      <td>1</td>\n",
       "    </tr>\n",
       "  </tbody>\n",
       "</table>\n",
       "</div>"
      ],
      "text/plain": [
       "   Unnamed: 0        date  rent_count  temperature  rainfall  snowfall  \\\n",
       "0           1  2018-04-11           0    12.866667       0.0         0   \n",
       "1           2  2018-05-10           0    15.470833       0.0         0   \n",
       "2           3  2018-09-18           0    21.850000       0.0         0   \n",
       "3           4  2018-09-19           0    22.204167       0.2         0   \n",
       "4           5  2018-09-28           0    17.525000       0.0         0   \n",
       "\n",
       "   season     holiday  wind_speed    visibility  solar_radiation  \\\n",
       "0  Spring  No Holiday    3.008333  13315.416667         1.035833   \n",
       "1  Spring  No Holiday    2.254167  10999.583333         1.105417   \n",
       "2  Spring  No Holiday    1.329167  18191.250000         0.660417   \n",
       "3  Spring  No Holiday    0.950000  17292.083333         0.444167   \n",
       "4  Spring  No Holiday    1.295833  19993.333333         0.365000   \n",
       "\n",
       "   dewpoint_temp   humidity  season_no  \n",
       "0       2.120833  53.375000          1  \n",
       "1       8.700000  65.833333          1  \n",
       "2      13.058333  59.666667          1  \n",
       "3      13.591667  59.750000          1  \n",
       "4       8.833333  57.291667          1  "
      ]
     },
     "execution_count": 91,
     "metadata": {},
     "output_type": "execute_result"
    }
   ],
   "source": [
    "bike = pd.read_csv('bike_agg_with_season_no.csv')\n",
    "#bike = pd.read_csv('bike_season_as_no.csv')\n",
    "bike.head()"
   ]
  },
  {
   "cell_type": "code",
   "execution_count": 152,
   "id": "d70054c7-7803-48a9-843e-a49f729c5c6f",
   "metadata": {},
   "outputs": [
    {
     "data": {
      "text/html": [
       "<div>\n",
       "<style scoped>\n",
       "    .dataframe tbody tr th:only-of-type {\n",
       "        vertical-align: middle;\n",
       "    }\n",
       "\n",
       "    .dataframe tbody tr th {\n",
       "        vertical-align: top;\n",
       "    }\n",
       "\n",
       "    .dataframe thead th {\n",
       "        text-align: right;\n",
       "    }\n",
       "</style>\n",
       "<table border=\"1\" class=\"dataframe\">\n",
       "  <thead>\n",
       "    <tr style=\"text-align: right;\">\n",
       "      <th></th>\n",
       "      <th>Unnamed: 0</th>\n",
       "      <th>temperature</th>\n",
       "      <th>rainfall</th>\n",
       "      <th>wind_speed</th>\n",
       "      <th>visibility</th>\n",
       "      <th>solar_radiation</th>\n",
       "      <th>humidity</th>\n",
       "    </tr>\n",
       "  </thead>\n",
       "  <tbody>\n",
       "    <tr>\n",
       "      <th>0</th>\n",
       "      <td>1</td>\n",
       "      <td>12.866667</td>\n",
       "      <td>0.0</td>\n",
       "      <td>3.008333</td>\n",
       "      <td>13315.416667</td>\n",
       "      <td>1.035833</td>\n",
       "      <td>53.375000</td>\n",
       "    </tr>\n",
       "    <tr>\n",
       "      <th>1</th>\n",
       "      <td>2</td>\n",
       "      <td>15.470833</td>\n",
       "      <td>0.0</td>\n",
       "      <td>2.254167</td>\n",
       "      <td>10999.583333</td>\n",
       "      <td>1.105417</td>\n",
       "      <td>65.833333</td>\n",
       "    </tr>\n",
       "    <tr>\n",
       "      <th>2</th>\n",
       "      <td>3</td>\n",
       "      <td>21.850000</td>\n",
       "      <td>0.0</td>\n",
       "      <td>1.329167</td>\n",
       "      <td>18191.250000</td>\n",
       "      <td>0.660417</td>\n",
       "      <td>59.666667</td>\n",
       "    </tr>\n",
       "    <tr>\n",
       "      <th>3</th>\n",
       "      <td>4</td>\n",
       "      <td>22.204167</td>\n",
       "      <td>0.2</td>\n",
       "      <td>0.950000</td>\n",
       "      <td>17292.083333</td>\n",
       "      <td>0.444167</td>\n",
       "      <td>59.750000</td>\n",
       "    </tr>\n",
       "    <tr>\n",
       "      <th>4</th>\n",
       "      <td>5</td>\n",
       "      <td>17.525000</td>\n",
       "      <td>0.0</td>\n",
       "      <td>1.295833</td>\n",
       "      <td>19993.333333</td>\n",
       "      <td>0.365000</td>\n",
       "      <td>57.291667</td>\n",
       "    </tr>\n",
       "  </tbody>\n",
       "</table>\n",
       "</div>"
      ],
      "text/plain": [
       "   Unnamed: 0  temperature  rainfall  wind_speed    visibility  \\\n",
       "0           1    12.866667       0.0    3.008333  13315.416667   \n",
       "1           2    15.470833       0.0    2.254167  10999.583333   \n",
       "2           3    21.850000       0.0    1.329167  18191.250000   \n",
       "3           4    22.204167       0.2    0.950000  17292.083333   \n",
       "4           5    17.525000       0.0    1.295833  19993.333333   \n",
       "\n",
       "   solar_radiation   humidity  \n",
       "0         1.035833  53.375000  \n",
       "1         1.105417  65.833333  \n",
       "2         0.660417  59.666667  \n",
       "3         0.444167  59.750000  \n",
       "4         0.365000  57.291667  "
      ]
     },
     "execution_count": 152,
     "metadata": {},
     "output_type": "execute_result"
    }
   ],
   "source": [
    "# As PCA is a unsupervised learning algorithm, we will drop the Season column\n",
    "# We will drop datetime and date as well since they are not numeric\n",
    "bike2 = bike.copy()\n",
    "#bike2.drop(columns = ['season','datetime','date','holiday','open','rent_count'],inplace=True)\n",
    "bike2.drop(columns = ['date','holiday','rent_count','season_no','season','snowfall','dewpoint_temp'],inplace=True)\n",
    "bike2.head()"
   ]
  },
  {
   "cell_type": "code",
   "execution_count": 193,
   "id": "2642c07c-e88e-4b02-9492-ec7aa5dac3c4",
   "metadata": {},
   "outputs": [
    {
     "data": {
      "text/html": [
       "<div>\n",
       "<style scoped>\n",
       "    .dataframe tbody tr th:only-of-type {\n",
       "        vertical-align: middle;\n",
       "    }\n",
       "\n",
       "    .dataframe tbody tr th {\n",
       "        vertical-align: top;\n",
       "    }\n",
       "\n",
       "    .dataframe thead th {\n",
       "        text-align: right;\n",
       "    }\n",
       "</style>\n",
       "<table border=\"1\" class=\"dataframe\">\n",
       "  <thead>\n",
       "    <tr style=\"text-align: right;\">\n",
       "      <th></th>\n",
       "      <th>temperature</th>\n",
       "      <th>rainfall</th>\n",
       "      <th>wind_speed</th>\n",
       "      <th>visibility</th>\n",
       "      <th>solar_radiation</th>\n",
       "      <th>humidity</th>\n",
       "    </tr>\n",
       "  </thead>\n",
       "  <tbody>\n",
       "    <tr>\n",
       "      <th>0</th>\n",
       "      <td>12.866667</td>\n",
       "      <td>0.0</td>\n",
       "      <td>3.008333</td>\n",
       "      <td>13315.416667</td>\n",
       "      <td>1.035833</td>\n",
       "      <td>53.375000</td>\n",
       "    </tr>\n",
       "    <tr>\n",
       "      <th>1</th>\n",
       "      <td>15.470833</td>\n",
       "      <td>0.0</td>\n",
       "      <td>2.254167</td>\n",
       "      <td>10999.583333</td>\n",
       "      <td>1.105417</td>\n",
       "      <td>65.833333</td>\n",
       "    </tr>\n",
       "    <tr>\n",
       "      <th>2</th>\n",
       "      <td>21.850000</td>\n",
       "      <td>0.0</td>\n",
       "      <td>1.329167</td>\n",
       "      <td>18191.250000</td>\n",
       "      <td>0.660417</td>\n",
       "      <td>59.666667</td>\n",
       "    </tr>\n",
       "    <tr>\n",
       "      <th>3</th>\n",
       "      <td>22.204167</td>\n",
       "      <td>0.2</td>\n",
       "      <td>0.950000</td>\n",
       "      <td>17292.083333</td>\n",
       "      <td>0.444167</td>\n",
       "      <td>59.750000</td>\n",
       "    </tr>\n",
       "    <tr>\n",
       "      <th>4</th>\n",
       "      <td>17.525000</td>\n",
       "      <td>0.0</td>\n",
       "      <td>1.295833</td>\n",
       "      <td>19993.333333</td>\n",
       "      <td>0.365000</td>\n",
       "      <td>57.291667</td>\n",
       "    </tr>\n",
       "  </tbody>\n",
       "</table>\n",
       "</div>"
      ],
      "text/plain": [
       "   temperature  rainfall  wind_speed    visibility  solar_radiation   humidity\n",
       "0    12.866667       0.0    3.008333  13315.416667         1.035833  53.375000\n",
       "1    15.470833       0.0    2.254167  10999.583333         1.105417  65.833333\n",
       "2    21.850000       0.0    1.329167  18191.250000         0.660417  59.666667\n",
       "3    22.204167       0.2    0.950000  17292.083333         0.444167  59.750000\n",
       "4    17.525000       0.0    1.295833  19993.333333         0.365000  57.291667"
      ]
     },
     "execution_count": 193,
     "metadata": {},
     "output_type": "execute_result"
    }
   ],
   "source": [
    "# remvove first column\n",
    "bike3 = bike2.iloc[: , 1:]\n",
    "bike3.head()"
   ]
  },
  {
   "cell_type": "code",
   "execution_count": 154,
   "id": "1422ab14-43a0-4b62-8435-d021c4b7fca0",
   "metadata": {},
   "outputs": [
    {
     "data": {
      "text/html": [
       "<div>\n",
       "<style scoped>\n",
       "    .dataframe tbody tr th:only-of-type {\n",
       "        vertical-align: middle;\n",
       "    }\n",
       "\n",
       "    .dataframe tbody tr th {\n",
       "        vertical-align: top;\n",
       "    }\n",
       "\n",
       "    .dataframe thead th {\n",
       "        text-align: right;\n",
       "    }\n",
       "</style>\n",
       "<table border=\"1\" class=\"dataframe\">\n",
       "  <thead>\n",
       "    <tr style=\"text-align: right;\">\n",
       "      <th></th>\n",
       "      <th>temperature</th>\n",
       "      <th>rainfall</th>\n",
       "      <th>wind_speed</th>\n",
       "      <th>visibility</th>\n",
       "      <th>solar_radiation</th>\n",
       "      <th>humidity</th>\n",
       "    </tr>\n",
       "  </thead>\n",
       "  <tbody>\n",
       "    <tr>\n",
       "      <th>count</th>\n",
       "      <td>13.000000</td>\n",
       "      <td>13.000000</td>\n",
       "      <td>13.000000</td>\n",
       "      <td>13.000000</td>\n",
       "      <td>13.000000</td>\n",
       "      <td>13.000000</td>\n",
       "    </tr>\n",
       "    <tr>\n",
       "      <th>mean</th>\n",
       "      <td>16.125962</td>\n",
       "      <td>3.092308</td>\n",
       "      <td>1.743040</td>\n",
       "      <td>15126.858974</td>\n",
       "      <td>0.571827</td>\n",
       "      <td>62.172619</td>\n",
       "    </tr>\n",
       "    <tr>\n",
       "      <th>std</th>\n",
       "      <td>3.555484</td>\n",
       "      <td>7.515147</td>\n",
       "      <td>0.754991</td>\n",
       "      <td>4895.070483</td>\n",
       "      <td>0.301859</td>\n",
       "      <td>10.529445</td>\n",
       "    </tr>\n",
       "    <tr>\n",
       "      <th>min</th>\n",
       "      <td>11.258333</td>\n",
       "      <td>0.000000</td>\n",
       "      <td>0.908333</td>\n",
       "      <td>4096.666667</td>\n",
       "      <td>0.000000</td>\n",
       "      <td>52.625000</td>\n",
       "    </tr>\n",
       "    <tr>\n",
       "      <th>25%</th>\n",
       "      <td>12.866667</td>\n",
       "      <td>0.000000</td>\n",
       "      <td>1.237500</td>\n",
       "      <td>11262.500000</td>\n",
       "      <td>0.370417</td>\n",
       "      <td>56.458333</td>\n",
       "    </tr>\n",
       "    <tr>\n",
       "      <th>50%</th>\n",
       "      <td>15.783333</td>\n",
       "      <td>0.000000</td>\n",
       "      <td>1.329167</td>\n",
       "      <td>17292.083333</td>\n",
       "      <td>0.566250</td>\n",
       "      <td>59.666667</td>\n",
       "    </tr>\n",
       "    <tr>\n",
       "      <th>75%</th>\n",
       "      <td>17.916667</td>\n",
       "      <td>0.000000</td>\n",
       "      <td>2.254167</td>\n",
       "      <td>19282.500000</td>\n",
       "      <td>0.706250</td>\n",
       "      <td>65.833333</td>\n",
       "    </tr>\n",
       "    <tr>\n",
       "      <th>max</th>\n",
       "      <td>22.204167</td>\n",
       "      <td>21.000000</td>\n",
       "      <td>3.054167</td>\n",
       "      <td>19993.333333</td>\n",
       "      <td>1.105417</td>\n",
       "      <td>91.285714</td>\n",
       "    </tr>\n",
       "  </tbody>\n",
       "</table>\n",
       "</div>"
      ],
      "text/plain": [
       "       temperature   rainfall  wind_speed    visibility  solar_radiation  \\\n",
       "count    13.000000  13.000000   13.000000     13.000000        13.000000   \n",
       "mean     16.125962   3.092308    1.743040  15126.858974         0.571827   \n",
       "std       3.555484   7.515147    0.754991   4895.070483         0.301859   \n",
       "min      11.258333   0.000000    0.908333   4096.666667         0.000000   \n",
       "25%      12.866667   0.000000    1.237500  11262.500000         0.370417   \n",
       "50%      15.783333   0.000000    1.329167  17292.083333         0.566250   \n",
       "75%      17.916667   0.000000    2.254167  19282.500000         0.706250   \n",
       "max      22.204167  21.000000    3.054167  19993.333333         1.105417   \n",
       "\n",
       "        humidity  \n",
       "count  13.000000  \n",
       "mean   62.172619  \n",
       "std    10.529445  \n",
       "min    52.625000  \n",
       "25%    56.458333  \n",
       "50%    59.666667  \n",
       "75%    65.833333  \n",
       "max    91.285714  "
      ]
     },
     "execution_count": 154,
     "metadata": {},
     "output_type": "execute_result"
    }
   ],
   "source": [
    "bike3.describe()\n",
    "\n",
    "# we see each attributes have different ranges"
   ]
  },
  {
   "cell_type": "markdown",
   "id": "5b93fc9c-d1fa-4038-9ea6-72a6940ed8cd",
   "metadata": {},
   "source": [
    "CHECK DATA\n",
    "We want to check whether the data is suitable for PCA. We will use two tests, Bartlett's Sphericity Test and Kaiser Meyer Olkin (KMO) Test to check."
   ]
  },
  {
   "cell_type": "markdown",
   "id": "fb2cc5cd-76a8-4cf4-8f86-a07489e23067",
   "metadata": {},
   "source": [
    "Bartlett's Sphericity Test"
   ]
  },
  {
   "cell_type": "code",
   "execution_count": 155,
   "id": "bae940de-5bf7-4fd5-80bd-c3efc98b4a6b",
   "metadata": {},
   "outputs": [
    {
     "data": {
      "text/plain": [
       "3.488696088843934e-06"
      ]
     },
     "execution_count": 155,
     "metadata": {},
     "output_type": "execute_result"
    }
   ],
   "source": [
    "_ , p_value = calculate_bartlett_sphericity(bike3)\n",
    "p_value"
   ]
  },
  {
   "cell_type": "markdown",
   "id": "975df140-c8c4-47f1-8fee-7d0361a7b9e4",
   "metadata": {},
   "source": [
    "KMO Test"
   ]
  },
  {
   "cell_type": "code",
   "execution_count": 156,
   "id": "8fd29d3d-fbaa-4869-acf6-2cbe07c689ce",
   "metadata": {},
   "outputs": [
    {
     "data": {
      "text/plain": [
       "0.36967152322760427"
      ]
     },
     "execution_count": 156,
     "metadata": {},
     "output_type": "execute_result"
    }
   ],
   "source": [
    "_, kmo_score = calculate_kmo(bike3)\n",
    "kmo_score "
   ]
  },
  {
   "cell_type": "markdown",
   "id": "77f01489-31bc-47d8-84a6-6857f169ad16",
   "metadata": {},
   "source": [
    "We obtained a result < 0.05 for Bartlett's test and = 0.503 > 0.5 for KMO's. This means that conducting PCA on our data might be fruitful."
   ]
  },
  {
   "cell_type": "markdown",
   "id": "1d0110f6-431c-4cca-a737-0370e7a0217a",
   "metadata": {},
   "source": []
  },
  {
   "cell_type": "markdown",
   "id": "a6e6b455-b238-4c74-9774-c8eb811c7d7e",
   "metadata": {},
   "source": [
    "Scaling Data"
   ]
  },
  {
   "cell_type": "code",
   "execution_count": 157,
   "id": "f49ab7d7-2d77-4cb0-b96c-6dadf048af44",
   "metadata": {},
   "outputs": [],
   "source": [
    "#A common procedure is to centre each variable by subtracting its mean from every observation, and then rescale those \n",
    "#centred values as units of standard deviation. This is commonly called standardizing, normalizing, or Z scoring the data.\n",
    "colnames = list(bike3.columns)\n",
    "\n",
    "scaler = StandardScaler(with_mean=True,with_std=True)\n",
    "scaled_features = pd.DataFrame(scaler.fit_transform(bike3))\n",
    "\n",
    "scaled_features.columns = colnames"
   ]
  },
  {
   "cell_type": "code",
   "execution_count": 158,
   "id": "8af2b7d8-4a15-438b-bf0f-ea59357e5289",
   "metadata": {},
   "outputs": [
    {
     "data": {
      "text/html": [
       "<div>\n",
       "<style scoped>\n",
       "    .dataframe tbody tr th:only-of-type {\n",
       "        vertical-align: middle;\n",
       "    }\n",
       "\n",
       "    .dataframe tbody tr th {\n",
       "        vertical-align: top;\n",
       "    }\n",
       "\n",
       "    .dataframe thead th {\n",
       "        text-align: right;\n",
       "    }\n",
       "</style>\n",
       "<table border=\"1\" class=\"dataframe\">\n",
       "  <thead>\n",
       "    <tr style=\"text-align: right;\">\n",
       "      <th></th>\n",
       "      <th>temperature</th>\n",
       "      <th>rainfall</th>\n",
       "      <th>wind_speed</th>\n",
       "      <th>visibility</th>\n",
       "      <th>solar_radiation</th>\n",
       "      <th>humidity</th>\n",
       "    </tr>\n",
       "  </thead>\n",
       "  <tbody>\n",
       "    <tr>\n",
       "      <th>count</th>\n",
       "      <td>1.300000e+01</td>\n",
       "      <td>1.300000e+01</td>\n",
       "      <td>1.300000e+01</td>\n",
       "      <td>1.300000e+01</td>\n",
       "      <td>1.300000e+01</td>\n",
       "      <td>1.300000e+01</td>\n",
       "    </tr>\n",
       "    <tr>\n",
       "      <th>mean</th>\n",
       "      <td>-1.708035e-17</td>\n",
       "      <td>-3.416071e-17</td>\n",
       "      <td>1.708035e-17</td>\n",
       "      <td>2.818258e-16</td>\n",
       "      <td>-3.928481e-16</td>\n",
       "      <td>3.245267e-16</td>\n",
       "    </tr>\n",
       "    <tr>\n",
       "      <th>std</th>\n",
       "      <td>1.040833e+00</td>\n",
       "      <td>1.040833e+00</td>\n",
       "      <td>1.040833e+00</td>\n",
       "      <td>1.040833e+00</td>\n",
       "      <td>1.040833e+00</td>\n",
       "      <td>1.040833e+00</td>\n",
       "    </tr>\n",
       "    <tr>\n",
       "      <th>min</th>\n",
       "      <td>-1.424950e+00</td>\n",
       "      <td>-4.282785e-01</td>\n",
       "      <td>-1.150729e+00</td>\n",
       "      <td>-2.345337e+00</td>\n",
       "      <td>-1.971705e+00</td>\n",
       "      <td>-9.437797e-01</td>\n",
       "    </tr>\n",
       "    <tr>\n",
       "      <th>25%</th>\n",
       "      <td>-9.541266e-01</td>\n",
       "      <td>-4.282785e-01</td>\n",
       "      <td>-6.969390e-01</td>\n",
       "      <td>-8.216740e-01</td>\n",
       "      <td>-6.944786e-01</td>\n",
       "      <td>-5.648557e-01</td>\n",
       "    </tr>\n",
       "    <tr>\n",
       "      <th>50%</th>\n",
       "      <td>-1.003010e-01</td>\n",
       "      <td>-4.282785e-01</td>\n",
       "      <td>-5.705671e-01</td>\n",
       "      <td>4.603891e-01</td>\n",
       "      <td>-1.922967e-02</td>\n",
       "      <td>-2.477128e-01</td>\n",
       "    </tr>\n",
       "    <tr>\n",
       "      <th>75%</th>\n",
       "      <td>5.242114e-01</td>\n",
       "      <td>-4.282785e-01</td>\n",
       "      <td>7.046400e-01</td>\n",
       "      <td>8.836090e-01</td>\n",
       "      <td>4.635015e-01</td>\n",
       "      <td>3.618607e-01</td>\n",
       "    </tr>\n",
       "    <tr>\n",
       "      <th>max</th>\n",
       "      <td>1.779335e+00</td>\n",
       "      <td>2.480180e+00</td>\n",
       "      <td>1.807522e+00</td>\n",
       "      <td>1.034753e+00</td>\n",
       "      <td>1.839860e+00</td>\n",
       "      <td>2.877822e+00</td>\n",
       "    </tr>\n",
       "  </tbody>\n",
       "</table>\n",
       "</div>"
      ],
      "text/plain": [
       "        temperature      rainfall    wind_speed    visibility  \\\n",
       "count  1.300000e+01  1.300000e+01  1.300000e+01  1.300000e+01   \n",
       "mean  -1.708035e-17 -3.416071e-17  1.708035e-17  2.818258e-16   \n",
       "std    1.040833e+00  1.040833e+00  1.040833e+00  1.040833e+00   \n",
       "min   -1.424950e+00 -4.282785e-01 -1.150729e+00 -2.345337e+00   \n",
       "25%   -9.541266e-01 -4.282785e-01 -6.969390e-01 -8.216740e-01   \n",
       "50%   -1.003010e-01 -4.282785e-01 -5.705671e-01  4.603891e-01   \n",
       "75%    5.242114e-01 -4.282785e-01  7.046400e-01  8.836090e-01   \n",
       "max    1.779335e+00  2.480180e+00  1.807522e+00  1.034753e+00   \n",
       "\n",
       "       solar_radiation      humidity  \n",
       "count     1.300000e+01  1.300000e+01  \n",
       "mean     -3.928481e-16  3.245267e-16  \n",
       "std       1.040833e+00  1.040833e+00  \n",
       "min      -1.971705e+00 -9.437797e-01  \n",
       "25%      -6.944786e-01 -5.648557e-01  \n",
       "50%      -1.922967e-02 -2.477128e-01  \n",
       "75%       4.635015e-01  3.618607e-01  \n",
       "max       1.839860e+00  2.877822e+00  "
      ]
     },
     "execution_count": 158,
     "metadata": {},
     "output_type": "execute_result"
    }
   ],
   "source": [
    "scaled_features.describe()"
   ]
  },
  {
   "cell_type": "code",
   "execution_count": 159,
   "id": "47d52dec-a81e-40c1-b608-62f5445cbce5",
   "metadata": {},
   "outputs": [
    {
     "data": {
      "text/html": [
       "<div>\n",
       "<style scoped>\n",
       "    .dataframe tbody tr th:only-of-type {\n",
       "        vertical-align: middle;\n",
       "    }\n",
       "\n",
       "    .dataframe tbody tr th {\n",
       "        vertical-align: top;\n",
       "    }\n",
       "\n",
       "    .dataframe thead th {\n",
       "        text-align: right;\n",
       "    }\n",
       "</style>\n",
       "<table border=\"1\" class=\"dataframe\">\n",
       "  <thead>\n",
       "    <tr style=\"text-align: right;\">\n",
       "      <th></th>\n",
       "      <th>temperature</th>\n",
       "      <th>rainfall</th>\n",
       "      <th>wind_speed</th>\n",
       "      <th>visibility</th>\n",
       "      <th>solar_radiation</th>\n",
       "      <th>humidity</th>\n",
       "    </tr>\n",
       "  </thead>\n",
       "  <tbody>\n",
       "    <tr>\n",
       "      <th>temperature</th>\n",
       "      <td>1.000000</td>\n",
       "      <td>-0.201374</td>\n",
       "      <td>-0.354899</td>\n",
       "      <td>0.669312</td>\n",
       "      <td>-0.032878</td>\n",
       "      <td>-0.109509</td>\n",
       "    </tr>\n",
       "    <tr>\n",
       "      <th>rainfall</th>\n",
       "      <td>-0.201374</td>\n",
       "      <td>1.000000</td>\n",
       "      <td>0.610238</td>\n",
       "      <td>-0.238452</td>\n",
       "      <td>-0.557629</td>\n",
       "      <td>0.814964</td>\n",
       "    </tr>\n",
       "    <tr>\n",
       "      <th>wind_speed</th>\n",
       "      <td>-0.354899</td>\n",
       "      <td>0.610238</td>\n",
       "      <td>1.000000</td>\n",
       "      <td>-0.192706</td>\n",
       "      <td>0.235566</td>\n",
       "      <td>0.345392</td>\n",
       "    </tr>\n",
       "    <tr>\n",
       "      <th>visibility</th>\n",
       "      <td>0.669312</td>\n",
       "      <td>-0.238452</td>\n",
       "      <td>-0.192706</td>\n",
       "      <td>1.000000</td>\n",
       "      <td>0.049897</td>\n",
       "      <td>-0.454944</td>\n",
       "    </tr>\n",
       "    <tr>\n",
       "      <th>solar_radiation</th>\n",
       "      <td>-0.032878</td>\n",
       "      <td>-0.557629</td>\n",
       "      <td>0.235566</td>\n",
       "      <td>0.049897</td>\n",
       "      <td>1.000000</td>\n",
       "      <td>-0.548242</td>\n",
       "    </tr>\n",
       "    <tr>\n",
       "      <th>humidity</th>\n",
       "      <td>-0.109509</td>\n",
       "      <td>0.814964</td>\n",
       "      <td>0.345392</td>\n",
       "      <td>-0.454944</td>\n",
       "      <td>-0.548242</td>\n",
       "      <td>1.000000</td>\n",
       "    </tr>\n",
       "  </tbody>\n",
       "</table>\n",
       "</div>"
      ],
      "text/plain": [
       "                 temperature  rainfall  wind_speed  visibility  \\\n",
       "temperature         1.000000 -0.201374   -0.354899    0.669312   \n",
       "rainfall           -0.201374  1.000000    0.610238   -0.238452   \n",
       "wind_speed         -0.354899  0.610238    1.000000   -0.192706   \n",
       "visibility          0.669312 -0.238452   -0.192706    1.000000   \n",
       "solar_radiation    -0.032878 -0.557629    0.235566    0.049897   \n",
       "humidity           -0.109509  0.814964    0.345392   -0.454944   \n",
       "\n",
       "                 solar_radiation  humidity  \n",
       "temperature            -0.032878 -0.109509  \n",
       "rainfall               -0.557629  0.814964  \n",
       "wind_speed              0.235566  0.345392  \n",
       "visibility              0.049897 -0.454944  \n",
       "solar_radiation         1.000000 -0.548242  \n",
       "humidity               -0.548242  1.000000  "
      ]
     },
     "execution_count": 159,
     "metadata": {},
     "output_type": "execute_result"
    }
   ],
   "source": [
    "corr = scaled_features.corr()\n",
    "corr\n"
   ]
  },
  {
   "cell_type": "code",
   "execution_count": 160,
   "id": "5a08c5c9-5b95-4d97-a5a6-288b749c8f48",
   "metadata": {},
   "outputs": [
    {
     "data": {
      "text/plain": [
       "<AxesSubplot:>"
      ]
     },
     "execution_count": 160,
     "metadata": {},
     "output_type": "execute_result"
    },
    {
     "data": {
      "image/png": "[encoded data removed]",
      "text/plain": [
       "<Figure size 1440x720 with 2 Axes>"
      ]
     },
     "metadata": {},
     "output_type": "display_data"
    }
   ],
   "source": [
    "plt.subplots(figsize=(20, 10))\n",
    "# Generate a custom diverging colormap\n",
    "cmap = sns.diverging_palette(230, 20, as_cmap=True)\n",
    "\n",
    "mask = np.triu(np.ones_like(corr, dtype=bool))\n",
    "\n",
    "# Draw the heatmap with the mask and correct aspect ratio\n",
    "sns.heatmap(corr, mask=mask,cmap=cmap,vmax =0.7, center=0,\n",
    "            square=True, linewidths=.5, cbar_kws={\"shrink\": .5})"
   ]
  },
  {
   "cell_type": "markdown",
   "id": "7556b8f4-1953-4c65-8bbc-be6030413dfc",
   "metadata": {},
   "source": [
    "dewpoint_temperature and temperature are highly correlated at 0.913. May consider dropping either!"
   ]
  },
  {
   "cell_type": "markdown",
   "id": "a46ec189-ed34-4c9d-8a75-933f853764e0",
   "metadata": {},
   "source": [
    "CUMULATIVE VARIANCE AND SCREE PLOT"
   ]
  },
  {
   "cell_type": "code",
   "execution_count": 162,
   "id": "242e22ad-90a9-433f-b624-15cbc5924cfc",
   "metadata": {},
   "outputs": [
    {
     "data": {
      "text/plain": [
       "PCA(n_components=6)"
      ]
     },
     "execution_count": 162,
     "metadata": {},
     "output_type": "execute_result"
    }
   ],
   "source": [
    "#We will set n_components to 10\n",
    "\n",
    "N = 6\n",
    "pca = PCA(n_components=N)\n",
    "pca.fit(scaled_features)"
   ]
  },
  {
   "cell_type": "code",
   "execution_count": 163,
   "id": "089b3bdd-f117-47bb-98c0-2901b94a4ed0",
   "metadata": {},
   "outputs": [
    {
     "data": {
      "text/plain": [
       "array([0.46033073, 0.26414218, 0.17829471, 0.07718541, 0.01432052,\n",
       "       0.00572646])"
      ]
     },
     "execution_count": 163,
     "metadata": {},
     "output_type": "execute_result"
    }
   ],
   "source": [
    "#outputs an array of the variance explained by each component scaled to the total of 1.\n",
    "explained_variance_ratio = pca.explained_variance_ratio_\n",
    "explained_variance_ratio"
   ]
  },
  {
   "cell_type": "code",
   "execution_count": 164,
   "id": "4250d562-ae57-4d82-8d8d-44b1e967f38c",
   "metadata": {},
   "outputs": [
    {
     "data": {
      "text/plain": [
       "array([0.46 , 0.724, 0.902, 0.979, 0.993, 0.999])"
      ]
     },
     "execution_count": 164,
     "metadata": {},
     "output_type": "execute_result"
    }
   ],
   "source": [
    "# Cumulative sum of principal components i.e. Cumulative variance of 2 = PC1 variance + PC2 variance\n",
    "cumulative_variance = np.cumsum(np.round(explained_variance_ratio, decimals=3))\n",
    "cumulative_variance"
   ]
  },
  {
   "cell_type": "code",
   "execution_count": 165,
   "id": "120b5e53-7b1f-4d4a-a1ef-fce6adcaffed",
   "metadata": {},
   "outputs": [
    {
     "data": {
      "text/plain": [
       "<matplotlib.lines.Line2D at 0x7ff8ad759a30>"
      ]
     },
     "execution_count": 165,
     "metadata": {},
     "output_type": "execute_result"
    },
    {
     "data": {
      "image/png": "[encoded data removed]",
      "text/plain": [
       "<Figure size 720x504 with 1 Axes>"
      ]
     },
     "metadata": {},
     "output_type": "display_data"
    }
   ],
   "source": [
    "x = list(range(1,N+1))\n",
    "plt.figure(figsize=(10, 7)) \n",
    "plt.bar(x,explained_variance_ratio)\n",
    "plt.scatter(range(1,N+1),cumulative_variance)\n",
    "plt.plot(x,cumulative_variance)\n",
    "plt.title('Variance')\n",
    "plt.xlabel('PC Number')\n",
    "plt.ylabel('Proportion of Variance Explained by PC')\n",
    "plt.axhline(y=0.7, color = 'r')"
   ]
  },
  {
   "cell_type": "code",
   "execution_count": 166,
   "id": "424c03bf-8109-4b82-9498-e3d2ed108917",
   "metadata": {},
   "outputs": [
    {
     "data": {
      "image/png": "[encoded data removed]",
      "text/plain": [
       "<Figure size 720x504 with 1 Axes>"
      ]
     },
     "metadata": {},
     "output_type": "display_data"
    }
   ],
   "source": [
    "#Scree Plot \n",
    "plt.figure(figsize=(10, 7)) \n",
    "plt.scatter(range(1,N+1),pca.explained_variance_ratio_)\n",
    "plt.plot(range(1,N+1),pca.explained_variance_ratio_)\n",
    "plt.title('Scree Plot')\n",
    "plt.xlabel('PC Number')\n",
    "plt.ylabel('Variance Explained by PC')\n",
    "plt.grid()"
   ]
  },
  {
   "cell_type": "code",
   "execution_count": 167,
   "id": "1f17d0ce-89f6-4ed6-9d4d-752d67cfe74d",
   "metadata": {},
   "outputs": [
    {
     "data": {
      "text/plain": [
       "4"
      ]
     },
     "execution_count": 167,
     "metadata": {},
     "output_type": "execute_result"
    }
   ],
   "source": [
    "kl = KneeLocator(range(1, N+1), pca.explained_variance_ratio_, curve=\"convex\", direction=\"decreasing\")\n",
    "\n",
    "kl.elbow"
   ]
  },
  {
   "cell_type": "markdown",
   "id": "b847904b-037b-4a80-9427-4b6b4929f8ab",
   "metadata": {},
   "source": [
    "PCA on Scaled Features"
   ]
  },
  {
   "cell_type": "code",
   "execution_count": 209,
   "id": "26c25d56-fbfd-416d-bff2-0c4be6f4c998",
   "metadata": {},
   "outputs": [],
   "source": [
    "# factor analysis\n",
    "def evaluate_pcs(num_of_pcs,data):\n",
    "    def encode_vals(x): #helper functions to suppress loading less than 0.7 \n",
    "    #a gradual process to lead to this function\n",
    "    # if x<=-0.5, we drop the variable\n",
    "        if x <= -0.5 or x >= 0.5: #Adjust the threshold value \n",
    "            return x\n",
    "        else:\n",
    "            return(\"\")    \n",
    "    f = FactorAnalyzer(n_factors=num_of_pcs, method = 'principal',rotation='varimax') #Conduct PCA + varimax rotation to extract latent factors \n",
    "    f.fit(data)\n",
    "    loadings = pd.DataFrame(f.loadings_).set_index(data.columns)\n",
    "    loadings = loadings.applymap(encode_vals)\n",
    "    loadingcols= list(loadings.columns)\n",
    "    newcols = {}\n",
    "    for i in loadingcols:\n",
    "        newcols[i] = \"PC\" + str(i+1)\n",
    "    loadings.rename(columns = newcols,inplace=True)\n",
    "    \n",
    "    \n",
    "    df_pca = f.transform(data)\n",
    "    return loadings , df_pca\n",
    "\n",
    "# The following function generates the rotation matrix. Recall that we use\n",
    "# this matrix to determine if the PCs generated are easily understandable and appropriate.\n",
    "# The argument \"num_of_pcs\" specifies, the number of PCs we wish to generate."
   ]
  },
  {
   "cell_type": "code",
   "execution_count": 210,
   "id": "0acd1692-27e4-4918-bb13-1f7facd17ff2",
   "metadata": {},
   "outputs": [],
   "source": [
    "def CronbachAlpha(itemscores): #calculate the CronbachAlpha to see how closely related a set of items are as a group\n",
    "    itemscores = np.asarray(itemscores)\n",
    "    itemvars = itemscores.var(axis=0, ddof=1)\n",
    "    tscores = itemscores.sum(axis=1)\n",
    "    nitems = itemscores.shape[1]\n",
    "    return (nitems / (nitems-1)) * (1 - (itemvars.sum() / tscores.var(ddof=1)))"
   ]
  },
  {
   "cell_type": "code",
   "execution_count": 211,
   "id": "81bfe68f-ab07-429f-ae09-42ea441bc3ce",
   "metadata": {},
   "outputs": [
    {
     "data": {
      "text/html": [
       "<div>\n",
       "<style scoped>\n",
       "    .dataframe tbody tr th:only-of-type {\n",
       "        vertical-align: middle;\n",
       "    }\n",
       "\n",
       "    .dataframe tbody tr th {\n",
       "        vertical-align: top;\n",
       "    }\n",
       "\n",
       "    .dataframe thead th {\n",
       "        text-align: right;\n",
       "    }\n",
       "</style>\n",
       "<table border=\"1\" class=\"dataframe\">\n",
       "  <thead>\n",
       "    <tr style=\"text-align: right;\">\n",
       "      <th></th>\n",
       "      <th>PC1</th>\n",
       "      <th>PC2</th>\n",
       "    </tr>\n",
       "  </thead>\n",
       "  <tbody>\n",
       "    <tr>\n",
       "      <th>temperature</th>\n",
       "      <td></td>\n",
       "      <td>0.850865</td>\n",
       "    </tr>\n",
       "    <tr>\n",
       "      <th>rainfall</th>\n",
       "      <td>0.869047</td>\n",
       "      <td></td>\n",
       "    </tr>\n",
       "    <tr>\n",
       "      <th>wind_speed</th>\n",
       "      <td></td>\n",
       "      <td>-0.676453</td>\n",
       "    </tr>\n",
       "    <tr>\n",
       "      <th>visibility</th>\n",
       "      <td></td>\n",
       "      <td>0.775091</td>\n",
       "    </tr>\n",
       "    <tr>\n",
       "      <th>solar_radiation</th>\n",
       "      <td>-0.835047</td>\n",
       "      <td></td>\n",
       "    </tr>\n",
       "    <tr>\n",
       "      <th>humidity</th>\n",
       "      <td>0.871939</td>\n",
       "      <td></td>\n",
       "    </tr>\n",
       "  </tbody>\n",
       "</table>\n",
       "</div>"
      ],
      "text/plain": [
       "                      PC1       PC2\n",
       "temperature                0.850865\n",
       "rainfall         0.869047          \n",
       "wind_speed                -0.676453\n",
       "visibility                 0.775091\n",
       "solar_radiation -0.835047          \n",
       "humidity         0.871939          "
      ]
     },
     "execution_count": 211,
     "metadata": {},
     "output_type": "execute_result"
    }
   ],
   "source": [
    "pca_label, df_pca_array =evaluate_pcs(2,scaled_features[colnames])\n",
    "pca_label\n",
    "# from the elbow plot"
   ]
  },
  {
   "cell_type": "code",
   "execution_count": 212,
   "id": "971a6ff6-ae1c-4377-9b06-8a03a16fee02",
   "metadata": {},
   "outputs": [
    {
     "name": "stdout",
     "output_type": "stream",
     "text": [
      "0.8980499388853656\n",
      "0.8019015765922792\n"
     ]
    }
   ],
   "source": [
    "print(CronbachAlpha(scaled_features[['rainfall','humidity']])) #Reliability of PC1\n",
    "print(CronbachAlpha(scaled_features[['temperature','visibility']])) #Reliability of PC2\n",
    "\n",
    "#Reliability for all the features\n",
    "#If we had a diff sample, would we still get these 4PCs with the same features with high loadings\n",
    "\n",
    "\n",
    "# Now, on to test the reliability of the PCs using Cronbach's alpha, which is a\n",
    "# measure of the internal consistency of the PCs. The higher their internal\n",
    "# consistencies, the greater the chance the loadings generated using other\n",
    "# samples of this data will be similar.\n",
    "\n",
    "# Only first result is greater than our minimum requirement of 0.70. This means only\n",
    "# PC1 generated is reliable. Hence rerunning the pca with the respective variables remove is not helpful."
   ]
  },
  {
   "cell_type": "code",
   "execution_count": 213,
   "id": "756843be-4bd8-4937-8626-b0b969a07819",
   "metadata": {},
   "outputs": [
    {
     "data": {
      "text/html": [
       "<div>\n",
       "<style scoped>\n",
       "    .dataframe tbody tr th:only-of-type {\n",
       "        vertical-align: middle;\n",
       "    }\n",
       "\n",
       "    .dataframe tbody tr th {\n",
       "        vertical-align: top;\n",
       "    }\n",
       "\n",
       "    .dataframe thead th {\n",
       "        text-align: right;\n",
       "    }\n",
       "</style>\n",
       "<table border=\"1\" class=\"dataframe\">\n",
       "  <thead>\n",
       "    <tr style=\"text-align: right;\">\n",
       "      <th></th>\n",
       "      <th>PC1</th>\n",
       "      <th>PC2</th>\n",
       "    </tr>\n",
       "  </thead>\n",
       "  <tbody>\n",
       "    <tr>\n",
       "      <th>0</th>\n",
       "      <td>-1.303335</td>\n",
       "      <td>-1.453585</td>\n",
       "    </tr>\n",
       "    <tr>\n",
       "      <th>1</th>\n",
       "      <td>-0.859403</td>\n",
       "      <td>-1.074864</td>\n",
       "    </tr>\n",
       "    <tr>\n",
       "      <th>2</th>\n",
       "      <td>-0.121087</td>\n",
       "      <td>1.161916</td>\n",
       "    </tr>\n",
       "    <tr>\n",
       "      <th>3</th>\n",
       "      <td>0.217535</td>\n",
       "      <td>1.480141</td>\n",
       "    </tr>\n",
       "    <tr>\n",
       "      <th>4</th>\n",
       "      <td>0.058773</td>\n",
       "      <td>1.005360</td>\n",
       "    </tr>\n",
       "    <tr>\n",
       "      <th>5</th>\n",
       "      <td>-0.557284</td>\n",
       "      <td>0.408912</td>\n",
       "    </tr>\n",
       "    <tr>\n",
       "      <th>6</th>\n",
       "      <td>-0.512584</td>\n",
       "      <td>0.139103</td>\n",
       "    </tr>\n",
       "    <tr>\n",
       "      <th>7</th>\n",
       "      <td>-0.340622</td>\n",
       "      <td>0.914601</td>\n",
       "    </tr>\n",
       "    <tr>\n",
       "      <th>8</th>\n",
       "      <td>2.826118</td>\n",
       "      <td>-0.258139</td>\n",
       "    </tr>\n",
       "    <tr>\n",
       "      <th>9</th>\n",
       "      <td>-0.226280</td>\n",
       "      <td>0.755180</td>\n",
       "    </tr>\n",
       "    <tr>\n",
       "      <th>10</th>\n",
       "      <td>-0.590576</td>\n",
       "      <td>-0.713639</td>\n",
       "    </tr>\n",
       "    <tr>\n",
       "      <th>11</th>\n",
       "      <td>0.241357</td>\n",
       "      <td>-0.855155</td>\n",
       "    </tr>\n",
       "    <tr>\n",
       "      <th>12</th>\n",
       "      <td>1.167389</td>\n",
       "      <td>-1.509830</td>\n",
       "    </tr>\n",
       "  </tbody>\n",
       "</table>\n",
       "</div>"
      ],
      "text/plain": [
       "         PC1       PC2\n",
       "0  -1.303335 -1.453585\n",
       "1  -0.859403 -1.074864\n",
       "2  -0.121087  1.161916\n",
       "3   0.217535  1.480141\n",
       "4   0.058773  1.005360\n",
       "5  -0.557284  0.408912\n",
       "6  -0.512584  0.139103\n",
       "7  -0.340622  0.914601\n",
       "8   2.826118 -0.258139\n",
       "9  -0.226280  0.755180\n",
       "10 -0.590576 -0.713639\n",
       "11  0.241357 -0.855155\n",
       "12  1.167389 -1.509830"
      ]
     },
     "execution_count": 213,
     "metadata": {},
     "output_type": "execute_result"
    }
   ],
   "source": [
    "df_pca = pd.DataFrame(df_pca_array, columns =['PC1','PC2'])\n",
    "df_pca"
   ]
  },
  {
   "cell_type": "markdown",
   "id": "fd7307b2-afb7-43ab-b3f2-f764deaf7013",
   "metadata": {},
   "source": [
    "# Drop solar_radiation\n"
   ]
  },
  {
   "cell_type": "code",
   "execution_count": 214,
   "id": "3ffdccfe-bbce-44a6-8251-4eea231eb8b7",
   "metadata": {},
   "outputs": [
    {
     "data": {
      "text/html": [
       "<div>\n",
       "<style scoped>\n",
       "    .dataframe tbody tr th:only-of-type {\n",
       "        vertical-align: middle;\n",
       "    }\n",
       "\n",
       "    .dataframe tbody tr th {\n",
       "        vertical-align: top;\n",
       "    }\n",
       "\n",
       "    .dataframe thead th {\n",
       "        text-align: right;\n",
       "    }\n",
       "</style>\n",
       "<table border=\"1\" class=\"dataframe\">\n",
       "  <thead>\n",
       "    <tr style=\"text-align: right;\">\n",
       "      <th></th>\n",
       "      <th>temperature</th>\n",
       "      <th>rainfall</th>\n",
       "      <th>wind_speed</th>\n",
       "      <th>visibility</th>\n",
       "      <th>humidity</th>\n",
       "    </tr>\n",
       "  </thead>\n",
       "  <tbody>\n",
       "    <tr>\n",
       "      <th>0</th>\n",
       "      <td>12.866667</td>\n",
       "      <td>0.0</td>\n",
       "      <td>3.008333</td>\n",
       "      <td>13315.416667</td>\n",
       "      <td>53.375000</td>\n",
       "    </tr>\n",
       "    <tr>\n",
       "      <th>1</th>\n",
       "      <td>15.470833</td>\n",
       "      <td>0.0</td>\n",
       "      <td>2.254167</td>\n",
       "      <td>10999.583333</td>\n",
       "      <td>65.833333</td>\n",
       "    </tr>\n",
       "    <tr>\n",
       "      <th>2</th>\n",
       "      <td>21.850000</td>\n",
       "      <td>0.0</td>\n",
       "      <td>1.329167</td>\n",
       "      <td>18191.250000</td>\n",
       "      <td>59.666667</td>\n",
       "    </tr>\n",
       "    <tr>\n",
       "      <th>3</th>\n",
       "      <td>22.204167</td>\n",
       "      <td>0.2</td>\n",
       "      <td>0.950000</td>\n",
       "      <td>17292.083333</td>\n",
       "      <td>59.750000</td>\n",
       "    </tr>\n",
       "    <tr>\n",
       "      <th>4</th>\n",
       "      <td>17.525000</td>\n",
       "      <td>0.0</td>\n",
       "      <td>1.295833</td>\n",
       "      <td>19993.333333</td>\n",
       "      <td>57.291667</td>\n",
       "    </tr>\n",
       "    <tr>\n",
       "      <th>5</th>\n",
       "      <td>17.916667</td>\n",
       "      <td>0.0</td>\n",
       "      <td>2.025000</td>\n",
       "      <td>19282.500000</td>\n",
       "      <td>53.791667</td>\n",
       "    </tr>\n",
       "    <tr>\n",
       "      <th>6</th>\n",
       "      <td>15.783333</td>\n",
       "      <td>0.0</td>\n",
       "      <td>1.629167</td>\n",
       "      <td>18437.083333</td>\n",
       "      <td>60.791667</td>\n",
       "    </tr>\n",
       "    <tr>\n",
       "      <th>7</th>\n",
       "      <td>18.895833</td>\n",
       "      <td>0.0</td>\n",
       "      <td>1.287500</td>\n",
       "      <td>19561.250000</td>\n",
       "      <td>56.833333</td>\n",
       "    </tr>\n",
       "    <tr>\n",
       "      <th>8</th>\n",
       "      <td>16.700000</td>\n",
       "      <td>21.0</td>\n",
       "      <td>2.542857</td>\n",
       "      <td>13590.000000</td>\n",
       "      <td>91.285714</td>\n",
       "    </tr>\n",
       "    <tr>\n",
       "      <th>9</th>\n",
       "      <td>15.000000</td>\n",
       "      <td>0.0</td>\n",
       "      <td>1.137500</td>\n",
       "      <td>19925.833333</td>\n",
       "      <td>52.625000</td>\n",
       "    </tr>\n",
       "    <tr>\n",
       "      <th>10</th>\n",
       "      <td>11.258333</td>\n",
       "      <td>0.0</td>\n",
       "      <td>1.237500</td>\n",
       "      <td>10701.666667</td>\n",
       "      <td>56.458333</td>\n",
       "    </tr>\n",
       "    <tr>\n",
       "      <th>11</th>\n",
       "      <td>12.137500</td>\n",
       "      <td>0.0</td>\n",
       "      <td>0.908333</td>\n",
       "      <td>4096.666667</td>\n",
       "      <td>69.791667</td>\n",
       "    </tr>\n",
       "    <tr>\n",
       "      <th>12</th>\n",
       "      <td>12.029167</td>\n",
       "      <td>19.0</td>\n",
       "      <td>3.054167</td>\n",
       "      <td>11262.500000</td>\n",
       "      <td>70.750000</td>\n",
       "    </tr>\n",
       "  </tbody>\n",
       "</table>\n",
       "</div>"
      ],
      "text/plain": [
       "    temperature  rainfall  wind_speed    visibility   humidity\n",
       "0     12.866667       0.0    3.008333  13315.416667  53.375000\n",
       "1     15.470833       0.0    2.254167  10999.583333  65.833333\n",
       "2     21.850000       0.0    1.329167  18191.250000  59.666667\n",
       "3     22.204167       0.2    0.950000  17292.083333  59.750000\n",
       "4     17.525000       0.0    1.295833  19993.333333  57.291667\n",
       "5     17.916667       0.0    2.025000  19282.500000  53.791667\n",
       "6     15.783333       0.0    1.629167  18437.083333  60.791667\n",
       "7     18.895833       0.0    1.287500  19561.250000  56.833333\n",
       "8     16.700000      21.0    2.542857  13590.000000  91.285714\n",
       "9     15.000000       0.0    1.137500  19925.833333  52.625000\n",
       "10    11.258333       0.0    1.237500  10701.666667  56.458333\n",
       "11    12.137500       0.0    0.908333   4096.666667  69.791667\n",
       "12    12.029167      19.0    3.054167  11262.500000  70.750000"
      ]
     },
     "execution_count": 214,
     "metadata": {},
     "output_type": "execute_result"
    }
   ],
   "source": [
    "bike4 = bike3.copy()\n",
    "bike4.drop(columns = ['solar_radiation'], inplace = True)\n",
    "bike4"
   ]
  },
  {
   "cell_type": "code",
   "execution_count": 215,
   "id": "a7ee891c-e9b7-4ebe-ad7d-1a4aa29eaad1",
   "metadata": {},
   "outputs": [
    {
     "data": {
      "text/plain": [
       "9.834041410061497e-05"
      ]
     },
     "execution_count": 215,
     "metadata": {},
     "output_type": "execute_result"
    }
   ],
   "source": [
    "_ , p_value = calculate_bartlett_sphericity(bike4)\n",
    "p_value"
   ]
  },
  {
   "cell_type": "code",
   "execution_count": 216,
   "id": "7b67560b-92ca-49ea-9db0-454b3c5eb821",
   "metadata": {},
   "outputs": [
    {
     "data": {
      "text/plain": [
       "0.36967152322760427"
      ]
     },
     "execution_count": 216,
     "metadata": {},
     "output_type": "execute_result"
    }
   ],
   "source": [
    "_, kmo_score = calculate_kmo(bike3)\n",
    "kmo_score "
   ]
  },
  {
   "cell_type": "code",
   "execution_count": 217,
   "id": "fa2f1dd7-7293-439a-beda-7b0b3350681c",
   "metadata": {},
   "outputs": [],
   "source": [
    "colnames2 = list(bike4.columns)\n",
    "scaled_features2 = pd.DataFrame(scaler.fit_transform(bike4))\n",
    "\n",
    "scaled_features2.columns = colnames2"
   ]
  },
  {
   "cell_type": "code",
   "execution_count": 218,
   "id": "aa7a00a3-956a-455c-9e7b-445ec9a7b21d",
   "metadata": {},
   "outputs": [
    {
     "data": {
      "text/html": [
       "<div>\n",
       "<style scoped>\n",
       "    .dataframe tbody tr th:only-of-type {\n",
       "        vertical-align: middle;\n",
       "    }\n",
       "\n",
       "    .dataframe tbody tr th {\n",
       "        vertical-align: top;\n",
       "    }\n",
       "\n",
       "    .dataframe thead th {\n",
       "        text-align: right;\n",
       "    }\n",
       "</style>\n",
       "<table border=\"1\" class=\"dataframe\">\n",
       "  <thead>\n",
       "    <tr style=\"text-align: right;\">\n",
       "      <th></th>\n",
       "      <th>temperature</th>\n",
       "      <th>rainfall</th>\n",
       "      <th>wind_speed</th>\n",
       "      <th>visibility</th>\n",
       "      <th>humidity</th>\n",
       "    </tr>\n",
       "  </thead>\n",
       "  <tbody>\n",
       "    <tr>\n",
       "      <th>0</th>\n",
       "      <td>-0.954127</td>\n",
       "      <td>-0.428278</td>\n",
       "      <td>1.744336</td>\n",
       "      <td>-0.385165</td>\n",
       "      <td>-0.869642</td>\n",
       "    </tr>\n",
       "    <tr>\n",
       "      <th>1</th>\n",
       "      <td>-0.191782</td>\n",
       "      <td>-0.428278</td>\n",
       "      <td>0.704640</td>\n",
       "      <td>-0.877578</td>\n",
       "      <td>0.361861</td>\n",
       "    </tr>\n",
       "    <tr>\n",
       "      <th>2</th>\n",
       "      <td>1.675656</td>\n",
       "      <td>-0.428278</td>\n",
       "      <td>-0.570567</td>\n",
       "      <td>0.651578</td>\n",
       "      <td>-0.247713</td>\n",
       "    </tr>\n",
       "    <tr>\n",
       "      <th>3</th>\n",
       "      <td>1.779335</td>\n",
       "      <td>-0.400579</td>\n",
       "      <td>-1.093287</td>\n",
       "      <td>0.460389</td>\n",
       "      <td>-0.239475</td>\n",
       "    </tr>\n",
       "    <tr>\n",
       "      <th>4</th>\n",
       "      <td>0.409555</td>\n",
       "      <td>-0.428278</td>\n",
       "      <td>-0.616521</td>\n",
       "      <td>1.034753</td>\n",
       "      <td>-0.482481</td>\n",
       "    </tr>\n",
       "    <tr>\n",
       "      <th>5</th>\n",
       "      <td>0.524211</td>\n",
       "      <td>-0.428278</td>\n",
       "      <td>0.388710</td>\n",
       "      <td>0.883609</td>\n",
       "      <td>-0.828455</td>\n",
       "    </tr>\n",
       "    <tr>\n",
       "      <th>6</th>\n",
       "      <td>-0.100301</td>\n",
       "      <td>-0.428278</td>\n",
       "      <td>-0.156986</td>\n",
       "      <td>0.703849</td>\n",
       "      <td>-0.136507</td>\n",
       "    </tr>\n",
       "    <tr>\n",
       "      <th>7</th>\n",
       "      <td>0.810853</td>\n",
       "      <td>-0.428278</td>\n",
       "      <td>-0.628009</td>\n",
       "      <td>0.942879</td>\n",
       "      <td>-0.527787</td>\n",
       "    </tr>\n",
       "    <tr>\n",
       "      <th>8</th>\n",
       "      <td>0.168044</td>\n",
       "      <td>2.480180</td>\n",
       "      <td>1.102629</td>\n",
       "      <td>-0.326780</td>\n",
       "      <td>2.877822</td>\n",
       "    </tr>\n",
       "    <tr>\n",
       "      <th>9</th>\n",
       "      <td>-0.329614</td>\n",
       "      <td>-0.428278</td>\n",
       "      <td>-0.834799</td>\n",
       "      <td>1.020400</td>\n",
       "      <td>-0.943780</td>\n",
       "    </tr>\n",
       "    <tr>\n",
       "      <th>10</th>\n",
       "      <td>-1.424950</td>\n",
       "      <td>-0.428278</td>\n",
       "      <td>-0.696939</td>\n",
       "      <td>-0.940923</td>\n",
       "      <td>-0.564856</td>\n",
       "    </tr>\n",
       "    <tr>\n",
       "      <th>11</th>\n",
       "      <td>-1.167583</td>\n",
       "      <td>-0.428278</td>\n",
       "      <td>-1.150729</td>\n",
       "      <td>-2.345337</td>\n",
       "      <td>0.753141</td>\n",
       "    </tr>\n",
       "    <tr>\n",
       "      <th>12</th>\n",
       "      <td>-1.199297</td>\n",
       "      <td>2.203184</td>\n",
       "      <td>1.807522</td>\n",
       "      <td>-0.821674</td>\n",
       "      <td>0.847872</td>\n",
       "    </tr>\n",
       "  </tbody>\n",
       "</table>\n",
       "</div>"
      ],
      "text/plain": [
       "    temperature  rainfall  wind_speed  visibility  humidity\n",
       "0     -0.954127 -0.428278    1.744336   -0.385165 -0.869642\n",
       "1     -0.191782 -0.428278    0.704640   -0.877578  0.361861\n",
       "2      1.675656 -0.428278   -0.570567    0.651578 -0.247713\n",
       "3      1.779335 -0.400579   -1.093287    0.460389 -0.239475\n",
       "4      0.409555 -0.428278   -0.616521    1.034753 -0.482481\n",
       "5      0.524211 -0.428278    0.388710    0.883609 -0.828455\n",
       "6     -0.100301 -0.428278   -0.156986    0.703849 -0.136507\n",
       "7      0.810853 -0.428278   -0.628009    0.942879 -0.527787\n",
       "8      0.168044  2.480180    1.102629   -0.326780  2.877822\n",
       "9     -0.329614 -0.428278   -0.834799    1.020400 -0.943780\n",
       "10    -1.424950 -0.428278   -0.696939   -0.940923 -0.564856\n",
       "11    -1.167583 -0.428278   -1.150729   -2.345337  0.753141\n",
       "12    -1.199297  2.203184    1.807522   -0.821674  0.847872"
      ]
     },
     "execution_count": 218,
     "metadata": {},
     "output_type": "execute_result"
    }
   ],
   "source": [
    "scaled_features2"
   ]
  },
  {
   "cell_type": "code",
   "execution_count": 219,
   "id": "031fb1e1-7a9e-41c3-ab08-e0c8a6769505",
   "metadata": {},
   "outputs": [
    {
     "data": {
      "text/plain": [
       "array([0.52378695, 0.25457271, 0.15732778, 0.05064496, 0.0136676 ])"
      ]
     },
     "execution_count": 219,
     "metadata": {},
     "output_type": "execute_result"
    }
   ],
   "source": [
    "N = 5 # now max 8 variables\n",
    "model3 = PCA(n_components=N)\n",
    "model3.fit(scaled_features2)\n",
    "explained_variance3 = model3.explained_variance_ratio_ #Explained Variance Ratio for each Principal Component, sums to 1.\n",
    "\n",
    "explained_variance3"
   ]
  },
  {
   "cell_type": "code",
   "execution_count": 220,
   "id": "f190008a-b6e4-4e86-aac8-c41a49e9137a",
   "metadata": {},
   "outputs": [],
   "source": [
    "cumulative_variance3 = np.cumsum(np.round(explained_variance3, decimals=3))"
   ]
  },
  {
   "cell_type": "code",
   "execution_count": 221,
   "id": "7e570437-9f75-441f-bca3-191eccb1121d",
   "metadata": {},
   "outputs": [
    {
     "data": {
      "text/plain": [
       "<matplotlib.lines.Line2D at 0x7ff8aade7cd0>"
      ]
     },
     "execution_count": 221,
     "metadata": {},
     "output_type": "execute_result"
    },
    {
     "data": {
      "image/png": "[encoded data removed]",
      "text/plain": [
       "<Figure size 720x504 with 1 Axes>"
      ]
     },
     "metadata": {},
     "output_type": "display_data"
    }
   ],
   "source": [
    "x = list(range(1,N+1))\n",
    "plt.figure(figsize=(10, 7)) \n",
    "plt.bar(x,explained_variance3)\n",
    "plt.scatter(range(1,N+1),cumulative_variance3)\n",
    "plt.plot(x,cumulative_variance3)\n",
    "plt.title('Variance')\n",
    "plt.xlabel('PC Number')\n",
    "plt.ylabel('Proportion of Variance Explained by PC')\n",
    "plt.axhline(y=0.7, color='r')"
   ]
  },
  {
   "cell_type": "code",
   "execution_count": 222,
   "id": "a3bb4407-cbab-4725-bb2d-86bb2b2e9ff1",
   "metadata": {},
   "outputs": [
    {
     "data": {
      "image/png": "[encoded data removed]",
      "text/plain": [
       "<Figure size 720x504 with 1 Axes>"
      ]
     },
     "metadata": {},
     "output_type": "display_data"
    }
   ],
   "source": [
    "#Scree Plot \n",
    "plt.figure(figsize=(10, 7)) \n",
    "plt.scatter(range(1,N+1),explained_variance3)\n",
    "plt.plot(range(1,N+1),explained_variance3)\n",
    "plt.title('Scree Plot')\n",
    "plt.xlabel('PC Number')\n",
    "plt.ylabel('Variance Explained by PC')\n",
    "plt.grid()"
   ]
  },
  {
   "cell_type": "code",
   "execution_count": 223,
   "id": "5d96936c-95fd-4cce-8990-082898340f48",
   "metadata": {},
   "outputs": [
    {
     "data": {
      "text/html": [
       "<div>\n",
       "<style scoped>\n",
       "    .dataframe tbody tr th:only-of-type {\n",
       "        vertical-align: middle;\n",
       "    }\n",
       "\n",
       "    .dataframe tbody tr th {\n",
       "        vertical-align: top;\n",
       "    }\n",
       "\n",
       "    .dataframe thead th {\n",
       "        text-align: right;\n",
       "    }\n",
       "</style>\n",
       "<table border=\"1\" class=\"dataframe\">\n",
       "  <thead>\n",
       "    <tr style=\"text-align: right;\">\n",
       "      <th></th>\n",
       "      <th>PC1</th>\n",
       "      <th>PC2</th>\n",
       "    </tr>\n",
       "  </thead>\n",
       "  <tbody>\n",
       "    <tr>\n",
       "      <th>temperature</th>\n",
       "      <td></td>\n",
       "      <td>0.925991</td>\n",
       "    </tr>\n",
       "    <tr>\n",
       "      <th>rainfall</th>\n",
       "      <td>0.959465</td>\n",
       "      <td></td>\n",
       "    </tr>\n",
       "    <tr>\n",
       "      <th>wind_speed</th>\n",
       "      <td>0.677838</td>\n",
       "      <td></td>\n",
       "    </tr>\n",
       "    <tr>\n",
       "      <th>visibility</th>\n",
       "      <td></td>\n",
       "      <td>0.870596</td>\n",
       "    </tr>\n",
       "    <tr>\n",
       "      <th>humidity</th>\n",
       "      <td>0.870682</td>\n",
       "      <td></td>\n",
       "    </tr>\n",
       "  </tbody>\n",
       "</table>\n",
       "</div>"
      ],
      "text/plain": [
       "                  PC1       PC2\n",
       "temperature            0.925991\n",
       "rainfall     0.959465          \n",
       "wind_speed   0.677838          \n",
       "visibility             0.870596\n",
       "humidity     0.870682          "
      ]
     },
     "execution_count": 223,
     "metadata": {},
     "output_type": "execute_result"
    }
   ],
   "source": [
    "pca_label2, df_pca_array2 = evaluate_pcs(2,scaled_features2)\n",
    "pca_label2"
   ]
  },
  {
   "cell_type": "code",
   "execution_count": 224,
   "id": "d7cfbdee-7db4-48f9-8767-759ee88b6d43",
   "metadata": {},
   "outputs": [
    {
     "name": "stdout",
     "output_type": "stream",
     "text": [
      "0.8120515933788147\n",
      "0.8019015765922792\n"
     ]
    }
   ],
   "source": [
    "# 2 PCs\n",
    "print(CronbachAlpha(scaled_features[['rainfall','wind_speed','humidity']])) #Reliability of PC1\n",
    "print(CronbachAlpha(scaled_features[['temperature','visibility']])) #Reliability of PC2\n",
    "\n"
   ]
  },
  {
   "cell_type": "code",
   "execution_count": 225,
   "id": "4ad94b59-9feb-440c-924d-b96740e6ee74",
   "metadata": {},
   "outputs": [
    {
     "data": {
      "text/html": [
       "<div>\n",
       "<style scoped>\n",
       "    .dataframe tbody tr th:only-of-type {\n",
       "        vertical-align: middle;\n",
       "    }\n",
       "\n",
       "    .dataframe tbody tr th {\n",
       "        vertical-align: top;\n",
       "    }\n",
       "\n",
       "    .dataframe thead th {\n",
       "        text-align: right;\n",
       "    }\n",
       "</style>\n",
       "<table border=\"1\" class=\"dataframe\">\n",
       "  <thead>\n",
       "    <tr style=\"text-align: right;\">\n",
       "      <th></th>\n",
       "      <th>PC1</th>\n",
       "      <th>PC2</th>\n",
       "    </tr>\n",
       "  </thead>\n",
       "  <tbody>\n",
       "    <tr>\n",
       "      <th>0</th>\n",
       "      <td>-0.186354</td>\n",
       "      <td>-0.942133</td>\n",
       "    </tr>\n",
       "    <tr>\n",
       "      <th>1</th>\n",
       "      <td>0.090852</td>\n",
       "      <td>-0.630949</td>\n",
       "    </tr>\n",
       "    <tr>\n",
       "      <th>2</th>\n",
       "      <td>-0.225784</td>\n",
       "      <td>1.284694</td>\n",
       "    </tr>\n",
       "    <tr>\n",
       "      <th>3</th>\n",
       "      <td>-0.362079</td>\n",
       "      <td>1.264423</td>\n",
       "    </tr>\n",
       "    <tr>\n",
       "      <th>4</th>\n",
       "      <td>-0.484667</td>\n",
       "      <td>0.720504</td>\n",
       "    </tr>\n",
       "    <tr>\n",
       "      <th>5</th>\n",
       "      <td>-0.319548</td>\n",
       "      <td>0.653465</td>\n",
       "    </tr>\n",
       "    <tr>\n",
       "      <th>6</th>\n",
       "      <td>-0.285559</td>\n",
       "      <td>0.253184</td>\n",
       "    </tr>\n",
       "    <tr>\n",
       "      <th>7</th>\n",
       "      <td>-0.458927</td>\n",
       "      <td>0.907154</td>\n",
       "    </tr>\n",
       "    <tr>\n",
       "      <th>8</th>\n",
       "      <td>2.714329</td>\n",
       "      <td>0.425969</td>\n",
       "    </tr>\n",
       "    <tr>\n",
       "      <th>9</th>\n",
       "      <td>-0.840395</td>\n",
       "      <td>0.246853</td>\n",
       "    </tr>\n",
       "    <tr>\n",
       "      <th>10</th>\n",
       "      <td>-0.881726</td>\n",
       "      <td>-1.422680</td>\n",
       "    </tr>\n",
       "    <tr>\n",
       "      <th>11</th>\n",
       "      <td>-0.503872</td>\n",
       "      <td>-1.907201</td>\n",
       "    </tr>\n",
       "    <tr>\n",
       "      <th>12</th>\n",
       "      <td>1.743730</td>\n",
       "      <td>-0.853282</td>\n",
       "    </tr>\n",
       "  </tbody>\n",
       "</table>\n",
       "</div>"
      ],
      "text/plain": [
       "         PC1       PC2\n",
       "0  -0.186354 -0.942133\n",
       "1   0.090852 -0.630949\n",
       "2  -0.225784  1.284694\n",
       "3  -0.362079  1.264423\n",
       "4  -0.484667  0.720504\n",
       "5  -0.319548  0.653465\n",
       "6  -0.285559  0.253184\n",
       "7  -0.458927  0.907154\n",
       "8   2.714329  0.425969\n",
       "9  -0.840395  0.246853\n",
       "10 -0.881726 -1.422680\n",
       "11 -0.503872 -1.907201\n",
       "12  1.743730 -0.853282"
      ]
     },
     "execution_count": 225,
     "metadata": {},
     "output_type": "execute_result"
    }
   ],
   "source": [
    "df_pca2 = pd.DataFrame(df_pca_array2, columns =['PC1','PC2'])\n",
    "df_pca2"
   ]
  },
  {
   "cell_type": "code",
   "execution_count": null,
   "id": "88f795ac-ac37-4cee-9c7b-d68e97df49ff",
   "metadata": {},
   "outputs": [],
   "source": []
  },
  {
   "cell_type": "code",
   "execution_count": null,
   "id": "c07e3419-c156-4e82-94c4-bad6119f82f1",
   "metadata": {},
   "outputs": [],
   "source": []
  }
 ],
 "metadata": {
  "kernelspec": {
   "display_name": "Python 3 (ipykernel)",
   "language": "python",
   "name": "python3"
  },
  "language_info": {
   "codemirror_mode": {
    "name": "ipython",
    "version": 3
   },
   "file_extension": ".py",
   "mimetype": "text/x-python",
   "name": "python",
   "nbconvert_exporter": "python",
   "pygments_lexer": "ipython3",
   "version": "3.8.5"
  },
  "toc-autonumbering": true,
  "toc-showmarkdowntxt": true
 },
 "nbformat": 4,
 "nbformat_minor": 5
}
