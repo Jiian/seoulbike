{
 "cells": [
  {
   "cell_type": "code",
   "execution_count": 1,
   "id": "4e1f18e0-11d4-45b4-9831-0de9854a13c5",
   "metadata": {},
   "outputs": [
    {
     "data": {
      "text/plain": [
       "'\\n!pip -q install yellowbrick==1.3\\n\\n!pip -q install kneed\\n!pip -q install factor_analyzer\\n!pip -q install seaborn\\n'"
      ]
     },
     "execution_count": 1,
     "metadata": {},
     "output_type": "execute_result"
    }
   ],
   "source": [
    "\"\"\"\n",
    "!pip -q install yellowbrick==1.3\n",
    "\n",
    "!pip -q install kneed\n",
    "!pip -q install factor_analyzer\n",
    "!pip -q install seaborn\n",
    "\"\"\""
   ]
  },
  {
   "cell_type": "code",
   "execution_count": 2,
   "id": "24b8233e-0bdc-4bf1-be31-3cc8e1980787",
   "metadata": {},
   "outputs": [],
   "source": [
    "import pandas as pd\n",
    "import numpy as np\n",
    "import seaborn as sns\n",
    "import matplotlib.pyplot as plt\n",
    "from sklearn.preprocessing import StandardScaler\n",
    "from sklearn.decomposition import PCA\n",
    "from factor_analyzer import FactorAnalyzer\n",
    "from yellowbrick.features import PCA as YBPCA\n",
    "from kneed import KneeLocator\n",
    "from factor_analyzer.factor_analyzer import calculate_bartlett_sphericity\n",
    "from factor_analyzer.factor_analyzer import calculate_kmo\n",
    "#import plotly.express as px"
   ]
  },
  {
   "cell_type": "code",
   "execution_count": 91,
   "id": "26c25d56-fbfd-416d-bff2-0c4be6f4c998",
   "metadata": {},
   "outputs": [],
   "source": [
    "# factor analysis\n",
    "def evaluate_pcs(num_of_pcs,data):\n",
    "    def encode_vals(x): #helper functions to suppress loading less than 0.7 \n",
    "    #a gradual process to lead to this function\n",
    "    # if x<=-0.5, we drop the variable\n",
    "        if x <= -0.8 or x >= 0.5: #Adjust the threshold value \n",
    "            return x\n",
    "        else:\n",
    "            return(\"\")    \n",
    "    f = FactorAnalyzer(n_factors=num_of_pcs, method = 'principal',rotation='varimax') #Conduct PCA + varimax rotation to extract latent factors \n",
    "    f.fit(data)\n",
    "    loadings = pd.DataFrame(f.loadings_).set_index(data.columns)\n",
    "    loadings = loadings.applymap(encode_vals)\n",
    "    loadingcols= list(loadings.columns)\n",
    "    newcols = {}\n",
    "    for i in loadingcols:\n",
    "        newcols[i] = \"PC\" + str(i+1)\n",
    "    loadings.rename(columns = newcols,inplace=True)\n",
    "    \n",
    "    \n",
    "    df_pca = f.transform(data)\n",
    "    return loadings , df_pca\n",
    "\n",
    "# The following function generates the rotation matrix. Recall that we use\n",
    "# this matrix to determine if the PCs generated are easily understandable and appropriate.\n",
    "# The argument \"num_of_pcs\" specifies, the number of PCs we wish to generate."
   ]
  },
  {
   "cell_type": "code",
   "execution_count": 92,
   "id": "51118890-c10b-4ec6-bf2e-44c5c4cc7b75",
   "metadata": {},
   "outputs": [],
   "source": [
    "def CronbachAlpha(itemscores): #calculate the CronbachAlpha to see how closely related a set of items are as a group\n",
    "    itemscores = np.asarray(itemscores)\n",
    "    itemvars = itemscores.var(axis=0, ddof=1)\n",
    "    tscores = itemscores.sum(axis=1)\n",
    "    nitems = itemscores.shape[1]\n",
    "    return (nitems / (nitems-1)) * (1 - (itemvars.sum() / tscores.var(ddof=1)))"
   ]
  },
  {
   "cell_type": "code",
   "execution_count": 93,
   "id": "cf0defc8-9a9c-4f10-b00c-da6ff240e947",
   "metadata": {},
   "outputs": [
    {
     "data": {
      "text/html": [
       "<div>\n",
       "<style scoped>\n",
       "    .dataframe tbody tr th:only-of-type {\n",
       "        vertical-align: middle;\n",
       "    }\n",
       "\n",
       "    .dataframe tbody tr th {\n",
       "        vertical-align: top;\n",
       "    }\n",
       "\n",
       "    .dataframe thead th {\n",
       "        text-align: right;\n",
       "    }\n",
       "</style>\n",
       "<table border=\"1\" class=\"dataframe\">\n",
       "  <thead>\n",
       "    <tr style=\"text-align: right;\">\n",
       "      <th></th>\n",
       "      <th>Unnamed: 0</th>\n",
       "      <th>date</th>\n",
       "      <th>rent_count</th>\n",
       "      <th>temperature</th>\n",
       "      <th>rainfall</th>\n",
       "      <th>snowfall</th>\n",
       "      <th>wind_speed</th>\n",
       "      <th>visibility</th>\n",
       "      <th>solar_radiation</th>\n",
       "      <th>dewpoint_temp</th>\n",
       "      <th>humidity</th>\n",
       "      <th>season</th>\n",
       "      <th>holiday</th>\n",
       "      <th>season_no</th>\n",
       "    </tr>\n",
       "  </thead>\n",
       "  <tbody>\n",
       "    <tr>\n",
       "      <th>0</th>\n",
       "      <td>1</td>\n",
       "      <td>2017-12-01</td>\n",
       "      <td>9539</td>\n",
       "      <td>-1.10</td>\n",
       "      <td>0.0</td>\n",
       "      <td>0</td>\n",
       "      <td>1.4</td>\n",
       "      <td>20000</td>\n",
       "      <td>0.0</td>\n",
       "      <td>-17.40</td>\n",
       "      <td>37.5</td>\n",
       "      <td>Winter</td>\n",
       "      <td>No Holiday</td>\n",
       "      <td>4</td>\n",
       "    </tr>\n",
       "    <tr>\n",
       "      <th>1</th>\n",
       "      <td>2</td>\n",
       "      <td>2017-12-02</td>\n",
       "      <td>8523</td>\n",
       "      <td>2.70</td>\n",
       "      <td>0.0</td>\n",
       "      <td>0</td>\n",
       "      <td>1.6</td>\n",
       "      <td>14410</td>\n",
       "      <td>0.0</td>\n",
       "      <td>-5.55</td>\n",
       "      <td>55.5</td>\n",
       "      <td>Winter</td>\n",
       "      <td>No Holiday</td>\n",
       "      <td>4</td>\n",
       "    </tr>\n",
       "    <tr>\n",
       "      <th>2</th>\n",
       "      <td>3</td>\n",
       "      <td>2017-12-03</td>\n",
       "      <td>7222</td>\n",
       "      <td>4.35</td>\n",
       "      <td>4.0</td>\n",
       "      <td>0</td>\n",
       "      <td>1.6</td>\n",
       "      <td>3380</td>\n",
       "      <td>0.0</td>\n",
       "      <td>2.65</td>\n",
       "      <td>84.5</td>\n",
       "      <td>Winter</td>\n",
       "      <td>No Holiday</td>\n",
       "      <td>4</td>\n",
       "    </tr>\n",
       "    <tr>\n",
       "      <th>3</th>\n",
       "      <td>4</td>\n",
       "      <td>2017-12-04</td>\n",
       "      <td>8729</td>\n",
       "      <td>-0.25</td>\n",
       "      <td>0.1</td>\n",
       "      <td>0</td>\n",
       "      <td>3.6</td>\n",
       "      <td>19130</td>\n",
       "      <td>0.0</td>\n",
       "      <td>-12.95</td>\n",
       "      <td>43.5</td>\n",
       "      <td>Winter</td>\n",
       "      <td>No Holiday</td>\n",
       "      <td>4</td>\n",
       "    </tr>\n",
       "    <tr>\n",
       "      <th>4</th>\n",
       "      <td>5</td>\n",
       "      <td>2017-12-05</td>\n",
       "      <td>8307</td>\n",
       "      <td>-3.80</td>\n",
       "      <td>0.0</td>\n",
       "      <td>0</td>\n",
       "      <td>0.0</td>\n",
       "      <td>20000</td>\n",
       "      <td>0.0</td>\n",
       "      <td>-17.70</td>\n",
       "      <td>34.5</td>\n",
       "      <td>Winter</td>\n",
       "      <td>No Holiday</td>\n",
       "      <td>4</td>\n",
       "    </tr>\n",
       "  </tbody>\n",
       "</table>\n",
       "</div>"
      ],
      "text/plain": [
       "   Unnamed: 0        date  rent_count  temperature  rainfall  snowfall  \\\n",
       "0           1  2017-12-01        9539        -1.10       0.0         0   \n",
       "1           2  2017-12-02        8523         2.70       0.0         0   \n",
       "2           3  2017-12-03        7222         4.35       4.0         0   \n",
       "3           4  2017-12-04        8729        -0.25       0.1         0   \n",
       "4           5  2017-12-05        8307        -3.80       0.0         0   \n",
       "\n",
       "   wind_speed  visibility  solar_radiation  dewpoint_temp  humidity  season  \\\n",
       "0         1.4       20000              0.0         -17.40      37.5  Winter   \n",
       "1         1.6       14410              0.0          -5.55      55.5  Winter   \n",
       "2         1.6        3380              0.0           2.65      84.5  Winter   \n",
       "3         3.6       19130              0.0         -12.95      43.5  Winter   \n",
       "4         0.0       20000              0.0         -17.70      34.5  Winter   \n",
       "\n",
       "      holiday  season_no  \n",
       "0  No Holiday          4  \n",
       "1  No Holiday          4  \n",
       "2  No Holiday          4  \n",
       "3  No Holiday          4  \n",
       "4  No Holiday          4  "
      ]
     },
     "execution_count": 93,
     "metadata": {},
     "output_type": "execute_result"
    }
   ],
   "source": [
    "bike = pd.read_csv('bike_agg_with_season_no.csv')\n",
    "bike.head()"
   ]
  },
  {
   "cell_type": "markdown",
   "id": "ac0ae528-e16f-4a1b-9c82-4e51026dd0eb",
   "metadata": {
    "tags": []
   },
   "source": [
    "# 1st Run: \n",
    "Dropped snowfall after multiple pca tests with snowfall not in any of components."
   ]
  },
  {
   "cell_type": "code",
   "execution_count": 94,
   "id": "d70054c7-7803-48a9-843e-a49f729c5c6f",
   "metadata": {},
   "outputs": [
    {
     "data": {
      "text/html": [
       "<div>\n",
       "<style scoped>\n",
       "    .dataframe tbody tr th:only-of-type {\n",
       "        vertical-align: middle;\n",
       "    }\n",
       "\n",
       "    .dataframe tbody tr th {\n",
       "        vertical-align: top;\n",
       "    }\n",
       "\n",
       "    .dataframe thead th {\n",
       "        text-align: right;\n",
       "    }\n",
       "</style>\n",
       "<table border=\"1\" class=\"dataframe\">\n",
       "  <thead>\n",
       "    <tr style=\"text-align: right;\">\n",
       "      <th></th>\n",
       "      <th>Unnamed: 0</th>\n",
       "      <th>temperature</th>\n",
       "      <th>rainfall</th>\n",
       "      <th>wind_speed</th>\n",
       "      <th>visibility</th>\n",
       "      <th>solar_radiation</th>\n",
       "      <th>dewpoint_temp</th>\n",
       "      <th>humidity</th>\n",
       "    </tr>\n",
       "  </thead>\n",
       "  <tbody>\n",
       "    <tr>\n",
       "      <th>0</th>\n",
       "      <td>1</td>\n",
       "      <td>-1.10</td>\n",
       "      <td>0.0</td>\n",
       "      <td>1.4</td>\n",
       "      <td>20000</td>\n",
       "      <td>0.0</td>\n",
       "      <td>-17.40</td>\n",
       "      <td>37.5</td>\n",
       "    </tr>\n",
       "    <tr>\n",
       "      <th>1</th>\n",
       "      <td>2</td>\n",
       "      <td>2.70</td>\n",
       "      <td>0.0</td>\n",
       "      <td>1.6</td>\n",
       "      <td>14410</td>\n",
       "      <td>0.0</td>\n",
       "      <td>-5.55</td>\n",
       "      <td>55.5</td>\n",
       "    </tr>\n",
       "    <tr>\n",
       "      <th>2</th>\n",
       "      <td>3</td>\n",
       "      <td>4.35</td>\n",
       "      <td>4.0</td>\n",
       "      <td>1.6</td>\n",
       "      <td>3380</td>\n",
       "      <td>0.0</td>\n",
       "      <td>2.65</td>\n",
       "      <td>84.5</td>\n",
       "    </tr>\n",
       "    <tr>\n",
       "      <th>3</th>\n",
       "      <td>4</td>\n",
       "      <td>-0.25</td>\n",
       "      <td>0.1</td>\n",
       "      <td>3.6</td>\n",
       "      <td>19130</td>\n",
       "      <td>0.0</td>\n",
       "      <td>-12.95</td>\n",
       "      <td>43.5</td>\n",
       "    </tr>\n",
       "    <tr>\n",
       "      <th>4</th>\n",
       "      <td>5</td>\n",
       "      <td>-3.80</td>\n",
       "      <td>0.0</td>\n",
       "      <td>0.0</td>\n",
       "      <td>20000</td>\n",
       "      <td>0.0</td>\n",
       "      <td>-17.70</td>\n",
       "      <td>34.5</td>\n",
       "    </tr>\n",
       "  </tbody>\n",
       "</table>\n",
       "</div>"
      ],
      "text/plain": [
       "   Unnamed: 0  temperature  rainfall  wind_speed  visibility  solar_radiation  \\\n",
       "0           1        -1.10       0.0         1.4       20000              0.0   \n",
       "1           2         2.70       0.0         1.6       14410              0.0   \n",
       "2           3         4.35       4.0         1.6        3380              0.0   \n",
       "3           4        -0.25       0.1         3.6       19130              0.0   \n",
       "4           5        -3.80       0.0         0.0       20000              0.0   \n",
       "\n",
       "   dewpoint_temp  humidity  \n",
       "0         -17.40      37.5  \n",
       "1          -5.55      55.5  \n",
       "2           2.65      84.5  \n",
       "3         -12.95      43.5  \n",
       "4         -17.70      34.5  "
      ]
     },
     "execution_count": 94,
     "metadata": {},
     "output_type": "execute_result"
    }
   ],
   "source": [
    "# As PCA is a unsupervised learning algorithm, we will drop the Season column\n",
    "# We will drop datetime and date as well since they are not numeric\n",
    "bike2 = bike.copy()\n",
    "bike2.drop(columns = ['date','holiday','rent_count','season_no','season','snowfall'],inplace=True)\n",
    "bike2.head()"
   ]
  },
  {
   "cell_type": "code",
   "execution_count": 95,
   "id": "2642c07c-e88e-4b02-9492-ec7aa5dac3c4",
   "metadata": {},
   "outputs": [
    {
     "data": {
      "text/html": [
       "<div>\n",
       "<style scoped>\n",
       "    .dataframe tbody tr th:only-of-type {\n",
       "        vertical-align: middle;\n",
       "    }\n",
       "\n",
       "    .dataframe tbody tr th {\n",
       "        vertical-align: top;\n",
       "    }\n",
       "\n",
       "    .dataframe thead th {\n",
       "        text-align: right;\n",
       "    }\n",
       "</style>\n",
       "<table border=\"1\" class=\"dataframe\">\n",
       "  <thead>\n",
       "    <tr style=\"text-align: right;\">\n",
       "      <th></th>\n",
       "      <th>temperature</th>\n",
       "      <th>rainfall</th>\n",
       "      <th>wind_speed</th>\n",
       "      <th>visibility</th>\n",
       "      <th>solar_radiation</th>\n",
       "      <th>dewpoint_temp</th>\n",
       "      <th>humidity</th>\n",
       "    </tr>\n",
       "  </thead>\n",
       "  <tbody>\n",
       "    <tr>\n",
       "      <th>0</th>\n",
       "      <td>-1.10</td>\n",
       "      <td>0.0</td>\n",
       "      <td>1.4</td>\n",
       "      <td>20000</td>\n",
       "      <td>0.0</td>\n",
       "      <td>-17.40</td>\n",
       "      <td>37.5</td>\n",
       "    </tr>\n",
       "    <tr>\n",
       "      <th>1</th>\n",
       "      <td>2.70</td>\n",
       "      <td>0.0</td>\n",
       "      <td>1.6</td>\n",
       "      <td>14410</td>\n",
       "      <td>0.0</td>\n",
       "      <td>-5.55</td>\n",
       "      <td>55.5</td>\n",
       "    </tr>\n",
       "    <tr>\n",
       "      <th>2</th>\n",
       "      <td>4.35</td>\n",
       "      <td>4.0</td>\n",
       "      <td>1.6</td>\n",
       "      <td>3380</td>\n",
       "      <td>0.0</td>\n",
       "      <td>2.65</td>\n",
       "      <td>84.5</td>\n",
       "    </tr>\n",
       "    <tr>\n",
       "      <th>3</th>\n",
       "      <td>-0.25</td>\n",
       "      <td>0.1</td>\n",
       "      <td>3.6</td>\n",
       "      <td>19130</td>\n",
       "      <td>0.0</td>\n",
       "      <td>-12.95</td>\n",
       "      <td>43.5</td>\n",
       "    </tr>\n",
       "    <tr>\n",
       "      <th>4</th>\n",
       "      <td>-3.80</td>\n",
       "      <td>0.0</td>\n",
       "      <td>0.0</td>\n",
       "      <td>20000</td>\n",
       "      <td>0.0</td>\n",
       "      <td>-17.70</td>\n",
       "      <td>34.5</td>\n",
       "    </tr>\n",
       "  </tbody>\n",
       "</table>\n",
       "</div>"
      ],
      "text/plain": [
       "   temperature  rainfall  wind_speed  visibility  solar_radiation  \\\n",
       "0        -1.10       0.0         1.4       20000              0.0   \n",
       "1         2.70       0.0         1.6       14410              0.0   \n",
       "2         4.35       4.0         1.6        3380              0.0   \n",
       "3        -0.25       0.1         3.6       19130              0.0   \n",
       "4        -3.80       0.0         0.0       20000              0.0   \n",
       "\n",
       "   dewpoint_temp  humidity  \n",
       "0         -17.40      37.5  \n",
       "1          -5.55      55.5  \n",
       "2           2.65      84.5  \n",
       "3         -12.95      43.5  \n",
       "4         -17.70      34.5  "
      ]
     },
     "execution_count": 95,
     "metadata": {},
     "output_type": "execute_result"
    }
   ],
   "source": [
    "# remvove first column\n",
    "bike3 = bike2.iloc[: , 1:]\n",
    "bike3.head()"
   ]
  },
  {
   "cell_type": "code",
   "execution_count": 96,
   "id": "9c7fbf61-b8cf-4a72-94c6-c1e17570365c",
   "metadata": {
    "tags": []
   },
   "outputs": [
    {
     "data": {
      "text/plain": [
       "['temperature',\n",
       " 'rainfall',\n",
       " 'wind_speed',\n",
       " 'visibility',\n",
       " 'solar_radiation',\n",
       " 'dewpoint_temp',\n",
       " 'humidity']"
      ]
     },
     "execution_count": 96,
     "metadata": {},
     "output_type": "execute_result"
    }
   ],
   "source": [
    "list(bike3.columns)"
   ]
  },
  {
   "cell_type": "code",
   "execution_count": 97,
   "id": "1422ab14-43a0-4b62-8435-d021c4b7fca0",
   "metadata": {},
   "outputs": [
    {
     "data": {
      "text/html": [
       "<div>\n",
       "<style scoped>\n",
       "    .dataframe tbody tr th:only-of-type {\n",
       "        vertical-align: middle;\n",
       "    }\n",
       "\n",
       "    .dataframe tbody tr th {\n",
       "        vertical-align: top;\n",
       "    }\n",
       "\n",
       "    .dataframe thead th {\n",
       "        text-align: right;\n",
       "    }\n",
       "</style>\n",
       "<table border=\"1\" class=\"dataframe\">\n",
       "  <thead>\n",
       "    <tr style=\"text-align: right;\">\n",
       "      <th></th>\n",
       "      <th>temperature</th>\n",
       "      <th>rainfall</th>\n",
       "      <th>wind_speed</th>\n",
       "      <th>visibility</th>\n",
       "      <th>solar_radiation</th>\n",
       "      <th>dewpoint_temp</th>\n",
       "      <th>humidity</th>\n",
       "    </tr>\n",
       "  </thead>\n",
       "  <tbody>\n",
       "    <tr>\n",
       "      <th>count</th>\n",
       "      <td>353.000000</td>\n",
       "      <td>353.000000</td>\n",
       "      <td>353.000000</td>\n",
       "      <td>353.000000</td>\n",
       "      <td>353.000000</td>\n",
       "      <td>353.000000</td>\n",
       "      <td>353.000000</td>\n",
       "    </tr>\n",
       "    <tr>\n",
       "      <th>mean</th>\n",
       "      <td>12.606232</td>\n",
       "      <td>3.575921</td>\n",
       "      <td>1.640935</td>\n",
       "      <td>14681.076487</td>\n",
       "      <td>0.109589</td>\n",
       "      <td>3.850992</td>\n",
       "      <td>57.957507</td>\n",
       "    </tr>\n",
       "    <tr>\n",
       "      <th>std</th>\n",
       "      <td>11.568233</td>\n",
       "      <td>11.789868</td>\n",
       "      <td>0.661204</td>\n",
       "      <td>5578.420791</td>\n",
       "      <td>0.154109</td>\n",
       "      <td>13.194681</td>\n",
       "      <td>16.100348</td>\n",
       "    </tr>\n",
       "    <tr>\n",
       "      <th>min</th>\n",
       "      <td>-14.850000</td>\n",
       "      <td>0.000000</td>\n",
       "      <td>0.000000</td>\n",
       "      <td>2185.000000</td>\n",
       "      <td>0.000000</td>\n",
       "      <td>-27.900000</td>\n",
       "      <td>22.000000</td>\n",
       "    </tr>\n",
       "    <tr>\n",
       "      <th>25%</th>\n",
       "      <td>2.900000</td>\n",
       "      <td>0.000000</td>\n",
       "      <td>1.150000</td>\n",
       "      <td>9795.000000</td>\n",
       "      <td>0.000000</td>\n",
       "      <td>-5.350000</td>\n",
       "      <td>46.500000</td>\n",
       "    </tr>\n",
       "    <tr>\n",
       "      <th>50%</th>\n",
       "      <td>13.500000</td>\n",
       "      <td>0.000000</td>\n",
       "      <td>1.500000</td>\n",
       "      <td>16765.000000</td>\n",
       "      <td>0.015000</td>\n",
       "      <td>4.550000</td>\n",
       "      <td>56.000000</td>\n",
       "    </tr>\n",
       "    <tr>\n",
       "      <th>75%</th>\n",
       "      <td>22.400000</td>\n",
       "      <td>0.500000</td>\n",
       "      <td>1.950000</td>\n",
       "      <td>19875.000000</td>\n",
       "      <td>0.190000</td>\n",
       "      <td>15.200000</td>\n",
       "      <td>69.000000</td>\n",
       "    </tr>\n",
       "    <tr>\n",
       "      <th>max</th>\n",
       "      <td>33.100000</td>\n",
       "      <td>95.500000</td>\n",
       "      <td>4.000000</td>\n",
       "      <td>20000.000000</td>\n",
       "      <td>0.575000</td>\n",
       "      <td>25.000000</td>\n",
       "      <td>97.000000</td>\n",
       "    </tr>\n",
       "  </tbody>\n",
       "</table>\n",
       "</div>"
      ],
      "text/plain": [
       "       temperature    rainfall  wind_speed    visibility  solar_radiation  \\\n",
       "count   353.000000  353.000000  353.000000    353.000000       353.000000   \n",
       "mean     12.606232    3.575921    1.640935  14681.076487         0.109589   \n",
       "std      11.568233   11.789868    0.661204   5578.420791         0.154109   \n",
       "min     -14.850000    0.000000    0.000000   2185.000000         0.000000   \n",
       "25%       2.900000    0.000000    1.150000   9795.000000         0.000000   \n",
       "50%      13.500000    0.000000    1.500000  16765.000000         0.015000   \n",
       "75%      22.400000    0.500000    1.950000  19875.000000         0.190000   \n",
       "max      33.100000   95.500000    4.000000  20000.000000         0.575000   \n",
       "\n",
       "       dewpoint_temp    humidity  \n",
       "count     353.000000  353.000000  \n",
       "mean        3.850992   57.957507  \n",
       "std        13.194681   16.100348  \n",
       "min       -27.900000   22.000000  \n",
       "25%        -5.350000   46.500000  \n",
       "50%         4.550000   56.000000  \n",
       "75%        15.200000   69.000000  \n",
       "max        25.000000   97.000000  "
      ]
     },
     "execution_count": 97,
     "metadata": {},
     "output_type": "execute_result"
    }
   ],
   "source": [
    "bike3.describe()\n",
    "\n",
    "# we see each attributes have different ranges"
   ]
  },
  {
   "cell_type": "code",
   "execution_count": 98,
   "id": "bae940de-5bf7-4fd5-80bd-c3efc98b4a6b",
   "metadata": {},
   "outputs": [
    {
     "data": {
      "text/plain": [
       "0.0"
      ]
     },
     "execution_count": 98,
     "metadata": {},
     "output_type": "execute_result"
    }
   ],
   "source": [
    "_ , p_value = calculate_bartlett_sphericity(bike3)\n",
    "p_value"
   ]
  },
  {
   "cell_type": "code",
   "execution_count": 99,
   "id": "8fd29d3d-fbaa-4869-acf6-2cbe07c689ce",
   "metadata": {},
   "outputs": [
    {
     "data": {
      "text/plain": [
       "0.5265909108813215"
      ]
     },
     "execution_count": 99,
     "metadata": {},
     "output_type": "execute_result"
    }
   ],
   "source": [
    "_, kmo_score = calculate_kmo(bike3)\n",
    "kmo_score "
   ]
  },
  {
   "cell_type": "code",
   "execution_count": 100,
   "id": "f49ab7d7-2d77-4cb0-b96c-6dadf048af44",
   "metadata": {},
   "outputs": [],
   "source": [
    "#A common procedure is to centre each variable by subtracting its mean from every observation, and then rescale those \n",
    "#centred values as units of standard deviation. This is commonly called standardizing, normalizing, or Z scoring the data.\n",
    "colnames = list(bike3.columns)\n",
    "\n",
    "scaler = StandardScaler(with_mean=True,with_std=True)\n",
    "scaled_features = pd.DataFrame(scaler.fit_transform(bike3))\n",
    "\n",
    "scaled_features.columns = colnames"
   ]
  },
  {
   "cell_type": "code",
   "execution_count": 101,
   "id": "8af2b7d8-4a15-438b-bf0f-ea59357e5289",
   "metadata": {},
   "outputs": [
    {
     "data": {
      "text/html": [
       "<div>\n",
       "<style scoped>\n",
       "    .dataframe tbody tr th:only-of-type {\n",
       "        vertical-align: middle;\n",
       "    }\n",
       "\n",
       "    .dataframe tbody tr th {\n",
       "        vertical-align: top;\n",
       "    }\n",
       "\n",
       "    .dataframe thead th {\n",
       "        text-align: right;\n",
       "    }\n",
       "</style>\n",
       "<table border=\"1\" class=\"dataframe\">\n",
       "  <thead>\n",
       "    <tr style=\"text-align: right;\">\n",
       "      <th></th>\n",
       "      <th>temperature</th>\n",
       "      <th>rainfall</th>\n",
       "      <th>wind_speed</th>\n",
       "      <th>visibility</th>\n",
       "      <th>solar_radiation</th>\n",
       "      <th>dewpoint_temp</th>\n",
       "      <th>humidity</th>\n",
       "    </tr>\n",
       "  </thead>\n",
       "  <tbody>\n",
       "    <tr>\n",
       "      <th>count</th>\n",
       "      <td>3.530000e+02</td>\n",
       "      <td>353.000000</td>\n",
       "      <td>3.530000e+02</td>\n",
       "      <td>3.530000e+02</td>\n",
       "      <td>3.530000e+02</td>\n",
       "      <td>3.530000e+02</td>\n",
       "      <td>3.530000e+02</td>\n",
       "    </tr>\n",
       "    <tr>\n",
       "      <th>mean</th>\n",
       "      <td>-8.051476e-17</td>\n",
       "      <td>0.000000</td>\n",
       "      <td>-2.012869e-17</td>\n",
       "      <td>-8.051476e-17</td>\n",
       "      <td>-4.025738e-17</td>\n",
       "      <td>4.025738e-17</td>\n",
       "      <td>1.409008e-16</td>\n",
       "    </tr>\n",
       "    <tr>\n",
       "      <th>std</th>\n",
       "      <td>1.001419e+00</td>\n",
       "      <td>1.001419</td>\n",
       "      <td>1.001419e+00</td>\n",
       "      <td>1.001419e+00</td>\n",
       "      <td>1.001419e+00</td>\n",
       "      <td>1.001419e+00</td>\n",
       "      <td>1.001419e+00</td>\n",
       "    </tr>\n",
       "    <tr>\n",
       "      <th>min</th>\n",
       "      <td>-2.376785e+00</td>\n",
       "      <td>-0.303735</td>\n",
       "      <td>-2.485261e+00</td>\n",
       "      <td>-2.243254e+00</td>\n",
       "      <td>-7.121240e-01</td>\n",
       "      <td>-2.409763e+00</td>\n",
       "      <td>-2.236507e+00</td>\n",
       "    </tr>\n",
       "    <tr>\n",
       "      <th>25%</th>\n",
       "      <td>-8.402329e-01</td>\n",
       "      <td>-0.303735</td>\n",
       "      <td>-7.435405e-01</td>\n",
       "      <td>-8.771321e-01</td>\n",
       "      <td>-7.121240e-01</td>\n",
       "      <td>-6.983156e-01</td>\n",
       "      <td>-7.126412e-01</td>\n",
       "    </tr>\n",
       "    <tr>\n",
       "      <th>50%</th>\n",
       "      <td>7.737019e-02</td>\n",
       "      <td>-0.303735</td>\n",
       "      <td>-2.134515e-01</td>\n",
       "      <td>3.740990e-01</td>\n",
       "      <td>-6.146522e-01</td>\n",
       "      <td>5.305173e-02</td>\n",
       "      <td>-1.217542e-01</td>\n",
       "    </tr>\n",
       "    <tr>\n",
       "      <th>75%</th>\n",
       "      <td>8.478105e-01</td>\n",
       "      <td>-0.261266</td>\n",
       "      <td>4.680915e-01</td>\n",
       "      <td>9.323958e-01</td>\n",
       "      <td>5.225188e-01</td>\n",
       "      <td>8.613409e-01</td>\n",
       "      <td>6.868278e-01</td>\n",
       "    </tr>\n",
       "    <tr>\n",
       "      <th>max</th>\n",
       "      <td>1.774070e+00</td>\n",
       "      <td>7.807938</td>\n",
       "      <td>3.572899e+00</td>\n",
       "      <td>9.548354e-01</td>\n",
       "      <td>3.024295e+00</td>\n",
       "      <td>1.605119e+00</td>\n",
       "      <td>2.428389e+00</td>\n",
       "    </tr>\n",
       "  </tbody>\n",
       "</table>\n",
       "</div>"
      ],
      "text/plain": [
       "        temperature    rainfall    wind_speed    visibility  solar_radiation  \\\n",
       "count  3.530000e+02  353.000000  3.530000e+02  3.530000e+02     3.530000e+02   \n",
       "mean  -8.051476e-17    0.000000 -2.012869e-17 -8.051476e-17    -4.025738e-17   \n",
       "std    1.001419e+00    1.001419  1.001419e+00  1.001419e+00     1.001419e+00   \n",
       "min   -2.376785e+00   -0.303735 -2.485261e+00 -2.243254e+00    -7.121240e-01   \n",
       "25%   -8.402329e-01   -0.303735 -7.435405e-01 -8.771321e-01    -7.121240e-01   \n",
       "50%    7.737019e-02   -0.303735 -2.134515e-01  3.740990e-01    -6.146522e-01   \n",
       "75%    8.478105e-01   -0.261266  4.680915e-01  9.323958e-01     5.225188e-01   \n",
       "max    1.774070e+00    7.807938  3.572899e+00  9.548354e-01     3.024295e+00   \n",
       "\n",
       "       dewpoint_temp      humidity  \n",
       "count   3.530000e+02  3.530000e+02  \n",
       "mean    4.025738e-17  1.409008e-16  \n",
       "std     1.001419e+00  1.001419e+00  \n",
       "min    -2.409763e+00 -2.236507e+00  \n",
       "25%    -6.983156e-01 -7.126412e-01  \n",
       "50%     5.305173e-02 -1.217542e-01  \n",
       "75%     8.613409e-01  6.868278e-01  \n",
       "max     1.605119e+00  2.428389e+00  "
      ]
     },
     "execution_count": 101,
     "metadata": {},
     "output_type": "execute_result"
    }
   ],
   "source": [
    "scaled_features.describe()"
   ]
  },
  {
   "cell_type": "code",
   "execution_count": 102,
   "id": "47d52dec-a81e-40c1-b608-62f5445cbce5",
   "metadata": {},
   "outputs": [
    {
     "data": {
      "text/html": [
       "<div>\n",
       "<style scoped>\n",
       "    .dataframe tbody tr th:only-of-type {\n",
       "        vertical-align: middle;\n",
       "    }\n",
       "\n",
       "    .dataframe tbody tr th {\n",
       "        vertical-align: top;\n",
       "    }\n",
       "\n",
       "    .dataframe thead th {\n",
       "        text-align: right;\n",
       "    }\n",
       "</style>\n",
       "<table border=\"1\" class=\"dataframe\">\n",
       "  <thead>\n",
       "    <tr style=\"text-align: right;\">\n",
       "      <th></th>\n",
       "      <th>temperature</th>\n",
       "      <th>rainfall</th>\n",
       "      <th>wind_speed</th>\n",
       "      <th>visibility</th>\n",
       "      <th>solar_radiation</th>\n",
       "      <th>dewpoint_temp</th>\n",
       "      <th>humidity</th>\n",
       "    </tr>\n",
       "  </thead>\n",
       "  <tbody>\n",
       "    <tr>\n",
       "      <th>temperature</th>\n",
       "      <td>1.000000</td>\n",
       "      <td>0.147562</td>\n",
       "      <td>-0.252193</td>\n",
       "      <td>0.014470</td>\n",
       "      <td>0.637173</td>\n",
       "      <td>0.956608</td>\n",
       "      <td>0.387105</td>\n",
       "    </tr>\n",
       "    <tr>\n",
       "      <th>rainfall</th>\n",
       "      <td>0.147562</td>\n",
       "      <td>1.000000</td>\n",
       "      <td>-0.115957</td>\n",
       "      <td>-0.207893</td>\n",
       "      <td>-0.124522</td>\n",
       "      <td>0.263165</td>\n",
       "      <td>0.519510</td>\n",
       "    </tr>\n",
       "    <tr>\n",
       "      <th>wind_speed</th>\n",
       "      <td>-0.252193</td>\n",
       "      <td>-0.115957</td>\n",
       "      <td>1.000000</td>\n",
       "      <td>0.225093</td>\n",
       "      <td>-0.023909</td>\n",
       "      <td>-0.265252</td>\n",
       "      <td>-0.212245</td>\n",
       "    </tr>\n",
       "    <tr>\n",
       "      <th>visibility</th>\n",
       "      <td>0.014470</td>\n",
       "      <td>-0.207893</td>\n",
       "      <td>0.225093</td>\n",
       "      <td>1.000000</td>\n",
       "      <td>0.120044</td>\n",
       "      <td>-0.148796</td>\n",
       "      <td>-0.536091</td>\n",
       "    </tr>\n",
       "    <tr>\n",
       "      <th>solar_radiation</th>\n",
       "      <td>0.637173</td>\n",
       "      <td>-0.124522</td>\n",
       "      <td>-0.023909</td>\n",
       "      <td>0.120044</td>\n",
       "      <td>1.000000</td>\n",
       "      <td>0.533142</td>\n",
       "      <td>-0.034113</td>\n",
       "    </tr>\n",
       "    <tr>\n",
       "      <th>dewpoint_temp</th>\n",
       "      <td>0.956608</td>\n",
       "      <td>0.263165</td>\n",
       "      <td>-0.265252</td>\n",
       "      <td>-0.148796</td>\n",
       "      <td>0.533142</td>\n",
       "      <td>1.000000</td>\n",
       "      <td>0.620568</td>\n",
       "    </tr>\n",
       "    <tr>\n",
       "      <th>humidity</th>\n",
       "      <td>0.387105</td>\n",
       "      <td>0.519510</td>\n",
       "      <td>-0.212245</td>\n",
       "      <td>-0.536091</td>\n",
       "      <td>-0.034113</td>\n",
       "      <td>0.620568</td>\n",
       "      <td>1.000000</td>\n",
       "    </tr>\n",
       "  </tbody>\n",
       "</table>\n",
       "</div>"
      ],
      "text/plain": [
       "                 temperature  rainfall  wind_speed  visibility  \\\n",
       "temperature         1.000000  0.147562   -0.252193    0.014470   \n",
       "rainfall            0.147562  1.000000   -0.115957   -0.207893   \n",
       "wind_speed         -0.252193 -0.115957    1.000000    0.225093   \n",
       "visibility          0.014470 -0.207893    0.225093    1.000000   \n",
       "solar_radiation     0.637173 -0.124522   -0.023909    0.120044   \n",
       "dewpoint_temp       0.956608  0.263165   -0.265252   -0.148796   \n",
       "humidity            0.387105  0.519510   -0.212245   -0.536091   \n",
       "\n",
       "                 solar_radiation  dewpoint_temp  humidity  \n",
       "temperature             0.637173       0.956608  0.387105  \n",
       "rainfall               -0.124522       0.263165  0.519510  \n",
       "wind_speed             -0.023909      -0.265252 -0.212245  \n",
       "visibility              0.120044      -0.148796 -0.536091  \n",
       "solar_radiation         1.000000       0.533142 -0.034113  \n",
       "dewpoint_temp           0.533142       1.000000  0.620568  \n",
       "humidity               -0.034113       0.620568  1.000000  "
      ]
     },
     "execution_count": 102,
     "metadata": {},
     "output_type": "execute_result"
    }
   ],
   "source": [
    "corr = scaled_features.corr()\n",
    "corr\n"
   ]
  },
  {
   "cell_type": "code",
   "execution_count": 103,
   "id": "5a08c5c9-5b95-4d97-a5a6-288b749c8f48",
   "metadata": {},
   "outputs": [
    {
     "data": {
      "text/plain": [
       "<AxesSubplot:>"
      ]
     },
     "execution_count": 103,
     "metadata": {},
     "output_type": "execute_result"
    },
    {
     "data": {
      "image/png": "[encoded data removed]",
      "text/plain": [
       "<Figure size 1440x720 with 2 Axes>"
      ]
     },
     "metadata": {},
     "output_type": "display_data"
    }
   ],
   "source": [
    "plt.subplots(figsize=(20, 10))\n",
    "# Generate a custom diverging colormap\n",
    "cmap = sns.diverging_palette(230, 20, as_cmap=True)\n",
    "\n",
    "mask = np.triu(np.ones_like(corr, dtype=bool))\n",
    "\n",
    "# Draw the heatmap with the mask and correct aspect ratio\n",
    "sns.heatmap(corr, mask=mask,cmap=cmap,vmax =0.7, center=0,\n",
    "            square=True, linewidths=.5, cbar_kws={\"shrink\": .5})"
   ]
  },
  {
   "cell_type": "code",
   "execution_count": 104,
   "id": "242e22ad-90a9-433f-b624-15cbc5924cfc",
   "metadata": {},
   "outputs": [
    {
     "data": {
      "text/plain": [
       "PCA(n_components=7)"
      ]
     },
     "execution_count": 104,
     "metadata": {},
     "output_type": "execute_result"
    }
   ],
   "source": [
    "N = len(scaled_features.columns)\n",
    "pca = PCA(n_components=N)\n",
    "pca.fit(scaled_features)"
   ]
  },
  {
   "cell_type": "code",
   "execution_count": 105,
   "id": "089b3bdd-f117-47bb-98c0-2901b94a4ed0",
   "metadata": {},
   "outputs": [
    {
     "data": {
      "text/plain": [
       "array([0.41614935, 0.25163531, 0.13257795, 0.10809943, 0.06396277,\n",
       "       0.0267197 , 0.00085549])"
      ]
     },
     "execution_count": 105,
     "metadata": {},
     "output_type": "execute_result"
    }
   ],
   "source": [
    "#outputs an array of the variance explained by each component scaled to the total of 1.\n",
    "explained_variance_ratio = pca.explained_variance_ratio_\n",
    "explained_variance_ratio"
   ]
  },
  {
   "cell_type": "code",
   "execution_count": 106,
   "id": "4250d562-ae57-4d82-8d8d-44b1e967f38c",
   "metadata": {},
   "outputs": [
    {
     "data": {
      "text/plain": [
       "array([0.416, 0.668, 0.801, 0.909, 0.973, 1.   , 1.001])"
      ]
     },
     "execution_count": 106,
     "metadata": {},
     "output_type": "execute_result"
    }
   ],
   "source": [
    "# Cumulative sum of principal components i.e. Cumulative variance of 2 = PC1 variance + PC2 variance\n",
    "cumulative_variance = np.cumsum(np.round(explained_variance_ratio, decimals=3))\n",
    "cumulative_variance"
   ]
  },
  {
   "cell_type": "code",
   "execution_count": 107,
   "id": "120b5e53-7b1f-4d4a-a1ef-fce6adcaffed",
   "metadata": {},
   "outputs": [
    {
     "data": {
      "text/plain": [
       "<matplotlib.lines.Line2D at 0x7fb09103c130>"
      ]
     },
     "execution_count": 107,
     "metadata": {},
     "output_type": "execute_result"
    },
    {
     "data": {
      "image/png": "[encoded data removed]",
      "text/plain": [
       "<Figure size 720x504 with 1 Axes>"
      ]
     },
     "metadata": {},
     "output_type": "display_data"
    }
   ],
   "source": [
    "x = list(range(1,N+1))\n",
    "plt.figure(figsize=(10, 7)) \n",
    "plt.bar(x,explained_variance_ratio)\n",
    "plt.scatter(range(1,N+1),cumulative_variance)\n",
    "plt.plot(x,cumulative_variance)\n",
    "plt.title('Variance')\n",
    "plt.xlabel('PC Number')\n",
    "plt.ylabel('Proportion of Variance Explained by PC')\n",
    "plt.axhline(y=0.7, color = 'r')"
   ]
  },
  {
   "cell_type": "code",
   "execution_count": 108,
   "id": "424c03bf-8109-4b82-9498-e3d2ed108917",
   "metadata": {},
   "outputs": [
    {
     "data": {
      "image/png": "[encoded data removed]",
      "text/plain": [
       "<Figure size 720x504 with 1 Axes>"
      ]
     },
     "metadata": {},
     "output_type": "display_data"
    }
   ],
   "source": [
    "#Scree Plot \n",
    "plt.figure(figsize=(10, 7)) \n",
    "plt.scatter(range(1,N+1),pca.explained_variance_ratio_)\n",
    "plt.plot(range(1,N+1),pca.explained_variance_ratio_)\n",
    "plt.title('Scree Plot')\n",
    "plt.xlabel('PC Number')\n",
    "plt.ylabel('Variance Explained by PC')\n",
    "plt.grid()"
   ]
  },
  {
   "cell_type": "code",
   "execution_count": 109,
   "id": "1f17d0ce-89f6-4ed6-9d4d-752d67cfe74d",
   "metadata": {},
   "outputs": [
    {
     "data": {
      "text/plain": [
       "3"
      ]
     },
     "execution_count": 109,
     "metadata": {},
     "output_type": "execute_result"
    }
   ],
   "source": [
    "kl = KneeLocator(range(1, N+1), pca.explained_variance_ratio_, curve=\"convex\", direction=\"decreasing\")\n",
    "\n",
    "kl.elbow"
   ]
  },
  {
   "cell_type": "code",
   "execution_count": 124,
   "id": "81bfe68f-ab07-429f-ae09-42ea441bc3ce",
   "metadata": {},
   "outputs": [
    {
     "data": {
      "text/html": [
       "<div>\n",
       "<style scoped>\n",
       "    .dataframe tbody tr th:only-of-type {\n",
       "        vertical-align: middle;\n",
       "    }\n",
       "\n",
       "    .dataframe tbody tr th {\n",
       "        vertical-align: top;\n",
       "    }\n",
       "\n",
       "    .dataframe thead th {\n",
       "        text-align: right;\n",
       "    }\n",
       "</style>\n",
       "<table border=\"1\" class=\"dataframe\">\n",
       "  <thead>\n",
       "    <tr style=\"text-align: right;\">\n",
       "      <th></th>\n",
       "      <th>PC1</th>\n",
       "      <th>PC2</th>\n",
       "    </tr>\n",
       "  </thead>\n",
       "  <tbody>\n",
       "    <tr>\n",
       "      <th>temperature</th>\n",
       "      <td>0.94991</td>\n",
       "      <td></td>\n",
       "    </tr>\n",
       "    <tr>\n",
       "      <th>rainfall</th>\n",
       "      <td></td>\n",
       "      <td>0.684807</td>\n",
       "    </tr>\n",
       "    <tr>\n",
       "      <th>wind_speed</th>\n",
       "      <td></td>\n",
       "      <td></td>\n",
       "    </tr>\n",
       "    <tr>\n",
       "      <th>visibility</th>\n",
       "      <td></td>\n",
       "      <td></td>\n",
       "    </tr>\n",
       "    <tr>\n",
       "      <th>solar_radiation</th>\n",
       "      <td>0.826479</td>\n",
       "      <td></td>\n",
       "    </tr>\n",
       "    <tr>\n",
       "      <th>dewpoint_temp</th>\n",
       "      <td>0.881503</td>\n",
       "      <td></td>\n",
       "    </tr>\n",
       "    <tr>\n",
       "      <th>humidity</th>\n",
       "      <td></td>\n",
       "      <td>0.869279</td>\n",
       "    </tr>\n",
       "  </tbody>\n",
       "</table>\n",
       "</div>"
      ],
      "text/plain": [
       "                      PC1       PC2\n",
       "temperature       0.94991          \n",
       "rainfall                   0.684807\n",
       "wind_speed                         \n",
       "visibility                         \n",
       "solar_radiation  0.826479          \n",
       "dewpoint_temp    0.881503          \n",
       "humidity                   0.869279"
      ]
     },
     "execution_count": 124,
     "metadata": {},
     "output_type": "execute_result"
    }
   ],
   "source": [
    "# Using 2 as the elbow value instead of 3 as the 3rd PC is\n",
    "# significantly unreliable\n",
    "pca_label, df_pca_array =evaluate_pcs(2,scaled_features[colnames])\n",
    "pca_label"
   ]
  },
  {
   "cell_type": "code",
   "execution_count": 122,
   "id": "971a6ff6-ae1c-4377-9b06-8a03a16fee02",
   "metadata": {},
   "outputs": [
    {
     "name": "stdout",
     "output_type": "stream",
     "text": [
      "0.8796394197418674\n",
      "0.6837862014257663\n",
      "0.3674708109017266\n"
     ]
    }
   ],
   "source": [
    "print(CronbachAlpha(scaled_features[['temperature','solar_radiation','dewpoint_temp']])) #Reliability of PC1\n",
    "print(CronbachAlpha(scaled_features[['rainfall','humidity']])) #Reliability of PC2\n",
    "\n",
    "#To exclude PC3 as CronbachAlpha is 0.367 << 0.7s\n",
    "#print(CronbachAlpha(scaled_features[['wind_speed','visibility']])) #Reliability of PC3"
   ]
  },
  {
   "cell_type": "code",
   "execution_count": 90,
   "id": "756843be-4bd8-4937-8626-b0b969a07819",
   "metadata": {},
   "outputs": [
    {
     "data": {
      "text/html": [
       "<div>\n",
       "<style scoped>\n",
       "    .dataframe tbody tr th:only-of-type {\n",
       "        vertical-align: middle;\n",
       "    }\n",
       "\n",
       "    .dataframe tbody tr th {\n",
       "        vertical-align: top;\n",
       "    }\n",
       "\n",
       "    .dataframe thead th {\n",
       "        text-align: right;\n",
       "    }\n",
       "</style>\n",
       "<table border=\"1\" class=\"dataframe\">\n",
       "  <thead>\n",
       "    <tr style=\"text-align: right;\">\n",
       "      <th></th>\n",
       "      <th>heat_effect</th>\n",
       "      <th>rain_effect</th>\n",
       "    </tr>\n",
       "  </thead>\n",
       "  <tbody>\n",
       "    <tr>\n",
       "      <th>0</th>\n",
       "      <td>-1.109794</td>\n",
       "      <td>-0.902716</td>\n",
       "    </tr>\n",
       "    <tr>\n",
       "      <th>1</th>\n",
       "      <td>-0.820530</td>\n",
       "      <td>-0.051587</td>\n",
       "    </tr>\n",
       "    <tr>\n",
       "      <th>2</th>\n",
       "      <td>-0.829159</td>\n",
       "      <td>1.562257</td>\n",
       "    </tr>\n",
       "    <tr>\n",
       "      <th>3</th>\n",
       "      <td>-1.127481</td>\n",
       "      <td>-1.227836</td>\n",
       "    </tr>\n",
       "    <tr>\n",
       "      <th>4</th>\n",
       "      <td>-1.119959</td>\n",
       "      <td>-0.615774</td>\n",
       "    </tr>\n",
       "  </tbody>\n",
       "</table>\n",
       "</div>"
      ],
      "text/plain": [
       "   heat_effect  rain_effect\n",
       "0    -1.109794    -0.902716\n",
       "1    -0.820530    -0.051587\n",
       "2    -0.829159     1.562257\n",
       "3    -1.127481    -1.227836\n",
       "4    -1.119959    -0.615774"
      ]
     },
     "execution_count": 90,
     "metadata": {},
     "output_type": "execute_result"
    }
   ],
   "source": [
    "df_pca = pd.DataFrame(df_pca_array, columns =['heat_effect','rain_effect'])\n",
    "df_pca.head()"
   ]
  }
 ],
 "metadata": {
  "kernelspec": {
   "display_name": "Python 3 (ipykernel)",
   "language": "python",
   "name": "python3"
  },
  "language_info": {
   "codemirror_mode": {
    "name": "ipython",
    "version": 3
   },
   "file_extension": ".py",
   "mimetype": "text/x-python",
   "name": "python",
   "nbconvert_exporter": "python",
   "pygments_lexer": "ipython3",
   "version": "3.8.5"
  },
  "toc-autonumbering": true,
  "toc-showmarkdowntxt": true
 },
 "nbformat": 4,
 "nbformat_minor": 5
}
