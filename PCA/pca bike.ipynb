{
 "cells": [
  {
   "cell_type": "code",
   "execution_count": 1,
   "id": "4e1f18e0-11d4-45b4-9831-0de9854a13c5",
   "metadata": {},
   "outputs": [
    {
     "name": "stdout",
     "output_type": "stream",
     "text": [
      "\u001b[33mWARNING: You are using pip version 21.0.1; however, version 21.2.4 is available.\n",
      "You should consider upgrading via the '/Library/Frameworks/Python.framework/Versions/3.8/bin/python3.8 -m pip install --upgrade pip' command.\u001b[0m\n",
      "\u001b[33mWARNING: You are using pip version 21.0.1; however, version 21.2.4 is available.\n",
      "You should consider upgrading via the '/Library/Frameworks/Python.framework/Versions/3.8/bin/python3.8 -m pip install --upgrade pip' command.\u001b[0m\n",
      "\u001b[33mWARNING: You are using pip version 21.0.1; however, version 21.2.4 is available.\n",
      "You should consider upgrading via the '/Library/Frameworks/Python.framework/Versions/3.8/bin/python3.8 -m pip install --upgrade pip' command.\u001b[0m\n",
      "\u001b[33mWARNING: You are using pip version 21.0.1; however, version 21.2.4 is available.\n",
      "You should consider upgrading via the '/Library/Frameworks/Python.framework/Versions/3.8/bin/python3.8 -m pip install --upgrade pip' command.\u001b[0m\n"
     ]
    }
   ],
   "source": [
    "!pip -q install yellowbrick==1.3\n",
    "\n",
    "!pip -q install kneed\n",
    "!pip -q install factor_analyzer\n",
    "!pip -q install seaborn"
   ]
  },
  {
   "cell_type": "code",
   "execution_count": 226,
   "id": "24b8233e-0bdc-4bf1-be31-3cc8e1980787",
   "metadata": {},
   "outputs": [],
   "source": [
    "import pandas as pd\n",
    "import numpy as np\n",
    "import seaborn as sns\n",
    "import matplotlib.pyplot as plt\n",
    "from sklearn.preprocessing import StandardScaler\n",
    "from sklearn.decomposition import PCA\n",
    "from factor_analyzer import FactorAnalyzer\n",
    "from yellowbrick.features import PCA as YBPCA\n",
    "from kneed import KneeLocator\n",
    "from factor_analyzer.factor_analyzer import calculate_bartlett_sphericity\n",
    "from factor_analyzer.factor_analyzer import calculate_kmo\n",
    "#import plotly.express as px"
   ]
  },
  {
   "cell_type": "code",
   "execution_count": 347,
   "id": "26c25d56-fbfd-416d-bff2-0c4be6f4c998",
   "metadata": {},
   "outputs": [],
   "source": [
    "# factor analysis\n",
    "def evaluate_pcs(num_of_pcs,data):\n",
    "    def encode_vals(x): #helper functions to suppress loading less than 0.7 \n",
    "    #a gradual process to lead to this function\n",
    "    # if x<=-0.5, we drop the variable\n",
    "        if x <= -0.5 or x >= 0.5: #Adjust the threshold value \n",
    "            return x\n",
    "        else:\n",
    "            return(\"\")    \n",
    "    f = FactorAnalyzer(n_factors=num_of_pcs, method = 'principal',rotation='varimax') #Conduct PCA + varimax rotation to extract latent factors \n",
    "    f.fit(data)\n",
    "    loadings = pd.DataFrame(f.loadings_).set_index(data.columns)\n",
    "    loadings = loadings.applymap(encode_vals)\n",
    "    loadingcols= list(loadings.columns)\n",
    "    newcols = {}\n",
    "    for i in loadingcols:\n",
    "        newcols[i] = \"PC\" + str(i+1)\n",
    "    loadings.rename(columns = newcols,inplace=True)\n",
    "    \n",
    "    \n",
    "    df_pca = f.transform(data)\n",
    "    return loadings , df_pca\n",
    "\n",
    "# The following function generates the rotation matrix. Recall that we use\n",
    "# this matrix to determine if the PCs generated are easily understandable and appropriate.\n",
    "# The argument \"num_of_pcs\" specifies, the number of PCs we wish to generate."
   ]
  },
  {
   "cell_type": "code",
   "execution_count": 227,
   "id": "cf0defc8-9a9c-4f10-b00c-da6ff240e947",
   "metadata": {},
   "outputs": [
    {
     "data": {
      "text/html": [
       "<div>\n",
       "<style scoped>\n",
       "    .dataframe tbody tr th:only-of-type {\n",
       "        vertical-align: middle;\n",
       "    }\n",
       "\n",
       "    .dataframe tbody tr th {\n",
       "        vertical-align: top;\n",
       "    }\n",
       "\n",
       "    .dataframe thead th {\n",
       "        text-align: right;\n",
       "    }\n",
       "</style>\n",
       "<table border=\"1\" class=\"dataframe\">\n",
       "  <thead>\n",
       "    <tr style=\"text-align: right;\">\n",
       "      <th></th>\n",
       "      <th>Unnamed: 0</th>\n",
       "      <th>date</th>\n",
       "      <th>rent_count</th>\n",
       "      <th>temperature</th>\n",
       "      <th>rainfall</th>\n",
       "      <th>snowfall</th>\n",
       "      <th>season</th>\n",
       "      <th>holiday</th>\n",
       "      <th>wind_speed</th>\n",
       "      <th>visibility</th>\n",
       "      <th>solar_radiation</th>\n",
       "      <th>dewpoint_temp</th>\n",
       "      <th>humidity</th>\n",
       "      <th>season_no</th>\n",
       "    </tr>\n",
       "  </thead>\n",
       "  <tbody>\n",
       "    <tr>\n",
       "      <th>0</th>\n",
       "      <td>1</td>\n",
       "      <td>2017-12-01</td>\n",
       "      <td>9539</td>\n",
       "      <td>-2.454167</td>\n",
       "      <td>0.0</td>\n",
       "      <td>0</td>\n",
       "      <td>Spring</td>\n",
       "      <td>No Holiday</td>\n",
       "      <td>1.537500</td>\n",
       "      <td>18707.500000</td>\n",
       "      <td>0.248750</td>\n",
       "      <td>-13.545833</td>\n",
       "      <td>45.875000</td>\n",
       "      <td>1</td>\n",
       "    </tr>\n",
       "    <tr>\n",
       "      <th>1</th>\n",
       "      <td>2</td>\n",
       "      <td>2017-12-02</td>\n",
       "      <td>8523</td>\n",
       "      <td>1.325000</td>\n",
       "      <td>0.0</td>\n",
       "      <td>0</td>\n",
       "      <td>Spring</td>\n",
       "      <td>No Holiday</td>\n",
       "      <td>1.712500</td>\n",
       "      <td>14710.833333</td>\n",
       "      <td>0.263750</td>\n",
       "      <td>-5.716667</td>\n",
       "      <td>61.958333</td>\n",
       "      <td>1</td>\n",
       "    </tr>\n",
       "    <tr>\n",
       "      <th>2</th>\n",
       "      <td>3</td>\n",
       "      <td>2017-12-03</td>\n",
       "      <td>7222</td>\n",
       "      <td>4.875000</td>\n",
       "      <td>4.0</td>\n",
       "      <td>0</td>\n",
       "      <td>Spring</td>\n",
       "      <td>No Holiday</td>\n",
       "      <td>1.612500</td>\n",
       "      <td>4557.500000</td>\n",
       "      <td>0.125417</td>\n",
       "      <td>1.883333</td>\n",
       "      <td>81.541667</td>\n",
       "      <td>1</td>\n",
       "    </tr>\n",
       "    <tr>\n",
       "      <th>3</th>\n",
       "      <td>4</td>\n",
       "      <td>2017-12-04</td>\n",
       "      <td>8729</td>\n",
       "      <td>-0.304167</td>\n",
       "      <td>0.1</td>\n",
       "      <td>0</td>\n",
       "      <td>Spring</td>\n",
       "      <td>No Holiday</td>\n",
       "      <td>3.450000</td>\n",
       "      <td>13628.333333</td>\n",
       "      <td>0.282917</td>\n",
       "      <td>-9.925000</td>\n",
       "      <td>52.500000</td>\n",
       "      <td>1</td>\n",
       "    </tr>\n",
       "    <tr>\n",
       "      <th>4</th>\n",
       "      <td>5</td>\n",
       "      <td>2017-12-05</td>\n",
       "      <td>8307</td>\n",
       "      <td>-4.458333</td>\n",
       "      <td>0.0</td>\n",
       "      <td>0</td>\n",
       "      <td>Spring</td>\n",
       "      <td>No Holiday</td>\n",
       "      <td>1.108333</td>\n",
       "      <td>19594.583333</td>\n",
       "      <td>0.035833</td>\n",
       "      <td>-17.425000</td>\n",
       "      <td>36.416667</td>\n",
       "      <td>1</td>\n",
       "    </tr>\n",
       "  </tbody>\n",
       "</table>\n",
       "</div>"
      ],
      "text/plain": [
       "   Unnamed: 0        date  rent_count  temperature  rainfall  snowfall  \\\n",
       "0           1  2017-12-01        9539    -2.454167       0.0         0   \n",
       "1           2  2017-12-02        8523     1.325000       0.0         0   \n",
       "2           3  2017-12-03        7222     4.875000       4.0         0   \n",
       "3           4  2017-12-04        8729    -0.304167       0.1         0   \n",
       "4           5  2017-12-05        8307    -4.458333       0.0         0   \n",
       "\n",
       "   season     holiday  wind_speed    visibility  solar_radiation  \\\n",
       "0  Spring  No Holiday    1.537500  18707.500000         0.248750   \n",
       "1  Spring  No Holiday    1.712500  14710.833333         0.263750   \n",
       "2  Spring  No Holiday    1.612500   4557.500000         0.125417   \n",
       "3  Spring  No Holiday    3.450000  13628.333333         0.282917   \n",
       "4  Spring  No Holiday    1.108333  19594.583333         0.035833   \n",
       "\n",
       "   dewpoint_temp   humidity  season_no  \n",
       "0     -13.545833  45.875000          1  \n",
       "1      -5.716667  61.958333          1  \n",
       "2       1.883333  81.541667          1  \n",
       "3      -9.925000  52.500000          1  \n",
       "4     -17.425000  36.416667          1  "
      ]
     },
     "execution_count": 227,
     "metadata": {},
     "output_type": "execute_result"
    }
   ],
   "source": [
    "bike = pd.read_csv('bike_agg_with_season_no.csv')\n",
    "bike.head()"
   ]
  },
  {
   "cell_type": "markdown",
   "id": "ac0ae528-e16f-4a1b-9c82-4e51026dd0eb",
   "metadata": {},
   "source": [
    "# 1st Run: Drop Snowfall\n",
    "Snowfall will cause a calculation error for p-value and kmo value."
   ]
  },
  {
   "cell_type": "code",
   "execution_count": 331,
   "id": "d70054c7-7803-48a9-843e-a49f729c5c6f",
   "metadata": {},
   "outputs": [
    {
     "data": {
      "text/html": [
       "<div>\n",
       "<style scoped>\n",
       "    .dataframe tbody tr th:only-of-type {\n",
       "        vertical-align: middle;\n",
       "    }\n",
       "\n",
       "    .dataframe tbody tr th {\n",
       "        vertical-align: top;\n",
       "    }\n",
       "\n",
       "    .dataframe thead th {\n",
       "        text-align: right;\n",
       "    }\n",
       "</style>\n",
       "<table border=\"1\" class=\"dataframe\">\n",
       "  <thead>\n",
       "    <tr style=\"text-align: right;\">\n",
       "      <th></th>\n",
       "      <th>Unnamed: 0</th>\n",
       "      <th>temperature</th>\n",
       "      <th>rainfall</th>\n",
       "      <th>wind_speed</th>\n",
       "      <th>visibility</th>\n",
       "      <th>solar_radiation</th>\n",
       "      <th>dewpoint_temp</th>\n",
       "      <th>humidity</th>\n",
       "    </tr>\n",
       "  </thead>\n",
       "  <tbody>\n",
       "    <tr>\n",
       "      <th>0</th>\n",
       "      <td>1</td>\n",
       "      <td>-2.454167</td>\n",
       "      <td>0.0</td>\n",
       "      <td>1.537500</td>\n",
       "      <td>18707.500000</td>\n",
       "      <td>0.248750</td>\n",
       "      <td>-13.545833</td>\n",
       "      <td>45.875000</td>\n",
       "    </tr>\n",
       "    <tr>\n",
       "      <th>1</th>\n",
       "      <td>2</td>\n",
       "      <td>1.325000</td>\n",
       "      <td>0.0</td>\n",
       "      <td>1.712500</td>\n",
       "      <td>14710.833333</td>\n",
       "      <td>0.263750</td>\n",
       "      <td>-5.716667</td>\n",
       "      <td>61.958333</td>\n",
       "    </tr>\n",
       "    <tr>\n",
       "      <th>2</th>\n",
       "      <td>3</td>\n",
       "      <td>4.875000</td>\n",
       "      <td>4.0</td>\n",
       "      <td>1.612500</td>\n",
       "      <td>4557.500000</td>\n",
       "      <td>0.125417</td>\n",
       "      <td>1.883333</td>\n",
       "      <td>81.541667</td>\n",
       "    </tr>\n",
       "    <tr>\n",
       "      <th>3</th>\n",
       "      <td>4</td>\n",
       "      <td>-0.304167</td>\n",
       "      <td>0.1</td>\n",
       "      <td>3.450000</td>\n",
       "      <td>13628.333333</td>\n",
       "      <td>0.282917</td>\n",
       "      <td>-9.925000</td>\n",
       "      <td>52.500000</td>\n",
       "    </tr>\n",
       "    <tr>\n",
       "      <th>4</th>\n",
       "      <td>5</td>\n",
       "      <td>-4.458333</td>\n",
       "      <td>0.0</td>\n",
       "      <td>1.108333</td>\n",
       "      <td>19594.583333</td>\n",
       "      <td>0.035833</td>\n",
       "      <td>-17.425000</td>\n",
       "      <td>36.416667</td>\n",
       "    </tr>\n",
       "  </tbody>\n",
       "</table>\n",
       "</div>"
      ],
      "text/plain": [
       "   Unnamed: 0  temperature  rainfall  wind_speed    visibility  \\\n",
       "0           1    -2.454167       0.0    1.537500  18707.500000   \n",
       "1           2     1.325000       0.0    1.712500  14710.833333   \n",
       "2           3     4.875000       4.0    1.612500   4557.500000   \n",
       "3           4    -0.304167       0.1    3.450000  13628.333333   \n",
       "4           5    -4.458333       0.0    1.108333  19594.583333   \n",
       "\n",
       "   solar_radiation  dewpoint_temp   humidity  \n",
       "0         0.248750     -13.545833  45.875000  \n",
       "1         0.263750      -5.716667  61.958333  \n",
       "2         0.125417       1.883333  81.541667  \n",
       "3         0.282917      -9.925000  52.500000  \n",
       "4         0.035833     -17.425000  36.416667  "
      ]
     },
     "execution_count": 331,
     "metadata": {},
     "output_type": "execute_result"
    }
   ],
   "source": [
    "# As PCA is a unsupervised learning algorithm, we will drop the Season column\n",
    "# We will drop datetime and date as well since they are not numeric\n",
    "bike2 = bike.copy()\n",
    "bike2.drop(columns = ['date','holiday','rent_count','season_no','season','snowfall'],inplace=True)\n",
    "bike2.head()"
   ]
  },
  {
   "cell_type": "code",
   "execution_count": 332,
   "id": "2642c07c-e88e-4b02-9492-ec7aa5dac3c4",
   "metadata": {},
   "outputs": [
    {
     "data": {
      "text/html": [
       "<div>\n",
       "<style scoped>\n",
       "    .dataframe tbody tr th:only-of-type {\n",
       "        vertical-align: middle;\n",
       "    }\n",
       "\n",
       "    .dataframe tbody tr th {\n",
       "        vertical-align: top;\n",
       "    }\n",
       "\n",
       "    .dataframe thead th {\n",
       "        text-align: right;\n",
       "    }\n",
       "</style>\n",
       "<table border=\"1\" class=\"dataframe\">\n",
       "  <thead>\n",
       "    <tr style=\"text-align: right;\">\n",
       "      <th></th>\n",
       "      <th>temperature</th>\n",
       "      <th>rainfall</th>\n",
       "      <th>wind_speed</th>\n",
       "      <th>visibility</th>\n",
       "      <th>solar_radiation</th>\n",
       "      <th>dewpoint_temp</th>\n",
       "      <th>humidity</th>\n",
       "    </tr>\n",
       "  </thead>\n",
       "  <tbody>\n",
       "    <tr>\n",
       "      <th>0</th>\n",
       "      <td>-2.454167</td>\n",
       "      <td>0.0</td>\n",
       "      <td>1.537500</td>\n",
       "      <td>18707.500000</td>\n",
       "      <td>0.248750</td>\n",
       "      <td>-13.545833</td>\n",
       "      <td>45.875000</td>\n",
       "    </tr>\n",
       "    <tr>\n",
       "      <th>1</th>\n",
       "      <td>1.325000</td>\n",
       "      <td>0.0</td>\n",
       "      <td>1.712500</td>\n",
       "      <td>14710.833333</td>\n",
       "      <td>0.263750</td>\n",
       "      <td>-5.716667</td>\n",
       "      <td>61.958333</td>\n",
       "    </tr>\n",
       "    <tr>\n",
       "      <th>2</th>\n",
       "      <td>4.875000</td>\n",
       "      <td>4.0</td>\n",
       "      <td>1.612500</td>\n",
       "      <td>4557.500000</td>\n",
       "      <td>0.125417</td>\n",
       "      <td>1.883333</td>\n",
       "      <td>81.541667</td>\n",
       "    </tr>\n",
       "    <tr>\n",
       "      <th>3</th>\n",
       "      <td>-0.304167</td>\n",
       "      <td>0.1</td>\n",
       "      <td>3.450000</td>\n",
       "      <td>13628.333333</td>\n",
       "      <td>0.282917</td>\n",
       "      <td>-9.925000</td>\n",
       "      <td>52.500000</td>\n",
       "    </tr>\n",
       "    <tr>\n",
       "      <th>4</th>\n",
       "      <td>-4.458333</td>\n",
       "      <td>0.0</td>\n",
       "      <td>1.108333</td>\n",
       "      <td>19594.583333</td>\n",
       "      <td>0.035833</td>\n",
       "      <td>-17.425000</td>\n",
       "      <td>36.416667</td>\n",
       "    </tr>\n",
       "  </tbody>\n",
       "</table>\n",
       "</div>"
      ],
      "text/plain": [
       "   temperature  rainfall  wind_speed    visibility  solar_radiation  \\\n",
       "0    -2.454167       0.0    1.537500  18707.500000         0.248750   \n",
       "1     1.325000       0.0    1.712500  14710.833333         0.263750   \n",
       "2     4.875000       4.0    1.612500   4557.500000         0.125417   \n",
       "3    -0.304167       0.1    3.450000  13628.333333         0.282917   \n",
       "4    -4.458333       0.0    1.108333  19594.583333         0.035833   \n",
       "\n",
       "   dewpoint_temp   humidity  \n",
       "0     -13.545833  45.875000  \n",
       "1      -5.716667  61.958333  \n",
       "2       1.883333  81.541667  \n",
       "3      -9.925000  52.500000  \n",
       "4     -17.425000  36.416667  "
      ]
     },
     "execution_count": 332,
     "metadata": {},
     "output_type": "execute_result"
    }
   ],
   "source": [
    "# remvove first column\n",
    "bike3 = bike2.iloc[: , 1:]\n",
    "bike3.head()"
   ]
  },
  {
   "cell_type": "code",
   "execution_count": 333,
   "id": "9c7fbf61-b8cf-4a72-94c6-c1e17570365c",
   "metadata": {
    "tags": []
   },
   "outputs": [
    {
     "data": {
      "text/plain": [
       "['temperature',\n",
       " 'rainfall',\n",
       " 'wind_speed',\n",
       " 'visibility',\n",
       " 'solar_radiation',\n",
       " 'dewpoint_temp',\n",
       " 'humidity']"
      ]
     },
     "execution_count": 333,
     "metadata": {},
     "output_type": "execute_result"
    }
   ],
   "source": [
    "list(bike3.columns)"
   ]
  },
  {
   "cell_type": "code",
   "execution_count": 334,
   "id": "1422ab14-43a0-4b62-8435-d021c4b7fca0",
   "metadata": {},
   "outputs": [
    {
     "data": {
      "text/html": [
       "<div>\n",
       "<style scoped>\n",
       "    .dataframe tbody tr th:only-of-type {\n",
       "        vertical-align: middle;\n",
       "    }\n",
       "\n",
       "    .dataframe tbody tr th {\n",
       "        vertical-align: top;\n",
       "    }\n",
       "\n",
       "    .dataframe thead th {\n",
       "        text-align: right;\n",
       "    }\n",
       "</style>\n",
       "<table border=\"1\" class=\"dataframe\">\n",
       "  <thead>\n",
       "    <tr style=\"text-align: right;\">\n",
       "      <th></th>\n",
       "      <th>temperature</th>\n",
       "      <th>rainfall</th>\n",
       "      <th>wind_speed</th>\n",
       "      <th>visibility</th>\n",
       "      <th>solar_radiation</th>\n",
       "      <th>dewpoint_temp</th>\n",
       "      <th>humidity</th>\n",
       "    </tr>\n",
       "  </thead>\n",
       "  <tbody>\n",
       "    <tr>\n",
       "      <th>count</th>\n",
       "      <td>353.000000</td>\n",
       "      <td>353.000000</td>\n",
       "      <td>353.000000</td>\n",
       "      <td>353.000000</td>\n",
       "      <td>353.000000</td>\n",
       "      <td>353.000000</td>\n",
       "      <td>353.000000</td>\n",
       "    </tr>\n",
       "    <tr>\n",
       "      <th>mean</th>\n",
       "      <td>12.775844</td>\n",
       "      <td>3.575921</td>\n",
       "      <td>1.726148</td>\n",
       "      <td>14340.136574</td>\n",
       "      <td>0.567732</td>\n",
       "      <td>3.954165</td>\n",
       "      <td>58.166271</td>\n",
       "    </tr>\n",
       "    <tr>\n",
       "      <th>std</th>\n",
       "      <td>11.718397</td>\n",
       "      <td>11.789868</td>\n",
       "      <td>0.597281</td>\n",
       "      <td>4911.560587</td>\n",
       "      <td>0.316125</td>\n",
       "      <td>12.992939</td>\n",
       "      <td>14.865518</td>\n",
       "    </tr>\n",
       "    <tr>\n",
       "      <th>min</th>\n",
       "      <td>-14.737500</td>\n",
       "      <td>0.000000</td>\n",
       "      <td>0.662500</td>\n",
       "      <td>2142.916667</td>\n",
       "      <td>0.029167</td>\n",
       "      <td>-27.750000</td>\n",
       "      <td>22.250000</td>\n",
       "    </tr>\n",
       "    <tr>\n",
       "      <th>25%</th>\n",
       "      <td>3.304167</td>\n",
       "      <td>0.000000</td>\n",
       "      <td>1.304167</td>\n",
       "      <td>10870.416667</td>\n",
       "      <td>0.283333</td>\n",
       "      <td>-5.187500</td>\n",
       "      <td>47.583333</td>\n",
       "    </tr>\n",
       "    <tr>\n",
       "      <th>50%</th>\n",
       "      <td>13.737500</td>\n",
       "      <td>0.000000</td>\n",
       "      <td>1.658333</td>\n",
       "      <td>15577.500000</td>\n",
       "      <td>0.565000</td>\n",
       "      <td>4.612500</td>\n",
       "      <td>57.166667</td>\n",
       "    </tr>\n",
       "    <tr>\n",
       "      <th>75%</th>\n",
       "      <td>22.591667</td>\n",
       "      <td>0.500000</td>\n",
       "      <td>1.954167</td>\n",
       "      <td>18742.916667</td>\n",
       "      <td>0.820000</td>\n",
       "      <td>14.920833</td>\n",
       "      <td>67.708333</td>\n",
       "    </tr>\n",
       "    <tr>\n",
       "      <th>max</th>\n",
       "      <td>33.741667</td>\n",
       "      <td>95.500000</td>\n",
       "      <td>4.000000</td>\n",
       "      <td>20000.000000</td>\n",
       "      <td>1.216667</td>\n",
       "      <td>25.037500</td>\n",
       "      <td>95.875000</td>\n",
       "    </tr>\n",
       "  </tbody>\n",
       "</table>\n",
       "</div>"
      ],
      "text/plain": [
       "       temperature    rainfall  wind_speed    visibility  solar_radiation  \\\n",
       "count   353.000000  353.000000  353.000000    353.000000       353.000000   \n",
       "mean     12.775844    3.575921    1.726148  14340.136574         0.567732   \n",
       "std      11.718397   11.789868    0.597281   4911.560587         0.316125   \n",
       "min     -14.737500    0.000000    0.662500   2142.916667         0.029167   \n",
       "25%       3.304167    0.000000    1.304167  10870.416667         0.283333   \n",
       "50%      13.737500    0.000000    1.658333  15577.500000         0.565000   \n",
       "75%      22.591667    0.500000    1.954167  18742.916667         0.820000   \n",
       "max      33.741667   95.500000    4.000000  20000.000000         1.216667   \n",
       "\n",
       "       dewpoint_temp    humidity  \n",
       "count     353.000000  353.000000  \n",
       "mean        3.954165   58.166271  \n",
       "std        12.992939   14.865518  \n",
       "min       -27.750000   22.250000  \n",
       "25%        -5.187500   47.583333  \n",
       "50%         4.612500   57.166667  \n",
       "75%        14.920833   67.708333  \n",
       "max        25.037500   95.875000  "
      ]
     },
     "execution_count": 334,
     "metadata": {},
     "output_type": "execute_result"
    }
   ],
   "source": [
    "bike3.describe()\n",
    "\n",
    "# we see each attributes have different ranges"
   ]
  },
  {
   "cell_type": "code",
   "execution_count": 335,
   "id": "bae940de-5bf7-4fd5-80bd-c3efc98b4a6b",
   "metadata": {},
   "outputs": [
    {
     "data": {
      "text/plain": [
       "0.0"
      ]
     },
     "execution_count": 335,
     "metadata": {},
     "output_type": "execute_result"
    }
   ],
   "source": [
    "_ , p_value = calculate_bartlett_sphericity(bike3)\n",
    "p_value"
   ]
  },
  {
   "cell_type": "code",
   "execution_count": 336,
   "id": "8fd29d3d-fbaa-4869-acf6-2cbe07c689ce",
   "metadata": {},
   "outputs": [
    {
     "data": {
      "text/plain": [
       "0.46871605108438197"
      ]
     },
     "execution_count": 336,
     "metadata": {},
     "output_type": "execute_result"
    }
   ],
   "source": [
    "_, kmo_score = calculate_kmo(bike3)\n",
    "kmo_score "
   ]
  },
  {
   "cell_type": "code",
   "execution_count": 337,
   "id": "f49ab7d7-2d77-4cb0-b96c-6dadf048af44",
   "metadata": {},
   "outputs": [],
   "source": [
    "#A common procedure is to centre each variable by subtracting its mean from every observation, and then rescale those \n",
    "#centred values as units of standard deviation. This is commonly called standardizing, normalizing, or Z scoring the data.\n",
    "colnames = list(bike3.columns)\n",
    "\n",
    "scaler = StandardScaler(with_mean=True,with_std=True)\n",
    "scaled_features = pd.DataFrame(scaler.fit_transform(bike3))\n",
    "\n",
    "scaled_features.columns = colnames"
   ]
  },
  {
   "cell_type": "code",
   "execution_count": 338,
   "id": "8af2b7d8-4a15-438b-bf0f-ea59357e5289",
   "metadata": {},
   "outputs": [
    {
     "data": {
      "text/html": [
       "<div>\n",
       "<style scoped>\n",
       "    .dataframe tbody tr th:only-of-type {\n",
       "        vertical-align: middle;\n",
       "    }\n",
       "\n",
       "    .dataframe tbody tr th {\n",
       "        vertical-align: top;\n",
       "    }\n",
       "\n",
       "    .dataframe thead th {\n",
       "        text-align: right;\n",
       "    }\n",
       "</style>\n",
       "<table border=\"1\" class=\"dataframe\">\n",
       "  <thead>\n",
       "    <tr style=\"text-align: right;\">\n",
       "      <th></th>\n",
       "      <th>temperature</th>\n",
       "      <th>rainfall</th>\n",
       "      <th>wind_speed</th>\n",
       "      <th>visibility</th>\n",
       "      <th>solar_radiation</th>\n",
       "      <th>dewpoint_temp</th>\n",
       "      <th>humidity</th>\n",
       "    </tr>\n",
       "  </thead>\n",
       "  <tbody>\n",
       "    <tr>\n",
       "      <th>count</th>\n",
       "      <td>3.530000e+02</td>\n",
       "      <td>353.000000</td>\n",
       "      <td>3.530000e+02</td>\n",
       "      <td>3.530000e+02</td>\n",
       "      <td>3.530000e+02</td>\n",
       "      <td>3.530000e+02</td>\n",
       "      <td>3.530000e+02</td>\n",
       "    </tr>\n",
       "    <tr>\n",
       "      <th>mean</th>\n",
       "      <td>-2.012869e-16</td>\n",
       "      <td>0.000000</td>\n",
       "      <td>-5.636033e-16</td>\n",
       "      <td>-3.421877e-16</td>\n",
       "      <td>-1.006434e-16</td>\n",
       "      <td>8.051476e-17</td>\n",
       "      <td>2.616730e-16</td>\n",
       "    </tr>\n",
       "    <tr>\n",
       "      <th>std</th>\n",
       "      <td>1.001419e+00</td>\n",
       "      <td>1.001419</td>\n",
       "      <td>1.001419e+00</td>\n",
       "      <td>1.001419e+00</td>\n",
       "      <td>1.001419e+00</td>\n",
       "      <td>1.001419e+00</td>\n",
       "      <td>1.001419e+00</td>\n",
       "    </tr>\n",
       "    <tr>\n",
       "      <th>min</th>\n",
       "      <td>-2.351209e+00</td>\n",
       "      <td>-0.303735</td>\n",
       "      <td>-1.783346e+00</td>\n",
       "      <td>-2.486895e+00</td>\n",
       "      <td>-1.706063e+00</td>\n",
       "      <td>-2.443571e+00</td>\n",
       "      <td>-2.419509e+00</td>\n",
       "    </tr>\n",
       "    <tr>\n",
       "      <th>25%</th>\n",
       "      <td>-8.094214e-01</td>\n",
       "      <td>-0.303735</td>\n",
       "      <td>-7.075075e-01</td>\n",
       "      <td>-7.074422e-01</td>\n",
       "      <td>-9.009160e-01</td>\n",
       "      <td>-7.045859e-01</td>\n",
       "      <td>-7.129223e-01</td>\n",
       "    </tr>\n",
       "    <tr>\n",
       "      <th>50%</th>\n",
       "      <td>8.218024e-02</td>\n",
       "      <td>-0.303735</td>\n",
       "      <td>-1.137009e-01</td>\n",
       "      <td>2.522864e-01</td>\n",
       "      <td>-8.654113e-03</td>\n",
       "      <td>5.074058e-02</td>\n",
       "      <td>-6.733859e-02</td>\n",
       "    </tr>\n",
       "    <tr>\n",
       "      <th>75%</th>\n",
       "      <td>8.388310e-01</td>\n",
       "      <td>-0.261266</td>\n",
       "      <td>3.823024e-01</td>\n",
       "      <td>8.976841e-01</td>\n",
       "      <td>7.991332e-01</td>\n",
       "      <td>8.452464e-01</td>\n",
       "      <td>6.428035e-01</td>\n",
       "    </tr>\n",
       "    <tr>\n",
       "      <th>max</th>\n",
       "      <td>1.791677e+00</td>\n",
       "      <td>7.807938</td>\n",
       "      <td>3.812409e+00</td>\n",
       "      <td>1.153991e+00</td>\n",
       "      <td>2.055691e+00</td>\n",
       "      <td>1.624980e+00</td>\n",
       "      <td>2.540258e+00</td>\n",
       "    </tr>\n",
       "  </tbody>\n",
       "</table>\n",
       "</div>"
      ],
      "text/plain": [
       "        temperature    rainfall    wind_speed    visibility  solar_radiation  \\\n",
       "count  3.530000e+02  353.000000  3.530000e+02  3.530000e+02     3.530000e+02   \n",
       "mean  -2.012869e-16    0.000000 -5.636033e-16 -3.421877e-16    -1.006434e-16   \n",
       "std    1.001419e+00    1.001419  1.001419e+00  1.001419e+00     1.001419e+00   \n",
       "min   -2.351209e+00   -0.303735 -1.783346e+00 -2.486895e+00    -1.706063e+00   \n",
       "25%   -8.094214e-01   -0.303735 -7.075075e-01 -7.074422e-01    -9.009160e-01   \n",
       "50%    8.218024e-02   -0.303735 -1.137009e-01  2.522864e-01    -8.654113e-03   \n",
       "75%    8.388310e-01   -0.261266  3.823024e-01  8.976841e-01     7.991332e-01   \n",
       "max    1.791677e+00    7.807938  3.812409e+00  1.153991e+00     2.055691e+00   \n",
       "\n",
       "       dewpoint_temp      humidity  \n",
       "count   3.530000e+02  3.530000e+02  \n",
       "mean    8.051476e-17  2.616730e-16  \n",
       "std     1.001419e+00  1.001419e+00  \n",
       "min    -2.443571e+00 -2.419509e+00  \n",
       "25%    -7.045859e-01 -7.129223e-01  \n",
       "50%     5.074058e-02 -6.733859e-02  \n",
       "75%     8.452464e-01  6.428035e-01  \n",
       "max     1.624980e+00  2.540258e+00  "
      ]
     },
     "execution_count": 338,
     "metadata": {},
     "output_type": "execute_result"
    }
   ],
   "source": [
    "scaled_features.describe()"
   ]
  },
  {
   "cell_type": "code",
   "execution_count": 339,
   "id": "47d52dec-a81e-40c1-b608-62f5445cbce5",
   "metadata": {},
   "outputs": [
    {
     "data": {
      "text/html": [
       "<div>\n",
       "<style scoped>\n",
       "    .dataframe tbody tr th:only-of-type {\n",
       "        vertical-align: middle;\n",
       "    }\n",
       "\n",
       "    .dataframe tbody tr th {\n",
       "        vertical-align: top;\n",
       "    }\n",
       "\n",
       "    .dataframe thead th {\n",
       "        text-align: right;\n",
       "    }\n",
       "</style>\n",
       "<table border=\"1\" class=\"dataframe\">\n",
       "  <thead>\n",
       "    <tr style=\"text-align: right;\">\n",
       "      <th></th>\n",
       "      <th>temperature</th>\n",
       "      <th>rainfall</th>\n",
       "      <th>wind_speed</th>\n",
       "      <th>visibility</th>\n",
       "      <th>solar_radiation</th>\n",
       "      <th>dewpoint_temp</th>\n",
       "      <th>humidity</th>\n",
       "    </tr>\n",
       "  </thead>\n",
       "  <tbody>\n",
       "    <tr>\n",
       "      <th>temperature</th>\n",
       "      <td>1.000000</td>\n",
       "      <td>0.144517</td>\n",
       "      <td>-0.260722</td>\n",
       "      <td>0.002337</td>\n",
       "      <td>0.550274</td>\n",
       "      <td>0.962796</td>\n",
       "      <td>0.404167</td>\n",
       "    </tr>\n",
       "    <tr>\n",
       "      <th>rainfall</th>\n",
       "      <td>0.144517</td>\n",
       "      <td>1.000000</td>\n",
       "      <td>-0.101676</td>\n",
       "      <td>-0.221994</td>\n",
       "      <td>-0.322704</td>\n",
       "      <td>0.264566</td>\n",
       "      <td>0.528643</td>\n",
       "    </tr>\n",
       "    <tr>\n",
       "      <th>wind_speed</th>\n",
       "      <td>-0.260722</td>\n",
       "      <td>-0.101676</td>\n",
       "      <td>1.000000</td>\n",
       "      <td>0.206023</td>\n",
       "      <td>0.096126</td>\n",
       "      <td>-0.287703</td>\n",
       "      <td>-0.234258</td>\n",
       "    </tr>\n",
       "    <tr>\n",
       "      <th>visibility</th>\n",
       "      <td>0.002337</td>\n",
       "      <td>-0.221994</td>\n",
       "      <td>0.206023</td>\n",
       "      <td>1.000000</td>\n",
       "      <td>0.271396</td>\n",
       "      <td>-0.153552</td>\n",
       "      <td>-0.559177</td>\n",
       "    </tr>\n",
       "    <tr>\n",
       "      <th>solar_radiation</th>\n",
       "      <td>0.550274</td>\n",
       "      <td>-0.322704</td>\n",
       "      <td>0.096126</td>\n",
       "      <td>0.271396</td>\n",
       "      <td>1.000000</td>\n",
       "      <td>0.383157</td>\n",
       "      <td>-0.274450</td>\n",
       "    </tr>\n",
       "    <tr>\n",
       "      <th>dewpoint_temp</th>\n",
       "      <td>0.962796</td>\n",
       "      <td>0.264566</td>\n",
       "      <td>-0.287703</td>\n",
       "      <td>-0.153552</td>\n",
       "      <td>0.383157</td>\n",
       "      <td>1.000000</td>\n",
       "      <td>0.632047</td>\n",
       "    </tr>\n",
       "    <tr>\n",
       "      <th>humidity</th>\n",
       "      <td>0.404167</td>\n",
       "      <td>0.528643</td>\n",
       "      <td>-0.234258</td>\n",
       "      <td>-0.559177</td>\n",
       "      <td>-0.274450</td>\n",
       "      <td>0.632047</td>\n",
       "      <td>1.000000</td>\n",
       "    </tr>\n",
       "  </tbody>\n",
       "</table>\n",
       "</div>"
      ],
      "text/plain": [
       "                 temperature  rainfall  wind_speed  visibility  \\\n",
       "temperature         1.000000  0.144517   -0.260722    0.002337   \n",
       "rainfall            0.144517  1.000000   -0.101676   -0.221994   \n",
       "wind_speed         -0.260722 -0.101676    1.000000    0.206023   \n",
       "visibility          0.002337 -0.221994    0.206023    1.000000   \n",
       "solar_radiation     0.550274 -0.322704    0.096126    0.271396   \n",
       "dewpoint_temp       0.962796  0.264566   -0.287703   -0.153552   \n",
       "humidity            0.404167  0.528643   -0.234258   -0.559177   \n",
       "\n",
       "                 solar_radiation  dewpoint_temp  humidity  \n",
       "temperature             0.550274       0.962796  0.404167  \n",
       "rainfall               -0.322704       0.264566  0.528643  \n",
       "wind_speed              0.096126      -0.287703 -0.234258  \n",
       "visibility              0.271396      -0.153552 -0.559177  \n",
       "solar_radiation         1.000000       0.383157 -0.274450  \n",
       "dewpoint_temp           0.383157       1.000000  0.632047  \n",
       "humidity               -0.274450       0.632047  1.000000  "
      ]
     },
     "execution_count": 339,
     "metadata": {},
     "output_type": "execute_result"
    }
   ],
   "source": [
    "corr = scaled_features.corr()\n",
    "corr\n"
   ]
  },
  {
   "cell_type": "code",
   "execution_count": 340,
   "id": "5a08c5c9-5b95-4d97-a5a6-288b749c8f48",
   "metadata": {},
   "outputs": [
    {
     "data": {
      "text/plain": [
       "<AxesSubplot:>"
      ]
     },
     "execution_count": 340,
     "metadata": {},
     "output_type": "execute_result"
    },
    {
     "data": {
      "image/png": "[encoded data removed]",
      "text/plain": [
       "<Figure size 1440x720 with 2 Axes>"
      ]
     },
     "metadata": {},
     "output_type": "display_data"
    }
   ],
   "source": [
    "plt.subplots(figsize=(20, 10))\n",
    "# Generate a custom diverging colormap\n",
    "cmap = sns.diverging_palette(230, 20, as_cmap=True)\n",
    "\n",
    "mask = np.triu(np.ones_like(corr, dtype=bool))\n",
    "\n",
    "# Draw the heatmap with the mask and correct aspect ratio\n",
    "sns.heatmap(corr, mask=mask,cmap=cmap,vmax =0.7, center=0,\n",
    "            square=True, linewidths=.5, cbar_kws={\"shrink\": .5})"
   ]
  },
  {
   "cell_type": "code",
   "execution_count": 341,
   "id": "242e22ad-90a9-433f-b624-15cbc5924cfc",
   "metadata": {},
   "outputs": [
    {
     "data": {
      "text/plain": [
       "PCA(n_components=7)"
      ]
     },
     "execution_count": 341,
     "metadata": {},
     "output_type": "execute_result"
    }
   ],
   "source": [
    "#We will set n_components to 10\n",
    "\n",
    "N = len(scaled_features.columns)\n",
    "pca = PCA(n_components=N)\n",
    "pca.fit(scaled_features)"
   ]
  },
  {
   "cell_type": "code",
   "execution_count": 342,
   "id": "089b3bdd-f117-47bb-98c0-2901b94a4ed0",
   "metadata": {},
   "outputs": [
    {
     "data": {
      "text/plain": [
       "array([4.01505555e-01, 2.83597030e-01, 1.31293655e-01, 1.08456825e-01,\n",
       "       5.59262969e-02, 1.90496058e-02, 1.71033221e-04])"
      ]
     },
     "execution_count": 342,
     "metadata": {},
     "output_type": "execute_result"
    }
   ],
   "source": [
    "#outputs an array of the variance explained by each component scaled to the total of 1.\n",
    "explained_variance_ratio = pca.explained_variance_ratio_\n",
    "explained_variance_ratio"
   ]
  },
  {
   "cell_type": "code",
   "execution_count": 343,
   "id": "4250d562-ae57-4d82-8d8d-44b1e967f38c",
   "metadata": {},
   "outputs": [
    {
     "data": {
      "text/plain": [
       "array([0.402, 0.686, 0.817, 0.925, 0.981, 1.   , 1.   ])"
      ]
     },
     "execution_count": 343,
     "metadata": {},
     "output_type": "execute_result"
    }
   ],
   "source": [
    "# Cumulative sum of principal components i.e. Cumulative variance of 2 = PC1 variance + PC2 variance\n",
    "cumulative_variance = np.cumsum(np.round(explained_variance_ratio, decimals=3))\n",
    "cumulative_variance"
   ]
  },
  {
   "cell_type": "code",
   "execution_count": 344,
   "id": "120b5e53-7b1f-4d4a-a1ef-fce6adcaffed",
   "metadata": {},
   "outputs": [
    {
     "data": {
      "text/plain": [
       "<matplotlib.lines.Line2D at 0x7ff8acd41910>"
      ]
     },
     "execution_count": 344,
     "metadata": {},
     "output_type": "execute_result"
    },
    {
     "data": {
      "image/png": "[encoded data removed]",
      "text/plain": [
       "<Figure size 720x504 with 1 Axes>"
      ]
     },
     "metadata": {},
     "output_type": "display_data"
    }
   ],
   "source": [
    "x = list(range(1,N+1))\n",
    "plt.figure(figsize=(10, 7)) \n",
    "plt.bar(x,explained_variance_ratio)\n",
    "plt.scatter(range(1,N+1),cumulative_variance)\n",
    "plt.plot(x,cumulative_variance)\n",
    "plt.title('Variance')\n",
    "plt.xlabel('PC Number')\n",
    "plt.ylabel('Proportion of Variance Explained by PC')\n",
    "plt.axhline(y=0.7, color = 'r')"
   ]
  },
  {
   "cell_type": "code",
   "execution_count": 345,
   "id": "424c03bf-8109-4b82-9498-e3d2ed108917",
   "metadata": {},
   "outputs": [
    {
     "data": {
      "image/png": "[encoded data removed]",
      "text/plain": [
       "<Figure size 720x504 with 1 Axes>"
      ]
     },
     "metadata": {},
     "output_type": "display_data"
    }
   ],
   "source": [
    "#Scree Plot \n",
    "plt.figure(figsize=(10, 7)) \n",
    "plt.scatter(range(1,N+1),pca.explained_variance_ratio_)\n",
    "plt.plot(range(1,N+1),pca.explained_variance_ratio_)\n",
    "plt.title('Scree Plot')\n",
    "plt.xlabel('PC Number')\n",
    "plt.ylabel('Variance Explained by PC')\n",
    "plt.grid()"
   ]
  },
  {
   "cell_type": "code",
   "execution_count": 346,
   "id": "1f17d0ce-89f6-4ed6-9d4d-752d67cfe74d",
   "metadata": {},
   "outputs": [
    {
     "data": {
      "text/plain": [
       "3"
      ]
     },
     "execution_count": 346,
     "metadata": {},
     "output_type": "execute_result"
    }
   ],
   "source": [
    "kl = KneeLocator(range(1, N+1), pca.explained_variance_ratio_, curve=\"convex\", direction=\"decreasing\")\n",
    "\n",
    "kl.elbow"
   ]
  },
  {
   "cell_type": "code",
   "execution_count": 325,
   "id": "0acd1692-27e4-4918-bb13-1f7facd17ff2",
   "metadata": {},
   "outputs": [],
   "source": [
    "def CronbachAlpha(itemscores): #calculate the CronbachAlpha to see how closely related a set of items are as a group\n",
    "    itemscores = np.asarray(itemscores)\n",
    "    itemvars = itemscores.var(axis=0, ddof=1)\n",
    "    tscores = itemscores.sum(axis=1)\n",
    "    nitems = itemscores.shape[1]\n",
    "    return (nitems / (nitems-1)) * (1 - (itemvars.sum() / tscores.var(ddof=1)))"
   ]
  },
  {
   "cell_type": "code",
   "execution_count": 329,
   "id": "81bfe68f-ab07-429f-ae09-42ea441bc3ce",
   "metadata": {},
   "outputs": [
    {
     "data": {
      "text/html": [
       "<div>\n",
       "<style scoped>\n",
       "    .dataframe tbody tr th:only-of-type {\n",
       "        vertical-align: middle;\n",
       "    }\n",
       "\n",
       "    .dataframe tbody tr th {\n",
       "        vertical-align: top;\n",
       "    }\n",
       "\n",
       "    .dataframe thead th {\n",
       "        text-align: right;\n",
       "    }\n",
       "</style>\n",
       "<table border=\"1\" class=\"dataframe\">\n",
       "  <thead>\n",
       "    <tr style=\"text-align: right;\">\n",
       "      <th></th>\n",
       "      <th>PC1</th>\n",
       "      <th>PC2</th>\n",
       "    </tr>\n",
       "  </thead>\n",
       "  <tbody>\n",
       "    <tr>\n",
       "      <th>temperature</th>\n",
       "      <td>0.975694</td>\n",
       "      <td></td>\n",
       "    </tr>\n",
       "    <tr>\n",
       "      <th>rainfall</th>\n",
       "      <td></td>\n",
       "      <td>0.694918</td>\n",
       "    </tr>\n",
       "    <tr>\n",
       "      <th>wind_speed</th>\n",
       "      <td></td>\n",
       "      <td></td>\n",
       "    </tr>\n",
       "    <tr>\n",
       "      <th>visibility</th>\n",
       "      <td></td>\n",
       "      <td>-0.709716</td>\n",
       "    </tr>\n",
       "    <tr>\n",
       "      <th>solar_radiation</th>\n",
       "      <td>0.691724</td>\n",
       "      <td>-0.578522</td>\n",
       "    </tr>\n",
       "    <tr>\n",
       "      <th>dewpoint_temp</th>\n",
       "      <td>0.922664</td>\n",
       "      <td></td>\n",
       "    </tr>\n",
       "    <tr>\n",
       "      <th>humidity</th>\n",
       "      <td></td>\n",
       "      <td>0.857564</td>\n",
       "    </tr>\n",
       "  </tbody>\n",
       "</table>\n",
       "</div>"
      ],
      "text/plain": [
       "                      PC1       PC2\n",
       "temperature      0.975694          \n",
       "rainfall                   0.694918\n",
       "wind_speed                         \n",
       "visibility                -0.709716\n",
       "solar_radiation  0.691724 -0.578522\n",
       "dewpoint_temp    0.922664          \n",
       "humidity                   0.857564"
      ]
     },
     "execution_count": 329,
     "metadata": {},
     "output_type": "execute_result"
    }
   ],
   "source": [
    "pca_label, df_pca_array =evaluate_pcs(2,scaled_features[colnames])\n",
    "pca_label\n",
    "# from the elbow plot"
   ]
  },
  {
   "cell_type": "code",
   "execution_count": 330,
   "id": "971a6ff6-ae1c-4377-9b06-8a03a16fee02",
   "metadata": {},
   "outputs": [
    {
     "name": "stdout",
     "output_type": "stream",
     "text": [
      "0.8375002484595583\n",
      "0.6916497292299699\n"
     ]
    }
   ],
   "source": [
    "print(CronbachAlpha(scaled_features[['temperature','solar_radiation','dewpoint_temp']])) #Reliability of PC1\n",
    "print(CronbachAlpha(scaled_features[['rainfall','humidity']])) #Reliability of PC2"
   ]
  },
  {
   "cell_type": "code",
   "execution_count": 425,
   "id": "756843be-4bd8-4937-8626-b0b969a07819",
   "metadata": {},
   "outputs": [
    {
     "data": {
      "text/html": [
       "<div>\n",
       "<style scoped>\n",
       "    .dataframe tbody tr th:only-of-type {\n",
       "        vertical-align: middle;\n",
       "    }\n",
       "\n",
       "    .dataframe tbody tr th {\n",
       "        vertical-align: top;\n",
       "    }\n",
       "\n",
       "    .dataframe thead th {\n",
       "        text-align: right;\n",
       "    }\n",
       "</style>\n",
       "<table border=\"1\" class=\"dataframe\">\n",
       "  <thead>\n",
       "    <tr style=\"text-align: right;\">\n",
       "      <th></th>\n",
       "      <th>PC1</th>\n",
       "      <th>PC2</th>\n",
       "    </tr>\n",
       "  </thead>\n",
       "  <tbody>\n",
       "    <tr>\n",
       "      <th>0</th>\n",
       "      <td>-1.301121</td>\n",
       "      <td>-0.404578</td>\n",
       "    </tr>\n",
       "    <tr>\n",
       "      <th>1</th>\n",
       "      <td>-0.941620</td>\n",
       "      <td>0.226058</td>\n",
       "    </tr>\n",
       "    <tr>\n",
       "      <th>2</th>\n",
       "      <td>-0.810660</td>\n",
       "      <td>1.657565</td>\n",
       "    </tr>\n",
       "    <tr>\n",
       "      <th>3</th>\n",
       "      <td>-1.388558</td>\n",
       "      <td>-0.400597</td>\n",
       "    </tr>\n",
       "    <tr>\n",
       "      <th>4</th>\n",
       "      <td>-1.679410</td>\n",
       "      <td>-0.397721</td>\n",
       "    </tr>\n",
       "  </tbody>\n",
       "</table>\n",
       "</div>"
      ],
      "text/plain": [
       "        PC1       PC2\n",
       "0 -1.301121 -0.404578\n",
       "1 -0.941620  0.226058\n",
       "2 -0.810660  1.657565\n",
       "3 -1.388558 -0.400597\n",
       "4 -1.679410 -0.397721"
      ]
     },
     "execution_count": 425,
     "metadata": {},
     "output_type": "execute_result"
    }
   ],
   "source": [
    "df_pca = pd.DataFrame(df_pca_array, columns =['PC1','PC2'])\n",
    "df_pca.head()"
   ]
  },
  {
   "cell_type": "markdown",
   "id": "fd7307b2-afb7-43ab-b3f2-f764deaf7013",
   "metadata": {},
   "source": [
    "# Drop visiblility\n"
   ]
  },
  {
   "cell_type": "code",
   "execution_count": 422,
   "id": "3ffdccfe-bbce-44a6-8251-4eea231eb8b7",
   "metadata": {},
   "outputs": [
    {
     "data": {
      "text/html": [
       "<div>\n",
       "<style scoped>\n",
       "    .dataframe tbody tr th:only-of-type {\n",
       "        vertical-align: middle;\n",
       "    }\n",
       "\n",
       "    .dataframe tbody tr th {\n",
       "        vertical-align: top;\n",
       "    }\n",
       "\n",
       "    .dataframe thead th {\n",
       "        text-align: right;\n",
       "    }\n",
       "</style>\n",
       "<table border=\"1\" class=\"dataframe\">\n",
       "  <thead>\n",
       "    <tr style=\"text-align: right;\">\n",
       "      <th></th>\n",
       "      <th>temperature</th>\n",
       "      <th>rainfall</th>\n",
       "      <th>wind_speed</th>\n",
       "      <th>solar_radiation</th>\n",
       "      <th>dewpoint_temp</th>\n",
       "      <th>humidity</th>\n",
       "    </tr>\n",
       "  </thead>\n",
       "  <tbody>\n",
       "    <tr>\n",
       "      <th>0</th>\n",
       "      <td>-2.454167</td>\n",
       "      <td>0.0</td>\n",
       "      <td>1.537500</td>\n",
       "      <td>0.248750</td>\n",
       "      <td>-13.545833</td>\n",
       "      <td>45.875000</td>\n",
       "    </tr>\n",
       "    <tr>\n",
       "      <th>1</th>\n",
       "      <td>1.325000</td>\n",
       "      <td>0.0</td>\n",
       "      <td>1.712500</td>\n",
       "      <td>0.263750</td>\n",
       "      <td>-5.716667</td>\n",
       "      <td>61.958333</td>\n",
       "    </tr>\n",
       "    <tr>\n",
       "      <th>2</th>\n",
       "      <td>4.875000</td>\n",
       "      <td>4.0</td>\n",
       "      <td>1.612500</td>\n",
       "      <td>0.125417</td>\n",
       "      <td>1.883333</td>\n",
       "      <td>81.541667</td>\n",
       "    </tr>\n",
       "    <tr>\n",
       "      <th>3</th>\n",
       "      <td>-0.304167</td>\n",
       "      <td>0.1</td>\n",
       "      <td>3.450000</td>\n",
       "      <td>0.282917</td>\n",
       "      <td>-9.925000</td>\n",
       "      <td>52.500000</td>\n",
       "    </tr>\n",
       "    <tr>\n",
       "      <th>4</th>\n",
       "      <td>-4.458333</td>\n",
       "      <td>0.0</td>\n",
       "      <td>1.108333</td>\n",
       "      <td>0.035833</td>\n",
       "      <td>-17.425000</td>\n",
       "      <td>36.416667</td>\n",
       "    </tr>\n",
       "  </tbody>\n",
       "</table>\n",
       "</div>"
      ],
      "text/plain": [
       "   temperature  rainfall  wind_speed  solar_radiation  dewpoint_temp  \\\n",
       "0    -2.454167       0.0    1.537500         0.248750     -13.545833   \n",
       "1     1.325000       0.0    1.712500         0.263750      -5.716667   \n",
       "2     4.875000       4.0    1.612500         0.125417       1.883333   \n",
       "3    -0.304167       0.1    3.450000         0.282917      -9.925000   \n",
       "4    -4.458333       0.0    1.108333         0.035833     -17.425000   \n",
       "\n",
       "    humidity  \n",
       "0  45.875000  \n",
       "1  61.958333  \n",
       "2  81.541667  \n",
       "3  52.500000  \n",
       "4  36.416667  "
      ]
     },
     "execution_count": 422,
     "metadata": {},
     "output_type": "execute_result"
    }
   ],
   "source": [
    "bike4 = bike3.copy()\n",
    "bike4.drop(columns = ['visibility'], inplace = True)\n",
    "bike4.head()"
   ]
  },
  {
   "cell_type": "code",
   "execution_count": 349,
   "id": "a7ee891c-e9b7-4ebe-ad7d-1a4aa29eaad1",
   "metadata": {},
   "outputs": [
    {
     "data": {
      "text/plain": [
       "0.0"
      ]
     },
     "execution_count": 349,
     "metadata": {},
     "output_type": "execute_result"
    }
   ],
   "source": [
    "_ , p_value = calculate_bartlett_sphericity(bike4)\n",
    "p_value"
   ]
  },
  {
   "cell_type": "code",
   "execution_count": 363,
   "id": "7b67560b-92ca-49ea-9db0-454b3c5eb821",
   "metadata": {},
   "outputs": [
    {
     "data": {
      "text/plain": [
       "0.4424333187529832"
      ]
     },
     "execution_count": 363,
     "metadata": {},
     "output_type": "execute_result"
    }
   ],
   "source": [
    "_, kmo_score = calculate_kmo(bike4)\n",
    "kmo_score "
   ]
  },
  {
   "cell_type": "code",
   "execution_count": 352,
   "id": "fa2f1dd7-7293-439a-beda-7b0b3350681c",
   "metadata": {},
   "outputs": [],
   "source": [
    "\n",
    "colnames2 = list(bike4.columns)\n",
    "scaled_features2 = pd.DataFrame(scaler.fit_transform(bike4))\n",
    "\n",
    "scaled_features2.columns = colnames2"
   ]
  },
  {
   "cell_type": "code",
   "execution_count": 423,
   "id": "aa7a00a3-956a-455c-9e7b-445ec9a7b21d",
   "metadata": {},
   "outputs": [
    {
     "data": {
      "text/html": [
       "<div>\n",
       "<style scoped>\n",
       "    .dataframe tbody tr th:only-of-type {\n",
       "        vertical-align: middle;\n",
       "    }\n",
       "\n",
       "    .dataframe tbody tr th {\n",
       "        vertical-align: top;\n",
       "    }\n",
       "\n",
       "    .dataframe thead th {\n",
       "        text-align: right;\n",
       "    }\n",
       "</style>\n",
       "<table border=\"1\" class=\"dataframe\">\n",
       "  <thead>\n",
       "    <tr style=\"text-align: right;\">\n",
       "      <th></th>\n",
       "      <th>temperature</th>\n",
       "      <th>rainfall</th>\n",
       "      <th>wind_speed</th>\n",
       "      <th>solar_radiation</th>\n",
       "      <th>dewpoint_temp</th>\n",
       "      <th>humidity</th>\n",
       "    </tr>\n",
       "  </thead>\n",
       "  <tbody>\n",
       "    <tr>\n",
       "      <th>0</th>\n",
       "      <td>-1.301512</td>\n",
       "      <td>-0.303735</td>\n",
       "      <td>-0.316294</td>\n",
       "      <td>-1.010469</td>\n",
       "      <td>-1.348797</td>\n",
       "      <td>-0.828005</td>\n",
       "    </tr>\n",
       "    <tr>\n",
       "      <th>1</th>\n",
       "      <td>-0.978555</td>\n",
       "      <td>-0.303735</td>\n",
       "      <td>-0.022883</td>\n",
       "      <td>-0.962952</td>\n",
       "      <td>-0.745371</td>\n",
       "      <td>0.255453</td>\n",
       "    </tr>\n",
       "    <tr>\n",
       "      <th>2</th>\n",
       "      <td>-0.675183</td>\n",
       "      <td>0.036021</td>\n",
       "      <td>-0.190546</td>\n",
       "      <td>-1.401163</td>\n",
       "      <td>-0.159608</td>\n",
       "      <td>1.574690</td>\n",
       "    </tr>\n",
       "    <tr>\n",
       "      <th>3</th>\n",
       "      <td>-1.117779</td>\n",
       "      <td>-0.295241</td>\n",
       "      <td>2.890262</td>\n",
       "      <td>-0.902236</td>\n",
       "      <td>-1.069725</td>\n",
       "      <td>-0.381710</td>\n",
       "    </tr>\n",
       "    <tr>\n",
       "      <th>4</th>\n",
       "      <td>-1.472782</td>\n",
       "      <td>-0.303735</td>\n",
       "      <td>-1.035848</td>\n",
       "      <td>-1.684945</td>\n",
       "      <td>-1.647781</td>\n",
       "      <td>-1.465168</td>\n",
       "    </tr>\n",
       "  </tbody>\n",
       "</table>\n",
       "</div>"
      ],
      "text/plain": [
       "   temperature  rainfall  wind_speed  solar_radiation  dewpoint_temp  humidity\n",
       "0    -1.301512 -0.303735   -0.316294        -1.010469      -1.348797 -0.828005\n",
       "1    -0.978555 -0.303735   -0.022883        -0.962952      -0.745371  0.255453\n",
       "2    -0.675183  0.036021   -0.190546        -1.401163      -0.159608  1.574690\n",
       "3    -1.117779 -0.295241    2.890262        -0.902236      -1.069725 -0.381710\n",
       "4    -1.472782 -0.303735   -1.035848        -1.684945      -1.647781 -1.465168"
      ]
     },
     "execution_count": 423,
     "metadata": {},
     "output_type": "execute_result"
    }
   ],
   "source": [
    "scaled_features2.head()"
   ]
  },
  {
   "cell_type": "code",
   "execution_count": 365,
   "id": "031fb1e1-7a9e-41c3-ab08-e0c8a6769505",
   "metadata": {},
   "outputs": [
    {
     "data": {
      "text/plain": [
       "array([4.51690905e-01, 2.88927060e-01, 1.51101600e-01, 7.94653028e-02,\n",
       "       2.86076895e-02, 2.07442561e-04])"
      ]
     },
     "execution_count": 365,
     "metadata": {},
     "output_type": "execute_result"
    }
   ],
   "source": [
    "df_wo_vis = scaled_features.drop(columns = ['visibility'])\n",
    "N = len(df_wo_vis.columns)\n",
    "model3 = PCA(n_components = N)\n",
    "model3.fit(df_wo_vis)\n",
    "explained_variance3 = model3.explained_variance_ratio_ #Explained Variance Ratio\n",
    "\n",
    "explained_variance3"
   ]
  },
  {
   "cell_type": "code",
   "execution_count": 366,
   "id": "f190008a-b6e4-4e86-aac8-c41a49e9137a",
   "metadata": {},
   "outputs": [],
   "source": [
    "cumulative_variance3 = np.cumsum(np.round(explained_variance3, decimals=3))"
   ]
  },
  {
   "cell_type": "code",
   "execution_count": 367,
   "id": "7e570437-9f75-441f-bca3-191eccb1121d",
   "metadata": {},
   "outputs": [
    {
     "data": {
      "text/plain": [
       "<matplotlib.lines.Line2D at 0x7ff8b1595970>"
      ]
     },
     "execution_count": 367,
     "metadata": {},
     "output_type": "execute_result"
    },
    {
     "data": {
      "image/png": "[encoded data removed]",
      "text/plain": [
       "<Figure size 720x504 with 1 Axes>"
      ]
     },
     "metadata": {},
     "output_type": "display_data"
    }
   ],
   "source": [
    "x = list(range(1,N+1))\n",
    "plt.figure(figsize=(10, 7)) \n",
    "plt.bar(x,explained_variance3)\n",
    "plt.scatter(range(1,N+1),cumulative_variance3)\n",
    "plt.plot(x,cumulative_variance3)\n",
    "plt.title('Variance')\n",
    "plt.xlabel('PC Number')\n",
    "plt.ylabel('Proportion of Variance Explained by PC')\n",
    "plt.axhline(y=0.7, color='r')"
   ]
  },
  {
   "cell_type": "code",
   "execution_count": 368,
   "id": "a3bb4407-cbab-4725-bb2d-86bb2b2e9ff1",
   "metadata": {},
   "outputs": [
    {
     "data": {
      "image/png": "[encoded data removed]",
      "text/plain": [
       "<Figure size 720x504 with 1 Axes>"
      ]
     },
     "metadata": {},
     "output_type": "display_data"
    }
   ],
   "source": [
    "#Scree Plot \n",
    "plt.figure(figsize=(10, 7)) \n",
    "plt.scatter(range(1,N+1),explained_variance3)\n",
    "plt.plot(range(1,N+1),explained_variance3)\n",
    "plt.title('Scree Plot')\n",
    "plt.xlabel('PC Number')\n",
    "plt.ylabel('Variance Explained by PC')\n",
    "plt.grid()"
   ]
  },
  {
   "cell_type": "code",
   "execution_count": 369,
   "id": "8d09aac5-90c3-4c94-8384-8426a8f2c0eb",
   "metadata": {},
   "outputs": [
    {
     "data": {
      "text/plain": [
       "3"
      ]
     },
     "execution_count": 369,
     "metadata": {},
     "output_type": "execute_result"
    }
   ],
   "source": [
    "kl2 = KneeLocator(range(1, N+1), model3.explained_variance_ratio_, curve=\"convex\", direction=\"decreasing\")\n",
    "kl2.elbow"
   ]
  },
  {
   "cell_type": "code",
   "execution_count": 427,
   "id": "5d96936c-95fd-4cce-8990-082898340f48",
   "metadata": {},
   "outputs": [
    {
     "data": {
      "text/html": [
       "<div>\n",
       "<style scoped>\n",
       "    .dataframe tbody tr th:only-of-type {\n",
       "        vertical-align: middle;\n",
       "    }\n",
       "\n",
       "    .dataframe tbody tr th {\n",
       "        vertical-align: top;\n",
       "    }\n",
       "\n",
       "    .dataframe thead th {\n",
       "        text-align: right;\n",
       "    }\n",
       "</style>\n",
       "<table border=\"1\" class=\"dataframe\">\n",
       "  <thead>\n",
       "    <tr style=\"text-align: right;\">\n",
       "      <th></th>\n",
       "      <th>PC1</th>\n",
       "      <th>PC2</th>\n",
       "    </tr>\n",
       "  </thead>\n",
       "  <tbody>\n",
       "    <tr>\n",
       "      <th>temperature</th>\n",
       "      <td>0.947466</td>\n",
       "      <td></td>\n",
       "    </tr>\n",
       "    <tr>\n",
       "      <th>rainfall</th>\n",
       "      <td></td>\n",
       "      <td>0.792289</td>\n",
       "    </tr>\n",
       "    <tr>\n",
       "      <th>wind_speed</th>\n",
       "      <td></td>\n",
       "      <td></td>\n",
       "    </tr>\n",
       "    <tr>\n",
       "      <th>solar_radiation</th>\n",
       "      <td>0.767545</td>\n",
       "      <td>-0.529006</td>\n",
       "    </tr>\n",
       "    <tr>\n",
       "      <th>dewpoint_temp</th>\n",
       "      <td>0.872468</td>\n",
       "      <td></td>\n",
       "    </tr>\n",
       "    <tr>\n",
       "      <th>humidity</th>\n",
       "      <td></td>\n",
       "      <td>0.862505</td>\n",
       "    </tr>\n",
       "  </tbody>\n",
       "</table>\n",
       "</div>"
      ],
      "text/plain": [
       "                      PC1       PC2\n",
       "temperature      0.947466          \n",
       "rainfall                   0.792289\n",
       "wind_speed                         \n",
       "solar_radiation  0.767545 -0.529006\n",
       "dewpoint_temp    0.872468          \n",
       "humidity                   0.862505"
      ]
     },
     "execution_count": 427,
     "metadata": {},
     "output_type": "execute_result"
    }
   ],
   "source": [
    "pca_label2, df_pca_array2 = evaluate_pcs(2,df_wo_vis)\n",
    "pca_label2"
   ]
  },
  {
   "cell_type": "code",
   "execution_count": 428,
   "id": "d7cfbdee-7db4-48f9-8767-759ee88b6d43",
   "metadata": {},
   "outputs": [
    {
     "name": "stdout",
     "output_type": "stream",
     "text": [
      "0.8375002484595583\n",
      "0.6916497292299699\n"
     ]
    }
   ],
   "source": [
    "# 2 PCs\n",
    "print(CronbachAlpha(scaled_features2[['temperature','solar_radiation','dewpoint_temp']])) #Reliability of PC2\n",
    "print(CronbachAlpha(scaled_features2[['rainfall','humidity']])) #Reliability of PC1\n",
    "#print(CronbachAlpha(scaled_features[['temperature','solar_radiation']])) #Reliability of PC2"
   ]
  },
  {
   "cell_type": "code",
   "execution_count": 429,
   "id": "4ad94b59-9feb-440c-924d-b96740e6ee74",
   "metadata": {},
   "outputs": [
    {
     "data": {
      "text/html": [
       "<div>\n",
       "<style scoped>\n",
       "    .dataframe tbody tr th:only-of-type {\n",
       "        vertical-align: middle;\n",
       "    }\n",
       "\n",
       "    .dataframe tbody tr th {\n",
       "        vertical-align: top;\n",
       "    }\n",
       "\n",
       "    .dataframe thead th {\n",
       "        text-align: right;\n",
       "    }\n",
       "</style>\n",
       "<table border=\"1\" class=\"dataframe\">\n",
       "  <thead>\n",
       "    <tr style=\"text-align: right;\">\n",
       "      <th></th>\n",
       "      <th>PC1</th>\n",
       "      <th>PC2</th>\n",
       "    </tr>\n",
       "  </thead>\n",
       "  <tbody>\n",
       "    <tr>\n",
       "      <th>0</th>\n",
       "      <td>-1.339778</td>\n",
       "      <td>-0.295553</td>\n",
       "    </tr>\n",
       "    <tr>\n",
       "      <th>1</th>\n",
       "      <td>-0.979877</td>\n",
       "      <td>0.175725</td>\n",
       "    </tr>\n",
       "    <tr>\n",
       "      <th>2</th>\n",
       "      <td>-0.833352</td>\n",
       "      <td>1.126314</td>\n",
       "    </tr>\n",
       "    <tr>\n",
       "      <th>3</th>\n",
       "      <td>-1.293541</td>\n",
       "      <td>-0.674020</td>\n",
       "    </tr>\n",
       "    <tr>\n",
       "      <th>4</th>\n",
       "      <td>-1.750043</td>\n",
       "      <td>-0.245098</td>\n",
       "    </tr>\n",
       "  </tbody>\n",
       "</table>\n",
       "</div>"
      ],
      "text/plain": [
       "        PC1       PC2\n",
       "0 -1.339778 -0.295553\n",
       "1 -0.979877  0.175725\n",
       "2 -0.833352  1.126314\n",
       "3 -1.293541 -0.674020\n",
       "4 -1.750043 -0.245098"
      ]
     },
     "execution_count": 429,
     "metadata": {},
     "output_type": "execute_result"
    }
   ],
   "source": [
    "df_pca2 = pd.DataFrame(df_pca_array2, columns =['PC1','PC2'])\n",
    "df_pca2.head()"
   ]
  },
  {
   "cell_type": "markdown",
   "id": "c2d647cf-8dcc-4af2-a3dd-a7382ed72101",
   "metadata": {},
   "source": [
    "# 3rd run without Solar_Radiation"
   ]
  },
  {
   "cell_type": "code",
   "execution_count": 378,
   "id": "f9629b3a-18c3-4323-af64-5e0f38cdb3e6",
   "metadata": {},
   "outputs": [],
   "source": [
    "df_wo_vis_sol = df_wo_vis.drop(columns = ['solar_radiation'])\n",
    "N = len(df_wo_vis_sol.columns)\n",
    "model4 = PCA(n_components = N)\n",
    "model4.fit(df_wo_vis_sol)\n",
    "explained_variance4 = model4.explained_variance_ratio_ #Explained Variance Ratio\n",
    "cumulative_variance4 = np.cumsum(np.round(explained_variance4, decimals=3))\n"
   ]
  },
  {
   "cell_type": "code",
   "execution_count": 380,
   "id": "435cc0fb-f45f-4f4c-a32a-284060c6be37",
   "metadata": {},
   "outputs": [
    {
     "data": {
      "text/html": [
       "<div>\n",
       "<style scoped>\n",
       "    .dataframe tbody tr th:only-of-type {\n",
       "        vertical-align: middle;\n",
       "    }\n",
       "\n",
       "    .dataframe tbody tr th {\n",
       "        vertical-align: top;\n",
       "    }\n",
       "\n",
       "    .dataframe thead th {\n",
       "        text-align: right;\n",
       "    }\n",
       "</style>\n",
       "<table border=\"1\" class=\"dataframe\">\n",
       "  <thead>\n",
       "    <tr style=\"text-align: right;\">\n",
       "      <th></th>\n",
       "      <th>PC1</th>\n",
       "      <th>PC2</th>\n",
       "    </tr>\n",
       "  </thead>\n",
       "  <tbody>\n",
       "    <tr>\n",
       "      <th>temperature</th>\n",
       "      <td>0.947018</td>\n",
       "      <td></td>\n",
       "    </tr>\n",
       "    <tr>\n",
       "      <th>rainfall</th>\n",
       "      <td></td>\n",
       "      <td>0.931555</td>\n",
       "    </tr>\n",
       "    <tr>\n",
       "      <th>wind_speed</th>\n",
       "      <td></td>\n",
       "      <td></td>\n",
       "    </tr>\n",
       "    <tr>\n",
       "      <th>dewpoint_temp</th>\n",
       "      <td>0.933796</td>\n",
       "      <td></td>\n",
       "    </tr>\n",
       "    <tr>\n",
       "      <th>humidity</th>\n",
       "      <td></td>\n",
       "      <td>0.75605</td>\n",
       "    </tr>\n",
       "  </tbody>\n",
       "</table>\n",
       "</div>"
      ],
      "text/plain": [
       "                    PC1       PC2\n",
       "temperature    0.947018          \n",
       "rainfall                 0.931555\n",
       "wind_speed                       \n",
       "dewpoint_temp  0.933796          \n",
       "humidity                  0.75605"
      ]
     },
     "execution_count": 380,
     "metadata": {},
     "output_type": "execute_result"
    }
   ],
   "source": [
    "kl3 = KneeLocator(range(1, N+1), model4.explained_variance_ratio_, curve=\"convex\", direction=\"decreasing\")\n",
    "pca_label3, df_pca_array3 = evaluate_pcs(kl3.elbow,df_wo_vis_sol)\n",
    "pca_label3"
   ]
  },
  {
   "cell_type": "code",
   "execution_count": 381,
   "id": "087162c8-bbdc-498b-baf5-d125fc543eae",
   "metadata": {},
   "outputs": [
    {
     "name": "stdout",
     "output_type": "stream",
     "text": [
      "0.9810455389386472\n",
      "0.6916497292299699\n"
     ]
    }
   ],
   "source": [
    "print(CronbachAlpha(scaled_features[['temperature','dewpoint_temp']])) #Reliability of PC1\n",
    "print(CronbachAlpha(scaled_features[['rainfall','humidity']])) #Reliability of PC2"
   ]
  },
  {
   "cell_type": "markdown",
   "id": "2bde10ec-fe98-4d80-a397-8f60e02961f4",
   "metadata": {},
   "source": [
    "\n",
    "# 4th Run: Restart and drop dewpoint_temp"
   ]
  },
  {
   "cell_type": "code",
   "execution_count": 386,
   "id": "413f831a-52b7-4b9a-96af-b523c9c8856c",
   "metadata": {},
   "outputs": [
    {
     "data": {
      "text/html": [
       "<div>\n",
       "<style scoped>\n",
       "    .dataframe tbody tr th:only-of-type {\n",
       "        vertical-align: middle;\n",
       "    }\n",
       "\n",
       "    .dataframe tbody tr th {\n",
       "        vertical-align: top;\n",
       "    }\n",
       "\n",
       "    .dataframe thead th {\n",
       "        text-align: right;\n",
       "    }\n",
       "</style>\n",
       "<table border=\"1\" class=\"dataframe\">\n",
       "  <thead>\n",
       "    <tr style=\"text-align: right;\">\n",
       "      <th></th>\n",
       "      <th>Unnamed: 0</th>\n",
       "      <th>temperature</th>\n",
       "      <th>rainfall</th>\n",
       "      <th>wind_speed</th>\n",
       "      <th>visibility</th>\n",
       "      <th>solar_radiation</th>\n",
       "      <th>humidity</th>\n",
       "    </tr>\n",
       "  </thead>\n",
       "  <tbody>\n",
       "    <tr>\n",
       "      <th>0</th>\n",
       "      <td>1</td>\n",
       "      <td>-2.454167</td>\n",
       "      <td>0.0</td>\n",
       "      <td>1.537500</td>\n",
       "      <td>18707.500000</td>\n",
       "      <td>0.248750</td>\n",
       "      <td>45.875000</td>\n",
       "    </tr>\n",
       "    <tr>\n",
       "      <th>1</th>\n",
       "      <td>2</td>\n",
       "      <td>1.325000</td>\n",
       "      <td>0.0</td>\n",
       "      <td>1.712500</td>\n",
       "      <td>14710.833333</td>\n",
       "      <td>0.263750</td>\n",
       "      <td>61.958333</td>\n",
       "    </tr>\n",
       "    <tr>\n",
       "      <th>2</th>\n",
       "      <td>3</td>\n",
       "      <td>4.875000</td>\n",
       "      <td>4.0</td>\n",
       "      <td>1.612500</td>\n",
       "      <td>4557.500000</td>\n",
       "      <td>0.125417</td>\n",
       "      <td>81.541667</td>\n",
       "    </tr>\n",
       "    <tr>\n",
       "      <th>3</th>\n",
       "      <td>4</td>\n",
       "      <td>-0.304167</td>\n",
       "      <td>0.1</td>\n",
       "      <td>3.450000</td>\n",
       "      <td>13628.333333</td>\n",
       "      <td>0.282917</td>\n",
       "      <td>52.500000</td>\n",
       "    </tr>\n",
       "    <tr>\n",
       "      <th>4</th>\n",
       "      <td>5</td>\n",
       "      <td>-4.458333</td>\n",
       "      <td>0.0</td>\n",
       "      <td>1.108333</td>\n",
       "      <td>19594.583333</td>\n",
       "      <td>0.035833</td>\n",
       "      <td>36.416667</td>\n",
       "    </tr>\n",
       "  </tbody>\n",
       "</table>\n",
       "</div>"
      ],
      "text/plain": [
       "   Unnamed: 0  temperature  rainfall  wind_speed    visibility  \\\n",
       "0           1    -2.454167       0.0    1.537500  18707.500000   \n",
       "1           2     1.325000       0.0    1.712500  14710.833333   \n",
       "2           3     4.875000       4.0    1.612500   4557.500000   \n",
       "3           4    -0.304167       0.1    3.450000  13628.333333   \n",
       "4           5    -4.458333       0.0    1.108333  19594.583333   \n",
       "\n",
       "   solar_radiation   humidity  \n",
       "0         0.248750  45.875000  \n",
       "1         0.263750  61.958333  \n",
       "2         0.125417  81.541667  \n",
       "3         0.282917  52.500000  \n",
       "4         0.035833  36.416667  "
      ]
     },
     "execution_count": 386,
     "metadata": {},
     "output_type": "execute_result"
    }
   ],
   "source": [
    "bike5 = bike.copy()\n",
    "bike5.drop(columns = ['date','holiday','rent_count','season_no','season','snowfall','dewpoint_temp'\n",
    "                          ],inplace=True)\n",
    "bike5.head()"
   ]
  },
  {
   "cell_type": "code",
   "execution_count": 387,
   "id": "700ee3ec-aef4-4bc6-9eb9-56d6534f0c2f",
   "metadata": {},
   "outputs": [
    {
     "data": {
      "text/html": [
       "<div>\n",
       "<style scoped>\n",
       "    .dataframe tbody tr th:only-of-type {\n",
       "        vertical-align: middle;\n",
       "    }\n",
       "\n",
       "    .dataframe tbody tr th {\n",
       "        vertical-align: top;\n",
       "    }\n",
       "\n",
       "    .dataframe thead th {\n",
       "        text-align: right;\n",
       "    }\n",
       "</style>\n",
       "<table border=\"1\" class=\"dataframe\">\n",
       "  <thead>\n",
       "    <tr style=\"text-align: right;\">\n",
       "      <th></th>\n",
       "      <th>temperature</th>\n",
       "      <th>rainfall</th>\n",
       "      <th>wind_speed</th>\n",
       "      <th>visibility</th>\n",
       "      <th>solar_radiation</th>\n",
       "      <th>humidity</th>\n",
       "    </tr>\n",
       "  </thead>\n",
       "  <tbody>\n",
       "    <tr>\n",
       "      <th>0</th>\n",
       "      <td>-2.454167</td>\n",
       "      <td>0.0</td>\n",
       "      <td>1.537500</td>\n",
       "      <td>18707.500000</td>\n",
       "      <td>0.248750</td>\n",
       "      <td>45.875000</td>\n",
       "    </tr>\n",
       "    <tr>\n",
       "      <th>1</th>\n",
       "      <td>1.325000</td>\n",
       "      <td>0.0</td>\n",
       "      <td>1.712500</td>\n",
       "      <td>14710.833333</td>\n",
       "      <td>0.263750</td>\n",
       "      <td>61.958333</td>\n",
       "    </tr>\n",
       "    <tr>\n",
       "      <th>2</th>\n",
       "      <td>4.875000</td>\n",
       "      <td>4.0</td>\n",
       "      <td>1.612500</td>\n",
       "      <td>4557.500000</td>\n",
       "      <td>0.125417</td>\n",
       "      <td>81.541667</td>\n",
       "    </tr>\n",
       "    <tr>\n",
       "      <th>3</th>\n",
       "      <td>-0.304167</td>\n",
       "      <td>0.1</td>\n",
       "      <td>3.450000</td>\n",
       "      <td>13628.333333</td>\n",
       "      <td>0.282917</td>\n",
       "      <td>52.500000</td>\n",
       "    </tr>\n",
       "    <tr>\n",
       "      <th>4</th>\n",
       "      <td>-4.458333</td>\n",
       "      <td>0.0</td>\n",
       "      <td>1.108333</td>\n",
       "      <td>19594.583333</td>\n",
       "      <td>0.035833</td>\n",
       "      <td>36.416667</td>\n",
       "    </tr>\n",
       "  </tbody>\n",
       "</table>\n",
       "</div>"
      ],
      "text/plain": [
       "   temperature  rainfall  wind_speed    visibility  solar_radiation   humidity\n",
       "0    -2.454167       0.0    1.537500  18707.500000         0.248750  45.875000\n",
       "1     1.325000       0.0    1.712500  14710.833333         0.263750  61.958333\n",
       "2     4.875000       4.0    1.612500   4557.500000         0.125417  81.541667\n",
       "3    -0.304167       0.1    3.450000  13628.333333         0.282917  52.500000\n",
       "4    -4.458333       0.0    1.108333  19594.583333         0.035833  36.416667"
      ]
     },
     "execution_count": 387,
     "metadata": {},
     "output_type": "execute_result"
    }
   ],
   "source": [
    "bike_wo_dp = bike5.iloc[: , 1:]\n",
    "bike_wo_dp.head()"
   ]
  },
  {
   "cell_type": "code",
   "execution_count": 390,
   "id": "839c0e1d-9e3d-41cc-a304-0c661702393a",
   "metadata": {},
   "outputs": [
    {
     "data": {
      "text/plain": [
       "8.37345795545041e-155"
      ]
     },
     "execution_count": 390,
     "metadata": {},
     "output_type": "execute_result"
    }
   ],
   "source": [
    "_ , p_value = calculate_bartlett_sphericity(bike_wo_dp)\n",
    "p_value"
   ]
  },
  {
   "cell_type": "code",
   "execution_count": 391,
   "id": "b7e3dfdf-29c4-4b36-abac-a4a25813b8a1",
   "metadata": {},
   "outputs": [
    {
     "data": {
      "text/plain": [
       "0.41639806462383744"
      ]
     },
     "execution_count": 391,
     "metadata": {},
     "output_type": "execute_result"
    }
   ],
   "source": [
    "_, kmo_score = calculate_kmo(bike_wo_dp)\n",
    "kmo_score "
   ]
  },
  {
   "cell_type": "code",
   "execution_count": 416,
   "id": "ac423f1e-b553-41ca-8d4a-58683f944f00",
   "metadata": {},
   "outputs": [],
   "source": [
    "colnames = list(bike_wo_dp.columns)\n",
    "\n",
    "scaled_features3 = pd.DataFrame(scaler.fit_transform(bike_wo_dp))\n",
    "\n",
    "scaled_features3.columns = colnames"
   ]
  },
  {
   "cell_type": "code",
   "execution_count": 417,
   "id": "eac11b5a-8a7d-45e6-9041-3bf3813f3814",
   "metadata": {},
   "outputs": [
    {
     "data": {
      "text/plain": [
       "<AxesSubplot:>"
      ]
     },
     "execution_count": 417,
     "metadata": {},
     "output_type": "execute_result"
    },
    {
     "data": {
      "image/png": "[encoded data removed]",
      "text/plain": [
       "<Figure size 1440x720 with 2 Axes>"
      ]
     },
     "metadata": {},
     "output_type": "display_data"
    }
   ],
   "source": [
    "corr = scaled_features3.corr()\n",
    "plt.subplots(figsize=(20, 10))\n",
    "# Generate a custom diverging colormap\n",
    "cmap = sns.diverging_palette(230, 20, as_cmap=True)\n",
    "\n",
    "mask = np.triu(np.ones_like(corr, dtype=bool))\n",
    "\n",
    "# Draw the heatmap with the mask and correct aspect ratio\n",
    "sns.heatmap(corr, mask=mask,cmap=cmap,vmax =0.7, center=0,\n",
    "            square=True, linewidths=.5, cbar_kws={\"shrink\": .5})\n"
   ]
  },
  {
   "cell_type": "code",
   "execution_count": 418,
   "id": "e3b37774-247a-4d1c-82ce-de398e8ae2e7",
   "metadata": {},
   "outputs": [
    {
     "data": {
      "text/plain": [
       "3"
      ]
     },
     "execution_count": 418,
     "metadata": {},
     "output_type": "execute_result"
    }
   ],
   "source": [
    "N = len(scaled_features3.columns)\n",
    "model5 = PCA(n_components = N)\n",
    "model5.fit(scaled_features3)\n",
    "explained_variance5 = model5.explained_variance_ratio_ #Explained Variance Ratio\n",
    "cumulative_variance5 = np.cumsum(np.round(explained_variance5, decimals=3))\n",
    "\n",
    "kl4 = KneeLocator(range(1, N+1), model5.explained_variance_ratio_, curve=\"convex\", direction=\"decreasing\")\n",
    "kl4.elbow"
   ]
  },
  {
   "cell_type": "code",
   "execution_count": 402,
   "id": "904e3658-25f2-4582-a974-e080a6ca4a34",
   "metadata": {},
   "outputs": [
    {
     "data": {
      "text/html": [
       "<div>\n",
       "<style scoped>\n",
       "    .dataframe tbody tr th:only-of-type {\n",
       "        vertical-align: middle;\n",
       "    }\n",
       "\n",
       "    .dataframe tbody tr th {\n",
       "        vertical-align: top;\n",
       "    }\n",
       "\n",
       "    .dataframe thead th {\n",
       "        text-align: right;\n",
       "    }\n",
       "</style>\n",
       "<table border=\"1\" class=\"dataframe\">\n",
       "  <thead>\n",
       "    <tr style=\"text-align: right;\">\n",
       "      <th></th>\n",
       "      <th>PC1</th>\n",
       "      <th>PC2</th>\n",
       "    </tr>\n",
       "  </thead>\n",
       "  <tbody>\n",
       "    <tr>\n",
       "      <th>temperature</th>\n",
       "      <td></td>\n",
       "      <td>0.912968</td>\n",
       "    </tr>\n",
       "    <tr>\n",
       "      <th>rainfall</th>\n",
       "      <td>0.692225</td>\n",
       "      <td></td>\n",
       "    </tr>\n",
       "    <tr>\n",
       "      <th>wind_speed</th>\n",
       "      <td></td>\n",
       "      <td></td>\n",
       "    </tr>\n",
       "    <tr>\n",
       "      <th>visibility</th>\n",
       "      <td>-0.697308</td>\n",
       "      <td></td>\n",
       "    </tr>\n",
       "    <tr>\n",
       "      <th>solar_radiation</th>\n",
       "      <td></td>\n",
       "      <td>0.81629</td>\n",
       "    </tr>\n",
       "    <tr>\n",
       "      <th>humidity</th>\n",
       "      <td>0.893664</td>\n",
       "      <td></td>\n",
       "    </tr>\n",
       "  </tbody>\n",
       "</table>\n",
       "</div>"
      ],
      "text/plain": [
       "                      PC1       PC2\n",
       "temperature                0.912968\n",
       "rainfall         0.692225          \n",
       "wind_speed                         \n",
       "visibility      -0.697308          \n",
       "solar_radiation             0.81629\n",
       "humidity         0.893664          "
      ]
     },
     "execution_count": 402,
     "metadata": {},
     "output_type": "execute_result"
    }
   ],
   "source": [
    "pca_label4, df_pca_array4 = evaluate_pcs(2,scaled_features3)\n",
    "pca_label4"
   ]
  },
  {
   "cell_type": "code",
   "execution_count": 410,
   "id": "5e4f1c90-38d1-4535-bf18-c9c93c5a0605",
   "metadata": {},
   "outputs": [
    {
     "name": "stdout",
     "output_type": "stream",
     "text": [
      "0.6916497292299699\n",
      "0.7099057250009291\n"
     ]
    }
   ],
   "source": [
    "print(CronbachAlpha(scaled_features3[['rainfall','humidity']])) #Reliability of PC2\n",
    "print(CronbachAlpha(scaled_features3[['temperature','solar_radiation']])) #Reliability of PC1"
   ]
  },
  {
   "cell_type": "code",
   "execution_count": 420,
   "id": "f182c70d-8731-43e4-ba41-b383438748c1",
   "metadata": {},
   "outputs": [
    {
     "data": {
      "text/html": [
       "<div>\n",
       "<style scoped>\n",
       "    .dataframe tbody tr th:only-of-type {\n",
       "        vertical-align: middle;\n",
       "    }\n",
       "\n",
       "    .dataframe tbody tr th {\n",
       "        vertical-align: top;\n",
       "    }\n",
       "\n",
       "    .dataframe thead th {\n",
       "        text-align: right;\n",
       "    }\n",
       "</style>\n",
       "<table border=\"1\" class=\"dataframe\">\n",
       "  <thead>\n",
       "    <tr style=\"text-align: right;\">\n",
       "      <th></th>\n",
       "      <th>PC1</th>\n",
       "      <th>PC2</th>\n",
       "    </tr>\n",
       "  </thead>\n",
       "  <tbody>\n",
       "    <tr>\n",
       "      <th>temperature</th>\n",
       "      <td></td>\n",
       "      <td>0.843552</td>\n",
       "    </tr>\n",
       "    <tr>\n",
       "      <th>rainfall</th>\n",
       "      <td>0.762882</td>\n",
       "      <td></td>\n",
       "    </tr>\n",
       "    <tr>\n",
       "      <th>wind_speed</th>\n",
       "      <td></td>\n",
       "      <td></td>\n",
       "    </tr>\n",
       "    <tr>\n",
       "      <th>solar_radiation</th>\n",
       "      <td></td>\n",
       "      <td>0.887205</td>\n",
       "    </tr>\n",
       "    <tr>\n",
       "      <th>humidity</th>\n",
       "      <td>0.878788</td>\n",
       "      <td></td>\n",
       "    </tr>\n",
       "  </tbody>\n",
       "</table>\n",
       "</div>"
      ],
      "text/plain": [
       "                      PC1       PC2\n",
       "temperature                0.843552\n",
       "rainfall         0.762882          \n",
       "wind_speed                         \n",
       "solar_radiation            0.887205\n",
       "humidity         0.878788          "
      ]
     },
     "execution_count": 420,
     "metadata": {},
     "output_type": "execute_result"
    }
   ],
   "source": [
    "df2_wo_vis = scaled_features.drop(columns = ['visibility','dewpoint_temp'])\n",
    "N = len(df2_wo_vis.columns)\n",
    "model6 = PCA(n_components = N)\n",
    "model6.fit(df2_wo_vis)\n",
    "explained_variance6 = model6.explained_variance_ratio_ #Explained Variance Ratio\n",
    "cumulative_variance6 = np.cumsum(np.round(explained_variance6, decimals=3))\n",
    "pca_label6, df_pca_array6 = evaluate_pcs(2,df2_wo_vis)\n",
    "pca_label6\n"
   ]
  },
  {
   "cell_type": "code",
   "execution_count": 421,
   "id": "af2af7ba-222f-4e87-ac9d-d9f920099801",
   "metadata": {},
   "outputs": [
    {
     "name": "stdout",
     "output_type": "stream",
     "text": [
      "0.6916497292299699\n",
      "0.7099057250009291\n"
     ]
    }
   ],
   "source": [
    "print(CronbachAlpha(scaled_features[['rainfall','humidity']])) #Reliability of PC2\n",
    "print(CronbachAlpha(scaled_features[['temperature','solar_radiation']])) #Reliability of PC1"
   ]
  }
 ],
 "metadata": {
  "kernelspec": {
   "display_name": "Python 3 (ipykernel)",
   "language": "python",
   "name": "python3"
  },
  "language_info": {
   "codemirror_mode": {
    "name": "ipython",
    "version": 3
   },
   "file_extension": ".py",
   "mimetype": "text/x-python",
   "name": "python",
   "nbconvert_exporter": "python",
   "pygments_lexer": "ipython3",
   "version": "3.8.5"
  },
  "toc-autonumbering": true,
  "toc-showmarkdowntxt": true
 },
 "nbformat": 4,
 "nbformat_minor": 5
}
