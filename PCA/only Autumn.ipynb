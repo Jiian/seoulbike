{
 "cells": [
  {
   "cell_type": "code",
   "execution_count": 1,
   "id": "5e394055-b46b-4040-a6b0-ce5fbf06c787",
   "metadata": {},
   "outputs": [],
   "source": [
    "import pandas as pd\n",
    "import numpy as np\n",
    "import seaborn as sns\n",
    "import matplotlib.pyplot as plt\n",
    "from sklearn.preprocessing import StandardScaler\n",
    "from sklearn.decomposition import PCA\n",
    "from factor_analyzer import FactorAnalyzer\n",
    "from yellowbrick.features import PCA as YBPCA\n",
    "from kneed import KneeLocator\n",
    "from factor_analyzer.factor_analyzer import calculate_bartlett_sphericity\n",
    "from factor_analyzer.factor_analyzer import calculate_kmo\n",
    "#import plotly.express as px"
   ]
  },
  {
   "cell_type": "code",
   "execution_count": 2,
   "id": "00911e28-5abd-457f-b7eb-80474331aeca",
   "metadata": {},
   "outputs": [
    {
     "data": {
      "text/html": [
       "<div>\n",
       "<style scoped>\n",
       "    .dataframe tbody tr th:only-of-type {\n",
       "        vertical-align: middle;\n",
       "    }\n",
       "\n",
       "    .dataframe tbody tr th {\n",
       "        vertical-align: top;\n",
       "    }\n",
       "\n",
       "    .dataframe thead th {\n",
       "        text-align: right;\n",
       "    }\n",
       "</style>\n",
       "<table border=\"1\" class=\"dataframe\">\n",
       "  <thead>\n",
       "    <tr style=\"text-align: right;\">\n",
       "      <th></th>\n",
       "      <th>Unnamed: 0</th>\n",
       "      <th>datetime</th>\n",
       "      <th>date</th>\n",
       "      <th>hour</th>\n",
       "      <th>season</th>\n",
       "      <th>holiday</th>\n",
       "      <th>open</th>\n",
       "      <th>rent_count</th>\n",
       "      <th>temperature</th>\n",
       "      <th>humidity</th>\n",
       "      <th>wind_speed</th>\n",
       "      <th>visibility</th>\n",
       "      <th>dewpoint_temp</th>\n",
       "      <th>solar_radiation</th>\n",
       "      <th>rainfall</th>\n",
       "      <th>snowfall</th>\n",
       "    </tr>\n",
       "  </thead>\n",
       "  <tbody>\n",
       "    <tr>\n",
       "      <th>0</th>\n",
       "      <td>1</td>\n",
       "      <td>2018-09-01 00:00:00</td>\n",
       "      <td>2018-09-01</td>\n",
       "      <td>0</td>\n",
       "      <td>Autumn</td>\n",
       "      <td>No Holiday</td>\n",
       "      <td>Yes</td>\n",
       "      <td>1075</td>\n",
       "      <td>23.2</td>\n",
       "      <td>83</td>\n",
       "      <td>0.5</td>\n",
       "      <td>18870</td>\n",
       "      <td>20.1</td>\n",
       "      <td>0.0</td>\n",
       "      <td>0.0</td>\n",
       "      <td>0</td>\n",
       "    </tr>\n",
       "    <tr>\n",
       "      <th>1</th>\n",
       "      <td>2</td>\n",
       "      <td>2018-09-01 01:00:00</td>\n",
       "      <td>2018-09-01</td>\n",
       "      <td>1</td>\n",
       "      <td>Autumn</td>\n",
       "      <td>No Holiday</td>\n",
       "      <td>Yes</td>\n",
       "      <td>975</td>\n",
       "      <td>22.7</td>\n",
       "      <td>83</td>\n",
       "      <td>0.1</td>\n",
       "      <td>19400</td>\n",
       "      <td>19.6</td>\n",
       "      <td>0.0</td>\n",
       "      <td>0.0</td>\n",
       "      <td>0</td>\n",
       "    </tr>\n",
       "    <tr>\n",
       "      <th>2</th>\n",
       "      <td>3</td>\n",
       "      <td>2018-09-01 02:00:00</td>\n",
       "      <td>2018-09-01</td>\n",
       "      <td>2</td>\n",
       "      <td>Autumn</td>\n",
       "      <td>No Holiday</td>\n",
       "      <td>Yes</td>\n",
       "      <td>785</td>\n",
       "      <td>22.0</td>\n",
       "      <td>86</td>\n",
       "      <td>0.4</td>\n",
       "      <td>17030</td>\n",
       "      <td>19.5</td>\n",
       "      <td>0.0</td>\n",
       "      <td>0.0</td>\n",
       "      <td>0</td>\n",
       "    </tr>\n",
       "    <tr>\n",
       "      <th>3</th>\n",
       "      <td>4</td>\n",
       "      <td>2018-09-01 03:00:00</td>\n",
       "      <td>2018-09-01</td>\n",
       "      <td>3</td>\n",
       "      <td>Autumn</td>\n",
       "      <td>No Holiday</td>\n",
       "      <td>Yes</td>\n",
       "      <td>514</td>\n",
       "      <td>21.6</td>\n",
       "      <td>87</td>\n",
       "      <td>0.3</td>\n",
       "      <td>15790</td>\n",
       "      <td>19.3</td>\n",
       "      <td>0.0</td>\n",
       "      <td>0.0</td>\n",
       "      <td>0</td>\n",
       "    </tr>\n",
       "    <tr>\n",
       "      <th>4</th>\n",
       "      <td>5</td>\n",
       "      <td>2018-09-01 04:00:00</td>\n",
       "      <td>2018-09-01</td>\n",
       "      <td>4</td>\n",
       "      <td>Autumn</td>\n",
       "      <td>No Holiday</td>\n",
       "      <td>Yes</td>\n",
       "      <td>338</td>\n",
       "      <td>21.2</td>\n",
       "      <td>88</td>\n",
       "      <td>0.9</td>\n",
       "      <td>11830</td>\n",
       "      <td>19.1</td>\n",
       "      <td>0.0</td>\n",
       "      <td>0.0</td>\n",
       "      <td>0</td>\n",
       "    </tr>\n",
       "  </tbody>\n",
       "</table>\n",
       "</div>"
      ],
      "text/plain": [
       "   Unnamed: 0             datetime        date  hour  season     holiday open  \\\n",
       "0           1  2018-09-01 00:00:00  2018-09-01     0  Autumn  No Holiday  Yes   \n",
       "1           2  2018-09-01 01:00:00  2018-09-01     1  Autumn  No Holiday  Yes   \n",
       "2           3  2018-09-01 02:00:00  2018-09-01     2  Autumn  No Holiday  Yes   \n",
       "3           4  2018-09-01 03:00:00  2018-09-01     3  Autumn  No Holiday  Yes   \n",
       "4           5  2018-09-01 04:00:00  2018-09-01     4  Autumn  No Holiday  Yes   \n",
       "\n",
       "   rent_count  temperature  humidity  wind_speed  visibility  dewpoint_temp  \\\n",
       "0        1075         23.2        83         0.5       18870           20.1   \n",
       "1         975         22.7        83         0.1       19400           19.6   \n",
       "2         785         22.0        86         0.4       17030           19.5   \n",
       "3         514         21.6        87         0.3       15790           19.3   \n",
       "4         338         21.2        88         0.9       11830           19.1   \n",
       "\n",
       "   solar_radiation  rainfall  snowfall  \n",
       "0              0.0       0.0         0  \n",
       "1              0.0       0.0         0  \n",
       "2              0.0       0.0         0  \n",
       "3              0.0       0.0         0  \n",
       "4              0.0       0.0         0  "
      ]
     },
     "execution_count": 2,
     "metadata": {},
     "output_type": "execute_result"
    }
   ],
   "source": [
    "bike_autumn = pd.read_csv(\"bike_autumn.csv\")\n",
    "bike_autumn.head()"
   ]
  },
  {
   "cell_type": "code",
   "execution_count": 3,
   "id": "55ac7575-9d81-477d-9310-47efa8144598",
   "metadata": {},
   "outputs": [
    {
     "data": {
      "text/plain": [
       "['datetime', 'date', 'season', 'holiday', 'open']"
      ]
     },
     "execution_count": 3,
     "metadata": {},
     "output_type": "execute_result"
    }
   ],
   "source": [
    "bike_autumn_col = list(bike_autumn.columns)\n",
    "bike_autumn_numeric_col = list(bike_autumn.describe().columns)\n",
    "diff_names = []\n",
    "for i in bike_autumn_col:\n",
    "\tif i not in bike_autumn_numeric_col:\n",
    "\t\tdiff_names.append(i)\n",
    "diff_names"
   ]
  },
  {
   "cell_type": "code",
   "execution_count": 4,
   "id": "f2269ff7-da09-4eb3-98d5-56250e2ac0e1",
   "metadata": {},
   "outputs": [
    {
     "data": {
      "text/html": [
       "<div>\n",
       "<style scoped>\n",
       "    .dataframe tbody tr th:only-of-type {\n",
       "        vertical-align: middle;\n",
       "    }\n",
       "\n",
       "    .dataframe tbody tr th {\n",
       "        vertical-align: top;\n",
       "    }\n",
       "\n",
       "    .dataframe thead th {\n",
       "        text-align: right;\n",
       "    }\n",
       "</style>\n",
       "<table border=\"1\" class=\"dataframe\">\n",
       "  <thead>\n",
       "    <tr style=\"text-align: right;\">\n",
       "      <th></th>\n",
       "      <th>Unnamed: 0</th>\n",
       "      <th>hour</th>\n",
       "      <th>temperature</th>\n",
       "      <th>humidity</th>\n",
       "      <th>wind_speed</th>\n",
       "      <th>visibility</th>\n",
       "      <th>solar_radiation</th>\n",
       "      <th>rainfall</th>\n",
       "      <th>snowfall</th>\n",
       "    </tr>\n",
       "  </thead>\n",
       "  <tbody>\n",
       "    <tr>\n",
       "      <th>0</th>\n",
       "      <td>1</td>\n",
       "      <td>0</td>\n",
       "      <td>23.2</td>\n",
       "      <td>83</td>\n",
       "      <td>0.5</td>\n",
       "      <td>18870</td>\n",
       "      <td>0.0</td>\n",
       "      <td>0.0</td>\n",
       "      <td>0</td>\n",
       "    </tr>\n",
       "    <tr>\n",
       "      <th>1</th>\n",
       "      <td>2</td>\n",
       "      <td>1</td>\n",
       "      <td>22.7</td>\n",
       "      <td>83</td>\n",
       "      <td>0.1</td>\n",
       "      <td>19400</td>\n",
       "      <td>0.0</td>\n",
       "      <td>0.0</td>\n",
       "      <td>0</td>\n",
       "    </tr>\n",
       "    <tr>\n",
       "      <th>2</th>\n",
       "      <td>3</td>\n",
       "      <td>2</td>\n",
       "      <td>22.0</td>\n",
       "      <td>86</td>\n",
       "      <td>0.4</td>\n",
       "      <td>17030</td>\n",
       "      <td>0.0</td>\n",
       "      <td>0.0</td>\n",
       "      <td>0</td>\n",
       "    </tr>\n",
       "    <tr>\n",
       "      <th>3</th>\n",
       "      <td>4</td>\n",
       "      <td>3</td>\n",
       "      <td>21.6</td>\n",
       "      <td>87</td>\n",
       "      <td>0.3</td>\n",
       "      <td>15790</td>\n",
       "      <td>0.0</td>\n",
       "      <td>0.0</td>\n",
       "      <td>0</td>\n",
       "    </tr>\n",
       "    <tr>\n",
       "      <th>4</th>\n",
       "      <td>5</td>\n",
       "      <td>4</td>\n",
       "      <td>21.2</td>\n",
       "      <td>88</td>\n",
       "      <td>0.9</td>\n",
       "      <td>11830</td>\n",
       "      <td>0.0</td>\n",
       "      <td>0.0</td>\n",
       "      <td>0</td>\n",
       "    </tr>\n",
       "  </tbody>\n",
       "</table>\n",
       "</div>"
      ],
      "text/plain": [
       "   Unnamed: 0  hour  temperature  humidity  wind_speed  visibility  \\\n",
       "0           1     0         23.2        83         0.5       18870   \n",
       "1           2     1         22.7        83         0.1       19400   \n",
       "2           3     2         22.0        86         0.4       17030   \n",
       "3           4     3         21.6        87         0.3       15790   \n",
       "4           5     4         21.2        88         0.9       11830   \n",
       "\n",
       "   solar_radiation  rainfall  snowfall  \n",
       "0              0.0       0.0         0  \n",
       "1              0.0       0.0         0  \n",
       "2              0.0       0.0         0  \n",
       "3              0.0       0.0         0  \n",
       "4              0.0       0.0         0  "
      ]
     },
     "execution_count": 4,
     "metadata": {},
     "output_type": "execute_result"
    }
   ],
   "source": [
    "bike_autumn2 = bike_autumn.copy()\n",
    "bike_autumn2.drop(columns = diff_names,inplace=True)\n",
    "#bike_autumn2.drop(columns = ['rent_count'], inplace = True)\n",
    "bike_autumn2.drop(columns = ['rent_count','dewpoint_temp'], inplace = True)\n",
    "bike_autumn2.head()"
   ]
  },
  {
   "cell_type": "code",
   "execution_count": 35,
   "id": "9523cc2a-d309-4a2e-b563-5853f724c509",
   "metadata": {},
   "outputs": [
    {
     "data": {
      "text/html": [
       "<div>\n",
       "<style scoped>\n",
       "    .dataframe tbody tr th:only-of-type {\n",
       "        vertical-align: middle;\n",
       "    }\n",
       "\n",
       "    .dataframe tbody tr th {\n",
       "        vertical-align: top;\n",
       "    }\n",
       "\n",
       "    .dataframe thead th {\n",
       "        text-align: right;\n",
       "    }\n",
       "</style>\n",
       "<table border=\"1\" class=\"dataframe\">\n",
       "  <thead>\n",
       "    <tr style=\"text-align: right;\">\n",
       "      <th></th>\n",
       "      <th>hour</th>\n",
       "      <th>temperature</th>\n",
       "      <th>humidity</th>\n",
       "      <th>wind_speed</th>\n",
       "      <th>visibility</th>\n",
       "      <th>solar_radiation</th>\n",
       "      <th>rainfall</th>\n",
       "    </tr>\n",
       "  </thead>\n",
       "  <tbody>\n",
       "    <tr>\n",
       "      <th>0</th>\n",
       "      <td>0</td>\n",
       "      <td>23.2</td>\n",
       "      <td>83</td>\n",
       "      <td>0.5</td>\n",
       "      <td>18870</td>\n",
       "      <td>0.0</td>\n",
       "      <td>0.0</td>\n",
       "    </tr>\n",
       "    <tr>\n",
       "      <th>1</th>\n",
       "      <td>1</td>\n",
       "      <td>22.7</td>\n",
       "      <td>83</td>\n",
       "      <td>0.1</td>\n",
       "      <td>19400</td>\n",
       "      <td>0.0</td>\n",
       "      <td>0.0</td>\n",
       "    </tr>\n",
       "    <tr>\n",
       "      <th>2</th>\n",
       "      <td>2</td>\n",
       "      <td>22.0</td>\n",
       "      <td>86</td>\n",
       "      <td>0.4</td>\n",
       "      <td>17030</td>\n",
       "      <td>0.0</td>\n",
       "      <td>0.0</td>\n",
       "    </tr>\n",
       "    <tr>\n",
       "      <th>3</th>\n",
       "      <td>3</td>\n",
       "      <td>21.6</td>\n",
       "      <td>87</td>\n",
       "      <td>0.3</td>\n",
       "      <td>15790</td>\n",
       "      <td>0.0</td>\n",
       "      <td>0.0</td>\n",
       "    </tr>\n",
       "    <tr>\n",
       "      <th>4</th>\n",
       "      <td>4</td>\n",
       "      <td>21.2</td>\n",
       "      <td>88</td>\n",
       "      <td>0.9</td>\n",
       "      <td>11830</td>\n",
       "      <td>0.0</td>\n",
       "      <td>0.0</td>\n",
       "    </tr>\n",
       "  </tbody>\n",
       "</table>\n",
       "</div>"
      ],
      "text/plain": [
       "   hour  temperature  humidity  wind_speed  visibility  solar_radiation  \\\n",
       "0     0         23.2        83         0.5       18870              0.0   \n",
       "1     1         22.7        83         0.1       19400              0.0   \n",
       "2     2         22.0        86         0.4       17030              0.0   \n",
       "3     3         21.6        87         0.3       15790              0.0   \n",
       "4     4         21.2        88         0.9       11830              0.0   \n",
       "\n",
       "   rainfall  \n",
       "0       0.0  \n",
       "1       0.0  \n",
       "2       0.0  \n",
       "3       0.0  \n",
       "4       0.0  "
      ]
     },
     "execution_count": 35,
     "metadata": {},
     "output_type": "execute_result"
    }
   ],
   "source": [
    "bike_autumn3 = bike_autumn2.iloc[: , 1:-1]\n",
    "bike_autumn3.head()"
   ]
  },
  {
   "cell_type": "code",
   "execution_count": 36,
   "id": "d45ef735-db19-4fdf-b7c1-6cf68c9e85f0",
   "metadata": {},
   "outputs": [
    {
     "data": {
      "text/html": [
       "<div>\n",
       "<style scoped>\n",
       "    .dataframe tbody tr th:only-of-type {\n",
       "        vertical-align: middle;\n",
       "    }\n",
       "\n",
       "    .dataframe tbody tr th {\n",
       "        vertical-align: top;\n",
       "    }\n",
       "\n",
       "    .dataframe thead th {\n",
       "        text-align: right;\n",
       "    }\n",
       "</style>\n",
       "<table border=\"1\" class=\"dataframe\">\n",
       "  <thead>\n",
       "    <tr style=\"text-align: right;\">\n",
       "      <th></th>\n",
       "      <th>hour</th>\n",
       "      <th>temperature</th>\n",
       "      <th>humidity</th>\n",
       "      <th>wind_speed</th>\n",
       "      <th>visibility</th>\n",
       "      <th>solar_radiation</th>\n",
       "      <th>rainfall</th>\n",
       "    </tr>\n",
       "  </thead>\n",
       "  <tbody>\n",
       "    <tr>\n",
       "      <th>count</th>\n",
       "      <td>2184.000000</td>\n",
       "      <td>2184.000000</td>\n",
       "      <td>2184.000000</td>\n",
       "      <td>2184.000000</td>\n",
       "      <td>2184.000000</td>\n",
       "      <td>2184.000000</td>\n",
       "      <td>2184.000000</td>\n",
       "    </tr>\n",
       "    <tr>\n",
       "      <th>mean</th>\n",
       "      <td>11.500000</td>\n",
       "      <td>14.120833</td>\n",
       "      <td>59.228480</td>\n",
       "      <td>1.494734</td>\n",
       "      <td>15607.522894</td>\n",
       "      <td>0.521818</td>\n",
       "      <td>0.122756</td>\n",
       "    </tr>\n",
       "    <tr>\n",
       "      <th>std</th>\n",
       "      <td>6.923772</td>\n",
       "      <td>7.062297</td>\n",
       "      <td>18.686445</td>\n",
       "      <td>0.924440</td>\n",
       "      <td>5660.911180</td>\n",
       "      <td>0.798543</td>\n",
       "      <td>0.947098</td>\n",
       "    </tr>\n",
       "    <tr>\n",
       "      <th>min</th>\n",
       "      <td>0.000000</td>\n",
       "      <td>-3.000000</td>\n",
       "      <td>13.000000</td>\n",
       "      <td>0.000000</td>\n",
       "      <td>330.000000</td>\n",
       "      <td>0.000000</td>\n",
       "      <td>0.000000</td>\n",
       "    </tr>\n",
       "    <tr>\n",
       "      <th>25%</th>\n",
       "      <td>5.750000</td>\n",
       "      <td>8.575000</td>\n",
       "      <td>44.000000</td>\n",
       "      <td>0.800000</td>\n",
       "      <td>11817.500000</td>\n",
       "      <td>0.000000</td>\n",
       "      <td>0.000000</td>\n",
       "    </tr>\n",
       "    <tr>\n",
       "      <th>50%</th>\n",
       "      <td>11.500000</td>\n",
       "      <td>13.850000</td>\n",
       "      <td>59.000000</td>\n",
       "      <td>1.300000</td>\n",
       "      <td>19000.000000</td>\n",
       "      <td>0.000000</td>\n",
       "      <td>0.000000</td>\n",
       "    </tr>\n",
       "    <tr>\n",
       "      <th>75%</th>\n",
       "      <td>17.250000</td>\n",
       "      <td>19.800000</td>\n",
       "      <td>74.000000</td>\n",
       "      <td>2.000000</td>\n",
       "      <td>20000.000000</td>\n",
       "      <td>0.892500</td>\n",
       "      <td>0.000000</td>\n",
       "    </tr>\n",
       "    <tr>\n",
       "      <th>max</th>\n",
       "      <td>23.000000</td>\n",
       "      <td>30.500000</td>\n",
       "      <td>97.000000</td>\n",
       "      <td>5.700000</td>\n",
       "      <td>20000.000000</td>\n",
       "      <td>3.120000</td>\n",
       "      <td>18.000000</td>\n",
       "    </tr>\n",
       "  </tbody>\n",
       "</table>\n",
       "</div>"
      ],
      "text/plain": [
       "              hour  temperature     humidity   wind_speed    visibility  \\\n",
       "count  2184.000000  2184.000000  2184.000000  2184.000000   2184.000000   \n",
       "mean     11.500000    14.120833    59.228480     1.494734  15607.522894   \n",
       "std       6.923772     7.062297    18.686445     0.924440   5660.911180   \n",
       "min       0.000000    -3.000000    13.000000     0.000000    330.000000   \n",
       "25%       5.750000     8.575000    44.000000     0.800000  11817.500000   \n",
       "50%      11.500000    13.850000    59.000000     1.300000  19000.000000   \n",
       "75%      17.250000    19.800000    74.000000     2.000000  20000.000000   \n",
       "max      23.000000    30.500000    97.000000     5.700000  20000.000000   \n",
       "\n",
       "       solar_radiation     rainfall  \n",
       "count      2184.000000  2184.000000  \n",
       "mean          0.521818     0.122756  \n",
       "std           0.798543     0.947098  \n",
       "min           0.000000     0.000000  \n",
       "25%           0.000000     0.000000  \n",
       "50%           0.000000     0.000000  \n",
       "75%           0.892500     0.000000  \n",
       "max           3.120000    18.000000  "
      ]
     },
     "execution_count": 36,
     "metadata": {},
     "output_type": "execute_result"
    }
   ],
   "source": [
    "bike_autumn3.describe()"
   ]
  },
  {
   "cell_type": "code",
   "execution_count": 37,
   "id": "f1b2f677-c979-4227-94e4-f576373e8e26",
   "metadata": {},
   "outputs": [
    {
     "data": {
      "text/plain": [
       "0.0"
      ]
     },
     "execution_count": 37,
     "metadata": {},
     "output_type": "execute_result"
    }
   ],
   "source": [
    "_ , p_value = calculate_bartlett_sphericity(bike_autumn3)\n",
    "p_value"
   ]
  },
  {
   "cell_type": "code",
   "execution_count": 38,
   "id": "553065d8-7ff4-4a9d-9319-315be43eae6d",
   "metadata": {},
   "outputs": [
    {
     "data": {
      "text/plain": [
       "0.4703182882678534"
      ]
     },
     "execution_count": 38,
     "metadata": {},
     "output_type": "execute_result"
    }
   ],
   "source": [
    "_, kmo_score = calculate_kmo(bike_autumn3)\n",
    "kmo_score "
   ]
  },
  {
   "cell_type": "code",
   "execution_count": 39,
   "id": "52812417-81cc-4fe2-90da-ea2c3daa9c72",
   "metadata": {},
   "outputs": [],
   "source": [
    "colnames = list(bike_autumn3.columns)\n",
    "\n",
    "scaler = StandardScaler(with_mean=True,with_std=True)\n",
    "scaled_features = pd.DataFrame(scaler.fit_transform(bike_autumn3))\n",
    "\n",
    "scaled_features.columns = colnames\n"
   ]
  },
  {
   "cell_type": "code",
   "execution_count": 42,
   "id": "963f4871-c876-4a7c-a37f-8d6be323bc33",
   "metadata": {},
   "outputs": [
    {
     "data": {
      "text/plain": [
       "PCA(n_components=7)"
      ]
     },
     "execution_count": 42,
     "metadata": {},
     "output_type": "execute_result"
    }
   ],
   "source": [
    "N = 7\n",
    "pca = PCA(n_components=N)\n",
    "pca.fit(scaled_features)"
   ]
  },
  {
   "cell_type": "code",
   "execution_count": 43,
   "id": "951ee639-d278-4d14-bb44-b31524e97eaa",
   "metadata": {},
   "outputs": [],
   "source": [
    "\n",
    "explained_variance_ratio = pca.explained_variance_ratio_\n",
    "cumulative_variance = np.cumsum(np.round(explained_variance_ratio, decimals=3))"
   ]
  },
  {
   "cell_type": "code",
   "execution_count": 44,
   "id": "7e278ef7-c273-467d-b282-2371b58d5189",
   "metadata": {},
   "outputs": [
    {
     "data": {
      "text/plain": [
       "<matplotlib.lines.Line2D at 0x7fa3b9df92e0>"
      ]
     },
     "execution_count": 44,
     "metadata": {},
     "output_type": "execute_result"
    },
    {
     "data": {
      "image/png": "[encoded data removed]",
      "text/plain": [
       "<Figure size 720x504 with 1 Axes>"
      ]
     },
     "metadata": {},
     "output_type": "display_data"
    }
   ],
   "source": [
    "x = list(range(1,N+1))\n",
    "plt.figure(figsize=(10, 7)) \n",
    "plt.bar(x,explained_variance_ratio)\n",
    "plt.scatter(range(1,N+1),cumulative_variance)\n",
    "plt.plot(x,cumulative_variance)\n",
    "plt.title('Variance')\n",
    "plt.xlabel('PC Number')\n",
    "plt.ylabel('Proportion of Variance Explained by PC')\n",
    "plt.axhline(y=0.7, color = 'r')"
   ]
  },
  {
   "cell_type": "code",
   "execution_count": 45,
   "id": "ff9e4984-4ff7-4df8-a551-41689facae00",
   "metadata": {},
   "outputs": [
    {
     "data": {
      "image/png": "[encoded data removed]",
      "text/plain": [
       "<Figure size 720x504 with 1 Axes>"
      ]
     },
     "metadata": {},
     "output_type": "display_data"
    }
   ],
   "source": [
    "\n",
    "plt.figure(figsize=(10, 7)) \n",
    "plt.scatter(range(1,N+1),pca.explained_variance_ratio_)\n",
    "plt.plot(range(1,N+1),pca.explained_variance_ratio_)\n",
    "plt.title('Scree Plot')\n",
    "plt.xlabel('PC Number')\n",
    "plt.ylabel('Variance Explained by PC')\n",
    "plt.grid()"
   ]
  },
  {
   "cell_type": "code",
   "execution_count": 46,
   "id": "fbd43643-db28-44fc-a249-ac9be1aac7c7",
   "metadata": {},
   "outputs": [
    {
     "data": {
      "text/plain": [
       "2"
      ]
     },
     "execution_count": 46,
     "metadata": {},
     "output_type": "execute_result"
    }
   ],
   "source": [
    "kl = KneeLocator(range(1, N+1), pca.explained_variance_ratio_, curve=\"convex\", direction=\"decreasing\")\n",
    "\n",
    "kl.elbow\n"
   ]
  },
  {
   "cell_type": "code",
   "execution_count": 47,
   "id": "2b041951-894b-4465-9481-efa8146b83f1",
   "metadata": {},
   "outputs": [],
   "source": [
    "\n",
    "def evaluate_pcs(num_of_pcs,data):\n",
    "    def encode_vals(x): #helper functions to suppress loading less than 0.7 \n",
    "    #a gradual process to lead to this function\n",
    "    # if x<=-0.5, we drop the variable\n",
    "        if x <= -0.5 or x >= 0.5: #Adjust the threshold value \n",
    "            return x\n",
    "        else:\n",
    "            return(\"\")    \n",
    "    f = FactorAnalyzer(n_factors=num_of_pcs, method = 'principal',rotation='varimax') #Conduct PCA + varimax rotation to extract latent factors \n",
    "    f.fit(data)\n",
    "    loadings = pd.DataFrame(f.loadings_).set_index(data.columns)\n",
    "    loadings = loadings.applymap(encode_vals)\n",
    "    loadingcols= list(loadings.columns)\n",
    "    newcols = {}\n",
    "    for i in loadingcols:\n",
    "        newcols[i] = \"PC\" + str(i+1)\n",
    "    loadings.rename(columns = newcols,inplace=True)\n",
    "    return loadings"
   ]
  },
  {
   "cell_type": "code",
   "execution_count": 48,
   "id": "d739b47a-055a-4dfb-9546-e450f7c73c48",
   "metadata": {},
   "outputs": [],
   "source": [
    "\n",
    "\n",
    "def CronbachAlpha(itemscores): #calculate the CronbachAlpha to see how closely related a set of items are as a group\n",
    "    itemscores = np.asarray(itemscores)\n",
    "    itemvars = itemscores.var(axis=0, ddof=1)\n",
    "    tscores = itemscores.sum(axis=1)\n",
    "    nitems = itemscores.shape[1]\n",
    "    return (nitems / (nitems-1)) * (1 - (itemvars.sum() / tscores.var(ddof=1)))\n",
    "\n"
   ]
  },
  {
   "cell_type": "code",
   "execution_count": 49,
   "id": "92b811a3-c7a7-4052-a637-f74d96214b1f",
   "metadata": {},
   "outputs": [
    {
     "data": {
      "text/html": [
       "<div>\n",
       "<style scoped>\n",
       "    .dataframe tbody tr th:only-of-type {\n",
       "        vertical-align: middle;\n",
       "    }\n",
       "\n",
       "    .dataframe tbody tr th {\n",
       "        vertical-align: top;\n",
       "    }\n",
       "\n",
       "    .dataframe thead th {\n",
       "        text-align: right;\n",
       "    }\n",
       "</style>\n",
       "<table border=\"1\" class=\"dataframe\">\n",
       "  <thead>\n",
       "    <tr style=\"text-align: right;\">\n",
       "      <th></th>\n",
       "      <th>PC1</th>\n",
       "      <th>PC2</th>\n",
       "    </tr>\n",
       "  </thead>\n",
       "  <tbody>\n",
       "    <tr>\n",
       "      <th>hour</th>\n",
       "      <td>0.548971</td>\n",
       "      <td></td>\n",
       "    </tr>\n",
       "    <tr>\n",
       "      <th>temperature</th>\n",
       "      <td>0.622712</td>\n",
       "      <td></td>\n",
       "    </tr>\n",
       "    <tr>\n",
       "      <th>humidity</th>\n",
       "      <td></td>\n",
       "      <td>0.695546</td>\n",
       "    </tr>\n",
       "    <tr>\n",
       "      <th>wind_speed</th>\n",
       "      <td>0.725353</td>\n",
       "      <td></td>\n",
       "    </tr>\n",
       "    <tr>\n",
       "      <th>visibility</th>\n",
       "      <td></td>\n",
       "      <td>-0.658113</td>\n",
       "    </tr>\n",
       "    <tr>\n",
       "      <th>solar_radiation</th>\n",
       "      <td>0.659953</td>\n",
       "      <td></td>\n",
       "    </tr>\n",
       "    <tr>\n",
       "      <th>rainfall</th>\n",
       "      <td></td>\n",
       "      <td>0.765506</td>\n",
       "    </tr>\n",
       "  </tbody>\n",
       "</table>\n",
       "</div>"
      ],
      "text/plain": [
       "                      PC1       PC2\n",
       "hour             0.548971          \n",
       "temperature      0.622712          \n",
       "humidity                   0.695546\n",
       "wind_speed       0.725353          \n",
       "visibility                -0.658113\n",
       "solar_radiation  0.659953          \n",
       "rainfall                   0.765506"
      ]
     },
     "execution_count": 49,
     "metadata": {},
     "output_type": "execute_result"
    }
   ],
   "source": [
    "evaluate_pcs(2,scaled_features[colnames])"
   ]
  },
  {
   "cell_type": "code",
   "execution_count": 50,
   "id": "c072b0c8-24cf-4766-8c72-ce7efe06d99e",
   "metadata": {},
   "outputs": [
    {
     "name": "stdout",
     "output_type": "stream",
     "text": [
      "0.5922336853280734\n",
      "0.391346648934483\n"
     ]
    }
   ],
   "source": [
    "print(CronbachAlpha(scaled_features[['hour','temperature','wind_speed','solar_radiation']])) #Reliability of PC1\n",
    "print(CronbachAlpha(scaled_features[['humidity','rainfall']])) #Reliability of PC2"
   ]
  },
  {
   "cell_type": "code",
   "execution_count": null,
   "id": "0b5945d1-35d4-41b2-b0b0-f2890b9e9168",
   "metadata": {},
   "outputs": [],
   "source": []
  }
 ],
 "metadata": {
  "kernelspec": {
   "display_name": "Python 3 (ipykernel)",
   "language": "python",
   "name": "python3"
  },
  "language_info": {
   "codemirror_mode": {
    "name": "ipython",
    "version": 3
   },
   "file_extension": ".py",
   "mimetype": "text/x-python",
   "name": "python",
   "nbconvert_exporter": "python",
   "pygments_lexer": "ipython3",
   "version": "3.8.5"
  }
 },
 "nbformat": 4,
 "nbformat_minor": 5
}
