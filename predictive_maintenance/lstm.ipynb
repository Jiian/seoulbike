{
 "cells": [
  {
   "cell_type": "code",
   "execution_count": 1,
   "id": "b0d17ef3-9b18-4249-b324-6958947ac253",
   "metadata": {},
   "outputs": [],
   "source": [
    "import numpy as np\n",
    "import tensorflow as tf\n",
    "import pandas as pd\n",
    "import matplotlib.pyplot as plt\n",
    "from tensorflow import keras\n",
    "from tensorflow.keras import layers\n",
    "from sklearn.preprocessing import StandardScaler\n",
    "from sklearn.model_selection import TimeSeriesSplit\n",
    "from tensorflow.keras.preprocessing.sequence import TimeseriesGenerator"
   ]
  },
  {
   "cell_type": "code",
   "execution_count": 2,
   "id": "f457eed2-f2ef-4d28-90b4-7d052f8bf364",
   "metadata": {},
   "outputs": [
    {
     "data": {
      "text/html": [
       "<div>\n",
       "<style scoped>\n",
       "    .dataframe tbody tr th:only-of-type {\n",
       "        vertical-align: middle;\n",
       "    }\n",
       "\n",
       "    .dataframe tbody tr th {\n",
       "        vertical-align: top;\n",
       "    }\n",
       "\n",
       "    .dataframe thead th {\n",
       "        text-align: right;\n",
       "    }\n",
       "</style>\n",
       "<table border=\"1\" class=\"dataframe\">\n",
       "  <thead>\n",
       "    <tr style=\"text-align: right;\">\n",
       "      <th></th>\n",
       "      <th>Unnamed: 0</th>\n",
       "      <th>date</th>\n",
       "      <th>season</th>\n",
       "      <th>holiday</th>\n",
       "      <th>snowfall</th>\n",
       "      <th>rainfall</th>\n",
       "      <th>rent_count</th>\n",
       "      <th>temperature</th>\n",
       "      <th>humidity</th>\n",
       "      <th>wind_speed</th>\n",
       "      <th>visibility</th>\n",
       "      <th>dewpoint_temp</th>\n",
       "      <th>solar_radiation</th>\n",
       "      <th>rep_count</th>\n",
       "    </tr>\n",
       "  </thead>\n",
       "  <tbody>\n",
       "    <tr>\n",
       "      <th>0</th>\n",
       "      <td>1</td>\n",
       "      <td>2017-12-01</td>\n",
       "      <td>Winter</td>\n",
       "      <td>No Holiday</td>\n",
       "      <td>0</td>\n",
       "      <td>0.0</td>\n",
       "      <td>9539</td>\n",
       "      <td>-1.10</td>\n",
       "      <td>37.5</td>\n",
       "      <td>1.4</td>\n",
       "      <td>20000</td>\n",
       "      <td>-17.40</td>\n",
       "      <td>0.0</td>\n",
       "      <td>677</td>\n",
       "    </tr>\n",
       "    <tr>\n",
       "      <th>1</th>\n",
       "      <td>2</td>\n",
       "      <td>2017-12-02</td>\n",
       "      <td>Winter</td>\n",
       "      <td>No Holiday</td>\n",
       "      <td>0</td>\n",
       "      <td>0.0</td>\n",
       "      <td>8523</td>\n",
       "      <td>2.70</td>\n",
       "      <td>55.5</td>\n",
       "      <td>1.6</td>\n",
       "      <td>14410</td>\n",
       "      <td>-5.55</td>\n",
       "      <td>0.0</td>\n",
       "      <td>836</td>\n",
       "    </tr>\n",
       "    <tr>\n",
       "      <th>2</th>\n",
       "      <td>3</td>\n",
       "      <td>2017-12-03</td>\n",
       "      <td>Winter</td>\n",
       "      <td>No Holiday</td>\n",
       "      <td>0</td>\n",
       "      <td>4.0</td>\n",
       "      <td>7222</td>\n",
       "      <td>4.35</td>\n",
       "      <td>84.5</td>\n",
       "      <td>1.6</td>\n",
       "      <td>3380</td>\n",
       "      <td>2.65</td>\n",
       "      <td>0.0</td>\n",
       "      <td>999</td>\n",
       "    </tr>\n",
       "    <tr>\n",
       "      <th>3</th>\n",
       "      <td>4</td>\n",
       "      <td>2017-12-04</td>\n",
       "      <td>Winter</td>\n",
       "      <td>No Holiday</td>\n",
       "      <td>0</td>\n",
       "      <td>0.1</td>\n",
       "      <td>8729</td>\n",
       "      <td>-0.25</td>\n",
       "      <td>43.5</td>\n",
       "      <td>3.6</td>\n",
       "      <td>19130</td>\n",
       "      <td>-12.95</td>\n",
       "      <td>0.0</td>\n",
       "      <td>744</td>\n",
       "    </tr>\n",
       "    <tr>\n",
       "      <th>4</th>\n",
       "      <td>5</td>\n",
       "      <td>2017-12-05</td>\n",
       "      <td>Winter</td>\n",
       "      <td>No Holiday</td>\n",
       "      <td>0</td>\n",
       "      <td>0.0</td>\n",
       "      <td>8307</td>\n",
       "      <td>-3.80</td>\n",
       "      <td>34.5</td>\n",
       "      <td>0.0</td>\n",
       "      <td>20000</td>\n",
       "      <td>-17.70</td>\n",
       "      <td>0.0</td>\n",
       "      <td>638</td>\n",
       "    </tr>\n",
       "  </tbody>\n",
       "</table>\n",
       "</div>"
      ],
      "text/plain": [
       "   Unnamed: 0        date  season     holiday  snowfall  rainfall  rent_count  \\\n",
       "0           1  2017-12-01  Winter  No Holiday         0       0.0        9539   \n",
       "1           2  2017-12-02  Winter  No Holiday         0       0.0        8523   \n",
       "2           3  2017-12-03  Winter  No Holiday         0       4.0        7222   \n",
       "3           4  2017-12-04  Winter  No Holiday         0       0.1        8729   \n",
       "4           5  2017-12-05  Winter  No Holiday         0       0.0        8307   \n",
       "\n",
       "   temperature  humidity  wind_speed  visibility  dewpoint_temp  \\\n",
       "0        -1.10      37.5         1.4       20000         -17.40   \n",
       "1         2.70      55.5         1.6       14410          -5.55   \n",
       "2         4.35      84.5         1.6        3380           2.65   \n",
       "3        -0.25      43.5         3.6       19130         -12.95   \n",
       "4        -3.80      34.5         0.0       20000         -17.70   \n",
       "\n",
       "   solar_radiation  rep_count  \n",
       "0              0.0        677  \n",
       "1              0.0        836  \n",
       "2              0.0        999  \n",
       "3              0.0        744  \n",
       "4              0.0        638  "
      ]
     },
     "execution_count": 2,
     "metadata": {},
     "output_type": "execute_result"
    }
   ],
   "source": [
    "df = pd.read_csv(\"../data/bike_clean_rep.csv\")\n",
    "df.head()"
   ]
  },
  {
   "cell_type": "code",
   "execution_count": 3,
   "id": "c6c9f52e-c939-4fe0-8298-6c31b24b38c6",
   "metadata": {},
   "outputs": [
    {
     "data": {
      "text/html": [
       "<div>\n",
       "<style scoped>\n",
       "    .dataframe tbody tr th:only-of-type {\n",
       "        vertical-align: middle;\n",
       "    }\n",
       "\n",
       "    .dataframe tbody tr th {\n",
       "        vertical-align: top;\n",
       "    }\n",
       "\n",
       "    .dataframe thead th {\n",
       "        text-align: right;\n",
       "    }\n",
       "</style>\n",
       "<table border=\"1\" class=\"dataframe\">\n",
       "  <thead>\n",
       "    <tr style=\"text-align: right;\">\n",
       "      <th></th>\n",
       "      <th>snowfall</th>\n",
       "      <th>rainfall</th>\n",
       "      <th>rent_count</th>\n",
       "      <th>temperature</th>\n",
       "      <th>humidity</th>\n",
       "      <th>wind_speed</th>\n",
       "      <th>visibility</th>\n",
       "      <th>dewpoint_temp</th>\n",
       "      <th>solar_radiation</th>\n",
       "      <th>rep_count</th>\n",
       "      <th>season_Autumn</th>\n",
       "      <th>season_Spring</th>\n",
       "      <th>season_Summer</th>\n",
       "      <th>season_Winter</th>\n",
       "      <th>holiday_Holiday</th>\n",
       "      <th>holiday_No Holiday</th>\n",
       "    </tr>\n",
       "  </thead>\n",
       "  <tbody>\n",
       "    <tr>\n",
       "      <th>0</th>\n",
       "      <td>0</td>\n",
       "      <td>0.0</td>\n",
       "      <td>9539</td>\n",
       "      <td>-1.10</td>\n",
       "      <td>37.5</td>\n",
       "      <td>1.4</td>\n",
       "      <td>20000</td>\n",
       "      <td>-17.40</td>\n",
       "      <td>0.0</td>\n",
       "      <td>677</td>\n",
       "      <td>0</td>\n",
       "      <td>0</td>\n",
       "      <td>0</td>\n",
       "      <td>1</td>\n",
       "      <td>0</td>\n",
       "      <td>1</td>\n",
       "    </tr>\n",
       "    <tr>\n",
       "      <th>1</th>\n",
       "      <td>0</td>\n",
       "      <td>0.0</td>\n",
       "      <td>8523</td>\n",
       "      <td>2.70</td>\n",
       "      <td>55.5</td>\n",
       "      <td>1.6</td>\n",
       "      <td>14410</td>\n",
       "      <td>-5.55</td>\n",
       "      <td>0.0</td>\n",
       "      <td>836</td>\n",
       "      <td>0</td>\n",
       "      <td>0</td>\n",
       "      <td>0</td>\n",
       "      <td>1</td>\n",
       "      <td>0</td>\n",
       "      <td>1</td>\n",
       "    </tr>\n",
       "    <tr>\n",
       "      <th>2</th>\n",
       "      <td>0</td>\n",
       "      <td>4.0</td>\n",
       "      <td>7222</td>\n",
       "      <td>4.35</td>\n",
       "      <td>84.5</td>\n",
       "      <td>1.6</td>\n",
       "      <td>3380</td>\n",
       "      <td>2.65</td>\n",
       "      <td>0.0</td>\n",
       "      <td>999</td>\n",
       "      <td>0</td>\n",
       "      <td>0</td>\n",
       "      <td>0</td>\n",
       "      <td>1</td>\n",
       "      <td>0</td>\n",
       "      <td>1</td>\n",
       "    </tr>\n",
       "    <tr>\n",
       "      <th>3</th>\n",
       "      <td>0</td>\n",
       "      <td>0.1</td>\n",
       "      <td>8729</td>\n",
       "      <td>-0.25</td>\n",
       "      <td>43.5</td>\n",
       "      <td>3.6</td>\n",
       "      <td>19130</td>\n",
       "      <td>-12.95</td>\n",
       "      <td>0.0</td>\n",
       "      <td>744</td>\n",
       "      <td>0</td>\n",
       "      <td>0</td>\n",
       "      <td>0</td>\n",
       "      <td>1</td>\n",
       "      <td>0</td>\n",
       "      <td>1</td>\n",
       "    </tr>\n",
       "    <tr>\n",
       "      <th>4</th>\n",
       "      <td>0</td>\n",
       "      <td>0.0</td>\n",
       "      <td>8307</td>\n",
       "      <td>-3.80</td>\n",
       "      <td>34.5</td>\n",
       "      <td>0.0</td>\n",
       "      <td>20000</td>\n",
       "      <td>-17.70</td>\n",
       "      <td>0.0</td>\n",
       "      <td>638</td>\n",
       "      <td>0</td>\n",
       "      <td>0</td>\n",
       "      <td>0</td>\n",
       "      <td>1</td>\n",
       "      <td>0</td>\n",
       "      <td>1</td>\n",
       "    </tr>\n",
       "  </tbody>\n",
       "</table>\n",
       "</div>"
      ],
      "text/plain": [
       "   snowfall  rainfall  rent_count  temperature  humidity  wind_speed  \\\n",
       "0         0       0.0        9539        -1.10      37.5         1.4   \n",
       "1         0       0.0        8523         2.70      55.5         1.6   \n",
       "2         0       4.0        7222         4.35      84.5         1.6   \n",
       "3         0       0.1        8729        -0.25      43.5         3.6   \n",
       "4         0       0.0        8307        -3.80      34.5         0.0   \n",
       "\n",
       "   visibility  dewpoint_temp  solar_radiation  rep_count  season_Autumn  \\\n",
       "0       20000         -17.40              0.0        677              0   \n",
       "1       14410          -5.55              0.0        836              0   \n",
       "2        3380           2.65              0.0        999              0   \n",
       "3       19130         -12.95              0.0        744              0   \n",
       "4       20000         -17.70              0.0        638              0   \n",
       "\n",
       "   season_Spring  season_Summer  season_Winter  holiday_Holiday  \\\n",
       "0              0              0              1                0   \n",
       "1              0              0              1                0   \n",
       "2              0              0              1                0   \n",
       "3              0              0              1                0   \n",
       "4              0              0              1                0   \n",
       "\n",
       "   holiday_No Holiday  \n",
       "0                   1  \n",
       "1                   1  \n",
       "2                   1  \n",
       "3                   1  \n",
       "4                   1  "
      ]
     },
     "execution_count": 3,
     "metadata": {},
     "output_type": "execute_result"
    }
   ],
   "source": [
    "df1 = df.drop(['Unnamed: 0', 'date'], axis = 1, inplace = False)\n",
    "df2 = pd.get_dummies(df1, columns=['season', 'holiday'])\n",
    "df2.head()"
   ]
  },
  {
   "cell_type": "markdown",
   "id": "76c63989-8d73-4e78-a8b2-971cf924bf20",
   "metadata": {},
   "source": [
    "## Stacked Cross Validation Split"
   ]
  },
  {
   "cell_type": "code",
   "execution_count": 4,
   "id": "6ab94471-d4d3-47d4-bf52-7a66e929b5a0",
   "metadata": {},
   "outputs": [],
   "source": [
    "X = df2.drop(['rep_count'], axis = 1, inplace = False).to_numpy()\n",
    "y = df2.rep_count.to_numpy()"
   ]
  },
  {
   "cell_type": "code",
   "execution_count": 5,
   "id": "e8028f89-76dc-4358-8e6c-637edc145013",
   "metadata": {},
   "outputs": [],
   "source": [
    "tscv = TimeSeriesSplit(n_splits = 3, test_size = 30)\n",
    "X_train = []\n",
    "X_test = []\n",
    "y_train = []\n",
    "y_test = []\n",
    "for train_index, test_index in tscv.split(X):\n",
    "    X_train.append(X[train_index])\n",
    "    X_test.append(X[test_index])\n",
    "    y_train.append(y[train_index])\n",
    "    y_test.append(y[test_index])\n",
    "input_data = (X_train, y_train, X_test, y_test)"
   ]
  },
  {
   "cell_type": "markdown",
   "id": "0ce4766e-861a-493c-9f25-a867777e82db",
   "metadata": {},
   "source": [
    "## Function"
   ]
  },
  {
   "cell_type": "code",
   "execution_count": 29,
   "id": "fe4b2eec-1e9f-4219-9b8a-e7eda41bbd86",
   "metadata": {},
   "outputs": [],
   "source": [
    "def train_nth_set(input_data, n = 1, show_summary = False, **kwargs):\n",
    "    X_train, y_train, X_test, y_test = input_data\n",
    "    model = keras.Sequential()\n",
    "    model.add(layers.Dense(16, input_shape = (None, 1)))\n",
    "    model.add(layers.LSTM(50))\n",
    "    model.add(layers.Dense(16))\n",
    "    model.add(layers.Dense(1, activation = \"relu\"))\n",
    "    model.compile(loss='mean_squared_error', optimizer='adam')\n",
    "    if show_summary:\n",
    "        print(model.summary())\n",
    "    x = tf.convert_to_tensor(X_train[n-1].reshape((-1, 15, 1)), np.float32)\n",
    "    y = tf.convert_to_tensor(y_train[n-1].reshape(-1, 1, 1), np.float32)\n",
    "    x_test = tf.convert_to_tensor(X_test[n-1].reshape((-1, 15, 1)), np.float32)\n",
    "    y_test = tf.convert_to_tensor(y_test[n-1].reshape((-1, 1, 1)), np.float32)\n",
    "    hist = model.fit(x,y, batch_size = 1, verbose = 0, validation_data = (x_test, y_test), **kwargs)\n",
    "    return model, hist\n",
    "def eval_nth_set(hist, epoch):\n",
    "    print(f\"Validation MSE = {hist.history['val_loss'][epoch]}\")\n",
    "#     X_train, y_train, X_test, y_test = input_data\n",
    "#     return model.evaluate(tf.convert_to_tensor(X_test[n-1].reshape((-1, 15, 1)), np.float32),\n",
    "#                tf.convert_to_tensor(y_test[n-1].reshape((-1, 1, 1)), np.float32))"
   ]
  },
  {
   "cell_type": "markdown",
   "id": "c827681a-6f11-4aec-bfe0-58c44fcc969b",
   "metadata": {},
   "source": [
    "## Train/Test Set Number 1"
   ]
  },
  {
   "cell_type": "code",
   "execution_count": 7,
   "id": "80a637ea-16a6-4f99-9890-79103064eb27",
   "metadata": {},
   "outputs": [],
   "source": [
    "model1, hist1 = train_nth_set(input_data, n = 1, epochs = 30)"
   ]
  },
  {
   "cell_type": "code",
   "execution_count": 8,
   "id": "592aaf63-0ecb-41fa-8002-53270d51eb7a",
   "metadata": {},
   "outputs": [
    {
     "data": {
      "text/plain": [
       "[<matplotlib.lines.Line2D at 0x2f1db1ce250>]"
      ]
     },
     "execution_count": 8,
     "metadata": {},
     "output_type": "execute_result"
    },
    {
     "data": {
      "image/png": "[encoded data removed]",
      "text/plain": [
       "<Figure size 432x288 with 1 Axes>"
      ]
     },
     "metadata": {
      "needs_background": "light"
     },
     "output_type": "display_data"
    }
   ],
   "source": [
    "plt.plot(hist1.history['loss'])\n",
    "plt.plot(hist1.history['val_loss'])"
   ]
  },
  {
   "cell_type": "code",
   "execution_count": 30,
   "id": "89d33732-bf8f-44c8-817d-7311f1f9d2eb",
   "metadata": {},
   "outputs": [
    {
     "name": "stdout",
     "output_type": "stream",
     "text": [
      "Validation MSE = 164402.28125\n"
     ]
    }
   ],
   "source": [
    "eval_nth_set(hist1, 5)"
   ]
  },
  {
   "cell_type": "markdown",
   "id": "17d4796d-1aeb-463a-bd48-2a53435a2cde",
   "metadata": {},
   "source": [
    "## Train/Test Set Number 2"
   ]
  },
  {
   "cell_type": "code",
   "execution_count": 10,
   "id": "c223960a-1544-4d36-8c17-79eda8704991",
   "metadata": {},
   "outputs": [],
   "source": [
    "model2, hist2 = train_nth_set(input_data, n = 2, epochs = 30)"
   ]
  },
  {
   "cell_type": "code",
   "execution_count": 11,
   "id": "390900f8-0252-455f-b46d-de4ebaf09e2b",
   "metadata": {},
   "outputs": [
    {
     "data": {
      "text/plain": [
       "[<matplotlib.lines.Line2D at 0x2f1dfdb5160>]"
      ]
     },
     "execution_count": 11,
     "metadata": {},
     "output_type": "execute_result"
    },
    {
     "data": {
      "image/png": "[encoded data removed]",
      "text/plain": [
       "<Figure size 432x288 with 1 Axes>"
      ]
     },
     "metadata": {
      "needs_background": "light"
     },
     "output_type": "display_data"
    }
   ],
   "source": [
    "plt.plot(hist2.history['loss'])\n",
    "plt.plot(hist2.history['val_loss'])"
   ]
  },
  {
   "cell_type": "code",
   "execution_count": 31,
   "id": "405a9ab7-ab8f-48a1-b785-f8e288306fd2",
   "metadata": {},
   "outputs": [
    {
     "name": "stdout",
     "output_type": "stream",
     "text": [
      "Validation MSE = 154745.828125\n"
     ]
    }
   ],
   "source": [
    "eval_nth_set(hist2, 5)"
   ]
  },
  {
   "cell_type": "markdown",
   "id": "8b1e93c3-f87a-4aa9-ae8f-b1495885af5b",
   "metadata": {},
   "source": [
    "## Train/Test Set Number 3"
   ]
  },
  {
   "cell_type": "code",
   "execution_count": 16,
   "id": "4aeb476c-faec-4e77-9bd8-3c40910346c6",
   "metadata": {},
   "outputs": [],
   "source": [
    "model3, hist3 = train_nth_set(input_data, n = 3, epochs = 30)"
   ]
  },
  {
   "cell_type": "code",
   "execution_count": 17,
   "id": "4f5877f7-8cb3-45cb-aa23-0e21e380bbcb",
   "metadata": {},
   "outputs": [
    {
     "data": {
      "text/plain": [
       "[<matplotlib.lines.Line2D at 0x2f1e679b040>]"
      ]
     },
     "execution_count": 17,
     "metadata": {},
     "output_type": "execute_result"
    },
    {
     "data": {
      "image/png": "[encoded data removed]",
      "text/plain": [
       "<Figure size 432x288 with 1 Axes>"
      ]
     },
     "metadata": {
      "needs_background": "light"
     },
     "output_type": "display_data"
    }
   ],
   "source": [
    "plt.plot(hist3.history['loss'])\n",
    "plt.plot(hist3.history['val_loss'])"
   ]
  },
  {
   "cell_type": "code",
   "execution_count": 32,
   "id": "df7beef7-f9df-4b96-a663-b848dc83ba60",
   "metadata": {},
   "outputs": [
    {
     "name": "stdout",
     "output_type": "stream",
     "text": [
      "Validation MSE = 157394.40625\n"
     ]
    }
   ],
   "source": [
    "eval_nth_set(hist3, 5)"
   ]
  },
  {
   "cell_type": "markdown",
   "id": "c4a0679c-c948-4d99-9298-21264e35bad3",
   "metadata": {},
   "source": [
    "## Model Selection"
   ]
  },
  {
   "cell_type": "markdown",
   "id": "b37a820b-b33c-4f94-b39c-2837fc64dd47",
   "metadata": {},
   "source": [
    "* Split a test set\n",
    "* Find a baseline model\n",
    "* Use new simulated data"
   ]
  }
 ],
 "metadata": {
  "kernelspec": {
   "display_name": "Python 3 (ipykernel)",
   "language": "python",
   "name": "python3"
  },
  "language_info": {
   "codemirror_mode": {
    "name": "ipython",
    "version": 3
   },
   "file_extension": ".py",
   "mimetype": "text/x-python",
   "name": "python",
   "nbconvert_exporter": "python",
   "pygments_lexer": "ipython3",
   "version": "3.9.6"
  }
 },
 "nbformat": 4,
 "nbformat_minor": 5
}
