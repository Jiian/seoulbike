{
 "cells": [
  {
   "cell_type": "code",
   "execution_count": 1,
   "id": "b0d17ef3-9b18-4249-b324-6958947ac253",
   "metadata": {},
   "outputs": [],
   "source": [
    "import numpy as np\n",
    "import tensorflow as tf\n",
    "import pandas as pd\n",
    "import matplotlib.pyplot as plt\n",
    "from tensorflow import keras\n",
    "from tensorflow.keras import layers\n",
    "from sklearn.preprocessing import StandardScaler\n",
    "from sklearn.model_selection import TimeSeriesSplit"
   ]
  },
  {
   "cell_type": "code",
   "execution_count": 2,
   "id": "f457eed2-f2ef-4d28-90b4-7d052f8bf364",
   "metadata": {},
   "outputs": [
    {
     "data": {
      "text/html": [
       "<div>\n",
       "<style scoped>\n",
       "    .dataframe tbody tr th:only-of-type {\n",
       "        vertical-align: middle;\n",
       "    }\n",
       "\n",
       "    .dataframe tbody tr th {\n",
       "        vertical-align: top;\n",
       "    }\n",
       "\n",
       "    .dataframe thead th {\n",
       "        text-align: right;\n",
       "    }\n",
       "</style>\n",
       "<table border=\"1\" class=\"dataframe\">\n",
       "  <thead>\n",
       "    <tr style=\"text-align: right;\">\n",
       "      <th></th>\n",
       "      <th>Unnamed: 0</th>\n",
       "      <th>date</th>\n",
       "      <th>season</th>\n",
       "      <th>holiday</th>\n",
       "      <th>snowfall</th>\n",
       "      <th>rainfall</th>\n",
       "      <th>rent_count</th>\n",
       "      <th>temperature</th>\n",
       "      <th>humidity</th>\n",
       "      <th>wind_speed</th>\n",
       "      <th>visibility</th>\n",
       "      <th>dewpoint_temp</th>\n",
       "      <th>solar_radiation</th>\n",
       "      <th>rep_count</th>\n",
       "      <th>rep_count_smooth</th>\n",
       "    </tr>\n",
       "  </thead>\n",
       "  <tbody>\n",
       "    <tr>\n",
       "      <th>0</th>\n",
       "      <td>1</td>\n",
       "      <td>2017-12-01</td>\n",
       "      <td>Winter</td>\n",
       "      <td>No Holiday</td>\n",
       "      <td>-0.207935</td>\n",
       "      <td>-0.301217</td>\n",
       "      <td>-0.718560</td>\n",
       "      <td>-1.210691</td>\n",
       "      <td>-1.290740</td>\n",
       "      <td>-0.366447</td>\n",
       "      <td>0.950591</td>\n",
       "      <td>-1.643317</td>\n",
       "      <td>-0.701162</td>\n",
       "      <td>732</td>\n",
       "      <td>732.0000</td>\n",
       "    </tr>\n",
       "    <tr>\n",
       "      <th>1</th>\n",
       "      <td>2</td>\n",
       "      <td>2017-12-02</td>\n",
       "      <td>Winter</td>\n",
       "      <td>No Holiday</td>\n",
       "      <td>-0.207935</td>\n",
       "      <td>-0.301217</td>\n",
       "      <td>-0.817599</td>\n",
       "      <td>-0.877656</td>\n",
       "      <td>-0.161708</td>\n",
       "      <td>-0.066047</td>\n",
       "      <td>-0.052973</td>\n",
       "      <td>-0.732615</td>\n",
       "      <td>-0.701162</td>\n",
       "      <td>758</td>\n",
       "      <td>750.2000</td>\n",
       "    </tr>\n",
       "    <tr>\n",
       "      <th>2</th>\n",
       "      <td>3</td>\n",
       "      <td>2017-12-03</td>\n",
       "      <td>Winter</td>\n",
       "      <td>No Holiday</td>\n",
       "      <td>-0.207935</td>\n",
       "      <td>0.036424</td>\n",
       "      <td>-0.944419</td>\n",
       "      <td>-0.733049</td>\n",
       "      <td>1.657289</td>\n",
       "      <td>-0.066047</td>\n",
       "      <td>-2.033173</td>\n",
       "      <td>-0.102424</td>\n",
       "      <td>-0.701162</td>\n",
       "      <td>716</td>\n",
       "      <td>726.2600</td>\n",
       "    </tr>\n",
       "    <tr>\n",
       "      <th>3</th>\n",
       "      <td>4</td>\n",
       "      <td>2017-12-04</td>\n",
       "      <td>Winter</td>\n",
       "      <td>No Holiday</td>\n",
       "      <td>-0.207935</td>\n",
       "      <td>-0.292776</td>\n",
       "      <td>-0.797518</td>\n",
       "      <td>-1.136196</td>\n",
       "      <td>-0.914396</td>\n",
       "      <td>2.937958</td>\n",
       "      <td>0.794401</td>\n",
       "      <td>-1.301323</td>\n",
       "      <td>-0.701162</td>\n",
       "      <td>629</td>\n",
       "      <td>658.1780</td>\n",
       "    </tr>\n",
       "    <tr>\n",
       "      <th>4</th>\n",
       "      <td>5</td>\n",
       "      <td>2017-12-05</td>\n",
       "      <td>Winter</td>\n",
       "      <td>No Holiday</td>\n",
       "      <td>-0.207935</td>\n",
       "      <td>-0.301217</td>\n",
       "      <td>-0.838654</td>\n",
       "      <td>-1.447321</td>\n",
       "      <td>-1.478912</td>\n",
       "      <td>-2.469251</td>\n",
       "      <td>0.950591</td>\n",
       "      <td>-1.666372</td>\n",
       "      <td>-0.701162</td>\n",
       "      <td>577</td>\n",
       "      <td>601.3534</td>\n",
       "    </tr>\n",
       "  </tbody>\n",
       "</table>\n",
       "</div>"
      ],
      "text/plain": [
       "   Unnamed: 0        date  season     holiday  snowfall  rainfall  rent_count  \\\n",
       "0           1  2017-12-01  Winter  No Holiday -0.207935 -0.301217   -0.718560   \n",
       "1           2  2017-12-02  Winter  No Holiday -0.207935 -0.301217   -0.817599   \n",
       "2           3  2017-12-03  Winter  No Holiday -0.207935  0.036424   -0.944419   \n",
       "3           4  2017-12-04  Winter  No Holiday -0.207935 -0.292776   -0.797518   \n",
       "4           5  2017-12-05  Winter  No Holiday -0.207935 -0.301217   -0.838654   \n",
       "\n",
       "   temperature  humidity  wind_speed  visibility  dewpoint_temp  \\\n",
       "0    -1.210691 -1.290740   -0.366447    0.950591      -1.643317   \n",
       "1    -0.877656 -0.161708   -0.066047   -0.052973      -0.732615   \n",
       "2    -0.733049  1.657289   -0.066047   -2.033173      -0.102424   \n",
       "3    -1.136196 -0.914396    2.937958    0.794401      -1.301323   \n",
       "4    -1.447321 -1.478912   -2.469251    0.950591      -1.666372   \n",
       "\n",
       "   solar_radiation  rep_count  rep_count_smooth  \n",
       "0        -0.701162        732          732.0000  \n",
       "1        -0.701162        758          750.2000  \n",
       "2        -0.701162        716          726.2600  \n",
       "3        -0.701162        629          658.1780  \n",
       "4        -0.701162        577          601.3534  "
      ]
     },
     "execution_count": 2,
     "metadata": {},
     "output_type": "execute_result"
    }
   ],
   "source": [
    "df = pd.read_csv(\"../data/bike_clean_rep_std.csv\")\n",
    "df.head()"
   ]
  },
  {
   "cell_type": "code",
   "execution_count": 3,
   "id": "c6c9f52e-c939-4fe0-8298-6c31b24b38c6",
   "metadata": {},
   "outputs": [
    {
     "data": {
      "text/html": [
       "<div>\n",
       "<style scoped>\n",
       "    .dataframe tbody tr th:only-of-type {\n",
       "        vertical-align: middle;\n",
       "    }\n",
       "\n",
       "    .dataframe tbody tr th {\n",
       "        vertical-align: top;\n",
       "    }\n",
       "\n",
       "    .dataframe thead th {\n",
       "        text-align: right;\n",
       "    }\n",
       "</style>\n",
       "<table border=\"1\" class=\"dataframe\">\n",
       "  <thead>\n",
       "    <tr style=\"text-align: right;\">\n",
       "      <th></th>\n",
       "      <th>snowfall</th>\n",
       "      <th>rainfall</th>\n",
       "      <th>rent_count</th>\n",
       "      <th>temperature</th>\n",
       "      <th>humidity</th>\n",
       "      <th>wind_speed</th>\n",
       "      <th>visibility</th>\n",
       "      <th>dewpoint_temp</th>\n",
       "      <th>solar_radiation</th>\n",
       "      <th>rep_count</th>\n",
       "      <th>rep_count_smooth</th>\n",
       "      <th>season_Autumn</th>\n",
       "      <th>season_Spring</th>\n",
       "      <th>season_Summer</th>\n",
       "      <th>season_Winter</th>\n",
       "      <th>holiday_Holiday</th>\n",
       "      <th>holiday_No Holiday</th>\n",
       "    </tr>\n",
       "  </thead>\n",
       "  <tbody>\n",
       "    <tr>\n",
       "      <th>0</th>\n",
       "      <td>-0.207935</td>\n",
       "      <td>-0.301217</td>\n",
       "      <td>-0.718560</td>\n",
       "      <td>-1.210691</td>\n",
       "      <td>-1.290740</td>\n",
       "      <td>-0.366447</td>\n",
       "      <td>0.950591</td>\n",
       "      <td>-1.643317</td>\n",
       "      <td>-0.701162</td>\n",
       "      <td>732</td>\n",
       "      <td>732.0000</td>\n",
       "      <td>0</td>\n",
       "      <td>0</td>\n",
       "      <td>0</td>\n",
       "      <td>1</td>\n",
       "      <td>0</td>\n",
       "      <td>1</td>\n",
       "    </tr>\n",
       "    <tr>\n",
       "      <th>1</th>\n",
       "      <td>-0.207935</td>\n",
       "      <td>-0.301217</td>\n",
       "      <td>-0.817599</td>\n",
       "      <td>-0.877656</td>\n",
       "      <td>-0.161708</td>\n",
       "      <td>-0.066047</td>\n",
       "      <td>-0.052973</td>\n",
       "      <td>-0.732615</td>\n",
       "      <td>-0.701162</td>\n",
       "      <td>758</td>\n",
       "      <td>750.2000</td>\n",
       "      <td>0</td>\n",
       "      <td>0</td>\n",
       "      <td>0</td>\n",
       "      <td>1</td>\n",
       "      <td>0</td>\n",
       "      <td>1</td>\n",
       "    </tr>\n",
       "    <tr>\n",
       "      <th>2</th>\n",
       "      <td>-0.207935</td>\n",
       "      <td>0.036424</td>\n",
       "      <td>-0.944419</td>\n",
       "      <td>-0.733049</td>\n",
       "      <td>1.657289</td>\n",
       "      <td>-0.066047</td>\n",
       "      <td>-2.033173</td>\n",
       "      <td>-0.102424</td>\n",
       "      <td>-0.701162</td>\n",
       "      <td>716</td>\n",
       "      <td>726.2600</td>\n",
       "      <td>0</td>\n",
       "      <td>0</td>\n",
       "      <td>0</td>\n",
       "      <td>1</td>\n",
       "      <td>0</td>\n",
       "      <td>1</td>\n",
       "    </tr>\n",
       "    <tr>\n",
       "      <th>3</th>\n",
       "      <td>-0.207935</td>\n",
       "      <td>-0.292776</td>\n",
       "      <td>-0.797518</td>\n",
       "      <td>-1.136196</td>\n",
       "      <td>-0.914396</td>\n",
       "      <td>2.937958</td>\n",
       "      <td>0.794401</td>\n",
       "      <td>-1.301323</td>\n",
       "      <td>-0.701162</td>\n",
       "      <td>629</td>\n",
       "      <td>658.1780</td>\n",
       "      <td>0</td>\n",
       "      <td>0</td>\n",
       "      <td>0</td>\n",
       "      <td>1</td>\n",
       "      <td>0</td>\n",
       "      <td>1</td>\n",
       "    </tr>\n",
       "    <tr>\n",
       "      <th>4</th>\n",
       "      <td>-0.207935</td>\n",
       "      <td>-0.301217</td>\n",
       "      <td>-0.838654</td>\n",
       "      <td>-1.447321</td>\n",
       "      <td>-1.478912</td>\n",
       "      <td>-2.469251</td>\n",
       "      <td>0.950591</td>\n",
       "      <td>-1.666372</td>\n",
       "      <td>-0.701162</td>\n",
       "      <td>577</td>\n",
       "      <td>601.3534</td>\n",
       "      <td>0</td>\n",
       "      <td>0</td>\n",
       "      <td>0</td>\n",
       "      <td>1</td>\n",
       "      <td>0</td>\n",
       "      <td>1</td>\n",
       "    </tr>\n",
       "  </tbody>\n",
       "</table>\n",
       "</div>"
      ],
      "text/plain": [
       "   snowfall  rainfall  rent_count  temperature  humidity  wind_speed  \\\n",
       "0 -0.207935 -0.301217   -0.718560    -1.210691 -1.290740   -0.366447   \n",
       "1 -0.207935 -0.301217   -0.817599    -0.877656 -0.161708   -0.066047   \n",
       "2 -0.207935  0.036424   -0.944419    -0.733049  1.657289   -0.066047   \n",
       "3 -0.207935 -0.292776   -0.797518    -1.136196 -0.914396    2.937958   \n",
       "4 -0.207935 -0.301217   -0.838654    -1.447321 -1.478912   -2.469251   \n",
       "\n",
       "   visibility  dewpoint_temp  solar_radiation  rep_count  rep_count_smooth  \\\n",
       "0    0.950591      -1.643317        -0.701162        732          732.0000   \n",
       "1   -0.052973      -0.732615        -0.701162        758          750.2000   \n",
       "2   -2.033173      -0.102424        -0.701162        716          726.2600   \n",
       "3    0.794401      -1.301323        -0.701162        629          658.1780   \n",
       "4    0.950591      -1.666372        -0.701162        577          601.3534   \n",
       "\n",
       "   season_Autumn  season_Spring  season_Summer  season_Winter  \\\n",
       "0              0              0              0              1   \n",
       "1              0              0              0              1   \n",
       "2              0              0              0              1   \n",
       "3              0              0              0              1   \n",
       "4              0              0              0              1   \n",
       "\n",
       "   holiday_Holiday  holiday_No Holiday  \n",
       "0                0                   1  \n",
       "1                0                   1  \n",
       "2                0                   1  \n",
       "3                0                   1  \n",
       "4                0                   1  "
      ]
     },
     "execution_count": 3,
     "metadata": {},
     "output_type": "execute_result"
    }
   ],
   "source": [
    "df1 = df.drop(['Unnamed: 0', 'date'], axis = 1, inplace = False)\n",
    "df2 = pd.get_dummies(df1, columns=['season', 'holiday'])\n",
    "df2.head()"
   ]
  },
  {
   "cell_type": "markdown",
   "id": "37c8cf90-f6b4-4701-a1ed-918bca4b8493",
   "metadata": {
    "tags": []
   },
   "source": [
    "## Feature Selection"
   ]
  },
  {
   "cell_type": "code",
   "execution_count": 4,
   "id": "c8963fee-f848-40a6-a883-cf2f552cdbd5",
   "metadata": {},
   "outputs": [
    {
     "data": {
      "text/plain": [
       "Index(['snowfall', 'rainfall', 'rent_count', 'temperature', 'humidity',\n",
       "       'wind_speed', 'visibility', 'dewpoint_temp', 'solar_radiation',\n",
       "       'rep_count', 'rep_count_smooth', 'season_Autumn', 'season_Spring',\n",
       "       'season_Summer', 'season_Winter', 'holiday_Holiday',\n",
       "       'holiday_No Holiday'],\n",
       "      dtype='object')"
      ]
     },
     "execution_count": 4,
     "metadata": {},
     "output_type": "execute_result"
    }
   ],
   "source": [
    "df2.columns"
   ]
  },
  {
   "cell_type": "markdown",
   "id": "feaccafa-a7d2-4c26-a0a4-14b57cfdcee2",
   "metadata": {},
   "source": [
    "From EDA we know that dewpoint temperature is highly correlated with temperature, we will keep thedewpoint_temp because it produces better predictions on average in stacked cross validation"
   ]
  },
  {
   "cell_type": "markdown",
   "id": "8628c048-6fa2-4b57-a3ad-a0991b5feddb",
   "metadata": {},
   "source": [
    "**Feature Selection Results:**\n",
    "\n",
    "| Changes | Validation MSE 1 | Validation MSE 2 | Validation MSE 3 |\n",
    "| --- | --- | --- | --- |\n",
    "| Full | NA | NA | 118462 |\n",
    "| w/o dewpoint_temp|399901|289980|256236|\n",
    "| w/o temperature |378970|324943|202046|\n",
    "| w/o temperature, wind_speed|380308|235905|120903|\n",
    "| w/o temperature, wind_speed, solar_radiation|468616|30257|112662|"
   ]
  },
  {
   "cell_type": "code",
   "execution_count": 5,
   "id": "4735d3e8-c409-434d-ad60-05377148c77e",
   "metadata": {},
   "outputs": [],
   "source": [
    "df2.drop(['temperature'], axis = 1, inplace = True)"
   ]
  },
  {
   "cell_type": "code",
   "execution_count": 6,
   "id": "148761b0-ca71-455b-bc23-1abe6d4fe7ce",
   "metadata": {},
   "outputs": [],
   "source": [
    "df2.drop(['wind_speed'], axis = 1, inplace = True)"
   ]
  },
  {
   "cell_type": "code",
   "execution_count": 7,
   "id": "67c375a1-32f0-4ea8-8dbb-2be90750a15e",
   "metadata": {},
   "outputs": [],
   "source": [
    "df2.drop(['solar_radiation'], axis = 1, inplace = True)"
   ]
  },
  {
   "cell_type": "markdown",
   "id": "76c63989-8d73-4e78-a8b2-971cf924bf20",
   "metadata": {},
   "source": [
    "## Stacked Cross Validation Split"
   ]
  },
  {
   "cell_type": "code",
   "execution_count": 8,
   "id": "6ab94471-d4d3-47d4-bf52-7a66e929b5a0",
   "metadata": {},
   "outputs": [],
   "source": [
    "X = df2.drop(['rep_count', 'rep_count_smooth'], axis = 1, inplace = False).to_numpy()\n",
    "y = df2.rep_count.to_numpy()\n",
    "# y = df2.rep_count_smooth.to_numpy()"
   ]
  },
  {
   "cell_type": "markdown",
   "id": "4bf3ce8f-1d8c-4b5f-afb4-a69023d494f0",
   "metadata": {},
   "source": [
    "Here we split into 4 sets, first 3 is for cross validation and iterative tuning our model.  \n",
    "The 4th set is for final model evaluation (testing)."
   ]
  },
  {
   "cell_type": "code",
   "execution_count": 34,
   "id": "e8028f89-76dc-4358-8e6c-637edc145013",
   "metadata": {},
   "outputs": [],
   "source": [
    "tscv = TimeSeriesSplit(n_splits = 4, test_size = 50)\n",
    "X_train = []\n",
    "X_dev = []\n",
    "y_train = []\n",
    "y_dev = []\n",
    "for train_index, test_index in tscv.split(X):\n",
    "    X_train.append(X[train_index])\n",
    "    X_dev.append(X[test_index])\n",
    "    y_train.append(y[train_index])\n",
    "    y_dev.append(y[test_index])\n",
    "input_data = (X_train, y_train, X_dev, y_dev)"
   ]
  },
  {
   "cell_type": "markdown",
   "id": "0ce4766e-861a-493c-9f25-a867777e82db",
   "metadata": {},
   "source": [
    "## Model Function"
   ]
  },
  {
   "cell_type": "code",
   "execution_count": 48,
   "id": "fe4b2eec-1e9f-4219-9b8a-e7eda41bbd86",
   "metadata": {},
   "outputs": [],
   "source": [
    "def train_nth_set(input_data, n = 1, show_summary = False, **kwargs):\n",
    "    X_train, y_train, X_dev, y_dev = input_data\n",
    "    length = len(X_train[n-1][0])\n",
    "    model = keras.Sequential()\n",
    "    model.add(layers.Dense(16, input_shape = (None, 1)))\n",
    "    model.add(layers.LSTM(50))\n",
    "#     model.add(layers.Dense(32))\n",
    "    model.add(layers.Dense(16))\n",
    "    model.add(layers.Dense(1, activation = \"relu\"))\n",
    "    model.compile(loss='mean_squared_error', optimizer='adam',\n",
    "                 metrics = [keras.metrics.MeanAbsolutePercentageError(), keras.metrics.MeanAbsoluteError()])\n",
    "    if show_summary:\n",
    "        print(model.summary())\n",
    "    x = tf.convert_to_tensor(X_train[n-1].reshape((-1, length, 1)), np.float32)\n",
    "    y = tf.convert_to_tensor(y_train[n-1].reshape(-1, 1, 1), np.float32)\n",
    "    x_dev = tf.convert_to_tensor(X_dev[n-1].reshape((-1, length, 1)), np.float32)\n",
    "    y_dev = tf.convert_to_tensor(y_dev[n-1].reshape((-1, 1, 1)), np.float32)\n",
    "    histo = model.fit(x,y, batch_size = 1, verbose = 0, validation_data = (x_dev, y_dev), **kwargs)\n",
    "    return model, histo\n",
    "def eval_nth_set(histo, epoch):\n",
    "    print(f\"Validation MSE = {histo.history['val_loss'][epoch]}\")\n",
    "#     X_train, y_train, X_dev, y_dev = input_data\n",
    "#     return model.evaluate(tf.convert_to_tensor(X_dev[n-1].reshape((-1, 15, 1)), np.float32),\n",
    "#                tf.convert_to_tensor(y_dev[n-1].reshape((-1, 1, 1)), np.float32))"
   ]
  },
  {
   "cell_type": "markdown",
   "id": "c827681a-6f11-4aec-bfe0-58c44fcc969b",
   "metadata": {},
   "source": [
    "## Train/Test Set Number 1"
   ]
  },
  {
   "cell_type": "code",
   "execution_count": 38,
   "id": "80a637ea-16a6-4f99-9890-79103064eb27",
   "metadata": {},
   "outputs": [],
   "source": [
    "model1, hist1 = train_nth_set(input_data, n = 1, epochs = 20)"
   ]
  },
  {
   "cell_type": "code",
   "execution_count": 39,
   "id": "592aaf63-0ecb-41fa-8002-53270d51eb7a",
   "metadata": {},
   "outputs": [
    {
     "data": {
      "text/plain": [
       "<matplotlib.legend.Legend at 0x106c006ec40>"
      ]
     },
     "execution_count": 39,
     "metadata": {},
     "output_type": "execute_result"
    },
    {
     "data": {
      "image/png": "[encoded data removed]",
      "text/plain": [
       "<Figure size 432x288 with 1 Axes>"
      ]
     },
     "metadata": {
      "needs_background": "light"
     },
     "output_type": "display_data"
    }
   ],
   "source": [
    "tl, = plt.plot(hist1.history['loss'])\n",
    "vl, = plt.plot(hist1.history['val_loss'])\n",
    "plt.legend([tl, vl], [\"Training Loss\", \"Validation Loss\"])"
   ]
  },
  {
   "cell_type": "code",
   "execution_count": 51,
   "id": "fcc630f2-8b9c-4659-9776-a2ac5f8d7e8b",
   "metadata": {},
   "outputs": [
    {
     "name": "stdout",
     "output_type": "stream",
     "text": [
      "Validation MSE = 204352.75\n"
     ]
    }
   ],
   "source": [
    "eval_nth_set(hist1, 5)"
   ]
  },
  {
   "cell_type": "markdown",
   "id": "17d4796d-1aeb-463a-bd48-2a53435a2cde",
   "metadata": {
    "tags": []
   },
   "source": [
    "## Train/Test Set Number 2"
   ]
  },
  {
   "cell_type": "code",
   "execution_count": 41,
   "id": "0f520a86-3d6e-4508-9870-954f914a15eb",
   "metadata": {},
   "outputs": [],
   "source": [
    "model2, hist2 = train_nth_set(input_data, n = 2, epochs = 20)"
   ]
  },
  {
   "cell_type": "code",
   "execution_count": 42,
   "id": "43ae8350-b078-4b59-8bfb-7e693f2b14d7",
   "metadata": {},
   "outputs": [
    {
     "data": {
      "text/plain": [
       "<matplotlib.legend.Legend at 0x106c86c4fa0>"
      ]
     },
     "execution_count": 42,
     "metadata": {},
     "output_type": "execute_result"
    },
    {
     "data": {
      "image/png": "[encoded data removed]",
      "text/plain": [
       "<Figure size 432x288 with 1 Axes>"
      ]
     },
     "metadata": {
      "needs_background": "light"
     },
     "output_type": "display_data"
    }
   ],
   "source": [
    "tl, = plt.plot(hist2.history['loss'])\n",
    "vl, = plt.plot(hist2.history['val_loss'])\n",
    "plt.legend([tl, vl], [\"Training Loss\", \"Validation Loss\"])"
   ]
  },
  {
   "cell_type": "code",
   "execution_count": 54,
   "id": "986eb729-0e5b-4fc1-995b-f8ff56c0db98",
   "metadata": {},
   "outputs": [
    {
     "name": "stdout",
     "output_type": "stream",
     "text": [
      "Validation MSE = 372550.34375\n"
     ]
    }
   ],
   "source": [
    "eval_nth_set(hist2, 5)"
   ]
  },
  {
   "cell_type": "markdown",
   "id": "8b1e93c3-f87a-4aa9-ae8f-b1495885af5b",
   "metadata": {},
   "source": [
    "## Train/Test Set Number 3"
   ]
  },
  {
   "cell_type": "code",
   "execution_count": 58,
   "id": "e28d2f6f-2d4e-4b90-9b1c-706933959396",
   "metadata": {},
   "outputs": [],
   "source": [
    "model3, hist3 = train_nth_set(input_data, n = 3, epochs = 20)"
   ]
  },
  {
   "cell_type": "code",
   "execution_count": 59,
   "id": "4f5877f7-8cb3-45cb-aa23-0e21e380bbcb",
   "metadata": {},
   "outputs": [
    {
     "data": {
      "text/plain": [
       "<matplotlib.legend.Legend at 0x106d040ea90>"
      ]
     },
     "execution_count": 59,
     "metadata": {},
     "output_type": "execute_result"
    },
    {
     "data": {
      "image/png": "[encoded data removed]",
      "text/plain": [
       "<Figure size 432x288 with 1 Axes>"
      ]
     },
     "metadata": {
      "needs_background": "light"
     },
     "output_type": "display_data"
    }
   ],
   "source": [
    "tl, = plt.plot(hist3.history['loss'])\n",
    "vl, = plt.plot(hist3.history['val_loss'])\n",
    "plt.legend([tl, vl], [\"Training Loss\", \"Validation Loss\"])"
   ]
  },
  {
   "cell_type": "code",
   "execution_count": 64,
   "id": "3ef193cc-a95c-4faf-902d-bf7b4b4f38ed",
   "metadata": {},
   "outputs": [
    {
     "name": "stdout",
     "output_type": "stream",
     "text": [
      "Validation MSE = 206873.359375\n"
     ]
    }
   ],
   "source": [
    "eval_nth_set(hist3, 5)"
   ]
  },
  {
   "cell_type": "markdown",
   "id": "608b2cd2-ba9d-4574-a16a-4a2881f01be4",
   "metadata": {},
   "source": [
    "## Testing"
   ]
  },
  {
   "cell_type": "markdown",
   "id": "d02b47d0-4ff1-4933-82e9-9b316f92f929",
   "metadata": {},
   "source": [
    "After hyperparameters tuning, feature selection and cross validation, since the third model has the best performance, we will use the third model as our final model."
   ]
  },
  {
   "cell_type": "code",
   "execution_count": 65,
   "id": "678566e7-2a19-4e17-b2bd-e2e3018dc311",
   "metadata": {},
   "outputs": [
    {
     "name": "stdout",
     "output_type": "stream",
     "text": [
      "1/1 [==============================] - 1s 514ms/step - loss: 124422.4141 - mean_absolute_percentage_error: 24.9363 - mean_absolute_error: 278.5890\n"
     ]
    },
    {
     "data": {
      "text/plain": [
       "[124422.4140625, 24.936250686645508, 278.5889587402344]"
      ]
     },
     "execution_count": 65,
     "metadata": {},
     "output_type": "execute_result"
    }
   ],
   "source": [
    "fmodel, _ = train_nth_set(input_data, n = 3, epochs = 5)\n",
    "fmodel.evaluate(tf.convert_to_tensor(X_dev[4-1].reshape((-1, len(X_train[4-1][0]), 1)), np.float32), \n",
    "               tf.convert_to_tensor(y_dev[4-1].reshape((-1, 1, 1)), np.float32))"
   ]
  },
  {
   "cell_type": "markdown",
   "id": "ea8149e7-acae-45f8-9e62-5f46558effe8",
   "metadata": {},
   "source": [
    "The percentage error is 24.9%, which indicates that we should allow around 25% of buffer bike count."
   ]
  },
  {
   "cell_type": "code",
   "execution_count": 67,
   "id": "56acb37c-6411-4787-b8e1-87dac3ac51c3",
   "metadata": {},
   "outputs": [
    {
     "name": "stderr",
     "output_type": "stream",
     "text": [
      "WARNING:absl:Found untraced functions such as lstm_cell_15_layer_call_fn, lstm_cell_15_layer_call_and_return_conditional_losses, lstm_cell_15_layer_call_fn, lstm_cell_15_layer_call_and_return_conditional_losses, lstm_cell_15_layer_call_and_return_conditional_losses while saving (showing 5 of 5). These functions will not be directly callable after loading.\n"
     ]
    },
    {
     "name": "stdout",
     "output_type": "stream",
     "text": [
      "INFO:tensorflow:Assets written to: ./final_lstm\\assets\n"
     ]
    },
    {
     "name": "stderr",
     "output_type": "stream",
     "text": [
      "INFO:tensorflow:Assets written to: ./final_lstm\\assets\n"
     ]
    }
   ],
   "source": [
    "fmodel.save(\"./final_lstm\")"
   ]
  },
  {
   "cell_type": "markdown",
   "id": "d5596eb6-0009-4405-aeff-88fcc968b17c",
   "metadata": {},
   "source": [
    "## 7-days Prediction for Demonstration"
   ]
  },
  {
   "cell_type": "code",
   "execution_count": null,
   "id": "7e4d7eab-7177-4e1e-bfb0-d8d0eba256d6",
   "metadata": {},
   "outputs": [],
   "source": [
    "fmodel = keras.models.load_model(\"./final_lstm\")"
   ]
  },
  {
   "cell_type": "code",
   "execution_count": 103,
   "id": "29f31a02-e36d-491b-8275-12b681ff7b83",
   "metadata": {},
   "outputs": [],
   "source": [
    "demo0 = pd.read_csv('../data/7days_demo.csv')\n",
    "demo0.head()\n",
    "demo = demo0.copy()"
   ]
  },
  {
   "cell_type": "code",
   "execution_count": 104,
   "id": "751f4685-408e-48b4-98f0-b5bf1cfac8ce",
   "metadata": {},
   "outputs": [],
   "source": [
    "demo.drop(['solar_radiation'], axis = 1, inplace = True)\n",
    "demo.drop(['temperature'], axis = 1, inplace = True)\n",
    "demo.drop(['wind_speed'], axis = 1, inplace = True)"
   ]
  },
  {
   "cell_type": "code",
   "execution_count": 105,
   "id": "ee307775-4861-4ef5-99bc-f0736f73a453",
   "metadata": {},
   "outputs": [
    {
     "data": {
      "text/html": [
       "<div>\n",
       "<style scoped>\n",
       "    .dataframe tbody tr th:only-of-type {\n",
       "        vertical-align: middle;\n",
       "    }\n",
       "\n",
       "    .dataframe tbody tr th {\n",
       "        vertical-align: top;\n",
       "    }\n",
       "\n",
       "    .dataframe thead th {\n",
       "        text-align: right;\n",
       "    }\n",
       "</style>\n",
       "<table border=\"1\" class=\"dataframe\">\n",
       "  <thead>\n",
       "    <tr style=\"text-align: right;\">\n",
       "      <th></th>\n",
       "      <th>snowfall</th>\n",
       "      <th>rainfall</th>\n",
       "      <th>rent_count</th>\n",
       "      <th>humidity</th>\n",
       "      <th>visibility</th>\n",
       "      <th>dewpoint_temp</th>\n",
       "      <th>season_Autumn</th>\n",
       "      <th>holiday_No Holiday</th>\n",
       "    </tr>\n",
       "  </thead>\n",
       "  <tbody>\n",
       "    <tr>\n",
       "      <th>0</th>\n",
       "      <td>787</td>\n",
       "      <td>10.9</td>\n",
       "      <td>6477</td>\n",
       "      <td>84.5</td>\n",
       "      <td>10460</td>\n",
       "      <td>0.00</td>\n",
       "      <td>1</td>\n",
       "      <td>1</td>\n",
       "    </tr>\n",
       "    <tr>\n",
       "      <th>1</th>\n",
       "      <td>414</td>\n",
       "      <td>0.0</td>\n",
       "      <td>11212</td>\n",
       "      <td>81.5</td>\n",
       "      <td>4295</td>\n",
       "      <td>0.75</td>\n",
       "      <td>1</td>\n",
       "      <td>1</td>\n",
       "    </tr>\n",
       "    <tr>\n",
       "      <th>2</th>\n",
       "      <td>29</td>\n",
       "      <td>0.0</td>\n",
       "      <td>17162</td>\n",
       "      <td>70.5</td>\n",
       "      <td>4675</td>\n",
       "      <td>1.00</td>\n",
       "      <td>1</td>\n",
       "      <td>1</td>\n",
       "    </tr>\n",
       "    <tr>\n",
       "      <th>3</th>\n",
       "      <td>0</td>\n",
       "      <td>0.0</td>\n",
       "      <td>16282</td>\n",
       "      <td>73.0</td>\n",
       "      <td>3725</td>\n",
       "      <td>1.35</td>\n",
       "      <td>1</td>\n",
       "      <td>1</td>\n",
       "    </tr>\n",
       "    <tr>\n",
       "      <th>4</th>\n",
       "      <td>0</td>\n",
       "      <td>0.0</td>\n",
       "      <td>16524</td>\n",
       "      <td>26.0</td>\n",
       "      <td>14640</td>\n",
       "      <td>-12.95</td>\n",
       "      <td>1</td>\n",
       "      <td>1</td>\n",
       "    </tr>\n",
       "  </tbody>\n",
       "</table>\n",
       "</div>"
      ],
      "text/plain": [
       "   snowfall  rainfall  rent_count  humidity  visibility  dewpoint_temp  \\\n",
       "0       787      10.9        6477      84.5       10460           0.00   \n",
       "1       414       0.0       11212      81.5        4295           0.75   \n",
       "2        29       0.0       17162      70.5        4675           1.00   \n",
       "3         0       0.0       16282      73.0        3725           1.35   \n",
       "4         0       0.0       16524      26.0       14640         -12.95   \n",
       "\n",
       "   season_Autumn  holiday_No Holiday  \n",
       "0              1                   1  \n",
       "1              1                   1  \n",
       "2              1                   1  \n",
       "3              1                   1  \n",
       "4              1                   1  "
      ]
     },
     "execution_count": 105,
     "metadata": {},
     "output_type": "execute_result"
    }
   ],
   "source": [
    "demo.drop(['Unnamed: 0', 'date', 'rep_count'], axis = 1, inplace = True)\n",
    "demo1 = pd.get_dummies(demo, columns=['season', 'holiday'])\n",
    "demo1.head()"
   ]
  },
  {
   "cell_type": "code",
   "execution_count": 106,
   "id": "34ee33f8-e3c7-4f36-aa6c-810e3fd42a08",
   "metadata": {},
   "outputs": [],
   "source": [
    "demo1['season_Spring'] = np.zeros(7, dtype = np.int8)\n",
    "demo1['season_Summer'] = np.zeros(7, dtype = np.int8)\n",
    "demo1['season_Winter'] = np.zeros(7, dtype = np.int8)\n",
    "demo1['holiday_Holiday'] = np.zeros(7, dtype = np.int8)"
   ]
  },
  {
   "cell_type": "code",
   "execution_count": 107,
   "id": "7fed584e-9c1b-4c70-8972-aec37d476be9",
   "metadata": {},
   "outputs": [
    {
     "data": {
      "text/html": [
       "<div>\n",
       "<style scoped>\n",
       "    .dataframe tbody tr th:only-of-type {\n",
       "        vertical-align: middle;\n",
       "    }\n",
       "\n",
       "    .dataframe tbody tr th {\n",
       "        vertical-align: top;\n",
       "    }\n",
       "\n",
       "    .dataframe thead th {\n",
       "        text-align: right;\n",
       "    }\n",
       "</style>\n",
       "<table border=\"1\" class=\"dataframe\">\n",
       "  <thead>\n",
       "    <tr style=\"text-align: right;\">\n",
       "      <th></th>\n",
       "      <th>snowfall</th>\n",
       "      <th>rainfall</th>\n",
       "      <th>rent_count</th>\n",
       "      <th>humidity</th>\n",
       "      <th>visibility</th>\n",
       "      <th>dewpoint_temp</th>\n",
       "      <th>season_Autumn</th>\n",
       "      <th>season_Spring</th>\n",
       "      <th>season_Summer</th>\n",
       "      <th>season_Winter</th>\n",
       "      <th>holiday_Holiday</th>\n",
       "      <th>holiday_No Holiday</th>\n",
       "    </tr>\n",
       "  </thead>\n",
       "  <tbody>\n",
       "    <tr>\n",
       "      <th>0</th>\n",
       "      <td>787</td>\n",
       "      <td>10.9</td>\n",
       "      <td>6477</td>\n",
       "      <td>84.5</td>\n",
       "      <td>10460</td>\n",
       "      <td>0.00</td>\n",
       "      <td>1</td>\n",
       "      <td>0</td>\n",
       "      <td>0</td>\n",
       "      <td>0</td>\n",
       "      <td>0</td>\n",
       "      <td>1</td>\n",
       "    </tr>\n",
       "    <tr>\n",
       "      <th>1</th>\n",
       "      <td>414</td>\n",
       "      <td>0.0</td>\n",
       "      <td>11212</td>\n",
       "      <td>81.5</td>\n",
       "      <td>4295</td>\n",
       "      <td>0.75</td>\n",
       "      <td>1</td>\n",
       "      <td>0</td>\n",
       "      <td>0</td>\n",
       "      <td>0</td>\n",
       "      <td>0</td>\n",
       "      <td>1</td>\n",
       "    </tr>\n",
       "    <tr>\n",
       "      <th>2</th>\n",
       "      <td>29</td>\n",
       "      <td>0.0</td>\n",
       "      <td>17162</td>\n",
       "      <td>70.5</td>\n",
       "      <td>4675</td>\n",
       "      <td>1.00</td>\n",
       "      <td>1</td>\n",
       "      <td>0</td>\n",
       "      <td>0</td>\n",
       "      <td>0</td>\n",
       "      <td>0</td>\n",
       "      <td>1</td>\n",
       "    </tr>\n",
       "    <tr>\n",
       "      <th>3</th>\n",
       "      <td>0</td>\n",
       "      <td>0.0</td>\n",
       "      <td>16282</td>\n",
       "      <td>73.0</td>\n",
       "      <td>3725</td>\n",
       "      <td>1.35</td>\n",
       "      <td>1</td>\n",
       "      <td>0</td>\n",
       "      <td>0</td>\n",
       "      <td>0</td>\n",
       "      <td>0</td>\n",
       "      <td>1</td>\n",
       "    </tr>\n",
       "    <tr>\n",
       "      <th>4</th>\n",
       "      <td>0</td>\n",
       "      <td>0.0</td>\n",
       "      <td>16524</td>\n",
       "      <td>26.0</td>\n",
       "      <td>14640</td>\n",
       "      <td>-12.95</td>\n",
       "      <td>1</td>\n",
       "      <td>0</td>\n",
       "      <td>0</td>\n",
       "      <td>0</td>\n",
       "      <td>0</td>\n",
       "      <td>1</td>\n",
       "    </tr>\n",
       "  </tbody>\n",
       "</table>\n",
       "</div>"
      ],
      "text/plain": [
       "   snowfall  rainfall  rent_count  humidity  visibility  dewpoint_temp  \\\n",
       "0       787      10.9        6477      84.5       10460           0.00   \n",
       "1       414       0.0       11212      81.5        4295           0.75   \n",
       "2        29       0.0       17162      70.5        4675           1.00   \n",
       "3         0       0.0       16282      73.0        3725           1.35   \n",
       "4         0       0.0       16524      26.0       14640         -12.95   \n",
       "\n",
       "   season_Autumn  season_Spring  season_Summer  season_Winter  \\\n",
       "0              1              0              0              0   \n",
       "1              1              0              0              0   \n",
       "2              1              0              0              0   \n",
       "3              1              0              0              0   \n",
       "4              1              0              0              0   \n",
       "\n",
       "   holiday_Holiday  holiday_No Holiday  \n",
       "0                0                   1  \n",
       "1                0                   1  \n",
       "2                0                   1  \n",
       "3                0                   1  \n",
       "4                0                   1  "
      ]
     },
     "execution_count": 107,
     "metadata": {},
     "output_type": "execute_result"
    }
   ],
   "source": [
    "cols = demo1.columns.to_list()[:7] + demo1.columns.to_list()[8:] + ['holiday_No Holiday']\n",
    "demo2 = demo1[cols]\n",
    "demo2.head()"
   ]
  },
  {
   "cell_type": "code",
   "execution_count": 109,
   "id": "793207b7-9d12-4115-97d5-cf1cad02807b",
   "metadata": {},
   "outputs": [],
   "source": [
    "preds = fmodel.predict(tf.convert_to_tensor(demo2.to_numpy().reshape((-1, 12, 1)), np.float32))"
   ]
  },
  {
   "cell_type": "code",
   "execution_count": 113,
   "id": "2be4219e-3826-49ba-90bd-32cf53c405c5",
   "metadata": {},
   "outputs": [],
   "source": [
    "demo0['predicted_rep_count'] = preds\n",
    "demo0.to_csv('../data/7days_demo.csv')"
   ]
  }
 ],
 "metadata": {
  "kernelspec": {
   "display_name": "Python 3 (ipykernel)",
   "language": "python",
   "name": "python3"
  },
  "language_info": {
   "codemirror_mode": {
    "name": "ipython",
    "version": 3
   },
   "file_extension": ".py",
   "mimetype": "text/x-python",
   "name": "python",
   "nbconvert_exporter": "python",
   "pygments_lexer": "ipython3",
   "version": "3.9.6"
  }
 },
 "nbformat": 4,
 "nbformat_minor": 5
}
