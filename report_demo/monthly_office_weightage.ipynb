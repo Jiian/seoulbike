{
 "cells": [
  {
   "cell_type": "code",
   "execution_count": 1,
   "id": "068d5748-10fd-41f8-8462-2bc1cdf8b059",
   "metadata": {},
   "outputs": [],
   "source": [
    "import pandas as pd\n",
    "from datetime import datetime"
   ]
  },
  {
   "cell_type": "code",
   "execution_count": 2,
   "id": "47dc4cf8-a3c8-4ed6-9bff-8f8b7b5793ff",
   "metadata": {},
   "outputs": [],
   "source": [
    "data = pd.read_csv('../data/location_jan17_may19_clean.csv', encoding = 'cp949')"
   ]
  },
  {
   "cell_type": "code",
   "execution_count": 3,
   "id": "21acb8eb-ed29-4a89-9710-4d6d9de7f86d",
   "metadata": {},
   "outputs": [],
   "source": [
    "data = data[['code', 'month', 'rentals']].drop_duplicates()"
   ]
  },
  {
   "cell_type": "code",
   "execution_count": 4,
   "id": "2bf51100-9f6d-4438-bbf9-d714accb94d2",
   "metadata": {},
   "outputs": [],
   "source": [
    "data.month = pd.to_datetime(data.month)"
   ]
  },
  {
   "cell_type": "code",
   "execution_count": 5,
   "id": "dcc8b218-dc9c-4cfc-bc1e-471fe6a79464",
   "metadata": {},
   "outputs": [],
   "source": [
    "data['month_label'] = data.month.dt.month"
   ]
  },
  {
   "cell_type": "code",
   "execution_count": 6,
   "id": "b7141cef-951c-41fe-ada0-2989befa3c5c",
   "metadata": {},
   "outputs": [],
   "source": [
    "df_monthly_rental_sum = data.groupby('month').rentals.sum().reset_index()\n",
    "df_monthly_rental_sum.columns = ['month', 'rental_sum']"
   ]
  },
  {
   "cell_type": "code",
   "execution_count": 7,
   "id": "0df933bd-579c-4da4-9e20-2e947d8e7502",
   "metadata": {},
   "outputs": [],
   "source": [
    "data_with_sum = data.merge(df_monthly_rental_sum, on = 'month', how = 'left')\n",
    "data_with_sum['rental_percentage'] = data_with_sum.rentals/data_with_sum.rental_sum"
   ]
  },
  {
   "cell_type": "code",
   "execution_count": 8,
   "id": "3cc495f4-b492-4676-b206-38f25cbe40b9",
   "metadata": {},
   "outputs": [],
   "source": [
    "df_final = data_with_sum.groupby(['code','month_label']).rental_percentage.mean().reset_index()"
   ]
  },
  {
   "cell_type": "code",
   "execution_count": null,
   "id": "3c5e3087-9c43-4d7a-9571-6151addb730e",
   "metadata": {},
   "outputs": [],
   "source": [
    "df_final[df_final.code.apply(lambda x: str.strip(x).isnumeric())].to_csv('office_monthly_weightage.csv', index=False)"
   ]
  },
  {
   "cell_type": "code",
   "execution_count": null,
   "id": "8d212238-9da0-4a89-9405-d2163f7bb0b6",
   "metadata": {},
   "outputs": [],
   "source": []
  }
 ],
 "metadata": {
  "kernelspec": {
   "display_name": "Python 3",
   "language": "python",
   "name": "python3"
  },
  "language_info": {
   "codemirror_mode": {
    "name": "ipython",
    "version": 3
   },
   "file_extension": ".py",
   "mimetype": "text/x-python",
   "name": "python",
   "nbconvert_exporter": "python",
   "pygments_lexer": "ipython3",
   "version": "3.8.11"
  }
 },
 "nbformat": 4,
 "nbformat_minor": 5
}
