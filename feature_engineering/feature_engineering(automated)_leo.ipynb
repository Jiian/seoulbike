{
  "nbformat": 4,
  "nbformat_minor": 5,
  "metadata": {
    "kernelspec": {
      "display_name": "Python 3",
      "language": "python",
      "name": "python3"
    },
    "language_info": {
      "codemirror_mode": {
        "name": "ipython",
        "version": 3
      },
      "file_extension": ".py",
      "mimetype": "text/x-python",
      "name": "python",
      "nbconvert_exporter": "python",
      "pygments_lexer": "ipython3",
      "version": "3.8.11"
    },
    "colab": {
      "name": "feature_engineering(automated).ipynb",
      "provenance": [],
      "collapsed_sections": []
    }
  },
  "cells": [
    {
      "cell_type": "code",
      "metadata": {
        "tags": [],
        "id": "da33dd10-70b7-4f2e-9197-0fa6716dc10a"
      },
      "source": [
        "#!pip install featuretools"
      ],
      "id": "da33dd10-70b7-4f2e-9197-0fa6716dc10a",
      "execution_count": null,
      "outputs": []
    },
    {
      "cell_type": "code",
      "metadata": {
        "id": "3A4oHsaBv_9r"
      },
      "source": [
        "#!pip install numpy --upgrade"
      ],
      "id": "3A4oHsaBv_9r",
      "execution_count": null,
      "outputs": []
    },
    {
      "cell_type": "code",
      "metadata": {
        "id": "f9838fb0-89b9-445c-8908-d4e6068886d9"
      },
      "source": [
        "import pandas as pd\n",
        "import featuretools as ft"
      ],
      "id": "f9838fb0-89b9-445c-8908-d4e6068886d9",
      "execution_count": null,
      "outputs": []
    },
    {
      "cell_type": "code",
      "metadata": {
        "id": "b3060418-f58b-4c42-9cea-76a6044b0086",
        "colab": {
          "base_uri": "https://localhost:8080/",
          "height": 330
        },
        "outputId": "036450c1-35ad-4e96-9297-b1546893d898"
      },
      "source": [
        "df_seoul = pd.read_csv('https://raw.githubusercontent.com/Jiian/seoulbike/main/data/seoul_bike_agg_median.csv?token=AVLOXCNSXSMUIFTVUNKDIILBHGMUI')\n",
        "#df_seoul = pd.read_csv('https://raw.githubusercontent.com/Jiian/seoulbike/main/data/seoul_bike_agg_mean.csv?token=AVLOXCOE7JOIREWTTZYFGV3BHGMRC')\n",
        "df_seoul.head()"
      ],
      "id": "b3060418-f58b-4c42-9cea-76a6044b0086",
      "execution_count": null,
      "outputs": [
        {
          "output_type": "execute_result",
          "data": {
            "text/html": [
              "<div>\n",
              "<style scoped>\n",
              "    .dataframe tbody tr th:only-of-type {\n",
              "        vertical-align: middle;\n",
              "    }\n",
              "\n",
              "    .dataframe tbody tr th {\n",
              "        vertical-align: top;\n",
              "    }\n",
              "\n",
              "    .dataframe thead th {\n",
              "        text-align: right;\n",
              "    }\n",
              "</style>\n",
              "<table border=\"1\" class=\"dataframe\">\n",
              "  <thead>\n",
              "    <tr style=\"text-align: right;\">\n",
              "      <th></th>\n",
              "      <th>Unnamed: 0</th>\n",
              "      <th>rent_count</th>\n",
              "      <th>year</th>\n",
              "      <th>month</th>\n",
              "      <th>day</th>\n",
              "      <th>day_of_week</th>\n",
              "      <th>season</th>\n",
              "      <th>temperature</th>\n",
              "      <th>humudity</th>\n",
              "      <th>holiday</th>\n",
              "      <th>wind_speed</th>\n",
              "      <th>visibility</th>\n",
              "      <th>dewpoint_temp</th>\n",
              "      <th>solar_radiation</th>\n",
              "      <th>rainfall</th>\n",
              "      <th>snowfall</th>\n",
              "    </tr>\n",
              "  </thead>\n",
              "  <tbody>\n",
              "    <tr>\n",
              "      <th>0</th>\n",
              "      <td>1</td>\n",
              "      <td>9539</td>\n",
              "      <td>2017</td>\n",
              "      <td>12</td>\n",
              "      <td>1</td>\n",
              "      <td>4</td>\n",
              "      <td>Winter</td>\n",
              "      <td>-2.454167</td>\n",
              "      <td>37.5</td>\n",
              "      <td>No Holiday</td>\n",
              "      <td>1.537500</td>\n",
              "      <td>18707.500000</td>\n",
              "      <td>-13.545833</td>\n",
              "      <td>0.248750</td>\n",
              "      <td>0.0</td>\n",
              "      <td>0</td>\n",
              "    </tr>\n",
              "    <tr>\n",
              "      <th>1</th>\n",
              "      <td>2</td>\n",
              "      <td>8523</td>\n",
              "      <td>2017</td>\n",
              "      <td>12</td>\n",
              "      <td>2</td>\n",
              "      <td>5</td>\n",
              "      <td>Winter</td>\n",
              "      <td>1.325000</td>\n",
              "      <td>55.5</td>\n",
              "      <td>No Holiday</td>\n",
              "      <td>1.712500</td>\n",
              "      <td>14710.833333</td>\n",
              "      <td>-5.716667</td>\n",
              "      <td>0.263750</td>\n",
              "      <td>0.0</td>\n",
              "      <td>0</td>\n",
              "    </tr>\n",
              "    <tr>\n",
              "      <th>2</th>\n",
              "      <td>3</td>\n",
              "      <td>7222</td>\n",
              "      <td>2017</td>\n",
              "      <td>12</td>\n",
              "      <td>3</td>\n",
              "      <td>6</td>\n",
              "      <td>Winter</td>\n",
              "      <td>4.875000</td>\n",
              "      <td>84.5</td>\n",
              "      <td>No Holiday</td>\n",
              "      <td>1.612500</td>\n",
              "      <td>4557.500000</td>\n",
              "      <td>1.883333</td>\n",
              "      <td>0.125417</td>\n",
              "      <td>4.0</td>\n",
              "      <td>0</td>\n",
              "    </tr>\n",
              "    <tr>\n",
              "      <th>3</th>\n",
              "      <td>4</td>\n",
              "      <td>8729</td>\n",
              "      <td>2017</td>\n",
              "      <td>12</td>\n",
              "      <td>4</td>\n",
              "      <td>0</td>\n",
              "      <td>Winter</td>\n",
              "      <td>-0.304167</td>\n",
              "      <td>43.5</td>\n",
              "      <td>No Holiday</td>\n",
              "      <td>3.450000</td>\n",
              "      <td>13628.333333</td>\n",
              "      <td>-9.925000</td>\n",
              "      <td>0.282917</td>\n",
              "      <td>0.1</td>\n",
              "      <td>0</td>\n",
              "    </tr>\n",
              "    <tr>\n",
              "      <th>4</th>\n",
              "      <td>5</td>\n",
              "      <td>8307</td>\n",
              "      <td>2017</td>\n",
              "      <td>12</td>\n",
              "      <td>5</td>\n",
              "      <td>1</td>\n",
              "      <td>Winter</td>\n",
              "      <td>-4.458333</td>\n",
              "      <td>34.5</td>\n",
              "      <td>No Holiday</td>\n",
              "      <td>1.108333</td>\n",
              "      <td>19594.583333</td>\n",
              "      <td>-17.425000</td>\n",
              "      <td>0.035833</td>\n",
              "      <td>0.0</td>\n",
              "      <td>0</td>\n",
              "    </tr>\n",
              "  </tbody>\n",
              "</table>\n",
              "</div>"
            ],
            "text/plain": [
              "   Unnamed: 0  rent_count  year  ...  solar_radiation  rainfall  snowfall\n",
              "0           1        9539  2017  ...         0.248750       0.0         0\n",
              "1           2        8523  2017  ...         0.263750       0.0         0\n",
              "2           3        7222  2017  ...         0.125417       4.0         0\n",
              "3           4        8729  2017  ...         0.282917       0.1         0\n",
              "4           5        8307  2017  ...         0.035833       0.0         0\n",
              "\n",
              "[5 rows x 16 columns]"
            ]
          },
          "metadata": {},
          "execution_count": 82
        }
      ]
    },
    {
      "cell_type": "code",
      "metadata": {
        "id": "61b9a95a-58d4-4054-99f6-ba7a12dde3f1"
      },
      "source": [
        "df_seoul.dtypes"
      ],
      "id": "61b9a95a-58d4-4054-99f6-ba7a12dde3f1",
      "execution_count": null,
      "outputs": []
    },
    {
      "cell_type": "markdown",
      "metadata": {
        "tags": [],
        "id": "fafe282f-869c-45c4-937d-cbcb1286ae36"
      },
      "source": [
        "### Automated Feature Engineering"
      ],
      "id": "fafe282f-869c-45c4-937d-cbcb1286ae36"
    },
    {
      "cell_type": "code",
      "metadata": {
        "id": "89042647-2f60-4ca8-9566-747aacaf3b2e"
      },
      "source": [
        "df_x = df_seoul.drop(['rent_count','month','day','year'], axis=1)"
      ],
      "id": "89042647-2f60-4ca8-9566-747aacaf3b2e",
      "execution_count": null,
      "outputs": []
    },
    {
      "cell_type": "code",
      "metadata": {
        "colab": {
          "base_uri": "https://localhost:8080/"
        },
        "id": "49db0067-decb-4af7-819f-7ead042ebea1",
        "outputId": "044b1613-8152-4870-cb4f-4d5c3389edbc"
      },
      "source": [
        "es = ft.EntitySet(id = 'bikes')\n",
        "\n",
        "# adding a dataframe \n",
        "es.entity_from_dataframe(entity_id = 'seoul_bike', dataframe = df_seoul, index = 'Unnamed: 0')"
      ],
      "id": "49db0067-decb-4af7-819f-7ead042ebea1",
      "execution_count": null,
      "outputs": [
        {
          "output_type": "execute_result",
          "data": {
            "text/plain": [
              "Entityset: bikes\n",
              "  Entities:\n",
              "    seoul_bike [Rows: 353, Columns: 16]\n",
              "  Relationships:\n",
              "    No relationships"
            ]
          },
          "metadata": {},
          "execution_count": 84
        }
      ]
    },
    {
      "cell_type": "code",
      "metadata": {
        "id": "cfaf3849-5dc6-4350-94f0-d8f007993ee6"
      },
      "source": [
        "\n",
        "es.normalize_entity(base_entity_id=\"seoul_bike\",\n",
        "                    new_entity_id=\"Season\",\n",
        "                    index=\"season\")\n",
        "\n",
        "es.normalize_entity(base_entity_id=\"seoul_bike\",\n",
        "                    new_entity_id=\"Holiday\",\n",
        "                    index=\"holiday\")\n",
        "es.normalize_entity(base_entity_id=\"seoul_bike\",\n",
        "                    new_entity_id=\"Day_of_week\",\n",
        "                    index=\"day_of_week\")\n",
        "\n",
        "print(es)"
      ],
      "id": "cfaf3849-5dc6-4350-94f0-d8f007993ee6",
      "execution_count": null,
      "outputs": []
    },
    {
      "cell_type": "code",
      "metadata": {
        "id": "31584546-886a-48bd-a4b9-ba7dc1303aea",
        "colab": {
          "base_uri": "https://localhost:8080/"
        },
        "outputId": "3c2ae17f-a769-40ec-ddba-a08d5e972ab8"
      },
      "source": [
        "feature_matrix, feature_names = ft.dfs(entityset=es, \n",
        "target_entity = 'seoul_bike', \n",
        "max_depth = 2, \n",
        "verbose = 1, \n",
        "n_jobs = 3)"
      ],
      "id": "31584546-886a-48bd-a4b9-ba7dc1303aea",
      "execution_count": null,
      "outputs": [
        {
          "output_type": "stream",
          "name": "stdout",
          "text": [
            "Built 246 features\n",
            "Elapsed: 00:00 | Progress:   0%|          "
          ]
        },
        {
          "output_type": "stream",
          "name": "stderr",
          "text": [
            "/usr/local/lib/python3.7/dist-packages/featuretools/computational_backends/utils.py:154: UserWarning: 3 workers requested, but only 2 workers created.\n",
            "  warnings.warn(warning_string)\n"
          ]
        },
        {
          "output_type": "stream",
          "name": "stdout",
          "text": [
            "EntitySet scattered to 2 workers in 3 seconds\n",
            "Elapsed: 00:02 | Progress: 100%|██████████\n"
          ]
        }
      ]
    },
    {
      "cell_type": "code",
      "metadata": {
        "id": "ce7b57b8-5b0b-46d9-85f4-fd595b56ef9a"
      },
      "source": [
        "feature_matrix.columns"
      ],
      "id": "ce7b57b8-5b0b-46d9-85f4-fd595b56ef9a",
      "execution_count": null,
      "outputs": []
    },
    {
      "cell_type": "code",
      "metadata": {
        "colab": {
          "base_uri": "https://localhost:8080/",
          "height": 17
        },
        "id": "UYDcpdE1Li3t",
        "outputId": "ae76e3e3-69fa-41de-c6a3-89fcf2905d76"
      },
      "source": [
        "from google.colab import files\n",
        "feature_matrix.to_csv(\"seoul_bike_agg_median_FG.csv\")\n",
        "files.download(\"seoul_bike_agg_median_FG.csv\")\n",
        "#feature_matrix.to_csv(\"seoul_bike_agg_mean_FG.csv\")\n",
        "#files.download(\"seoul_bike_agg_mean_FG.csv\")"
      ],
      "id": "UYDcpdE1Li3t",
      "execution_count": null,
      "outputs": [
        {
          "output_type": "display_data",
          "data": {
            "application/javascript": [
              "\n",
              "    async function download(id, filename, size) {\n",
              "      if (!google.colab.kernel.accessAllowed) {\n",
              "        return;\n",
              "      }\n",
              "      const div = document.createElement('div');\n",
              "      const label = document.createElement('label');\n",
              "      label.textContent = `Downloading \"${filename}\": `;\n",
              "      div.appendChild(label);\n",
              "      const progress = document.createElement('progress');\n",
              "      progress.max = size;\n",
              "      div.appendChild(progress);\n",
              "      document.body.appendChild(div);\n",
              "\n",
              "      const buffers = [];\n",
              "      let downloaded = 0;\n",
              "\n",
              "      const channel = await google.colab.kernel.comms.open(id);\n",
              "      // Send a message to notify the kernel that we're ready.\n",
              "      channel.send({})\n",
              "\n",
              "      for await (const message of channel.messages) {\n",
              "        // Send a message to notify the kernel that we're ready.\n",
              "        channel.send({})\n",
              "        if (message.buffers) {\n",
              "          for (const buffer of message.buffers) {\n",
              "            buffers.push(buffer);\n",
              "            downloaded += buffer.byteLength;\n",
              "            progress.value = downloaded;\n",
              "          }\n",
              "        }\n",
              "      }\n",
              "      const blob = new Blob(buffers, {type: 'application/binary'});\n",
              "      const a = document.createElement('a');\n",
              "      a.href = window.URL.createObjectURL(blob);\n",
              "      a.download = filename;\n",
              "      div.appendChild(a);\n",
              "      a.click();\n",
              "      div.remove();\n",
              "    }\n",
              "  "
            ],
            "text/plain": [
              "<IPython.core.display.Javascript object>"
            ]
          },
          "metadata": {}
        },
        {
          "output_type": "display_data",
          "data": {
            "application/javascript": [
              "download(\"download_bf2dae7e-e8ba-4b41-b197-2bde31fc2757\", \"seoul_agg_feature.csv\", 1092458)"
            ],
            "text/plain": [
              "<IPython.core.display.Javascript object>"
            ]
          },
          "metadata": {}
        }
      ]
    },
    {
      "cell_type": "code",
      "metadata": {
        "id": "-HOagOc-PkNN"
      },
      "source": [
        ""
      ],
      "id": "-HOagOc-PkNN",
      "execution_count": null,
      "outputs": []
    }
  ]
}