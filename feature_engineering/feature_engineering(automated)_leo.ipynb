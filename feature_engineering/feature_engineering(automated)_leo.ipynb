{
 "cells": [
  {
   "cell_type": "code",
   "execution_count": 89,
   "id": "da33dd10-70b7-4f2e-9197-0fa6716dc10a",
   "metadata": {
    "id": "da33dd10-70b7-4f2e-9197-0fa6716dc10a",
    "tags": []
   },
   "outputs": [],
   "source": [
    "#!pip install featuretools"
   ]
  },
  {
   "cell_type": "code",
   "execution_count": 3,
   "id": "3A4oHsaBv_9r",
   "metadata": {
    "id": "3A4oHsaBv_9r"
   },
   "outputs": [],
   "source": [
    "#!pip install numpy --upgrade"
   ]
  },
  {
   "cell_type": "code",
   "execution_count": 6,
   "id": "f9838fb0-89b9-445c-8908-d4e6068886d9",
   "metadata": {
    "id": "f9838fb0-89b9-445c-8908-d4e6068886d9"
   },
   "outputs": [],
   "source": [
    "import pandas as pd\n",
    "import featuretools as ft"
   ]
  },
  {
   "cell_type": "code",
   "execution_count": 7,
   "id": "b3060418-f58b-4c42-9cea-76a6044b0086",
   "metadata": {
    "colab": {
     "base_uri": "https://localhost:8080/",
     "height": 330
    },
    "id": "b3060418-f58b-4c42-9cea-76a6044b0086",
    "outputId": "036450c1-35ad-4e96-9297-b1546893d898"
   },
   "outputs": [],
   "source": [
    "df_seoul = pd.read_csv('../data/seoul_bike_agg_median.csv')\n",
    "df_seoul_ori = pd.read_csv('../data/7days_demo.csv')"
   ]
  },
  {
   "cell_type": "code",
   "execution_count": 8,
   "id": "38d62c3b-72da-4b77-bae7-c0d679c58a5c",
   "metadata": {},
   "outputs": [
    {
     "data": {
      "text/plain": [
       "Unnamed: 0           int64\n",
       "rent_count           int64\n",
       "year                 int64\n",
       "month                int64\n",
       "day                  int64\n",
       "day_of_week          int64\n",
       "season              object\n",
       "temperature        float64\n",
       "humudity           float64\n",
       "holiday             object\n",
       "wind_speed         float64\n",
       "visibility           int64\n",
       "dewpoint_temp      float64\n",
       "solar_radiation    float64\n",
       "rainfall           float64\n",
       "snowfall             int64\n",
       "dtype: object"
      ]
     },
     "execution_count": 8,
     "metadata": {},
     "output_type": "execute_result"
    }
   ],
   "source": [
    "df_seoul.dtypes"
   ]
  },
  {
   "cell_type": "code",
   "execution_count": 9,
   "id": "dbec1f8d-2e4b-43b6-b7be-2a8c32fa8ae0",
   "metadata": {},
   "outputs": [],
   "source": [
    "df_seoul = df_seoul.drop(['rent_count', 'year'], axis =1)"
   ]
  },
  {
   "cell_type": "code",
   "execution_count": 10,
   "id": "69cd0afb-bc00-42a8-87a6-219b902886f7",
   "metadata": {
    "tags": []
   },
   "outputs": [],
   "source": [
    "df_seoul_ori['datetime'] = pd.to_datetime(df_seoul_ori['date'])\n",
    "df_seoul_ori['month'] = df_seoul_ori.datetime.dt.month\n",
    "df_seoul_ori['day_of_week'] = df_seoul_ori.datetime.dt.dayofweek # mon, tue ... \n",
    "df_seoul_ori['day'] = df_seoul_ori.datetime.dt.day\n",
    "df_seoul_ori['year'] = df_seoul_ori.datetime.dt.year"
   ]
  },
  {
   "cell_type": "code",
   "execution_count": 11,
   "id": "1586d4b6-3f42-4ec5-8296-0c04dfa3f5e5",
   "metadata": {},
   "outputs": [
    {
     "data": {
      "text/plain": [
       "Unnamed: 0                       int64\n",
       "Unnamed: 0.1                     int64\n",
       "date                            object\n",
       "season                          object\n",
       "holiday                         object\n",
       "snowfall                         int64\n",
       "rainfall                       float64\n",
       "rent_count                       int64\n",
       "temperature                    float64\n",
       "humidity                       float64\n",
       "wind_speed                     float64\n",
       "visibility                       int64\n",
       "dewpoint_temp                  float64\n",
       "solar_radiation                  int64\n",
       "rep_count                        int64\n",
       "predicted_rep_count            float64\n",
       "predicted_rent_count           float64\n",
       "datetime                datetime64[ns]\n",
       "month                            int64\n",
       "day_of_week                      int64\n",
       "day                              int64\n",
       "year                             int64\n",
       "dtype: object"
      ]
     },
     "execution_count": 11,
     "metadata": {},
     "output_type": "execute_result"
    }
   ],
   "source": [
    "df_seoul_ori.dtypes"
   ]
  },
  {
   "cell_type": "code",
   "execution_count": 12,
   "id": "ec82e0f9-211f-409b-900a-c166133495ce",
   "metadata": {},
   "outputs": [
    {
     "data": {
      "text/plain": [
       "Index(['Unnamed: 0', 'season', 'holiday', 'snowfall', 'rainfall',\n",
       "       'temperature', 'humidity', 'wind_speed', 'visibility', 'dewpoint_temp',\n",
       "       'solar_radiation', 'month', 'day_of_week', 'day'],\n",
       "      dtype='object')"
      ]
     },
     "execution_count": 12,
     "metadata": {},
     "output_type": "execute_result"
    }
   ],
   "source": [
    "df_seoul = df_seoul_ori.drop(['Unnamed: 0.1','date','datetime','rep_count', 'predicted_rep_count', 'predicted_rent_count', 'rent_count', 'year'], axis=1)\n",
    "df_seoul.columns"
   ]
  },
  {
   "cell_type": "markdown",
   "id": "fafe282f-869c-45c4-937d-cbcb1286ae36",
   "metadata": {
    "id": "fafe282f-869c-45c4-937d-cbcb1286ae36",
    "tags": []
   },
   "source": [
    "### Automated Feature Engineering"
   ]
  },
  {
   "cell_type": "code",
   "execution_count": 13,
   "id": "49db0067-decb-4af7-819f-7ead042ebea1",
   "metadata": {
    "colab": {
     "base_uri": "https://localhost:8080/"
    },
    "id": "49db0067-decb-4af7-819f-7ead042ebea1",
    "outputId": "044b1613-8152-4870-cb4f-4d5c3389edbc"
   },
   "outputs": [
    {
     "data": {
      "text/plain": [
       "Entityset: bikes\n",
       "  Entities:\n",
       "    seoul_bike [Rows: 7, Columns: 14]\n",
       "  Relationships:\n",
       "    No relationships"
      ]
     },
     "execution_count": 13,
     "metadata": {},
     "output_type": "execute_result"
    }
   ],
   "source": [
    "es = ft.EntitySet(id = 'bikes')\n",
    "\n",
    "# adding a dataframe \n",
    "es.entity_from_dataframe(entity_id = 'seoul_bike', dataframe = df_seoul, index = 'Unnamed: 0')"
   ]
  },
  {
   "cell_type": "code",
   "execution_count": 14,
   "id": "84cceda6-fe90-4c65-9da7-7b741ebb348f",
   "metadata": {
    "id": "61b9a95a-58d4-4054-99f6-ba7a12dde3f1"
   },
   "outputs": [
    {
     "data": {
      "text/plain": [
       "Unnamed: 0           int64\n",
       "season              object\n",
       "holiday             object\n",
       "snowfall             int64\n",
       "rainfall           float64\n",
       "temperature        float64\n",
       "humidity           float64\n",
       "wind_speed         float64\n",
       "visibility           int64\n",
       "dewpoint_temp      float64\n",
       "solar_radiation      int64\n",
       "month                int64\n",
       "day_of_week          int64\n",
       "day                  int64\n",
       "dtype: object"
      ]
     },
     "execution_count": 14,
     "metadata": {},
     "output_type": "execute_result"
    }
   ],
   "source": [
    "df_seoul.dtypes"
   ]
  },
  {
   "cell_type": "code",
   "execution_count": 15,
   "id": "cfaf3849-5dc6-4350-94f0-d8f007993ee6",
   "metadata": {
    "id": "cfaf3849-5dc6-4350-94f0-d8f007993ee6"
   },
   "outputs": [
    {
     "name": "stdout",
     "output_type": "stream",
     "text": [
      "Entityset: bikes\n",
      "  Entities:\n",
      "    seoul_bike [Rows: 7, Columns: 14]\n",
      "    Month [Rows: 1, Columns: 1]\n",
      "    Day [Rows: 7, Columns: 1]\n",
      "    Day_of_week [Rows: 7, Columns: 1]\n",
      "    Season [Rows: 1, Columns: 1]\n",
      "    Holiday [Rows: 1, Columns: 1]\n",
      "  Relationships:\n",
      "    seoul_bike.month -> Month.month\n",
      "    seoul_bike.day -> Day.day\n",
      "    seoul_bike.day_of_week -> Day_of_week.day_of_week\n",
      "    seoul_bike.season -> Season.season\n",
      "    seoul_bike.holiday -> Holiday.holiday\n"
     ]
    }
   ],
   "source": [
    "es.normalize_entity(base_entity_id=\"seoul_bike\",\n",
    "                    new_entity_id=\"Month\",\n",
    "                    index=\"month\")\n",
    "\n",
    "es.normalize_entity(base_entity_id=\"seoul_bike\",\n",
    "                    new_entity_id=\"Day\",\n",
    "                    index=\"day\")\n",
    "\n",
    "es.normalize_entity(base_entity_id=\"seoul_bike\",\n",
    "                    new_entity_id=\"Day_of_week\",\n",
    "                    index=\"day_of_week\")\n",
    "\n",
    "es.normalize_entity(base_entity_id=\"seoul_bike\",\n",
    "                    new_entity_id=\"Season\",\n",
    "                    index=\"season\")\n",
    "\n",
    "es.normalize_entity(base_entity_id=\"seoul_bike\",\n",
    "                    new_entity_id=\"Holiday\",\n",
    "                    index=\"holiday\")\n",
    "\n",
    "print(es)"
   ]
  },
  {
   "cell_type": "code",
   "execution_count": 16,
   "id": "31584546-886a-48bd-a4b9-ba7dc1303aea",
   "metadata": {
    "colab": {
     "base_uri": "https://localhost:8080/"
    },
    "id": "31584546-886a-48bd-a4b9-ba7dc1303aea",
    "outputId": "3c2ae17f-a769-40ec-ddba-a08d5e972ab8"
   },
   "outputs": [
    {
     "name": "stdout",
     "output_type": "stream",
     "text": [
      "Built 298 features\n",
      "EntitySet scattered to 3 workers in 3 seconds                                                                          \n",
      "Elapsed: 00:01 | Progress: 100%|███████████████████████████████████████████████████████████████████████████████████████\n"
     ]
    }
   ],
   "source": [
    "feature_matrix, feature_names = ft.dfs(entityset=es, \n",
    "target_entity = 'seoul_bike', \n",
    "max_depth = 2, \n",
    "verbose = 1, \n",
    "n_jobs = 3)"
   ]
  },
  {
   "cell_type": "code",
   "execution_count": 17,
   "id": "ce7b57b8-5b0b-46d9-85f4-fd595b56ef9a",
   "metadata": {
    "id": "ce7b57b8-5b0b-46d9-85f4-fd595b56ef9a",
    "scrolled": true,
    "tags": []
   },
   "outputs": [
    {
     "data": {
      "text/plain": [
       "['season',\n",
       " 'holiday',\n",
       " 'snowfall',\n",
       " 'rainfall',\n",
       " 'temperature',\n",
       " 'humidity',\n",
       " 'wind_speed',\n",
       " 'visibility',\n",
       " 'dewpoint_temp',\n",
       " 'solar_radiation',\n",
       " 'month',\n",
       " 'day_of_week',\n",
       " 'day',\n",
       " 'Month.COUNT(seoul_bike)',\n",
       " 'Month.MAX(seoul_bike.dewpoint_temp)',\n",
       " 'Month.MAX(seoul_bike.humidity)',\n",
       " 'Month.MAX(seoul_bike.rainfall)',\n",
       " 'Month.MAX(seoul_bike.snowfall)',\n",
       " 'Month.MAX(seoul_bike.solar_radiation)',\n",
       " 'Month.MAX(seoul_bike.temperature)',\n",
       " 'Month.MAX(seoul_bike.visibility)',\n",
       " 'Month.MAX(seoul_bike.wind_speed)',\n",
       " 'Month.MEAN(seoul_bike.dewpoint_temp)',\n",
       " 'Month.MEAN(seoul_bike.humidity)',\n",
       " 'Month.MEAN(seoul_bike.rainfall)',\n",
       " 'Month.MEAN(seoul_bike.snowfall)',\n",
       " 'Month.MEAN(seoul_bike.solar_radiation)',\n",
       " 'Month.MEAN(seoul_bike.temperature)',\n",
       " 'Month.MEAN(seoul_bike.visibility)',\n",
       " 'Month.MEAN(seoul_bike.wind_speed)',\n",
       " 'Month.MIN(seoul_bike.dewpoint_temp)',\n",
       " 'Month.MIN(seoul_bike.humidity)',\n",
       " 'Month.MIN(seoul_bike.rainfall)',\n",
       " 'Month.MIN(seoul_bike.snowfall)',\n",
       " 'Month.MIN(seoul_bike.solar_radiation)',\n",
       " 'Month.MIN(seoul_bike.temperature)',\n",
       " 'Month.MIN(seoul_bike.visibility)',\n",
       " 'Month.MIN(seoul_bike.wind_speed)',\n",
       " 'Month.MODE(seoul_bike.day)',\n",
       " 'Month.MODE(seoul_bike.day_of_week)',\n",
       " 'Month.MODE(seoul_bike.holiday)',\n",
       " 'Month.MODE(seoul_bike.season)',\n",
       " 'Month.NUM_UNIQUE(seoul_bike.day)',\n",
       " 'Month.NUM_UNIQUE(seoul_bike.day_of_week)',\n",
       " 'Month.NUM_UNIQUE(seoul_bike.holiday)',\n",
       " 'Month.NUM_UNIQUE(seoul_bike.season)',\n",
       " 'Month.SKEW(seoul_bike.dewpoint_temp)',\n",
       " 'Month.SKEW(seoul_bike.humidity)',\n",
       " 'Month.SKEW(seoul_bike.rainfall)',\n",
       " 'Month.SKEW(seoul_bike.snowfall)',\n",
       " 'Month.SKEW(seoul_bike.solar_radiation)',\n",
       " 'Month.SKEW(seoul_bike.temperature)',\n",
       " 'Month.SKEW(seoul_bike.visibility)',\n",
       " 'Month.SKEW(seoul_bike.wind_speed)',\n",
       " 'Month.STD(seoul_bike.dewpoint_temp)',\n",
       " 'Month.STD(seoul_bike.humidity)',\n",
       " 'Month.STD(seoul_bike.rainfall)',\n",
       " 'Month.STD(seoul_bike.snowfall)',\n",
       " 'Month.STD(seoul_bike.solar_radiation)',\n",
       " 'Month.STD(seoul_bike.temperature)',\n",
       " 'Month.STD(seoul_bike.visibility)',\n",
       " 'Month.STD(seoul_bike.wind_speed)',\n",
       " 'Month.SUM(seoul_bike.dewpoint_temp)',\n",
       " 'Month.SUM(seoul_bike.humidity)',\n",
       " 'Month.SUM(seoul_bike.rainfall)',\n",
       " 'Month.SUM(seoul_bike.snowfall)',\n",
       " 'Month.SUM(seoul_bike.solar_radiation)',\n",
       " 'Month.SUM(seoul_bike.temperature)',\n",
       " 'Month.SUM(seoul_bike.visibility)',\n",
       " 'Month.SUM(seoul_bike.wind_speed)',\n",
       " 'Day.COUNT(seoul_bike)',\n",
       " 'Day.MAX(seoul_bike.dewpoint_temp)',\n",
       " 'Day.MAX(seoul_bike.humidity)',\n",
       " 'Day.MAX(seoul_bike.rainfall)',\n",
       " 'Day.MAX(seoul_bike.snowfall)',\n",
       " 'Day.MAX(seoul_bike.solar_radiation)',\n",
       " 'Day.MAX(seoul_bike.temperature)',\n",
       " 'Day.MAX(seoul_bike.visibility)',\n",
       " 'Day.MAX(seoul_bike.wind_speed)',\n",
       " 'Day.MEAN(seoul_bike.dewpoint_temp)',\n",
       " 'Day.MEAN(seoul_bike.humidity)',\n",
       " 'Day.MEAN(seoul_bike.rainfall)',\n",
       " 'Day.MEAN(seoul_bike.snowfall)',\n",
       " 'Day.MEAN(seoul_bike.solar_radiation)',\n",
       " 'Day.MEAN(seoul_bike.temperature)',\n",
       " 'Day.MEAN(seoul_bike.visibility)',\n",
       " 'Day.MEAN(seoul_bike.wind_speed)',\n",
       " 'Day.MIN(seoul_bike.dewpoint_temp)',\n",
       " 'Day.MIN(seoul_bike.humidity)',\n",
       " 'Day.MIN(seoul_bike.rainfall)',\n",
       " 'Day.MIN(seoul_bike.snowfall)',\n",
       " 'Day.MIN(seoul_bike.solar_radiation)',\n",
       " 'Day.MIN(seoul_bike.temperature)',\n",
       " 'Day.MIN(seoul_bike.visibility)',\n",
       " 'Day.MIN(seoul_bike.wind_speed)',\n",
       " 'Day.MODE(seoul_bike.day_of_week)',\n",
       " 'Day.MODE(seoul_bike.holiday)',\n",
       " 'Day.MODE(seoul_bike.month)',\n",
       " 'Day.MODE(seoul_bike.season)',\n",
       " 'Day.NUM_UNIQUE(seoul_bike.day_of_week)',\n",
       " 'Day.NUM_UNIQUE(seoul_bike.holiday)',\n",
       " 'Day.NUM_UNIQUE(seoul_bike.month)',\n",
       " 'Day.NUM_UNIQUE(seoul_bike.season)',\n",
       " 'Day.SKEW(seoul_bike.dewpoint_temp)',\n",
       " 'Day.SKEW(seoul_bike.humidity)',\n",
       " 'Day.SKEW(seoul_bike.rainfall)',\n",
       " 'Day.SKEW(seoul_bike.snowfall)',\n",
       " 'Day.SKEW(seoul_bike.solar_radiation)',\n",
       " 'Day.SKEW(seoul_bike.temperature)',\n",
       " 'Day.SKEW(seoul_bike.visibility)',\n",
       " 'Day.SKEW(seoul_bike.wind_speed)',\n",
       " 'Day.STD(seoul_bike.dewpoint_temp)',\n",
       " 'Day.STD(seoul_bike.humidity)',\n",
       " 'Day.STD(seoul_bike.rainfall)',\n",
       " 'Day.STD(seoul_bike.snowfall)',\n",
       " 'Day.STD(seoul_bike.solar_radiation)',\n",
       " 'Day.STD(seoul_bike.temperature)',\n",
       " 'Day.STD(seoul_bike.visibility)',\n",
       " 'Day.STD(seoul_bike.wind_speed)',\n",
       " 'Day.SUM(seoul_bike.dewpoint_temp)',\n",
       " 'Day.SUM(seoul_bike.humidity)',\n",
       " 'Day.SUM(seoul_bike.rainfall)',\n",
       " 'Day.SUM(seoul_bike.snowfall)',\n",
       " 'Day.SUM(seoul_bike.solar_radiation)',\n",
       " 'Day.SUM(seoul_bike.temperature)',\n",
       " 'Day.SUM(seoul_bike.visibility)',\n",
       " 'Day.SUM(seoul_bike.wind_speed)',\n",
       " 'Day_of_week.COUNT(seoul_bike)',\n",
       " 'Day_of_week.MAX(seoul_bike.dewpoint_temp)',\n",
       " 'Day_of_week.MAX(seoul_bike.humidity)',\n",
       " 'Day_of_week.MAX(seoul_bike.rainfall)',\n",
       " 'Day_of_week.MAX(seoul_bike.snowfall)',\n",
       " 'Day_of_week.MAX(seoul_bike.solar_radiation)',\n",
       " 'Day_of_week.MAX(seoul_bike.temperature)',\n",
       " 'Day_of_week.MAX(seoul_bike.visibility)',\n",
       " 'Day_of_week.MAX(seoul_bike.wind_speed)',\n",
       " 'Day_of_week.MEAN(seoul_bike.dewpoint_temp)',\n",
       " 'Day_of_week.MEAN(seoul_bike.humidity)',\n",
       " 'Day_of_week.MEAN(seoul_bike.rainfall)',\n",
       " 'Day_of_week.MEAN(seoul_bike.snowfall)',\n",
       " 'Day_of_week.MEAN(seoul_bike.solar_radiation)',\n",
       " 'Day_of_week.MEAN(seoul_bike.temperature)',\n",
       " 'Day_of_week.MEAN(seoul_bike.visibility)',\n",
       " 'Day_of_week.MEAN(seoul_bike.wind_speed)',\n",
       " 'Day_of_week.MIN(seoul_bike.dewpoint_temp)',\n",
       " 'Day_of_week.MIN(seoul_bike.humidity)',\n",
       " 'Day_of_week.MIN(seoul_bike.rainfall)',\n",
       " 'Day_of_week.MIN(seoul_bike.snowfall)',\n",
       " 'Day_of_week.MIN(seoul_bike.solar_radiation)',\n",
       " 'Day_of_week.MIN(seoul_bike.temperature)',\n",
       " 'Day_of_week.MIN(seoul_bike.visibility)',\n",
       " 'Day_of_week.MIN(seoul_bike.wind_speed)',\n",
       " 'Day_of_week.MODE(seoul_bike.day)',\n",
       " 'Day_of_week.MODE(seoul_bike.holiday)',\n",
       " 'Day_of_week.MODE(seoul_bike.month)',\n",
       " 'Day_of_week.MODE(seoul_bike.season)',\n",
       " 'Day_of_week.NUM_UNIQUE(seoul_bike.day)',\n",
       " 'Day_of_week.NUM_UNIQUE(seoul_bike.holiday)',\n",
       " 'Day_of_week.NUM_UNIQUE(seoul_bike.month)',\n",
       " 'Day_of_week.NUM_UNIQUE(seoul_bike.season)',\n",
       " 'Day_of_week.SKEW(seoul_bike.dewpoint_temp)',\n",
       " 'Day_of_week.SKEW(seoul_bike.humidity)',\n",
       " 'Day_of_week.SKEW(seoul_bike.rainfall)',\n",
       " 'Day_of_week.SKEW(seoul_bike.snowfall)',\n",
       " 'Day_of_week.SKEW(seoul_bike.solar_radiation)',\n",
       " 'Day_of_week.SKEW(seoul_bike.temperature)',\n",
       " 'Day_of_week.SKEW(seoul_bike.visibility)',\n",
       " 'Day_of_week.SKEW(seoul_bike.wind_speed)',\n",
       " 'Day_of_week.STD(seoul_bike.dewpoint_temp)',\n",
       " 'Day_of_week.STD(seoul_bike.humidity)',\n",
       " 'Day_of_week.STD(seoul_bike.rainfall)',\n",
       " 'Day_of_week.STD(seoul_bike.snowfall)',\n",
       " 'Day_of_week.STD(seoul_bike.solar_radiation)',\n",
       " 'Day_of_week.STD(seoul_bike.temperature)',\n",
       " 'Day_of_week.STD(seoul_bike.visibility)',\n",
       " 'Day_of_week.STD(seoul_bike.wind_speed)',\n",
       " 'Day_of_week.SUM(seoul_bike.dewpoint_temp)',\n",
       " 'Day_of_week.SUM(seoul_bike.humidity)',\n",
       " 'Day_of_week.SUM(seoul_bike.rainfall)',\n",
       " 'Day_of_week.SUM(seoul_bike.snowfall)',\n",
       " 'Day_of_week.SUM(seoul_bike.solar_radiation)',\n",
       " 'Day_of_week.SUM(seoul_bike.temperature)',\n",
       " 'Day_of_week.SUM(seoul_bike.visibility)',\n",
       " 'Day_of_week.SUM(seoul_bike.wind_speed)',\n",
       " 'Season.COUNT(seoul_bike)',\n",
       " 'Season.MAX(seoul_bike.dewpoint_temp)',\n",
       " 'Season.MAX(seoul_bike.humidity)',\n",
       " 'Season.MAX(seoul_bike.rainfall)',\n",
       " 'Season.MAX(seoul_bike.snowfall)',\n",
       " 'Season.MAX(seoul_bike.solar_radiation)',\n",
       " 'Season.MAX(seoul_bike.temperature)',\n",
       " 'Season.MAX(seoul_bike.visibility)',\n",
       " 'Season.MAX(seoul_bike.wind_speed)',\n",
       " 'Season.MEAN(seoul_bike.dewpoint_temp)',\n",
       " 'Season.MEAN(seoul_bike.humidity)',\n",
       " 'Season.MEAN(seoul_bike.rainfall)',\n",
       " 'Season.MEAN(seoul_bike.snowfall)',\n",
       " 'Season.MEAN(seoul_bike.solar_radiation)',\n",
       " 'Season.MEAN(seoul_bike.temperature)',\n",
       " 'Season.MEAN(seoul_bike.visibility)',\n",
       " 'Season.MEAN(seoul_bike.wind_speed)',\n",
       " 'Season.MIN(seoul_bike.dewpoint_temp)',\n",
       " 'Season.MIN(seoul_bike.humidity)',\n",
       " 'Season.MIN(seoul_bike.rainfall)',\n",
       " 'Season.MIN(seoul_bike.snowfall)',\n",
       " 'Season.MIN(seoul_bike.solar_radiation)',\n",
       " 'Season.MIN(seoul_bike.temperature)',\n",
       " 'Season.MIN(seoul_bike.visibility)',\n",
       " 'Season.MIN(seoul_bike.wind_speed)',\n",
       " 'Season.MODE(seoul_bike.day)',\n",
       " 'Season.MODE(seoul_bike.day_of_week)',\n",
       " 'Season.MODE(seoul_bike.holiday)',\n",
       " 'Season.MODE(seoul_bike.month)',\n",
       " 'Season.NUM_UNIQUE(seoul_bike.day)',\n",
       " 'Season.NUM_UNIQUE(seoul_bike.day_of_week)',\n",
       " 'Season.NUM_UNIQUE(seoul_bike.holiday)',\n",
       " 'Season.NUM_UNIQUE(seoul_bike.month)',\n",
       " 'Season.SKEW(seoul_bike.dewpoint_temp)',\n",
       " 'Season.SKEW(seoul_bike.humidity)',\n",
       " 'Season.SKEW(seoul_bike.rainfall)',\n",
       " 'Season.SKEW(seoul_bike.snowfall)',\n",
       " 'Season.SKEW(seoul_bike.solar_radiation)',\n",
       " 'Season.SKEW(seoul_bike.temperature)',\n",
       " 'Season.SKEW(seoul_bike.visibility)',\n",
       " 'Season.SKEW(seoul_bike.wind_speed)',\n",
       " 'Season.STD(seoul_bike.dewpoint_temp)',\n",
       " 'Season.STD(seoul_bike.humidity)',\n",
       " 'Season.STD(seoul_bike.rainfall)',\n",
       " 'Season.STD(seoul_bike.snowfall)',\n",
       " 'Season.STD(seoul_bike.solar_radiation)',\n",
       " 'Season.STD(seoul_bike.temperature)',\n",
       " 'Season.STD(seoul_bike.visibility)',\n",
       " 'Season.STD(seoul_bike.wind_speed)',\n",
       " 'Season.SUM(seoul_bike.dewpoint_temp)',\n",
       " 'Season.SUM(seoul_bike.humidity)',\n",
       " 'Season.SUM(seoul_bike.rainfall)',\n",
       " 'Season.SUM(seoul_bike.snowfall)',\n",
       " 'Season.SUM(seoul_bike.solar_radiation)',\n",
       " 'Season.SUM(seoul_bike.temperature)',\n",
       " 'Season.SUM(seoul_bike.visibility)',\n",
       " 'Season.SUM(seoul_bike.wind_speed)',\n",
       " 'Holiday.COUNT(seoul_bike)',\n",
       " 'Holiday.MAX(seoul_bike.dewpoint_temp)',\n",
       " 'Holiday.MAX(seoul_bike.humidity)',\n",
       " 'Holiday.MAX(seoul_bike.rainfall)',\n",
       " 'Holiday.MAX(seoul_bike.snowfall)',\n",
       " 'Holiday.MAX(seoul_bike.solar_radiation)',\n",
       " 'Holiday.MAX(seoul_bike.temperature)',\n",
       " 'Holiday.MAX(seoul_bike.visibility)',\n",
       " 'Holiday.MAX(seoul_bike.wind_speed)',\n",
       " 'Holiday.MEAN(seoul_bike.dewpoint_temp)',\n",
       " 'Holiday.MEAN(seoul_bike.humidity)',\n",
       " 'Holiday.MEAN(seoul_bike.rainfall)',\n",
       " 'Holiday.MEAN(seoul_bike.snowfall)',\n",
       " 'Holiday.MEAN(seoul_bike.solar_radiation)',\n",
       " 'Holiday.MEAN(seoul_bike.temperature)',\n",
       " 'Holiday.MEAN(seoul_bike.visibility)',\n",
       " 'Holiday.MEAN(seoul_bike.wind_speed)',\n",
       " 'Holiday.MIN(seoul_bike.dewpoint_temp)',\n",
       " 'Holiday.MIN(seoul_bike.humidity)',\n",
       " 'Holiday.MIN(seoul_bike.rainfall)',\n",
       " 'Holiday.MIN(seoul_bike.snowfall)',\n",
       " 'Holiday.MIN(seoul_bike.solar_radiation)',\n",
       " 'Holiday.MIN(seoul_bike.temperature)',\n",
       " 'Holiday.MIN(seoul_bike.visibility)',\n",
       " 'Holiday.MIN(seoul_bike.wind_speed)',\n",
       " 'Holiday.MODE(seoul_bike.day)',\n",
       " 'Holiday.MODE(seoul_bike.day_of_week)',\n",
       " 'Holiday.MODE(seoul_bike.month)',\n",
       " 'Holiday.MODE(seoul_bike.season)',\n",
       " 'Holiday.NUM_UNIQUE(seoul_bike.day)',\n",
       " 'Holiday.NUM_UNIQUE(seoul_bike.day_of_week)',\n",
       " 'Holiday.NUM_UNIQUE(seoul_bike.month)',\n",
       " 'Holiday.NUM_UNIQUE(seoul_bike.season)',\n",
       " 'Holiday.SKEW(seoul_bike.dewpoint_temp)',\n",
       " 'Holiday.SKEW(seoul_bike.humidity)',\n",
       " 'Holiday.SKEW(seoul_bike.rainfall)',\n",
       " 'Holiday.SKEW(seoul_bike.snowfall)',\n",
       " 'Holiday.SKEW(seoul_bike.solar_radiation)',\n",
       " 'Holiday.SKEW(seoul_bike.temperature)',\n",
       " 'Holiday.SKEW(seoul_bike.visibility)',\n",
       " 'Holiday.SKEW(seoul_bike.wind_speed)',\n",
       " 'Holiday.STD(seoul_bike.dewpoint_temp)',\n",
       " 'Holiday.STD(seoul_bike.humidity)',\n",
       " 'Holiday.STD(seoul_bike.rainfall)',\n",
       " 'Holiday.STD(seoul_bike.snowfall)',\n",
       " 'Holiday.STD(seoul_bike.solar_radiation)',\n",
       " 'Holiday.STD(seoul_bike.temperature)',\n",
       " 'Holiday.STD(seoul_bike.visibility)',\n",
       " 'Holiday.STD(seoul_bike.wind_speed)',\n",
       " 'Holiday.SUM(seoul_bike.dewpoint_temp)',\n",
       " 'Holiday.SUM(seoul_bike.humidity)',\n",
       " 'Holiday.SUM(seoul_bike.rainfall)',\n",
       " 'Holiday.SUM(seoul_bike.snowfall)',\n",
       " 'Holiday.SUM(seoul_bike.solar_radiation)',\n",
       " 'Holiday.SUM(seoul_bike.temperature)',\n",
       " 'Holiday.SUM(seoul_bike.visibility)',\n",
       " 'Holiday.SUM(seoul_bike.wind_speed)']"
      ]
     },
     "execution_count": 17,
     "metadata": {},
     "output_type": "execute_result"
    }
   ],
   "source": [
    "list(feature_matrix.columns)"
   ]
  },
  {
   "cell_type": "code",
   "execution_count": 37,
   "id": "adaffd0a-9de2-4e0d-8dce-f408cc2ce05c",
   "metadata": {},
   "outputs": [
    {
     "data": {
      "text/plain": [
       "Unnamed: 0\n",
       "0    7\n",
       "1    7\n",
       "2    7\n",
       "3    7\n",
       "4    7\n",
       "5    7\n",
       "6    7\n",
       "Name: Month.COUNT(seoul_bike), dtype: int64"
      ]
     },
     "execution_count": 37,
     "metadata": {},
     "output_type": "execute_result"
    }
   ],
   "source": [
    "feature_matrix['Month.COUNT(seoul_bike)']"
   ]
  },
  {
   "cell_type": "code",
   "execution_count": 19,
   "id": "d82baad6-5e62-4634-9092-3d01009d9ebd",
   "metadata": {},
   "outputs": [],
   "source": [
    "df_merge = df_seoul_ori[['rent_count', 'year','date','datetime','rep_count', 'predicted_rep_count', 'predicted_rent_count', 'rent_count']]"
   ]
  },
  {
   "cell_type": "code",
   "execution_count": 26,
   "id": "74bc4d9c-b450-4d7c-be40-1a71d0c3eaa5",
   "metadata": {},
   "outputs": [],
   "source": [
    "#df_merge = pd.read_csv('../data/seoul_bike_agg_median.csv')[['rent_count', 'year']]"
   ]
  },
  {
   "cell_type": "code",
   "execution_count": 27,
   "id": "18652c4b-4208-4f7d-a5d9-2197a3890a5f",
   "metadata": {
    "tags": []
   },
   "outputs": [],
   "source": [
    "pd.concat([feature_matrix.reset_index(), df_merge], axis =1).to_csv(\"../data/7days_demo_FG.csv\")"
   ]
  },
  {
   "cell_type": "code",
   "execution_count": null,
   "id": "8f22ed80-9aaf-443c-aad3-97fb256f7884",
   "metadata": {},
   "outputs": [],
   "source": []
  },
  {
   "cell_type": "code",
   "execution_count": 77,
   "id": "UYDcpdE1Li3t",
   "metadata": {
    "colab": {
     "base_uri": "https://localhost:8080/",
     "height": 17
    },
    "id": "UYDcpdE1Li3t",
    "outputId": "ae76e3e3-69fa-41de-c6a3-89fcf2905d76"
   },
   "outputs": [],
   "source": [
    "feature_matrix.to_csv(\"seoul_bike_agg_median_FG_new.csv\")\n",
    "#files.download(\"seoul_bike_agg_median_FG.csv\")\n",
    "#feature_matrix.to_csv(\"seoul_bike_agg_mean_FG.csv\")\n",
    "#files.download(\"seoul_bike_agg_mean_FG.csv\")"
   ]
  }
 ],
 "metadata": {
  "colab": {
   "collapsed_sections": [],
   "name": "feature_engineering(automated).ipynb",
   "provenance": []
  },
  "kernelspec": {
   "display_name": "Python 3",
   "language": "python",
   "name": "python3"
  },
  "language_info": {
   "codemirror_mode": {
    "name": "ipython",
    "version": 3
   },
   "file_extension": ".py",
   "mimetype": "text/x-python",
   "name": "python",
   "nbconvert_exporter": "python",
   "pygments_lexer": "ipython3",
   "version": "3.8.11"
  }
 },
 "nbformat": 4,
 "nbformat_minor": 5
}
