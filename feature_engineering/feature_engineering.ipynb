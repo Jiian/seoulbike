{
 "cells": [
  {
   "cell_type": "code",
   "execution_count": 39,
   "id": "f9838fb0-89b9-445c-8908-d4e6068886d9",
   "metadata": {},
   "outputs": [],
   "source": [
    "import pandas as pd"
   ]
  },
  {
   "cell_type": "code",
   "execution_count": 40,
   "id": "b3060418-f58b-4c42-9cea-76a6044b0086",
   "metadata": {},
   "outputs": [
    {
     "data": {
      "text/html": [
       "<div>\n",
       "<style scoped>\n",
       "    .dataframe tbody tr th:only-of-type {\n",
       "        vertical-align: middle;\n",
       "    }\n",
       "\n",
       "    .dataframe tbody tr th {\n",
       "        vertical-align: top;\n",
       "    }\n",
       "\n",
       "    .dataframe thead th {\n",
       "        text-align: right;\n",
       "    }\n",
       "</style>\n",
       "<table border=\"1\" class=\"dataframe\">\n",
       "  <thead>\n",
       "    <tr style=\"text-align: right;\">\n",
       "      <th></th>\n",
       "      <th>Unnamed: 0</th>\n",
       "      <th>datetime</th>\n",
       "      <th>date</th>\n",
       "      <th>hour</th>\n",
       "      <th>season</th>\n",
       "      <th>holiday</th>\n",
       "      <th>open</th>\n",
       "      <th>rent_count</th>\n",
       "      <th>temperature</th>\n",
       "      <th>humidity</th>\n",
       "      <th>wind_speed</th>\n",
       "      <th>visibility</th>\n",
       "      <th>dewpoint_temp</th>\n",
       "      <th>solar_radiation</th>\n",
       "      <th>rainfall</th>\n",
       "      <th>snowfall</th>\n",
       "    </tr>\n",
       "  </thead>\n",
       "  <tbody>\n",
       "    <tr>\n",
       "      <th>0</th>\n",
       "      <td>1</td>\n",
       "      <td>2017-12-01 00:00:00</td>\n",
       "      <td>2017-12-01</td>\n",
       "      <td>0</td>\n",
       "      <td>Winter</td>\n",
       "      <td>No Holiday</td>\n",
       "      <td>Yes</td>\n",
       "      <td>254</td>\n",
       "      <td>-5.2</td>\n",
       "      <td>37</td>\n",
       "      <td>2.2</td>\n",
       "      <td>20000</td>\n",
       "      <td>-17.6</td>\n",
       "      <td>0.0</td>\n",
       "      <td>0.0</td>\n",
       "      <td>0</td>\n",
       "    </tr>\n",
       "    <tr>\n",
       "      <th>1</th>\n",
       "      <td>2</td>\n",
       "      <td>2017-12-01 01:00:00</td>\n",
       "      <td>2017-12-01</td>\n",
       "      <td>1</td>\n",
       "      <td>Winter</td>\n",
       "      <td>No Holiday</td>\n",
       "      <td>Yes</td>\n",
       "      <td>204</td>\n",
       "      <td>-5.5</td>\n",
       "      <td>38</td>\n",
       "      <td>0.8</td>\n",
       "      <td>20000</td>\n",
       "      <td>-17.6</td>\n",
       "      <td>0.0</td>\n",
       "      <td>0.0</td>\n",
       "      <td>0</td>\n",
       "    </tr>\n",
       "    <tr>\n",
       "      <th>2</th>\n",
       "      <td>3</td>\n",
       "      <td>2017-12-01 02:00:00</td>\n",
       "      <td>2017-12-01</td>\n",
       "      <td>2</td>\n",
       "      <td>Winter</td>\n",
       "      <td>No Holiday</td>\n",
       "      <td>Yes</td>\n",
       "      <td>173</td>\n",
       "      <td>-6.0</td>\n",
       "      <td>39</td>\n",
       "      <td>1.0</td>\n",
       "      <td>20000</td>\n",
       "      <td>-17.7</td>\n",
       "      <td>0.0</td>\n",
       "      <td>0.0</td>\n",
       "      <td>0</td>\n",
       "    </tr>\n",
       "    <tr>\n",
       "      <th>3</th>\n",
       "      <td>4</td>\n",
       "      <td>2017-12-01 03:00:00</td>\n",
       "      <td>2017-12-01</td>\n",
       "      <td>3</td>\n",
       "      <td>Winter</td>\n",
       "      <td>No Holiday</td>\n",
       "      <td>Yes</td>\n",
       "      <td>107</td>\n",
       "      <td>-6.2</td>\n",
       "      <td>40</td>\n",
       "      <td>0.9</td>\n",
       "      <td>20000</td>\n",
       "      <td>-17.6</td>\n",
       "      <td>0.0</td>\n",
       "      <td>0.0</td>\n",
       "      <td>0</td>\n",
       "    </tr>\n",
       "    <tr>\n",
       "      <th>4</th>\n",
       "      <td>5</td>\n",
       "      <td>2017-12-01 04:00:00</td>\n",
       "      <td>2017-12-01</td>\n",
       "      <td>4</td>\n",
       "      <td>Winter</td>\n",
       "      <td>No Holiday</td>\n",
       "      <td>Yes</td>\n",
       "      <td>78</td>\n",
       "      <td>-6.0</td>\n",
       "      <td>36</td>\n",
       "      <td>2.3</td>\n",
       "      <td>20000</td>\n",
       "      <td>-18.6</td>\n",
       "      <td>0.0</td>\n",
       "      <td>0.0</td>\n",
       "      <td>0</td>\n",
       "    </tr>\n",
       "  </tbody>\n",
       "</table>\n",
       "</div>"
      ],
      "text/plain": [
       "   Unnamed: 0             datetime        date  hour  season     holiday open  \\\n",
       "0           1  2017-12-01 00:00:00  2017-12-01     0  Winter  No Holiday  Yes   \n",
       "1           2  2017-12-01 01:00:00  2017-12-01     1  Winter  No Holiday  Yes   \n",
       "2           3  2017-12-01 02:00:00  2017-12-01     2  Winter  No Holiday  Yes   \n",
       "3           4  2017-12-01 03:00:00  2017-12-01     3  Winter  No Holiday  Yes   \n",
       "4           5  2017-12-01 04:00:00  2017-12-01     4  Winter  No Holiday  Yes   \n",
       "\n",
       "   rent_count  temperature  humidity  wind_speed  visibility  dewpoint_temp  \\\n",
       "0         254         -5.2        37         2.2       20000          -17.6   \n",
       "1         204         -5.5        38         0.8       20000          -17.6   \n",
       "2         173         -6.0        39         1.0       20000          -17.7   \n",
       "3         107         -6.2        40         0.9       20000          -17.6   \n",
       "4          78         -6.0        36         2.3       20000          -18.6   \n",
       "\n",
       "   solar_radiation  rainfall  snowfall  \n",
       "0              0.0       0.0         0  \n",
       "1              0.0       0.0         0  \n",
       "2              0.0       0.0         0  \n",
       "3              0.0       0.0         0  \n",
       "4              0.0       0.0         0  "
      ]
     },
     "execution_count": 40,
     "metadata": {},
     "output_type": "execute_result"
    }
   ],
   "source": [
    "df_seoul = pd.read_csv('../data/bike_clean.csv')\n",
    "df_seoul.head()"
   ]
  },
  {
   "cell_type": "code",
   "execution_count": 41,
   "id": "61b9a95a-58d4-4054-99f6-ba7a12dde3f1",
   "metadata": {},
   "outputs": [
    {
     "data": {
      "text/plain": [
       "Unnamed: 0           int64\n",
       "datetime            object\n",
       "date                object\n",
       "hour                 int64\n",
       "season              object\n",
       "holiday             object\n",
       "open                object\n",
       "rent_count           int64\n",
       "temperature        float64\n",
       "humidity             int64\n",
       "wind_speed         float64\n",
       "visibility           int64\n",
       "dewpoint_temp      float64\n",
       "solar_radiation    float64\n",
       "rainfall           float64\n",
       "snowfall             int64\n",
       "dtype: object"
      ]
     },
     "execution_count": 41,
     "metadata": {},
     "output_type": "execute_result"
    }
   ],
   "source": [
    "df_seoul.dtypes"
   ]
  },
  {
   "cell_type": "markdown",
   "id": "7af12bc1-62c6-44a7-a185-ae2732857095",
   "metadata": {},
   "source": [
    "### Datetime Feature Engineering"
   ]
  },
  {
   "cell_type": "code",
   "execution_count": 47,
   "id": "edf7610a-8d0a-4a0e-8213-10401852dde6",
   "metadata": {},
   "outputs": [],
   "source": [
    "df_seoul['datetime'] =  pd.to_datetime(df_seoul['datetime'])\n",
    "df_seoul['month'] = df_seoul.datetime.dt.month\n",
    "df_seoul['week'] = df_seoul.datetime.dt.isocalendar().week # week number\n",
    "df_seoul['day'] = df_seoul.datetime.dt.day # 1 to 31\n",
    "df_seoul['dayofyear'] = df_seoul.datetime.dt.dayofyear # 1 to 365\n",
    "df_seoul['dayofweek'] = df_seoul.datetime.dt.dayofweek # mon, tue ... "
   ]
  },
  {
   "cell_type": "code",
   "execution_count": 43,
   "id": "7c748570-7e1f-4786-9434-af81d9831dd6",
   "metadata": {
    "collapsed": true,
    "jupyter": {
     "outputs_hidden": true
    },
    "tags": []
   },
   "outputs": [
    {
     "data": {
      "text/plain": [
       "12    744\n",
       "1     744\n",
       "3     744\n",
       "5     744\n",
       "7     744\n",
       "8     744\n",
       "10    744\n",
       "4     720\n",
       "6     720\n",
       "9     720\n",
       "11    720\n",
       "2     672\n",
       "Name: month, dtype: int64"
      ]
     },
     "execution_count": 43,
     "metadata": {},
     "output_type": "execute_result"
    }
   ],
   "source": [
    "df_seoul.month.value_counts(dropna=False)"
   ]
  },
  {
   "cell_type": "code",
   "execution_count": 44,
   "id": "e8268de7-6755-439f-a146-e558bceceaaf",
   "metadata": {
    "collapsed": true,
    "jupyter": {
     "outputs_hidden": true
    },
    "tags": []
   },
   "outputs": [
    {
     "data": {
      "text/plain": [
       "48     192\n",
       "21     168\n",
       "50     168\n",
       "51     168\n",
       "52     168\n",
       "1      168\n",
       "2      168\n",
       "3      168\n",
       "4      168\n",
       "5      168\n",
       "6      168\n",
       "7      168\n",
       "9      168\n",
       "20     168\n",
       "10     168\n",
       "11     168\n",
       "12     168\n",
       "13     168\n",
       "14     168\n",
       "15     168\n",
       "16     168\n",
       "17     168\n",
       "18     168\n",
       "19     168\n",
       "47     168\n",
       "8      168\n",
       "22     168\n",
       "49     168\n",
       "23     168\n",
       "24     168\n",
       "25     168\n",
       "26     168\n",
       "27     168\n",
       "28     168\n",
       "29     168\n",
       "30     168\n",
       "31     168\n",
       "32     168\n",
       "33     168\n",
       "34     168\n",
       "35     168\n",
       "36     168\n",
       "37     168\n",
       "38     168\n",
       "39     168\n",
       "40     168\n",
       "41     168\n",
       "42     168\n",
       "43     168\n",
       "44     168\n",
       "45     168\n",
       "46     168\n",
       "NaN      0\n",
       "Name: week, dtype: Int64"
      ]
     },
     "execution_count": 44,
     "metadata": {},
     "output_type": "execute_result"
    }
   ],
   "source": [
    "df_seoul.week.value_counts(dropna=False)"
   ]
  },
  {
   "cell_type": "code",
   "execution_count": 45,
   "id": "2c93a974-534e-43f7-9c84-c03c5764e64c",
   "metadata": {
    "collapsed": true,
    "jupyter": {
     "outputs_hidden": true
    },
    "tags": []
   },
   "outputs": [
    {
     "data": {
      "text/plain": [
       "1     288\n",
       "2     288\n",
       "28    288\n",
       "27    288\n",
       "26    288\n",
       "25    288\n",
       "24    288\n",
       "23    288\n",
       "22    288\n",
       "21    288\n",
       "20    288\n",
       "19    288\n",
       "18    288\n",
       "17    288\n",
       "16    288\n",
       "15    288\n",
       "14    288\n",
       "13    288\n",
       "12    288\n",
       "11    288\n",
       "10    288\n",
       "9     288\n",
       "8     288\n",
       "7     288\n",
       "6     288\n",
       "5     288\n",
       "4     288\n",
       "3     288\n",
       "29    264\n",
       "30    264\n",
       "31    168\n",
       "Name: day, dtype: int64"
      ]
     },
     "execution_count": 45,
     "metadata": {},
     "output_type": "execute_result"
    }
   ],
   "source": [
    "df_seoul.day.value_counts(dropna=False)"
   ]
  },
  {
   "cell_type": "code",
   "execution_count": 46,
   "id": "96b6965f-c976-48fd-9edb-c9c021de29c2",
   "metadata": {},
   "outputs": [
    {
     "data": {
      "text/plain": [
       "4    1272\n",
       "5    1248\n",
       "6    1248\n",
       "0    1248\n",
       "1    1248\n",
       "2    1248\n",
       "3    1248\n",
       "Name: dayofweek, dtype: int64"
      ]
     },
     "execution_count": 46,
     "metadata": {},
     "output_type": "execute_result"
    }
   ],
   "source": [
    "df_seoul.dayofweek.value_counts(dropna=False)\n",
    "# should we change this to string?"
   ]
  },
  {
   "cell_type": "markdown",
   "id": "fafe282f-869c-45c4-937d-cbcb1286ae36",
   "metadata": {},
   "source": [
    "### Automated Feature Engineering"
   ]
  },
  {
   "cell_type": "code",
   "execution_count": null,
   "id": "49db0067-decb-4af7-819f-7ead042ebea1",
   "metadata": {},
   "outputs": [],
   "source": []
  }
 ],
 "metadata": {
  "kernelspec": {
   "display_name": "Python 3",
   "language": "python",
   "name": "python3"
  },
  "language_info": {
   "codemirror_mode": {
    "name": "ipython",
    "version": 3
   },
   "file_extension": ".py",
   "mimetype": "text/x-python",
   "name": "python",
   "nbconvert_exporter": "python",
   "pygments_lexer": "ipython3",
   "version": "3.8.11"
  }
 },
 "nbformat": 4,
 "nbformat_minor": 5
}
