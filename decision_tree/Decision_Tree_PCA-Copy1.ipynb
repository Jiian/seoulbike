{
 "cells": [
  {
   "cell_type": "code",
   "execution_count": 1,
   "id": "abd5beec",
   "metadata": {},
   "outputs": [],
   "source": [
    "import numpy as np\n",
    "import pandas as pd\n",
    "import seaborn as sns\n",
    "import matplotlib.pyplot as plt\n",
    "import joblib\n",
    "from sklearn import metrics\n",
    "from sklearn.preprocessing import OneHotEncoder\n",
    "from sklearn.ensemble import RandomForestRegressor\n",
    "from sklearn.preprocessing import StandardScaler\n",
    "from sklearn.decomposition import PCA\n",
    "from factor_analyzer import FactorAnalyzer\n",
    "from yellowbrick.features import PCA as YBPCA\n",
    "from sklearn.model_selection import cross_val_score\n",
    "from sklearn.model_selection import GridSearchCV"
   ]
  },
  {
   "cell_type": "code",
   "execution_count": 2,
   "id": "2d7aff70",
   "metadata": {},
   "outputs": [],
   "source": [
    "# factor analysis\n",
    "def evaluate_pcs(num_of_pcs,data):\n",
    "    def encode_vals(x): #helper functions to suppress loading less than 0.7 \n",
    "    #a gradual process to lead to this function\n",
    "    # if x<=-0.5, we drop the variable\n",
    "        if x <= -0.5 or x >= 0.5: #Adjust the threshold value \n",
    "            return x\n",
    "        else:\n",
    "            return(\"\")    \n",
    "    f = FactorAnalyzer(n_factors=num_of_pcs, method = 'principal',rotation='varimax') #Conduct PCA + varimax rotation to extract latent factors \n",
    "    f.fit(data)\n",
    "    loadings = pd.DataFrame(f.loadings_).set_index(data.columns)\n",
    "    loadings = loadings.applymap(encode_vals)\n",
    "    loadingcols= list(loadings.columns)\n",
    "    newcols = {}\n",
    "    for i in loadingcols:\n",
    "        newcols[i] = \"PC\" + str(i+1)\n",
    "    loadings.rename(columns = newcols,inplace=True)\n",
    "    df_pca = f.transform(data)\n",
    "    return loadings , df_pca, f"
   ]
  },
  {
   "cell_type": "markdown",
   "id": "64e4cbb0-3a5b-44f4-bfa5-aab22350b0dc",
   "metadata": {},
   "source": [
    "## Reading Data"
   ]
  },
  {
   "cell_type": "code",
   "execution_count": 3,
   "id": "9b793b30-6cfa-4193-8432-42c3d120d3d4",
   "metadata": {},
   "outputs": [
    {
     "name": "stdout",
     "output_type": "stream",
     "text": [
      "<class 'pandas.core.frame.DataFrame'>\n",
      "RangeIndex: 353 entries, 0 to 352\n",
      "Data columns (total 14 columns):\n",
      " #   Column           Non-Null Count  Dtype  \n",
      "---  ------           --------------  -----  \n",
      " 0   Unnamed: 0       353 non-null    int64  \n",
      " 1   date             353 non-null    object \n",
      " 2   rent_count       353 non-null    int64  \n",
      " 3   temperature      353 non-null    float64\n",
      " 4   rainfall         353 non-null    float64\n",
      " 5   snowfall         353 non-null    int64  \n",
      " 6   wind_speed       353 non-null    float64\n",
      " 7   visibility       353 non-null    int64  \n",
      " 8   solar_radiation  353 non-null    float64\n",
      " 9   dewpoint_temp    353 non-null    float64\n",
      " 10  humidity         353 non-null    float64\n",
      " 11  season           353 non-null    object \n",
      " 12  holiday          353 non-null    object \n",
      " 13  season_no        353 non-null    int64  \n",
      "dtypes: float64(6), int64(5), object(3)\n",
      "memory usage: 38.7+ KB\n"
     ]
    }
   ],
   "source": [
    "bike_pca = pd.read_csv(\"../PCA/bike_agg_with_season_no.csv\")\n",
    "bike_pca.info()"
   ]
  },
  {
   "cell_type": "code",
   "execution_count": 4,
   "id": "9171b091-8a64-49f5-8a56-d9e33afef1a6",
   "metadata": {},
   "outputs": [],
   "source": [
    "bike2 = bike_pca.copy()\n",
    "bike2_y = bike2.rent_count\n",
    "bike2_cat = bike2.iloc[:, [12, 11]]\n",
    "bike2_num = bike2.drop(['Unnamed: 0', 'date', 'season', 'holiday', 'season_no', 'rent_count'], axis = 1, inplace = False)"
   ]
  },
  {
   "cell_type": "markdown",
   "id": "627add92-d733-40bd-a9e8-2231c2ac1e23",
   "metadata": {},
   "source": [
    "## Splitting Data into Train vs Test"
   ]
  },
  {
   "cell_type": "code",
   "execution_count": 5,
   "id": "e02e80a8-e8d7-4be6-ae0a-66dac29658e4",
   "metadata": {},
   "outputs": [],
   "source": [
    "train_y = bike2_y.iloc[:282]\n",
    "train_cat = bike2_cat.iloc[:282, :]\n",
    "train_num = bike2_num.iloc[:282, :]\n",
    "\n",
    "test_y = bike2_y.iloc[282:]\n",
    "test_cat = bike2_cat.iloc[282:, :]\n",
    "test_num = bike2_num.iloc[282:, :]"
   ]
  },
  {
   "cell_type": "markdown",
   "id": "65dc9895-c217-46e5-8b24-92b47e1abc1a",
   "metadata": {},
   "source": [
    "## Standardisation for Numeric Data"
   ]
  },
  {
   "cell_type": "code",
   "execution_count": 6,
   "id": "8e3224fc-2774-47ff-adb8-3ba7a0494679",
   "metadata": {},
   "outputs": [],
   "source": [
    "colnames = list(train_num.columns)\n",
    "scaler = StandardScaler(with_mean = True, with_std = True)\n",
    "\n",
    "train_num_std = pd.DataFrame(scaler.fit_transform(train_num))\n",
    "train_num_std.columns = colnames"
   ]
  },
  {
   "cell_type": "code",
   "execution_count": 7,
   "id": "32fae89a",
   "metadata": {},
   "outputs": [
    {
     "data": {
      "text/html": [
       "<div>\n",
       "<style scoped>\n",
       "    .dataframe tbody tr th:only-of-type {\n",
       "        vertical-align: middle;\n",
       "    }\n",
       "\n",
       "    .dataframe tbody tr th {\n",
       "        vertical-align: top;\n",
       "    }\n",
       "\n",
       "    .dataframe thead th {\n",
       "        text-align: right;\n",
       "    }\n",
       "</style>\n",
       "<table border=\"1\" class=\"dataframe\">\n",
       "  <thead>\n",
       "    <tr style=\"text-align: right;\">\n",
       "      <th></th>\n",
       "      <th>temperature</th>\n",
       "      <th>rainfall</th>\n",
       "      <th>snowfall</th>\n",
       "      <th>wind_speed</th>\n",
       "      <th>visibility</th>\n",
       "      <th>solar_radiation</th>\n",
       "      <th>dewpoint_temp</th>\n",
       "      <th>humidity</th>\n",
       "    </tr>\n",
       "  </thead>\n",
       "  <tbody>\n",
       "    <tr>\n",
       "      <th>count</th>\n",
       "      <td>2.820000e+02</td>\n",
       "      <td>2.820000e+02</td>\n",
       "      <td>2.820000e+02</td>\n",
       "      <td>2.820000e+02</td>\n",
       "      <td>2.820000e+02</td>\n",
       "      <td>2.820000e+02</td>\n",
       "      <td>2.820000e+02</td>\n",
       "      <td>282.000000</td>\n",
       "    </tr>\n",
       "    <tr>\n",
       "      <th>mean</th>\n",
       "      <td>-1.511793e-16</td>\n",
       "      <td>2.519655e-17</td>\n",
       "      <td>-7.558965e-17</td>\n",
       "      <td>-1.511793e-16</td>\n",
       "      <td>5.669224e-17</td>\n",
       "      <td>-5.039310e-17</td>\n",
       "      <td>-1.511793e-16</td>\n",
       "      <td>0.000000</td>\n",
       "    </tr>\n",
       "    <tr>\n",
       "      <th>std</th>\n",
       "      <td>1.001778e+00</td>\n",
       "      <td>1.001778e+00</td>\n",
       "      <td>1.001778e+00</td>\n",
       "      <td>1.001778e+00</td>\n",
       "      <td>1.001778e+00</td>\n",
       "      <td>1.001778e+00</td>\n",
       "      <td>1.001778e+00</td>\n",
       "      <td>1.001778</td>\n",
       "    </tr>\n",
       "    <tr>\n",
       "      <th>min</th>\n",
       "      <td>-2.188409e+00</td>\n",
       "      <td>-3.038831e-01</td>\n",
       "      <td>-2.274986e-01</td>\n",
       "      <td>-2.500350e+00</td>\n",
       "      <td>-2.189221e+00</td>\n",
       "      <td>-8.320321e-01</td>\n",
       "      <td>-2.224636e+00</td>\n",
       "      <td>-2.145200</td>\n",
       "    </tr>\n",
       "    <tr>\n",
       "      <th>25%</th>\n",
       "      <td>-9.043145e-01</td>\n",
       "      <td>-3.038831e-01</td>\n",
       "      <td>-2.274986e-01</td>\n",
       "      <td>-7.246055e-01</td>\n",
       "      <td>-8.876115e-01</td>\n",
       "      <td>-8.320321e-01</td>\n",
       "      <td>-7.567511e-01</td>\n",
       "      <td>-0.778422</td>\n",
       "    </tr>\n",
       "    <tr>\n",
       "      <th>50%</th>\n",
       "      <td>1.813105e-01</td>\n",
       "      <td>-3.038831e-01</td>\n",
       "      <td>-2.274986e-01</td>\n",
       "      <td>-1.570996e-01</td>\n",
       "      <td>3.177808e-01</td>\n",
       "      <td>-4.776015e-01</td>\n",
       "      <td>1.033102e-01</td>\n",
       "      <td>-0.091258</td>\n",
       "    </tr>\n",
       "    <tr>\n",
       "      <th>75%</th>\n",
       "      <td>8.461814e-01</td>\n",
       "      <td>-2.438389e-01</td>\n",
       "      <td>-2.274986e-01</td>\n",
       "      <td>4.287130e-01</td>\n",
       "      <td>9.396314e-01</td>\n",
       "      <td>6.935604e-01</td>\n",
       "      <td>8.538932e-01</td>\n",
       "      <td>0.656317</td>\n",
       "    </tr>\n",
       "    <tr>\n",
       "      <th>max</th>\n",
       "      <td>1.618226e+00</td>\n",
       "      <td>7.341740e+00</td>\n",
       "      <td>7.548819e+00</td>\n",
       "      <td>3.357776e+00</td>\n",
       "      <td>9.850675e-01</td>\n",
       "      <td>2.712274e+00</td>\n",
       "      <td>1.481861e+00</td>\n",
       "      <td>2.385555</td>\n",
       "    </tr>\n",
       "  </tbody>\n",
       "</table>\n",
       "</div>"
      ],
      "text/plain": [
       "        temperature      rainfall      snowfall    wind_speed    visibility  \\\n",
       "count  2.820000e+02  2.820000e+02  2.820000e+02  2.820000e+02  2.820000e+02   \n",
       "mean  -1.511793e-16  2.519655e-17 -7.558965e-17 -1.511793e-16  5.669224e-17   \n",
       "std    1.001778e+00  1.001778e+00  1.001778e+00  1.001778e+00  1.001778e+00   \n",
       "min   -2.188409e+00 -3.038831e-01 -2.274986e-01 -2.500350e+00 -2.189221e+00   \n",
       "25%   -9.043145e-01 -3.038831e-01 -2.274986e-01 -7.246055e-01 -8.876115e-01   \n",
       "50%    1.813105e-01 -3.038831e-01 -2.274986e-01 -1.570996e-01  3.177808e-01   \n",
       "75%    8.461814e-01 -2.438389e-01 -2.274986e-01  4.287130e-01  9.396314e-01   \n",
       "max    1.618226e+00  7.341740e+00  7.548819e+00  3.357776e+00  9.850675e-01   \n",
       "\n",
       "       solar_radiation  dewpoint_temp    humidity  \n",
       "count     2.820000e+02   2.820000e+02  282.000000  \n",
       "mean     -5.039310e-17  -1.511793e-16    0.000000  \n",
       "std       1.001778e+00   1.001778e+00    1.001778  \n",
       "min      -8.320321e-01  -2.224636e+00   -2.145200  \n",
       "25%      -8.320321e-01  -7.567511e-01   -0.778422  \n",
       "50%      -4.776015e-01   1.033102e-01   -0.091258  \n",
       "75%       6.935604e-01   8.538932e-01    0.656317  \n",
       "max       2.712274e+00   1.481861e+00    2.385555  "
      ]
     },
     "execution_count": 7,
     "metadata": {},
     "output_type": "execute_result"
    }
   ],
   "source": [
    "train_num_std.describe()"
   ]
  },
  {
   "cell_type": "markdown",
   "id": "18ba5d83-6195-451f-8a7c-b1522679bcc5",
   "metadata": {},
   "source": [
    "## Factor Analysis"
   ]
  },
  {
   "cell_type": "markdown",
   "id": "7293155c-1faa-4fdd-b728-1f3d4fe1a039",
   "metadata": {},
   "source": [
    "The Factor Analysis is performed in another notebook, here we just imitate the results obtained from that analysis."
   ]
  },
  {
   "cell_type": "code",
   "execution_count": 8,
   "id": "cde21e55-2828-4fa9-976e-7aede1a2d20b",
   "metadata": {},
   "outputs": [
    {
     "data": {
      "text/html": [
       "<div>\n",
       "<style scoped>\n",
       "    .dataframe tbody tr th:only-of-type {\n",
       "        vertical-align: middle;\n",
       "    }\n",
       "\n",
       "    .dataframe tbody tr th {\n",
       "        vertical-align: top;\n",
       "    }\n",
       "\n",
       "    .dataframe thead th {\n",
       "        text-align: right;\n",
       "    }\n",
       "</style>\n",
       "<table border=\"1\" class=\"dataframe\">\n",
       "  <thead>\n",
       "    <tr style=\"text-align: right;\">\n",
       "      <th></th>\n",
       "      <th>PC1</th>\n",
       "      <th>PC2</th>\n",
       "    </tr>\n",
       "  </thead>\n",
       "  <tbody>\n",
       "    <tr>\n",
       "      <th>temperature</th>\n",
       "      <td>0.924101</td>\n",
       "      <td></td>\n",
       "    </tr>\n",
       "    <tr>\n",
       "      <th>rainfall</th>\n",
       "      <td></td>\n",
       "      <td>0.688546</td>\n",
       "    </tr>\n",
       "    <tr>\n",
       "      <th>snowfall</th>\n",
       "      <td></td>\n",
       "      <td></td>\n",
       "    </tr>\n",
       "    <tr>\n",
       "      <th>wind_speed</th>\n",
       "      <td></td>\n",
       "      <td></td>\n",
       "    </tr>\n",
       "    <tr>\n",
       "      <th>visibility</th>\n",
       "      <td></td>\n",
       "      <td>-0.727093</td>\n",
       "    </tr>\n",
       "    <tr>\n",
       "      <th>solar_radiation</th>\n",
       "      <td>0.853915</td>\n",
       "      <td></td>\n",
       "    </tr>\n",
       "    <tr>\n",
       "      <th>dewpoint_temp</th>\n",
       "      <td>0.837048</td>\n",
       "      <td></td>\n",
       "    </tr>\n",
       "    <tr>\n",
       "      <th>humidity</th>\n",
       "      <td></td>\n",
       "      <td>0.889825</td>\n",
       "    </tr>\n",
       "  </tbody>\n",
       "</table>\n",
       "</div>"
      ],
      "text/plain": [
       "                      PC1       PC2\n",
       "temperature      0.924101          \n",
       "rainfall                   0.688546\n",
       "snowfall                           \n",
       "wind_speed                         \n",
       "visibility                -0.727093\n",
       "solar_radiation  0.853915          \n",
       "dewpoint_temp    0.837048          \n",
       "humidity                   0.889825"
      ]
     },
     "execution_count": 8,
     "metadata": {},
     "output_type": "execute_result"
    }
   ],
   "source": [
    "pca_label, df_pca_array, ff = evaluate_pcs(2, train_num_std[colnames])\n",
    "pca_label"
   ]
  },
  {
   "cell_type": "code",
   "execution_count": 9,
   "id": "c31abd50",
   "metadata": {},
   "outputs": [
    {
     "data": {
      "text/html": [
       "<div>\n",
       "<style scoped>\n",
       "    .dataframe tbody tr th:only-of-type {\n",
       "        vertical-align: middle;\n",
       "    }\n",
       "\n",
       "    .dataframe tbody tr th {\n",
       "        vertical-align: top;\n",
       "    }\n",
       "\n",
       "    .dataframe thead th {\n",
       "        text-align: right;\n",
       "    }\n",
       "</style>\n",
       "<table border=\"1\" class=\"dataframe\">\n",
       "  <thead>\n",
       "    <tr style=\"text-align: right;\">\n",
       "      <th></th>\n",
       "      <th>heat_effect</th>\n",
       "      <th>rain_effect</th>\n",
       "    </tr>\n",
       "  </thead>\n",
       "  <tbody>\n",
       "    <tr>\n",
       "      <th>0</th>\n",
       "      <td>-0.864451</td>\n",
       "      <td>-0.955283</td>\n",
       "    </tr>\n",
       "    <tr>\n",
       "      <th>1</th>\n",
       "      <td>-0.700765</td>\n",
       "      <td>-0.114432</td>\n",
       "    </tr>\n",
       "    <tr>\n",
       "      <th>2</th>\n",
       "      <td>-0.846452</td>\n",
       "      <td>1.429332</td>\n",
       "    </tr>\n",
       "    <tr>\n",
       "      <th>3</th>\n",
       "      <td>-0.931675</td>\n",
       "      <td>-1.265709</td>\n",
       "    </tr>\n",
       "    <tr>\n",
       "      <th>4</th>\n",
       "      <td>-0.845783</td>\n",
       "      <td>-0.684984</td>\n",
       "    </tr>\n",
       "  </tbody>\n",
       "</table>\n",
       "</div>"
      ],
      "text/plain": [
       "   heat_effect  rain_effect\n",
       "0    -0.864451    -0.955283\n",
       "1    -0.700765    -0.114432\n",
       "2    -0.846452     1.429332\n",
       "3    -0.931675    -1.265709\n",
       "4    -0.845783    -0.684984"
      ]
     },
     "execution_count": 9,
     "metadata": {},
     "output_type": "execute_result"
    }
   ],
   "source": [
    "pca_cols = pd.DataFrame(df_pca_array, columns =['heat_effect', 'rain_effect'])\n",
    "pca_cols.head()"
   ]
  },
  {
   "cell_type": "code",
   "execution_count": 10,
   "id": "5cf1e79c-e0a5-4eb5-97f7-3f78beb96cc2",
   "metadata": {},
   "outputs": [
    {
     "data": {
      "text/html": [
       "<div>\n",
       "<style scoped>\n",
       "    .dataframe tbody tr th:only-of-type {\n",
       "        vertical-align: middle;\n",
       "    }\n",
       "\n",
       "    .dataframe tbody tr th {\n",
       "        vertical-align: top;\n",
       "    }\n",
       "\n",
       "    .dataframe thead th {\n",
       "        text-align: right;\n",
       "    }\n",
       "</style>\n",
       "<table border=\"1\" class=\"dataframe\">\n",
       "  <thead>\n",
       "    <tr style=\"text-align: right;\">\n",
       "      <th></th>\n",
       "      <th>holiday</th>\n",
       "      <th>season</th>\n",
       "    </tr>\n",
       "  </thead>\n",
       "  <tbody>\n",
       "    <tr>\n",
       "      <th>0</th>\n",
       "      <td>No Holiday</td>\n",
       "      <td>Winter</td>\n",
       "    </tr>\n",
       "    <tr>\n",
       "      <th>1</th>\n",
       "      <td>No Holiday</td>\n",
       "      <td>Winter</td>\n",
       "    </tr>\n",
       "    <tr>\n",
       "      <th>2</th>\n",
       "      <td>No Holiday</td>\n",
       "      <td>Winter</td>\n",
       "    </tr>\n",
       "    <tr>\n",
       "      <th>3</th>\n",
       "      <td>No Holiday</td>\n",
       "      <td>Winter</td>\n",
       "    </tr>\n",
       "    <tr>\n",
       "      <th>4</th>\n",
       "      <td>No Holiday</td>\n",
       "      <td>Winter</td>\n",
       "    </tr>\n",
       "  </tbody>\n",
       "</table>\n",
       "</div>"
      ],
      "text/plain": [
       "      holiday  season\n",
       "0  No Holiday  Winter\n",
       "1  No Holiday  Winter\n",
       "2  No Holiday  Winter\n",
       "3  No Holiday  Winter\n",
       "4  No Holiday  Winter"
      ]
     },
     "execution_count": 10,
     "metadata": {},
     "output_type": "execute_result"
    }
   ],
   "source": [
    "train_cat.head()"
   ]
  },
  {
   "cell_type": "markdown",
   "id": "5412d0c8-a651-47fc-b62a-3cb950ba90aa",
   "metadata": {},
   "source": [
    "## One-Hot Encoding"
   ]
  },
  {
   "cell_type": "code",
   "execution_count": 11,
   "id": "50ce8ef1-86ec-48f3-8191-e384c6892416",
   "metadata": {},
   "outputs": [],
   "source": [
    "encoder = OneHotEncoder(handle_unknown = \"ignore\")\n",
    "train_cat_onehot = encoder.fit_transform(train_cat)\n",
    "train_cat_onehot = pd.DataFrame(train_cat_onehot.A)"
   ]
  },
  {
   "cell_type": "code",
   "execution_count": 12,
   "id": "d62f7b42-a9f6-4add-b241-e690c92de8db",
   "metadata": {},
   "outputs": [
    {
     "data": {
      "text/html": [
       "<div>\n",
       "<style scoped>\n",
       "    .dataframe tbody tr th:only-of-type {\n",
       "        vertical-align: middle;\n",
       "    }\n",
       "\n",
       "    .dataframe tbody tr th {\n",
       "        vertical-align: top;\n",
       "    }\n",
       "\n",
       "    .dataframe thead th {\n",
       "        text-align: right;\n",
       "    }\n",
       "</style>\n",
       "<table border=\"1\" class=\"dataframe\">\n",
       "  <thead>\n",
       "    <tr style=\"text-align: right;\">\n",
       "      <th></th>\n",
       "      <th>x0_Holiday</th>\n",
       "      <th>x0_No Holiday</th>\n",
       "      <th>x1_Autumn</th>\n",
       "      <th>x1_Spring</th>\n",
       "      <th>x1_Summer</th>\n",
       "      <th>x1_Winter</th>\n",
       "    </tr>\n",
       "  </thead>\n",
       "  <tbody>\n",
       "    <tr>\n",
       "      <th>0</th>\n",
       "      <td>0.0</td>\n",
       "      <td>1.0</td>\n",
       "      <td>0.0</td>\n",
       "      <td>0.0</td>\n",
       "      <td>0.0</td>\n",
       "      <td>1.0</td>\n",
       "    </tr>\n",
       "    <tr>\n",
       "      <th>1</th>\n",
       "      <td>0.0</td>\n",
       "      <td>1.0</td>\n",
       "      <td>0.0</td>\n",
       "      <td>0.0</td>\n",
       "      <td>0.0</td>\n",
       "      <td>1.0</td>\n",
       "    </tr>\n",
       "    <tr>\n",
       "      <th>2</th>\n",
       "      <td>0.0</td>\n",
       "      <td>1.0</td>\n",
       "      <td>0.0</td>\n",
       "      <td>0.0</td>\n",
       "      <td>0.0</td>\n",
       "      <td>1.0</td>\n",
       "    </tr>\n",
       "    <tr>\n",
       "      <th>3</th>\n",
       "      <td>0.0</td>\n",
       "      <td>1.0</td>\n",
       "      <td>0.0</td>\n",
       "      <td>0.0</td>\n",
       "      <td>0.0</td>\n",
       "      <td>1.0</td>\n",
       "    </tr>\n",
       "    <tr>\n",
       "      <th>4</th>\n",
       "      <td>0.0</td>\n",
       "      <td>1.0</td>\n",
       "      <td>0.0</td>\n",
       "      <td>0.0</td>\n",
       "      <td>0.0</td>\n",
       "      <td>1.0</td>\n",
       "    </tr>\n",
       "  </tbody>\n",
       "</table>\n",
       "</div>"
      ],
      "text/plain": [
       "   x0_Holiday  x0_No Holiday  x1_Autumn  x1_Spring  x1_Summer  x1_Winter\n",
       "0         0.0            1.0        0.0        0.0        0.0        1.0\n",
       "1         0.0            1.0        0.0        0.0        0.0        1.0\n",
       "2         0.0            1.0        0.0        0.0        0.0        1.0\n",
       "3         0.0            1.0        0.0        0.0        0.0        1.0\n",
       "4         0.0            1.0        0.0        0.0        0.0        1.0"
      ]
     },
     "execution_count": 12,
     "metadata": {},
     "output_type": "execute_result"
    }
   ],
   "source": [
    "train_cat_onehot.columns = encoder.get_feature_names()\n",
    "train_cat_onehot.head()"
   ]
  },
  {
   "cell_type": "code",
   "execution_count": 13,
   "id": "41b444a5-b022-4025-a29a-79d25e795c8a",
   "metadata": {},
   "outputs": [],
   "source": [
    "train_X = pd.concat([train_cat_onehot, pca_cols, train_num_std.loc[:, ['snowfall', 'wind_speed']]], axis =1)"
   ]
  },
  {
   "cell_type": "code",
   "execution_count": 14,
   "id": "9630cd13-0a13-49e3-9866-09b711221169",
   "metadata": {},
   "outputs": [
    {
     "data": {
      "text/html": [
       "<div>\n",
       "<style scoped>\n",
       "    .dataframe tbody tr th:only-of-type {\n",
       "        vertical-align: middle;\n",
       "    }\n",
       "\n",
       "    .dataframe tbody tr th {\n",
       "        vertical-align: top;\n",
       "    }\n",
       "\n",
       "    .dataframe thead th {\n",
       "        text-align: right;\n",
       "    }\n",
       "</style>\n",
       "<table border=\"1\" class=\"dataframe\">\n",
       "  <thead>\n",
       "    <tr style=\"text-align: right;\">\n",
       "      <th></th>\n",
       "      <th>x0_Holiday</th>\n",
       "      <th>x0_No Holiday</th>\n",
       "      <th>x1_Autumn</th>\n",
       "      <th>x1_Spring</th>\n",
       "      <th>x1_Summer</th>\n",
       "      <th>x1_Winter</th>\n",
       "      <th>heat_effect</th>\n",
       "      <th>rain_effect</th>\n",
       "      <th>snowfall</th>\n",
       "      <th>wind_speed</th>\n",
       "    </tr>\n",
       "  </thead>\n",
       "  <tbody>\n",
       "    <tr>\n",
       "      <th>0</th>\n",
       "      <td>0.0</td>\n",
       "      <td>1.0</td>\n",
       "      <td>0.0</td>\n",
       "      <td>0.0</td>\n",
       "      <td>0.0</td>\n",
       "      <td>1.0</td>\n",
       "      <td>-0.864451</td>\n",
       "      <td>-0.955283</td>\n",
       "      <td>-0.227499</td>\n",
       "      <td>-0.450006</td>\n",
       "    </tr>\n",
       "    <tr>\n",
       "      <th>1</th>\n",
       "      <td>0.0</td>\n",
       "      <td>1.0</td>\n",
       "      <td>0.0</td>\n",
       "      <td>0.0</td>\n",
       "      <td>0.0</td>\n",
       "      <td>1.0</td>\n",
       "      <td>-0.700765</td>\n",
       "      <td>-0.114432</td>\n",
       "      <td>-0.227499</td>\n",
       "      <td>-0.157100</td>\n",
       "    </tr>\n",
       "    <tr>\n",
       "      <th>2</th>\n",
       "      <td>0.0</td>\n",
       "      <td>1.0</td>\n",
       "      <td>0.0</td>\n",
       "      <td>0.0</td>\n",
       "      <td>0.0</td>\n",
       "      <td>1.0</td>\n",
       "      <td>-0.846452</td>\n",
       "      <td>1.429332</td>\n",
       "      <td>-0.227499</td>\n",
       "      <td>-0.157100</td>\n",
       "    </tr>\n",
       "    <tr>\n",
       "      <th>3</th>\n",
       "      <td>0.0</td>\n",
       "      <td>1.0</td>\n",
       "      <td>0.0</td>\n",
       "      <td>0.0</td>\n",
       "      <td>0.0</td>\n",
       "      <td>1.0</td>\n",
       "      <td>-0.931675</td>\n",
       "      <td>-1.265709</td>\n",
       "      <td>-0.227499</td>\n",
       "      <td>2.771963</td>\n",
       "    </tr>\n",
       "    <tr>\n",
       "      <th>4</th>\n",
       "      <td>0.0</td>\n",
       "      <td>1.0</td>\n",
       "      <td>0.0</td>\n",
       "      <td>0.0</td>\n",
       "      <td>0.0</td>\n",
       "      <td>1.0</td>\n",
       "      <td>-0.845783</td>\n",
       "      <td>-0.684984</td>\n",
       "      <td>-0.227499</td>\n",
       "      <td>-2.500350</td>\n",
       "    </tr>\n",
       "  </tbody>\n",
       "</table>\n",
       "</div>"
      ],
      "text/plain": [
       "   x0_Holiday  x0_No Holiday  x1_Autumn  x1_Spring  x1_Summer  x1_Winter  \\\n",
       "0         0.0            1.0        0.0        0.0        0.0        1.0   \n",
       "1         0.0            1.0        0.0        0.0        0.0        1.0   \n",
       "2         0.0            1.0        0.0        0.0        0.0        1.0   \n",
       "3         0.0            1.0        0.0        0.0        0.0        1.0   \n",
       "4         0.0            1.0        0.0        0.0        0.0        1.0   \n",
       "\n",
       "   heat_effect  rain_effect  snowfall  wind_speed  \n",
       "0    -0.864451    -0.955283 -0.227499   -0.450006  \n",
       "1    -0.700765    -0.114432 -0.227499   -0.157100  \n",
       "2    -0.846452     1.429332 -0.227499   -0.157100  \n",
       "3    -0.931675    -1.265709 -0.227499    2.771963  \n",
       "4    -0.845783    -0.684984 -0.227499   -2.500350  "
      ]
     },
     "execution_count": 14,
     "metadata": {},
     "output_type": "execute_result"
    }
   ],
   "source": [
    "train_X.head()"
   ]
  },
  {
   "cell_type": "markdown",
   "id": "c68f6435-aef2-4c91-a462-25668013cb1a",
   "metadata": {},
   "source": [
    "## Model N0"
   ]
  },
  {
   "cell_type": "code",
   "execution_count": 15,
   "id": "36a4a573",
   "metadata": {},
   "outputs": [
    {
     "data": {
      "text/plain": [
       "0.30671103840103164"
      ]
     },
     "execution_count": 15,
     "metadata": {},
     "output_type": "execute_result"
    }
   ],
   "source": [
    "model = RandomForestRegressor(random_state = 42)\n",
    "np.mean(-1 * cross_val_score(model, train_X, train_y, cv=5, scoring = 'neg_mean_absolute_percentage_error'))"
   ]
  },
  {
   "cell_type": "code",
   "execution_count": 16,
   "id": "f7846a95-1d08-4e94-a79d-7d7a2918c8e3",
   "metadata": {},
   "outputs": [
    {
     "data": {
      "text/plain": [
       "Text(0.5, 0, 'Random Forest Feature Importance')"
      ]
     },
     "execution_count": 16,
     "metadata": {},
     "output_type": "execute_result"
    },
    {
     "data": {
      "image/png": "[encoded data removed]",
      "text/plain": [
       "<Figure size 576x396 with 1 Axes>"
      ]
     },
     "metadata": {},
     "output_type": "display_data"
    }
   ],
   "source": [
    "model.fit(train_X, train_y)\n",
    "model.feature_importances_\n",
    "sorted_idx = model.feature_importances_.argsort()\n",
    "plt.barh(train_X.columns[sorted_idx], model.feature_importances_[sorted_idx])\n",
    "plt.xlabel(\"Random Forest Feature Importance\")"
   ]
  },
  {
   "cell_type": "markdown",
   "id": "aa4e7175-237a-4dc0-802e-040eb53ed1c4",
   "metadata": {},
   "source": [
    "## Model N1"
   ]
  },
  {
   "cell_type": "code",
   "execution_count": 17,
   "id": "d691142d-7d36-41fe-9486-dc0c69705021",
   "metadata": {},
   "outputs": [],
   "source": [
    "train_X1 = train_X.loc[:, ['heat_effect', 'rain_effect', 'wind_speed']]"
   ]
  },
  {
   "cell_type": "code",
   "execution_count": 18,
   "id": "1227974b",
   "metadata": {},
   "outputs": [
    {
     "data": {
      "text/plain": [
       "0.303714819913237"
      ]
     },
     "execution_count": 18,
     "metadata": {},
     "output_type": "execute_result"
    }
   ],
   "source": [
    "model1 = RandomForestRegressor(random_state = 42)\n",
    "np.mean(-1 * cross_val_score(model1, train_X1, train_y, cv=5, scoring = 'neg_mean_absolute_percentage_error'))"
   ]
  },
  {
   "cell_type": "markdown",
   "id": "8c7b5471-ab12-4860-8215-6dcd88e4d09c",
   "metadata": {},
   "source": [
    "The absolute error percentage improved, now we will tune the hyperparameters."
   ]
  },
  {
   "cell_type": "markdown",
   "id": "a64c3410-0f78-47f3-8f78-3389f6fae69b",
   "metadata": {},
   "source": [
    "## Model N2 (Hyperparameter Tuning)"
   ]
  },
  {
   "cell_type": "code",
   "execution_count": 19,
   "id": "61346651-fd54-418b-a48e-7e93d96d0a49",
   "metadata": {},
   "outputs": [
    {
     "data": {
      "text/plain": [
       "{'bootstrap': True,\n",
       " 'ccp_alpha': 0.0,\n",
       " 'criterion': 'mse',\n",
       " 'max_depth': None,\n",
       " 'max_features': 'auto',\n",
       " 'max_leaf_nodes': None,\n",
       " 'max_samples': None,\n",
       " 'min_impurity_decrease': 0.0,\n",
       " 'min_impurity_split': None,\n",
       " 'min_samples_leaf': 1,\n",
       " 'min_samples_split': 2,\n",
       " 'min_weight_fraction_leaf': 0.0,\n",
       " 'n_estimators': 100,\n",
       " 'n_jobs': None,\n",
       " 'oob_score': False,\n",
       " 'random_state': 42,\n",
       " 'verbose': 0,\n",
       " 'warm_start': False}"
      ]
     },
     "execution_count": 19,
     "metadata": {},
     "output_type": "execute_result"
    }
   ],
   "source": [
    "model1.get_params()"
   ]
  },
  {
   "cell_type": "code",
   "execution_count": 66,
   "id": "abffeb69-7911-4042-8e7a-f2a54fd805e0",
   "metadata": {},
   "outputs": [],
   "source": [
    "param_space = {\n",
    "    'n_estimators' : [10, 20, 30, 40, 50, 60, 70, 80, 90, 100],\n",
    "    'max_depth' : [None, 1, 2, 3, 4, 5],\n",
    "    'min_samples_split' : [1, 2, 5, 10, 15, 20, 30, 40, 50],\n",
    "    'min_samples_leaf' : [1, 2, 5, 10, 15, 20, 30, 40, 50],\n",
    "    'max_features' : ['auto', 'sqrt', 'log2']\n",
    "}\n",
    "model2 = RandomForestRegressor()"
   ]
  },
  {
   "cell_type": "code",
   "execution_count": 67,
   "id": "280aabe6-6b3c-43fd-a723-e1f2b73375cf",
   "metadata": {},
   "outputs": [
    {
     "name": "stderr",
     "output_type": "stream",
     "text": [
      "C:\\Users\\ohjia\\pyhome\\anaconda3\\envs\\dsa3101t\\lib\\site-packages\\sklearn\\model_selection\\_search.py:922: UserWarning: One or more of the test scores are non-finite: [        nan         nan         nan ... -1.06396724 -1.03264571\n",
      " -1.11081671]\n",
      "  warnings.warn(\n"
     ]
    },
    {
     "data": {
      "text/plain": [
       "GridSearchCV(cv=5, estimator=RandomForestRegressor(), n_jobs=-1,\n",
       "             param_grid={'max_depth': [None, 1, 2, 3, 4, 5],\n",
       "                         'max_features': ['auto', 'sqrt', 'log2'],\n",
       "                         'min_samples_leaf': [1, 2, 5, 10, 15, 20, 30, 40, 50],\n",
       "                         'min_samples_split': [1, 2, 5, 10, 15, 20, 30, 40, 50],\n",
       "                         'n_estimators': [10, 20, 30, 40, 50, 60, 70, 80, 90,\n",
       "                                          100]},\n",
       "             scoring='neg_mean_absolute_percentage_error')"
      ]
     },
     "execution_count": 67,
     "metadata": {},
     "output_type": "execute_result"
    }
   ],
   "source": [
    "search = GridSearchCV(model2, param_space, cv = 5, n_jobs = -1, scoring = 'neg_mean_absolute_percentage_error')\n",
    "search.fit(train_X1, train_y)"
   ]
  },
  {
   "cell_type": "code",
   "execution_count": 68,
   "id": "b5ee87b9-b340-4545-9a3d-34779e290962",
   "metadata": {},
   "outputs": [
    {
     "data": {
      "text/plain": [
       "{'max_depth': None,\n",
       " 'max_features': 'auto',\n",
       " 'min_samples_leaf': 2,\n",
       " 'min_samples_split': 10,\n",
       " 'n_estimators': 20}"
      ]
     },
     "execution_count": 68,
     "metadata": {},
     "output_type": "execute_result"
    }
   ],
   "source": [
    "search.best_params_"
   ]
  },
  {
   "cell_type": "code",
   "execution_count": 69,
   "id": "359f2670-4d76-4f87-a65b-cb62a16fe1e5",
   "metadata": {},
   "outputs": [
    {
     "data": {
      "text/plain": [
       "-0.2983550886625439"
      ]
     },
     "execution_count": 69,
     "metadata": {},
     "output_type": "execute_result"
    }
   ],
   "source": [
    "search.best_score_"
   ]
  },
  {
   "cell_type": "code",
   "execution_count": 20,
   "id": "f8df0e5a-aaf9-45e5-9dc6-edea0d0dda4c",
   "metadata": {},
   "outputs": [
    {
     "data": {
      "text/plain": [
       "0.30675241670028347"
      ]
     },
     "execution_count": 20,
     "metadata": {},
     "output_type": "execute_result"
    }
   ],
   "source": [
    "model2 = RandomForestRegressor(n_estimators = 20, min_samples_split = 10, min_samples_leaf = 2, max_features = 'auto', max_depth = None, random_state = 3101)\n",
    "np.mean(-1 * cross_val_score(model2, train_X1, train_y, cv=5, scoring = 'neg_mean_absolute_percentage_error'))"
   ]
  },
  {
   "cell_type": "code",
   "execution_count": 31,
   "id": "051640cf-22ec-4395-8271-881bea487934",
   "metadata": {},
   "outputs": [
    {
     "data": {
      "text/plain": [
       "RandomForestRegressor(min_samples_leaf=2, min_samples_split=10, n_estimators=20,\n",
       "                      random_state=3101)"
      ]
     },
     "execution_count": 31,
     "metadata": {},
     "output_type": "execute_result"
    }
   ],
   "source": [
    "model2.fit(train_X1, train_y)"
   ]
  },
  {
   "cell_type": "markdown",
   "id": "0b5fc761-aaf9-4f43-ae7f-d3a20c4879ea",
   "metadata": {},
   "source": [
    "## Save Model"
   ]
  },
  {
   "cell_type": "code",
   "execution_count": 33,
   "id": "89b94c10-ddf9-41c2-80dd-2e84075cebcf",
   "metadata": {},
   "outputs": [
    {
     "data": {
      "text/plain": [
       "['./dt_pca.pkl']"
      ]
     },
     "execution_count": 33,
     "metadata": {},
     "output_type": "execute_result"
    }
   ],
   "source": [
    "joblib.dump(model2, './dt_pca.pkl')"
   ]
  },
  {
   "cell_type": "markdown",
   "id": "3e6678a9-064c-4ec0-a6ba-c7759dcea3a5",
   "metadata": {},
   "source": [
    "## Performance on Test Set"
   ]
  },
  {
   "cell_type": "code",
   "execution_count": 34,
   "id": "9b16fdb7-8c2e-4d47-b8cd-11d9c726fa63",
   "metadata": {},
   "outputs": [],
   "source": [
    "model2 = joblib.load('./dt_pca.pkl')"
   ]
  },
  {
   "cell_type": "code",
   "execution_count": 44,
   "id": "495c7d9d-5015-4d73-bf2d-aed5de34f341",
   "metadata": {},
   "outputs": [],
   "source": [
    "test_num_std = pd.DataFrame(scaler.transform(test_num))\n",
    "test_num_std.columns = colnames"
   ]
  },
  {
   "cell_type": "code",
   "execution_count": 45,
   "id": "f3810f9f-9d74-4d84-9ce1-9f5b77a5889e",
   "metadata": {},
   "outputs": [
    {
     "data": {
      "text/html": [
       "<div>\n",
       "<style scoped>\n",
       "    .dataframe tbody tr th:only-of-type {\n",
       "        vertical-align: middle;\n",
       "    }\n",
       "\n",
       "    .dataframe tbody tr th {\n",
       "        vertical-align: top;\n",
       "    }\n",
       "\n",
       "    .dataframe thead th {\n",
       "        text-align: right;\n",
       "    }\n",
       "</style>\n",
       "<table border=\"1\" class=\"dataframe\">\n",
       "  <thead>\n",
       "    <tr style=\"text-align: right;\">\n",
       "      <th></th>\n",
       "      <th>heat_effect</th>\n",
       "      <th>rain_effect</th>\n",
       "    </tr>\n",
       "  </thead>\n",
       "  <tbody>\n",
       "    <tr>\n",
       "      <th>0</th>\n",
       "      <td>0.430303</td>\n",
       "      <td>-0.393878</td>\n",
       "    </tr>\n",
       "    <tr>\n",
       "      <th>1</th>\n",
       "      <td>0.539499</td>\n",
       "      <td>-0.229571</td>\n",
       "    </tr>\n",
       "    <tr>\n",
       "      <th>2</th>\n",
       "      <td>0.517260</td>\n",
       "      <td>0.022777</td>\n",
       "    </tr>\n",
       "    <tr>\n",
       "      <th>3</th>\n",
       "      <td>0.604894</td>\n",
       "      <td>0.134224</td>\n",
       "    </tr>\n",
       "    <tr>\n",
       "      <th>4</th>\n",
       "      <td>0.583186</td>\n",
       "      <td>0.500249</td>\n",
       "    </tr>\n",
       "  </tbody>\n",
       "</table>\n",
       "</div>"
      ],
      "text/plain": [
       "   heat_effect  rain_effect\n",
       "0     0.430303    -0.393878\n",
       "1     0.539499    -0.229571\n",
       "2     0.517260     0.022777\n",
       "3     0.604894     0.134224\n",
       "4     0.583186     0.500249"
      ]
     },
     "execution_count": 45,
     "metadata": {},
     "output_type": "execute_result"
    }
   ],
   "source": [
    "pca_cols = pd.DataFrame(ff.transform(test_num_std[colnames]), columns = ['heat_effect', 'rain_effect'])\n",
    "pca_cols.head()"
   ]
  },
  {
   "cell_type": "code",
   "execution_count": 46,
   "id": "0bf24838-732d-41c2-91f8-cec4cec241f6",
   "metadata": {},
   "outputs": [
    {
     "data": {
      "text/html": [
       "<div>\n",
       "<style scoped>\n",
       "    .dataframe tbody tr th:only-of-type {\n",
       "        vertical-align: middle;\n",
       "    }\n",
       "\n",
       "    .dataframe tbody tr th {\n",
       "        vertical-align: top;\n",
       "    }\n",
       "\n",
       "    .dataframe thead th {\n",
       "        text-align: right;\n",
       "    }\n",
       "</style>\n",
       "<table border=\"1\" class=\"dataframe\">\n",
       "  <thead>\n",
       "    <tr style=\"text-align: right;\">\n",
       "      <th></th>\n",
       "      <th>x0_Holiday</th>\n",
       "      <th>x0_No Holiday</th>\n",
       "      <th>x1_Autumn</th>\n",
       "      <th>x1_Spring</th>\n",
       "      <th>x1_Summer</th>\n",
       "      <th>x1_Winter</th>\n",
       "    </tr>\n",
       "  </thead>\n",
       "  <tbody>\n",
       "    <tr>\n",
       "      <th>0</th>\n",
       "      <td>0.0</td>\n",
       "      <td>1.0</td>\n",
       "      <td>1.0</td>\n",
       "      <td>0.0</td>\n",
       "      <td>0.0</td>\n",
       "      <td>0.0</td>\n",
       "    </tr>\n",
       "    <tr>\n",
       "      <th>1</th>\n",
       "      <td>0.0</td>\n",
       "      <td>1.0</td>\n",
       "      <td>1.0</td>\n",
       "      <td>0.0</td>\n",
       "      <td>0.0</td>\n",
       "      <td>0.0</td>\n",
       "    </tr>\n",
       "    <tr>\n",
       "      <th>2</th>\n",
       "      <td>0.0</td>\n",
       "      <td>1.0</td>\n",
       "      <td>1.0</td>\n",
       "      <td>0.0</td>\n",
       "      <td>0.0</td>\n",
       "      <td>0.0</td>\n",
       "    </tr>\n",
       "    <tr>\n",
       "      <th>3</th>\n",
       "      <td>0.0</td>\n",
       "      <td>1.0</td>\n",
       "      <td>1.0</td>\n",
       "      <td>0.0</td>\n",
       "      <td>0.0</td>\n",
       "      <td>0.0</td>\n",
       "    </tr>\n",
       "    <tr>\n",
       "      <th>4</th>\n",
       "      <td>0.0</td>\n",
       "      <td>1.0</td>\n",
       "      <td>1.0</td>\n",
       "      <td>0.0</td>\n",
       "      <td>0.0</td>\n",
       "      <td>0.0</td>\n",
       "    </tr>\n",
       "  </tbody>\n",
       "</table>\n",
       "</div>"
      ],
      "text/plain": [
       "   x0_Holiday  x0_No Holiday  x1_Autumn  x1_Spring  x1_Summer  x1_Winter\n",
       "0         0.0            1.0        1.0        0.0        0.0        0.0\n",
       "1         0.0            1.0        1.0        0.0        0.0        0.0\n",
       "2         0.0            1.0        1.0        0.0        0.0        0.0\n",
       "3         0.0            1.0        1.0        0.0        0.0        0.0\n",
       "4         0.0            1.0        1.0        0.0        0.0        0.0"
      ]
     },
     "execution_count": 46,
     "metadata": {},
     "output_type": "execute_result"
    }
   ],
   "source": [
    "test_cat_onehot = encoder.transform(test_cat)\n",
    "test_cat_onehot = pd.DataFrame(test_cat_onehot.A)\n",
    "test_cat_onehot.columns = encoder.get_feature_names()\n",
    "test_cat_onehot.head()"
   ]
  },
  {
   "cell_type": "code",
   "execution_count": 47,
   "id": "3ded7412-0759-4d85-abc5-88d82b650f35",
   "metadata": {},
   "outputs": [],
   "source": [
    "test_X = pd.concat([test_cat_onehot, pca_cols, test_num_std.loc[:, ['snowfall', 'wind_speed']]], axis = 1)\n",
    "test_X1 = test_X.loc[:, ['heat_effect', 'rain_effect', 'wind_speed']]"
   ]
  },
  {
   "cell_type": "code",
   "execution_count": 48,
   "id": "95ef5b66-112a-4622-9ddd-885091e0f492",
   "metadata": {},
   "outputs": [],
   "source": [
    "test_pred = model2.predict(test_X1)"
   ]
  },
  {
   "cell_type": "code",
   "execution_count": 49,
   "id": "6aaae610-c52c-4e84-958e-1cd953a55742",
   "metadata": {},
   "outputs": [
    {
     "data": {
      "text/plain": [
       "0.381294274286123"
      ]
     },
     "execution_count": 49,
     "metadata": {},
     "output_type": "execute_result"
    }
   ],
   "source": [
    "np.mean(np.abs(test_pred - test_y) / test_y)"
   ]
  },
  {
   "cell_type": "markdown",
   "id": "54b73c27-5dd3-4a21-ac4c-8a02638375e7",
   "metadata": {},
   "source": [
    "Final test set error percentage is quite high."
   ]
  }
 ],
 "metadata": {
  "kernelspec": {
   "display_name": "Python 3 (ipykernel)",
   "language": "python",
   "name": "python3"
  },
  "language_info": {
   "codemirror_mode": {
    "name": "ipython",
    "version": 3
   },
   "file_extension": ".py",
   "mimetype": "text/x-python",
   "name": "python",
   "nbconvert_exporter": "python",
   "pygments_lexer": "ipython3",
   "version": "3.9.6"
  }
 },
 "nbformat": 4,
 "nbformat_minor": 5
}
