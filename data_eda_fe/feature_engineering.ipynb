{
 "cells": [
  {
   "cell_type": "code",
   "execution_count": 1,
   "id": "da33dd10-70b7-4f2e-9197-0fa6716dc10a",
   "metadata": {
    "id": "da33dd10-70b7-4f2e-9197-0fa6716dc10a",
    "tags": []
   },
   "outputs": [],
   "source": [
    "#!pip install featuretools"
   ]
  },
  {
   "cell_type": "code",
   "execution_count": 23,
   "id": "f9838fb0-89b9-445c-8908-d4e6068886d9",
   "metadata": {
    "id": "f9838fb0-89b9-445c-8908-d4e6068886d9"
   },
   "outputs": [],
   "source": [
    "import pandas as pd\n",
    "import featuretools as ft"
   ]
  },
  {
   "cell_type": "markdown",
   "id": "4dc2a135-12f2-4ec2-a3d9-d4342d1c4e66",
   "metadata": {},
   "source": [
    "## For ML Model Data:"
   ]
  },
  {
   "cell_type": "code",
   "execution_count": 24,
   "id": "b3060418-f58b-4c42-9cea-76a6044b0086",
   "metadata": {
    "colab": {
     "base_uri": "https://localhost:8080/",
     "height": 330
    },
    "id": "b3060418-f58b-4c42-9cea-76a6044b0086",
    "outputId": "036450c1-35ad-4e96-9297-b1546893d898"
   },
   "outputs": [],
   "source": [
    "df_seoul = pd.read_csv('../data/bike_clean_byday.csv')"
   ]
  },
  {
   "cell_type": "code",
   "execution_count": 25,
   "id": "7d4ed206-c982-4945-bebe-a13fd83955c8",
   "metadata": {},
   "outputs": [
    {
     "name": "stdout",
     "output_type": "stream",
     "text": [
      "<class 'pandas.core.frame.DataFrame'>\n",
      "RangeIndex: 365 entries, 0 to 364\n",
      "Data columns (total 13 columns):\n",
      " #   Column           Non-Null Count  Dtype  \n",
      "---  ------           --------------  -----  \n",
      " 0   Unnamed: 0       365 non-null    int64  \n",
      " 1   date             365 non-null    object \n",
      " 2   season           365 non-null    object \n",
      " 3   holiday          365 non-null    object \n",
      " 4   snowfall         365 non-null    int64  \n",
      " 5   rainfall         365 non-null    float64\n",
      " 6   rent_count       365 non-null    int64  \n",
      " 7   temperature      365 non-null    float64\n",
      " 8   humidity         365 non-null    float64\n",
      " 9   wind_speed       365 non-null    float64\n",
      " 10  visibility       365 non-null    int64  \n",
      " 11  dewpoint_temp    365 non-null    float64\n",
      " 12  solar_radiation  365 non-null    float64\n",
      "dtypes: float64(6), int64(4), object(3)\n",
      "memory usage: 37.2+ KB\n"
     ]
    }
   ],
   "source": [
    "df_seoul.info()"
   ]
  },
  {
   "cell_type": "markdown",
   "id": "866603eb-6f75-40f1-950d-73bb43bb1656",
   "metadata": {
    "tags": []
   },
   "source": [
    "### Datetime Feature Engineering"
   ]
  },
  {
   "cell_type": "code",
   "execution_count": 26,
   "id": "474eb688-3b88-4831-9262-98294e833c21",
   "metadata": {},
   "outputs": [],
   "source": [
    "df_seoul['datetime'] = pd.to_datetime(df_seoul['date'])\n",
    "df_seoul['month'] = df_seoul.datetime.dt.month\n",
    "df_seoul['day_of_week'] = df_seoul.datetime.dt.dayofweek\n",
    "df_seoul['day'] = df_seoul.datetime.dt.day\n",
    "df_seoul['year'] = df_seoul.datetime.dt.year"
   ]
  },
  {
   "cell_type": "code",
   "execution_count": 27,
   "id": "6b1f0bc1-4356-45ba-866f-4b30aceb755f",
   "metadata": {},
   "outputs": [
    {
     "name": "stdout",
     "output_type": "stream",
     "text": [
      "<class 'pandas.core.frame.DataFrame'>\n",
      "RangeIndex: 365 entries, 0 to 364\n",
      "Data columns (total 18 columns):\n",
      " #   Column           Non-Null Count  Dtype         \n",
      "---  ------           --------------  -----         \n",
      " 0   Unnamed: 0       365 non-null    int64         \n",
      " 1   date             365 non-null    object        \n",
      " 2   season           365 non-null    object        \n",
      " 3   holiday          365 non-null    object        \n",
      " 4   snowfall         365 non-null    int64         \n",
      " 5   rainfall         365 non-null    float64       \n",
      " 6   rent_count       365 non-null    int64         \n",
      " 7   temperature      365 non-null    float64       \n",
      " 8   humidity         365 non-null    float64       \n",
      " 9   wind_speed       365 non-null    float64       \n",
      " 10  visibility       365 non-null    int64         \n",
      " 11  dewpoint_temp    365 non-null    float64       \n",
      " 12  solar_radiation  365 non-null    float64       \n",
      " 13  datetime         365 non-null    datetime64[ns]\n",
      " 14  month            365 non-null    int64         \n",
      " 15  day_of_week      365 non-null    int64         \n",
      " 16  day              365 non-null    int64         \n",
      " 17  year             365 non-null    int64         \n",
      "dtypes: datetime64[ns](1), float64(6), int64(8), object(3)\n",
      "memory usage: 51.5+ KB\n"
     ]
    }
   ],
   "source": [
    "df_seoul.info()"
   ]
  },
  {
   "cell_type": "markdown",
   "id": "fafe282f-869c-45c4-937d-cbcb1286ae36",
   "metadata": {
    "id": "fafe282f-869c-45c4-937d-cbcb1286ae36",
    "tags": []
   },
   "source": [
    "### Automated Feature Engineering for ML Model Data"
   ]
  },
  {
   "cell_type": "code",
   "execution_count": 28,
   "id": "dbec1f8d-2e4b-43b6-b7be-2a8c32fa8ae0",
   "metadata": {},
   "outputs": [
    {
     "data": {
      "text/plain": [
       "Index(['Unnamed: 0', 'season', 'holiday', 'snowfall', 'rainfall',\n",
       "       'temperature', 'humidity', 'wind_speed', 'visibility', 'dewpoint_temp',\n",
       "       'solar_radiation', 'month', 'day_of_week', 'day'],\n",
       "      dtype='object')"
      ]
     },
     "execution_count": 28,
     "metadata": {},
     "output_type": "execute_result"
    }
   ],
   "source": [
    "df_seoul = df_seoul.drop(['rent_count', 'year', 'datetime', 'date'], axis =1)\n",
    "df_seoul.columns"
   ]
  },
  {
   "cell_type": "code",
   "execution_count": 5,
   "id": "49db0067-decb-4af7-819f-7ead042ebea1",
   "metadata": {
    "colab": {
     "base_uri": "https://localhost:8080/"
    },
    "id": "49db0067-decb-4af7-819f-7ead042ebea1",
    "outputId": "044b1613-8152-4870-cb4f-4d5c3389edbc"
   },
   "outputs": [
    {
     "data": {
      "text/plain": [
       "Entityset: bikes\n",
       "  Entities:\n",
       "    seoul_bike [Rows: 353, Columns: 14]\n",
       "  Relationships:\n",
       "    No relationships"
      ]
     },
     "execution_count": 5,
     "metadata": {},
     "output_type": "execute_result"
    }
   ],
   "source": [
    "es = ft.EntitySet(id = 'bikes')\n",
    "\n",
    "# adding a dataframe \n",
    "es.entity_from_dataframe(entity_id = 'seoul_bike', dataframe = df_seoul, index = 'Unnamed: 0')"
   ]
  },
  {
   "cell_type": "code",
   "execution_count": 7,
   "id": "cfaf3849-5dc6-4350-94f0-d8f007993ee6",
   "metadata": {
    "id": "cfaf3849-5dc6-4350-94f0-d8f007993ee6"
   },
   "outputs": [
    {
     "name": "stdout",
     "output_type": "stream",
     "text": [
      "Entityset: bikes\n",
      "  Entities:\n",
      "    seoul_bike [Rows: 353, Columns: 14]\n",
      "    Month [Rows: 12, Columns: 1]\n",
      "    Day [Rows: 31, Columns: 1]\n",
      "    Day_of_week [Rows: 7, Columns: 1]\n",
      "    Season [Rows: 4, Columns: 1]\n",
      "    Holiday [Rows: 2, Columns: 1]\n",
      "  Relationships:\n",
      "    seoul_bike.month -> Month.month\n",
      "    seoul_bike.day -> Day.day\n",
      "    seoul_bike.dayofweek -> Day_of_week.dayofweek\n",
      "    seoul_bike.season -> Season.season\n",
      "    seoul_bike.holiday -> Holiday.holiday\n"
     ]
    }
   ],
   "source": [
    "es.normalize_entity(base_entity_id=\"seoul_bike\",\n",
    "                    new_entity_id=\"Month\",\n",
    "                    index=\"month\")\n",
    "\n",
    "es.normalize_entity(base_entity_id=\"seoul_bike\",\n",
    "                    new_entity_id=\"Day\",\n",
    "                    index=\"day\")\n",
    "\n",
    "es.normalize_entity(base_entity_id=\"seoul_bike\",\n",
    "                    new_entity_id=\"Day_of_week\",\n",
    "                    index=\"dayofweek\") # dayofweek for ml model data # day_of_week for demo data\n",
    "\n",
    "es.normalize_entity(base_entity_id=\"seoul_bike\",\n",
    "                    new_entity_id=\"Season\",\n",
    "                    index=\"season\")\n",
    "\n",
    "es.normalize_entity(base_entity_id=\"seoul_bike\",\n",
    "                    new_entity_id=\"Holiday\",\n",
    "                    index=\"holiday\")\n",
    "\n",
    "print(es)"
   ]
  },
  {
   "cell_type": "code",
   "execution_count": 8,
   "id": "31584546-886a-48bd-a4b9-ba7dc1303aea",
   "metadata": {
    "colab": {
     "base_uri": "https://localhost:8080/"
    },
    "id": "31584546-886a-48bd-a4b9-ba7dc1303aea",
    "outputId": "3c2ae17f-a769-40ec-ddba-a08d5e972ab8"
   },
   "outputs": [
    {
     "name": "stdout",
     "output_type": "stream",
     "text": [
      "Built 298 features\n",
      "EntitySet scattered to 3 workers in 11 seconds                                                                         \n",
      "Elapsed: 00:04 | Progress: 100%|███████████████████████████████████████████████████████████████████████████████████████\n"
     ]
    }
   ],
   "source": [
    "feature_matrix, feature_names = ft.dfs(entityset=es, \n",
    "target_entity = 'seoul_bike', \n",
    "max_depth = 2, \n",
    "verbose = 1, \n",
    "n_jobs = 3)"
   ]
  },
  {
   "cell_type": "code",
   "execution_count": 12,
   "id": "ce7b57b8-5b0b-46d9-85f4-fd595b56ef9a",
   "metadata": {
    "id": "ce7b57b8-5b0b-46d9-85f4-fd595b56ef9a",
    "scrolled": true,
    "tags": []
   },
   "outputs": [
    {
     "data": {
      "text/plain": [
       "Index(['month', 'day', 'dayofweek', 'season', 'temperature', 'humidity',\n",
       "       'holiday', 'wind_speed', 'visibility', 'dewpoint_temp',\n",
       "       ...\n",
       "       'Holiday.STD(seoul_bike.visibility)',\n",
       "       'Holiday.STD(seoul_bike.wind_speed)',\n",
       "       'Holiday.SUM(seoul_bike.dewpoint_temp)',\n",
       "       'Holiday.SUM(seoul_bike.humidity)', 'Holiday.SUM(seoul_bike.rainfall)',\n",
       "       'Holiday.SUM(seoul_bike.snowfall)',\n",
       "       'Holiday.SUM(seoul_bike.solar_radiation)',\n",
       "       'Holiday.SUM(seoul_bike.temperature)',\n",
       "       'Holiday.SUM(seoul_bike.visibility)',\n",
       "       'Holiday.SUM(seoul_bike.wind_speed)'],\n",
       "      dtype='object', length=298)"
      ]
     },
     "execution_count": 12,
     "metadata": {},
     "output_type": "execute_result"
    }
   ],
   "source": [
    "feature_matrix.columns"
   ]
  },
  {
   "cell_type": "code",
   "execution_count": 11,
   "id": "adaffd0a-9de2-4e0d-8dce-f408cc2ce05c",
   "metadata": {},
   "outputs": [
    {
     "data": {
      "text/html": [
       "<div>\n",
       "<style scoped>\n",
       "    .dataframe tbody tr th:only-of-type {\n",
       "        vertical-align: middle;\n",
       "    }\n",
       "\n",
       "    .dataframe tbody tr th {\n",
       "        vertical-align: top;\n",
       "    }\n",
       "\n",
       "    .dataframe thead th {\n",
       "        text-align: right;\n",
       "    }\n",
       "</style>\n",
       "<table border=\"1\" class=\"dataframe\">\n",
       "  <thead>\n",
       "    <tr style=\"text-align: right;\">\n",
       "      <th></th>\n",
       "      <th>season</th>\n",
       "      <th>holiday</th>\n",
       "      <th>snowfall</th>\n",
       "      <th>rainfall</th>\n",
       "      <th>temperature</th>\n",
       "      <th>humidity</th>\n",
       "      <th>wind_speed</th>\n",
       "      <th>visibility</th>\n",
       "      <th>dewpoint_temp</th>\n",
       "      <th>solar_radiation</th>\n",
       "      <th>...</th>\n",
       "      <th>Holiday.STD(seoul_bike.visibility)</th>\n",
       "      <th>Holiday.STD(seoul_bike.wind_speed)</th>\n",
       "      <th>Holiday.SUM(seoul_bike.dewpoint_temp)</th>\n",
       "      <th>Holiday.SUM(seoul_bike.humidity)</th>\n",
       "      <th>Holiday.SUM(seoul_bike.rainfall)</th>\n",
       "      <th>Holiday.SUM(seoul_bike.snowfall)</th>\n",
       "      <th>Holiday.SUM(seoul_bike.solar_radiation)</th>\n",
       "      <th>Holiday.SUM(seoul_bike.temperature)</th>\n",
       "      <th>Holiday.SUM(seoul_bike.visibility)</th>\n",
       "      <th>Holiday.SUM(seoul_bike.wind_speed)</th>\n",
       "    </tr>\n",
       "    <tr>\n",
       "      <th>Unnamed: 0</th>\n",
       "      <th></th>\n",
       "      <th></th>\n",
       "      <th></th>\n",
       "      <th></th>\n",
       "      <th></th>\n",
       "      <th></th>\n",
       "      <th></th>\n",
       "      <th></th>\n",
       "      <th></th>\n",
       "      <th></th>\n",
       "      <th></th>\n",
       "      <th></th>\n",
       "      <th></th>\n",
       "      <th></th>\n",
       "      <th></th>\n",
       "      <th></th>\n",
       "      <th></th>\n",
       "      <th></th>\n",
       "      <th></th>\n",
       "      <th></th>\n",
       "      <th></th>\n",
       "    </tr>\n",
       "  </thead>\n",
       "  <tbody>\n",
       "    <tr>\n",
       "      <th>0</th>\n",
       "      <td>Autumn</td>\n",
       "      <td>No Holiday</td>\n",
       "      <td>787</td>\n",
       "      <td>10.9</td>\n",
       "      <td>2.6</td>\n",
       "      <td>84.5</td>\n",
       "      <td>1.70</td>\n",
       "      <td>10460</td>\n",
       "      <td>0.00</td>\n",
       "      <td>0</td>\n",
       "      <td>...</td>\n",
       "      <td>5282.178708</td>\n",
       "      <td>0.289704</td>\n",
       "      <td>-28.95</td>\n",
       "      <td>414.0</td>\n",
       "      <td>10.9</td>\n",
       "      <td>1230</td>\n",
       "      <td>0</td>\n",
       "      <td>28.4</td>\n",
       "      <td>67335</td>\n",
       "      <td>8.85</td>\n",
       "    </tr>\n",
       "    <tr>\n",
       "      <th>1</th>\n",
       "      <td>Autumn</td>\n",
       "      <td>No Holiday</td>\n",
       "      <td>414</td>\n",
       "      <td>0.0</td>\n",
       "      <td>4.1</td>\n",
       "      <td>81.5</td>\n",
       "      <td>0.95</td>\n",
       "      <td>4295</td>\n",
       "      <td>0.75</td>\n",
       "      <td>0</td>\n",
       "      <td>...</td>\n",
       "      <td>5282.178708</td>\n",
       "      <td>0.289704</td>\n",
       "      <td>-28.95</td>\n",
       "      <td>414.0</td>\n",
       "      <td>10.9</td>\n",
       "      <td>1230</td>\n",
       "      <td>0</td>\n",
       "      <td>28.4</td>\n",
       "      <td>67335</td>\n",
       "      <td>8.85</td>\n",
       "    </tr>\n",
       "    <tr>\n",
       "      <th>2</th>\n",
       "      <td>Autumn</td>\n",
       "      <td>No Holiday</td>\n",
       "      <td>29</td>\n",
       "      <td>0.0</td>\n",
       "      <td>5.8</td>\n",
       "      <td>70.5</td>\n",
       "      <td>1.10</td>\n",
       "      <td>4675</td>\n",
       "      <td>1.00</td>\n",
       "      <td>0</td>\n",
       "      <td>...</td>\n",
       "      <td>5282.178708</td>\n",
       "      <td>0.289704</td>\n",
       "      <td>-28.95</td>\n",
       "      <td>414.0</td>\n",
       "      <td>10.9</td>\n",
       "      <td>1230</td>\n",
       "      <td>0</td>\n",
       "      <td>28.4</td>\n",
       "      <td>67335</td>\n",
       "      <td>8.85</td>\n",
       "    </tr>\n",
       "    <tr>\n",
       "      <th>3</th>\n",
       "      <td>Autumn</td>\n",
       "      <td>No Holiday</td>\n",
       "      <td>0</td>\n",
       "      <td>0.0</td>\n",
       "      <td>6.5</td>\n",
       "      <td>73.0</td>\n",
       "      <td>1.20</td>\n",
       "      <td>3725</td>\n",
       "      <td>1.35</td>\n",
       "      <td>0</td>\n",
       "      <td>...</td>\n",
       "      <td>5282.178708</td>\n",
       "      <td>0.289704</td>\n",
       "      <td>-28.95</td>\n",
       "      <td>414.0</td>\n",
       "      <td>10.9</td>\n",
       "      <td>1230</td>\n",
       "      <td>0</td>\n",
       "      <td>28.4</td>\n",
       "      <td>67335</td>\n",
       "      <td>8.85</td>\n",
       "    </tr>\n",
       "    <tr>\n",
       "      <th>4</th>\n",
       "      <td>Autumn</td>\n",
       "      <td>No Holiday</td>\n",
       "      <td>0</td>\n",
       "      <td>0.0</td>\n",
       "      <td>4.6</td>\n",
       "      <td>26.0</td>\n",
       "      <td>1.60</td>\n",
       "      <td>14640</td>\n",
       "      <td>-12.95</td>\n",
       "      <td>0</td>\n",
       "      <td>...</td>\n",
       "      <td>5282.178708</td>\n",
       "      <td>0.289704</td>\n",
       "      <td>-28.95</td>\n",
       "      <td>414.0</td>\n",
       "      <td>10.9</td>\n",
       "      <td>1230</td>\n",
       "      <td>0</td>\n",
       "      <td>28.4</td>\n",
       "      <td>67335</td>\n",
       "      <td>8.85</td>\n",
       "    </tr>\n",
       "  </tbody>\n",
       "</table>\n",
       "<p>5 rows × 298 columns</p>\n",
       "</div>"
      ],
      "text/plain": [
       "            season     holiday  snowfall  rainfall  temperature  humidity  \\\n",
       "Unnamed: 0                                                                  \n",
       "0           Autumn  No Holiday       787      10.9          2.6      84.5   \n",
       "1           Autumn  No Holiday       414       0.0          4.1      81.5   \n",
       "2           Autumn  No Holiday        29       0.0          5.8      70.5   \n",
       "3           Autumn  No Holiday         0       0.0          6.5      73.0   \n",
       "4           Autumn  No Holiday         0       0.0          4.6      26.0   \n",
       "\n",
       "            wind_speed  visibility  dewpoint_temp  solar_radiation  ...  \\\n",
       "Unnamed: 0                                                          ...   \n",
       "0                 1.70       10460           0.00                0  ...   \n",
       "1                 0.95        4295           0.75                0  ...   \n",
       "2                 1.10        4675           1.00                0  ...   \n",
       "3                 1.20        3725           1.35                0  ...   \n",
       "4                 1.60       14640         -12.95                0  ...   \n",
       "\n",
       "            Holiday.STD(seoul_bike.visibility)  \\\n",
       "Unnamed: 0                                       \n",
       "0                                  5282.178708   \n",
       "1                                  5282.178708   \n",
       "2                                  5282.178708   \n",
       "3                                  5282.178708   \n",
       "4                                  5282.178708   \n",
       "\n",
       "            Holiday.STD(seoul_bike.wind_speed)  \\\n",
       "Unnamed: 0                                       \n",
       "0                                     0.289704   \n",
       "1                                     0.289704   \n",
       "2                                     0.289704   \n",
       "3                                     0.289704   \n",
       "4                                     0.289704   \n",
       "\n",
       "            Holiday.SUM(seoul_bike.dewpoint_temp)  \\\n",
       "Unnamed: 0                                          \n",
       "0                                          -28.95   \n",
       "1                                          -28.95   \n",
       "2                                          -28.95   \n",
       "3                                          -28.95   \n",
       "4                                          -28.95   \n",
       "\n",
       "            Holiday.SUM(seoul_bike.humidity)  \\\n",
       "Unnamed: 0                                     \n",
       "0                                      414.0   \n",
       "1                                      414.0   \n",
       "2                                      414.0   \n",
       "3                                      414.0   \n",
       "4                                      414.0   \n",
       "\n",
       "            Holiday.SUM(seoul_bike.rainfall)  \\\n",
       "Unnamed: 0                                     \n",
       "0                                       10.9   \n",
       "1                                       10.9   \n",
       "2                                       10.9   \n",
       "3                                       10.9   \n",
       "4                                       10.9   \n",
       "\n",
       "            Holiday.SUM(seoul_bike.snowfall)  \\\n",
       "Unnamed: 0                                     \n",
       "0                                       1230   \n",
       "1                                       1230   \n",
       "2                                       1230   \n",
       "3                                       1230   \n",
       "4                                       1230   \n",
       "\n",
       "            Holiday.SUM(seoul_bike.solar_radiation)  \\\n",
       "Unnamed: 0                                            \n",
       "0                                                 0   \n",
       "1                                                 0   \n",
       "2                                                 0   \n",
       "3                                                 0   \n",
       "4                                                 0   \n",
       "\n",
       "            Holiday.SUM(seoul_bike.temperature)  \\\n",
       "Unnamed: 0                                        \n",
       "0                                          28.4   \n",
       "1                                          28.4   \n",
       "2                                          28.4   \n",
       "3                                          28.4   \n",
       "4                                          28.4   \n",
       "\n",
       "            Holiday.SUM(seoul_bike.visibility)  \\\n",
       "Unnamed: 0                                       \n",
       "0                                        67335   \n",
       "1                                        67335   \n",
       "2                                        67335   \n",
       "3                                        67335   \n",
       "4                                        67335   \n",
       "\n",
       "            Holiday.SUM(seoul_bike.wind_speed)  \n",
       "Unnamed: 0                                      \n",
       "0                                         8.85  \n",
       "1                                         8.85  \n",
       "2                                         8.85  \n",
       "3                                         8.85  \n",
       "4                                         8.85  \n",
       "\n",
       "[5 rows x 298 columns]"
      ]
     },
     "execution_count": 11,
     "metadata": {},
     "output_type": "execute_result"
    }
   ],
   "source": [
    "feature_matrix.head()"
   ]
  },
  {
   "cell_type": "code",
   "execution_count": 26,
   "id": "74bc4d9c-b450-4d7c-be40-1a71d0c3eaa5",
   "metadata": {},
   "outputs": [],
   "source": [
    "df_merge = pd.read_csv('../data/bike_clean_byday.csv')[['rent_count', 'year']]"
   ]
  },
  {
   "cell_type": "code",
   "execution_count": 27,
   "id": "18652c4b-4208-4f7d-a5d9-2197a3890a5f",
   "metadata": {
    "tags": []
   },
   "outputs": [],
   "source": [
    "pd.concat([feature_matrix.reset_index(), df_merge], axis =1).to_csv(\"../data/bike_clean_byday_engineered.csv\")"
   ]
  },
  {
   "cell_type": "markdown",
   "id": "4615cca5-86e8-4d37-8c18-caf45868535b",
   "metadata": {
    "tags": []
   },
   "source": [
    "## For demo:"
   ]
  },
  {
   "cell_type": "code",
   "execution_count": 19,
   "id": "a7514952-8140-4fa6-913a-3035f7f0b751",
   "metadata": {
    "tags": []
   },
   "outputs": [],
   "source": [
    "df_seoul_ori = pd.read_csv('../data/7days_demo.csv')"
   ]
  },
  {
   "cell_type": "code",
   "execution_count": 20,
   "id": "9cee3eed-fbf5-4a26-b7e8-5806de8bdeae",
   "metadata": {},
   "outputs": [
    {
     "name": "stdout",
     "output_type": "stream",
     "text": [
      "<class 'pandas.core.frame.DataFrame'>\n",
      "RangeIndex: 7 entries, 0 to 6\n",
      "Data columns (total 15 columns):\n",
      " #   Column                Non-Null Count  Dtype  \n",
      "---  ------                --------------  -----  \n",
      " 0   date                  7 non-null      object \n",
      " 1   season                7 non-null      object \n",
      " 2   holiday               7 non-null      object \n",
      " 3   snowfall              7 non-null      int64  \n",
      " 4   rainfall              7 non-null      float64\n",
      " 5   rent_count            7 non-null      int64  \n",
      " 6   temperature           7 non-null      float64\n",
      " 7   humidity              7 non-null      float64\n",
      " 8   wind_speed            7 non-null      float64\n",
      " 9   visibility            7 non-null      int64  \n",
      " 10  dewpoint_temp         7 non-null      float64\n",
      " 11  solar_radiation       7 non-null      int64  \n",
      " 12  rep_count             7 non-null      int64  \n",
      " 13  predicted_rep_count   7 non-null      float64\n",
      " 14  predicted_rent_count  7 non-null      float64\n",
      "dtypes: float64(7), int64(5), object(3)\n",
      "memory usage: 968.0+ bytes\n"
     ]
    }
   ],
   "source": [
    "df_seoul_ori.info()"
   ]
  },
  {
   "cell_type": "markdown",
   "id": "d0e4f6b1-b663-423a-921c-c0b0dc3a3404",
   "metadata": {
    "tags": []
   },
   "source": [
    "### Datetime Feature Engineering"
   ]
  },
  {
   "cell_type": "code",
   "execution_count": 21,
   "id": "5e7bc668-ae9d-468a-9524-0269cfc89b86",
   "metadata": {},
   "outputs": [],
   "source": [
    "df_seoul_ori['datetime'] = pd.to_datetime(df_seoul_ori['date'])\n",
    "df_seoul_ori['month'] = df_seoul_ori.datetime.dt.month\n",
    "df_seoul_ori['day_of_week'] = df_seoul_ori.datetime.dt.dayofweek # mon, tue ... \n",
    "df_seoul_ori['day'] = df_seoul_ori.datetime.dt.day\n",
    "df_seoul_ori['year'] = df_seoul_ori.datetime.dt.year"
   ]
  },
  {
   "cell_type": "code",
   "execution_count": 22,
   "id": "f0c6a2e3-af0d-413d-ac3b-9aa02bc46345",
   "metadata": {},
   "outputs": [
    {
     "name": "stdout",
     "output_type": "stream",
     "text": [
      "<class 'pandas.core.frame.DataFrame'>\n",
      "RangeIndex: 7 entries, 0 to 6\n",
      "Data columns (total 20 columns):\n",
      " #   Column                Non-Null Count  Dtype         \n",
      "---  ------                --------------  -----         \n",
      " 0   date                  7 non-null      object        \n",
      " 1   season                7 non-null      object        \n",
      " 2   holiday               7 non-null      object        \n",
      " 3   snowfall              7 non-null      int64         \n",
      " 4   rainfall              7 non-null      float64       \n",
      " 5   rent_count            7 non-null      int64         \n",
      " 6   temperature           7 non-null      float64       \n",
      " 7   humidity              7 non-null      float64       \n",
      " 8   wind_speed            7 non-null      float64       \n",
      " 9   visibility            7 non-null      int64         \n",
      " 10  dewpoint_temp         7 non-null      float64       \n",
      " 11  solar_radiation       7 non-null      int64         \n",
      " 12  rep_count             7 non-null      int64         \n",
      " 13  predicted_rep_count   7 non-null      float64       \n",
      " 14  predicted_rent_count  7 non-null      float64       \n",
      " 15  datetime              7 non-null      datetime64[ns]\n",
      " 16  month                 7 non-null      int64         \n",
      " 17  day_of_week           7 non-null      int64         \n",
      " 18  day                   7 non-null      int64         \n",
      " 19  year                  7 non-null      int64         \n",
      "dtypes: datetime64[ns](1), float64(7), int64(9), object(3)\n",
      "memory usage: 1.2+ KB\n"
     ]
    }
   ],
   "source": [
    "df_seoul_ori.info()"
   ]
  },
  {
   "cell_type": "markdown",
   "id": "82effb1a-ed76-4aa6-8892-88fc95352f1b",
   "metadata": {
    "id": "fafe282f-869c-45c4-937d-cbcb1286ae36",
    "tags": []
   },
   "source": [
    "### Automated Feature Engineering For Demo Data"
   ]
  },
  {
   "cell_type": "code",
   "execution_count": 4,
   "id": "bd3117f7-9e6b-44c2-bc54-6722ec3cec45",
   "metadata": {},
   "outputs": [
    {
     "data": {
      "text/plain": [
       "Index(['Unnamed: 0', 'season', 'holiday', 'snowfall', 'rainfall',\n",
       "       'temperature', 'humidity', 'wind_speed', 'visibility', 'dewpoint_temp',\n",
       "       'solar_radiation', 'month', 'day_of_week', 'day'],\n",
       "      dtype='object')"
      ]
     },
     "execution_count": 4,
     "metadata": {},
     "output_type": "execute_result"
    }
   ],
   "source": [
    "df_seoul = df_seoul_ori.drop(['Unnamed: 0.1','date','datetime','rep_count', 'predicted_rep_count', 'predicted_rent_count', 'rent_count', 'year'], axis=1)\n",
    "df_seoul.columns"
   ]
  },
  {
   "cell_type": "code",
   "execution_count": 5,
   "id": "1dc33474-5aba-47d1-b96f-826ac49deba7",
   "metadata": {
    "colab": {
     "base_uri": "https://localhost:8080/"
    },
    "id": "49db0067-decb-4af7-819f-7ead042ebea1",
    "outputId": "044b1613-8152-4870-cb4f-4d5c3389edbc"
   },
   "outputs": [
    {
     "data": {
      "text/plain": [
       "Entityset: bikes\n",
       "  Entities:\n",
       "    seoul_bike [Rows: 353, Columns: 14]\n",
       "  Relationships:\n",
       "    No relationships"
      ]
     },
     "execution_count": 5,
     "metadata": {},
     "output_type": "execute_result"
    }
   ],
   "source": [
    "es = ft.EntitySet(id = 'bikes')\n",
    "\n",
    "# adding a dataframe \n",
    "es.entity_from_dataframe(entity_id = 'seoul_bike', dataframe = df_seoul, index = 'Unnamed: 0')"
   ]
  },
  {
   "cell_type": "code",
   "execution_count": 7,
   "id": "7fa0ba5e-606d-4cbf-a5dd-01e755e9b950",
   "metadata": {
    "id": "cfaf3849-5dc6-4350-94f0-d8f007993ee6"
   },
   "outputs": [
    {
     "name": "stdout",
     "output_type": "stream",
     "text": [
      "Entityset: bikes\n",
      "  Entities:\n",
      "    seoul_bike [Rows: 353, Columns: 14]\n",
      "    Month [Rows: 12, Columns: 1]\n",
      "    Day [Rows: 31, Columns: 1]\n",
      "    Day_of_week [Rows: 7, Columns: 1]\n",
      "    Season [Rows: 4, Columns: 1]\n",
      "    Holiday [Rows: 2, Columns: 1]\n",
      "  Relationships:\n",
      "    seoul_bike.month -> Month.month\n",
      "    seoul_bike.day -> Day.day\n",
      "    seoul_bike.dayofweek -> Day_of_week.dayofweek\n",
      "    seoul_bike.season -> Season.season\n",
      "    seoul_bike.holiday -> Holiday.holiday\n"
     ]
    }
   ],
   "source": [
    "es.normalize_entity(base_entity_id=\"seoul_bike\",\n",
    "                    new_entity_id=\"Month\",\n",
    "                    index=\"month\")\n",
    "\n",
    "es.normalize_entity(base_entity_id=\"seoul_bike\",\n",
    "                    new_entity_id=\"Day\",\n",
    "                    index=\"day\")\n",
    "\n",
    "es.normalize_entity(base_entity_id=\"seoul_bike\",\n",
    "                    new_entity_id=\"Day_of_week\",\n",
    "                    index=\"dayofweek\") # dayofweek for ml model data # day_of_week for demo data\n",
    "\n",
    "es.normalize_entity(base_entity_id=\"seoul_bike\",\n",
    "                    new_entity_id=\"Season\",\n",
    "                    index=\"season\")\n",
    "\n",
    "es.normalize_entity(base_entity_id=\"seoul_bike\",\n",
    "                    new_entity_id=\"Holiday\",\n",
    "                    index=\"holiday\")\n",
    "\n",
    "print(es)"
   ]
  },
  {
   "cell_type": "code",
   "execution_count": 8,
   "id": "37f3223a-3409-4146-ba2d-bae0a198f83f",
   "metadata": {
    "colab": {
     "base_uri": "https://localhost:8080/"
    },
    "id": "31584546-886a-48bd-a4b9-ba7dc1303aea",
    "outputId": "3c2ae17f-a769-40ec-ddba-a08d5e972ab8"
   },
   "outputs": [
    {
     "name": "stdout",
     "output_type": "stream",
     "text": [
      "Built 298 features\n",
      "EntitySet scattered to 3 workers in 11 seconds                                                                         \n",
      "Elapsed: 00:04 | Progress: 100%|███████████████████████████████████████████████████████████████████████████████████████\n"
     ]
    }
   ],
   "source": [
    "feature_matrix, feature_names = ft.dfs(entityset=es, \n",
    "target_entity = 'seoul_bike', \n",
    "max_depth = 2, \n",
    "verbose = 1, \n",
    "n_jobs = 3)"
   ]
  },
  {
   "cell_type": "code",
   "execution_count": 12,
   "id": "4b521a26-cbb5-48c9-8f5d-385ed77acb2b",
   "metadata": {
    "id": "ce7b57b8-5b0b-46d9-85f4-fd595b56ef9a",
    "scrolled": true,
    "tags": []
   },
   "outputs": [
    {
     "data": {
      "text/plain": [
       "Index(['month', 'day', 'dayofweek', 'season', 'temperature', 'humidity',\n",
       "       'holiday', 'wind_speed', 'visibility', 'dewpoint_temp',\n",
       "       ...\n",
       "       'Holiday.STD(seoul_bike.visibility)',\n",
       "       'Holiday.STD(seoul_bike.wind_speed)',\n",
       "       'Holiday.SUM(seoul_bike.dewpoint_temp)',\n",
       "       'Holiday.SUM(seoul_bike.humidity)', 'Holiday.SUM(seoul_bike.rainfall)',\n",
       "       'Holiday.SUM(seoul_bike.snowfall)',\n",
       "       'Holiday.SUM(seoul_bike.solar_radiation)',\n",
       "       'Holiday.SUM(seoul_bike.temperature)',\n",
       "       'Holiday.SUM(seoul_bike.visibility)',\n",
       "       'Holiday.SUM(seoul_bike.wind_speed)'],\n",
       "      dtype='object', length=298)"
      ]
     },
     "execution_count": 12,
     "metadata": {},
     "output_type": "execute_result"
    }
   ],
   "source": [
    "feature_matrix.columns"
   ]
  },
  {
   "cell_type": "code",
   "execution_count": 11,
   "id": "ea12405b-34d1-4b01-8c2e-ab3a10d29510",
   "metadata": {},
   "outputs": [
    {
     "data": {
      "text/html": [
       "<div>\n",
       "<style scoped>\n",
       "    .dataframe tbody tr th:only-of-type {\n",
       "        vertical-align: middle;\n",
       "    }\n",
       "\n",
       "    .dataframe tbody tr th {\n",
       "        vertical-align: top;\n",
       "    }\n",
       "\n",
       "    .dataframe thead th {\n",
       "        text-align: right;\n",
       "    }\n",
       "</style>\n",
       "<table border=\"1\" class=\"dataframe\">\n",
       "  <thead>\n",
       "    <tr style=\"text-align: right;\">\n",
       "      <th></th>\n",
       "      <th>season</th>\n",
       "      <th>holiday</th>\n",
       "      <th>snowfall</th>\n",
       "      <th>rainfall</th>\n",
       "      <th>temperature</th>\n",
       "      <th>humidity</th>\n",
       "      <th>wind_speed</th>\n",
       "      <th>visibility</th>\n",
       "      <th>dewpoint_temp</th>\n",
       "      <th>solar_radiation</th>\n",
       "      <th>...</th>\n",
       "      <th>Holiday.STD(seoul_bike.visibility)</th>\n",
       "      <th>Holiday.STD(seoul_bike.wind_speed)</th>\n",
       "      <th>Holiday.SUM(seoul_bike.dewpoint_temp)</th>\n",
       "      <th>Holiday.SUM(seoul_bike.humidity)</th>\n",
       "      <th>Holiday.SUM(seoul_bike.rainfall)</th>\n",
       "      <th>Holiday.SUM(seoul_bike.snowfall)</th>\n",
       "      <th>Holiday.SUM(seoul_bike.solar_radiation)</th>\n",
       "      <th>Holiday.SUM(seoul_bike.temperature)</th>\n",
       "      <th>Holiday.SUM(seoul_bike.visibility)</th>\n",
       "      <th>Holiday.SUM(seoul_bike.wind_speed)</th>\n",
       "    </tr>\n",
       "    <tr>\n",
       "      <th>Unnamed: 0</th>\n",
       "      <th></th>\n",
       "      <th></th>\n",
       "      <th></th>\n",
       "      <th></th>\n",
       "      <th></th>\n",
       "      <th></th>\n",
       "      <th></th>\n",
       "      <th></th>\n",
       "      <th></th>\n",
       "      <th></th>\n",
       "      <th></th>\n",
       "      <th></th>\n",
       "      <th></th>\n",
       "      <th></th>\n",
       "      <th></th>\n",
       "      <th></th>\n",
       "      <th></th>\n",
       "      <th></th>\n",
       "      <th></th>\n",
       "      <th></th>\n",
       "      <th></th>\n",
       "    </tr>\n",
       "  </thead>\n",
       "  <tbody>\n",
       "    <tr>\n",
       "      <th>0</th>\n",
       "      <td>Autumn</td>\n",
       "      <td>No Holiday</td>\n",
       "      <td>787</td>\n",
       "      <td>10.9</td>\n",
       "      <td>2.6</td>\n",
       "      <td>84.5</td>\n",
       "      <td>1.70</td>\n",
       "      <td>10460</td>\n",
       "      <td>0.00</td>\n",
       "      <td>0</td>\n",
       "      <td>...</td>\n",
       "      <td>5282.178708</td>\n",
       "      <td>0.289704</td>\n",
       "      <td>-28.95</td>\n",
       "      <td>414.0</td>\n",
       "      <td>10.9</td>\n",
       "      <td>1230</td>\n",
       "      <td>0</td>\n",
       "      <td>28.4</td>\n",
       "      <td>67335</td>\n",
       "      <td>8.85</td>\n",
       "    </tr>\n",
       "    <tr>\n",
       "      <th>1</th>\n",
       "      <td>Autumn</td>\n",
       "      <td>No Holiday</td>\n",
       "      <td>414</td>\n",
       "      <td>0.0</td>\n",
       "      <td>4.1</td>\n",
       "      <td>81.5</td>\n",
       "      <td>0.95</td>\n",
       "      <td>4295</td>\n",
       "      <td>0.75</td>\n",
       "      <td>0</td>\n",
       "      <td>...</td>\n",
       "      <td>5282.178708</td>\n",
       "      <td>0.289704</td>\n",
       "      <td>-28.95</td>\n",
       "      <td>414.0</td>\n",
       "      <td>10.9</td>\n",
       "      <td>1230</td>\n",
       "      <td>0</td>\n",
       "      <td>28.4</td>\n",
       "      <td>67335</td>\n",
       "      <td>8.85</td>\n",
       "    </tr>\n",
       "    <tr>\n",
       "      <th>2</th>\n",
       "      <td>Autumn</td>\n",
       "      <td>No Holiday</td>\n",
       "      <td>29</td>\n",
       "      <td>0.0</td>\n",
       "      <td>5.8</td>\n",
       "      <td>70.5</td>\n",
       "      <td>1.10</td>\n",
       "      <td>4675</td>\n",
       "      <td>1.00</td>\n",
       "      <td>0</td>\n",
       "      <td>...</td>\n",
       "      <td>5282.178708</td>\n",
       "      <td>0.289704</td>\n",
       "      <td>-28.95</td>\n",
       "      <td>414.0</td>\n",
       "      <td>10.9</td>\n",
       "      <td>1230</td>\n",
       "      <td>0</td>\n",
       "      <td>28.4</td>\n",
       "      <td>67335</td>\n",
       "      <td>8.85</td>\n",
       "    </tr>\n",
       "    <tr>\n",
       "      <th>3</th>\n",
       "      <td>Autumn</td>\n",
       "      <td>No Holiday</td>\n",
       "      <td>0</td>\n",
       "      <td>0.0</td>\n",
       "      <td>6.5</td>\n",
       "      <td>73.0</td>\n",
       "      <td>1.20</td>\n",
       "      <td>3725</td>\n",
       "      <td>1.35</td>\n",
       "      <td>0</td>\n",
       "      <td>...</td>\n",
       "      <td>5282.178708</td>\n",
       "      <td>0.289704</td>\n",
       "      <td>-28.95</td>\n",
       "      <td>414.0</td>\n",
       "      <td>10.9</td>\n",
       "      <td>1230</td>\n",
       "      <td>0</td>\n",
       "      <td>28.4</td>\n",
       "      <td>67335</td>\n",
       "      <td>8.85</td>\n",
       "    </tr>\n",
       "    <tr>\n",
       "      <th>4</th>\n",
       "      <td>Autumn</td>\n",
       "      <td>No Holiday</td>\n",
       "      <td>0</td>\n",
       "      <td>0.0</td>\n",
       "      <td>4.6</td>\n",
       "      <td>26.0</td>\n",
       "      <td>1.60</td>\n",
       "      <td>14640</td>\n",
       "      <td>-12.95</td>\n",
       "      <td>0</td>\n",
       "      <td>...</td>\n",
       "      <td>5282.178708</td>\n",
       "      <td>0.289704</td>\n",
       "      <td>-28.95</td>\n",
       "      <td>414.0</td>\n",
       "      <td>10.9</td>\n",
       "      <td>1230</td>\n",
       "      <td>0</td>\n",
       "      <td>28.4</td>\n",
       "      <td>67335</td>\n",
       "      <td>8.85</td>\n",
       "    </tr>\n",
       "  </tbody>\n",
       "</table>\n",
       "<p>5 rows × 298 columns</p>\n",
       "</div>"
      ],
      "text/plain": [
       "            season     holiday  snowfall  rainfall  temperature  humidity  \\\n",
       "Unnamed: 0                                                                  \n",
       "0           Autumn  No Holiday       787      10.9          2.6      84.5   \n",
       "1           Autumn  No Holiday       414       0.0          4.1      81.5   \n",
       "2           Autumn  No Holiday        29       0.0          5.8      70.5   \n",
       "3           Autumn  No Holiday         0       0.0          6.5      73.0   \n",
       "4           Autumn  No Holiday         0       0.0          4.6      26.0   \n",
       "\n",
       "            wind_speed  visibility  dewpoint_temp  solar_radiation  ...  \\\n",
       "Unnamed: 0                                                          ...   \n",
       "0                 1.70       10460           0.00                0  ...   \n",
       "1                 0.95        4295           0.75                0  ...   \n",
       "2                 1.10        4675           1.00                0  ...   \n",
       "3                 1.20        3725           1.35                0  ...   \n",
       "4                 1.60       14640         -12.95                0  ...   \n",
       "\n",
       "            Holiday.STD(seoul_bike.visibility)  \\\n",
       "Unnamed: 0                                       \n",
       "0                                  5282.178708   \n",
       "1                                  5282.178708   \n",
       "2                                  5282.178708   \n",
       "3                                  5282.178708   \n",
       "4                                  5282.178708   \n",
       "\n",
       "            Holiday.STD(seoul_bike.wind_speed)  \\\n",
       "Unnamed: 0                                       \n",
       "0                                     0.289704   \n",
       "1                                     0.289704   \n",
       "2                                     0.289704   \n",
       "3                                     0.289704   \n",
       "4                                     0.289704   \n",
       "\n",
       "            Holiday.SUM(seoul_bike.dewpoint_temp)  \\\n",
       "Unnamed: 0                                          \n",
       "0                                          -28.95   \n",
       "1                                          -28.95   \n",
       "2                                          -28.95   \n",
       "3                                          -28.95   \n",
       "4                                          -28.95   \n",
       "\n",
       "            Holiday.SUM(seoul_bike.humidity)  \\\n",
       "Unnamed: 0                                     \n",
       "0                                      414.0   \n",
       "1                                      414.0   \n",
       "2                                      414.0   \n",
       "3                                      414.0   \n",
       "4                                      414.0   \n",
       "\n",
       "            Holiday.SUM(seoul_bike.rainfall)  \\\n",
       "Unnamed: 0                                     \n",
       "0                                       10.9   \n",
       "1                                       10.9   \n",
       "2                                       10.9   \n",
       "3                                       10.9   \n",
       "4                                       10.9   \n",
       "\n",
       "            Holiday.SUM(seoul_bike.snowfall)  \\\n",
       "Unnamed: 0                                     \n",
       "0                                       1230   \n",
       "1                                       1230   \n",
       "2                                       1230   \n",
       "3                                       1230   \n",
       "4                                       1230   \n",
       "\n",
       "            Holiday.SUM(seoul_bike.solar_radiation)  \\\n",
       "Unnamed: 0                                            \n",
       "0                                                 0   \n",
       "1                                                 0   \n",
       "2                                                 0   \n",
       "3                                                 0   \n",
       "4                                                 0   \n",
       "\n",
       "            Holiday.SUM(seoul_bike.temperature)  \\\n",
       "Unnamed: 0                                        \n",
       "0                                          28.4   \n",
       "1                                          28.4   \n",
       "2                                          28.4   \n",
       "3                                          28.4   \n",
       "4                                          28.4   \n",
       "\n",
       "            Holiday.SUM(seoul_bike.visibility)  \\\n",
       "Unnamed: 0                                       \n",
       "0                                        67335   \n",
       "1                                        67335   \n",
       "2                                        67335   \n",
       "3                                        67335   \n",
       "4                                        67335   \n",
       "\n",
       "            Holiday.SUM(seoul_bike.wind_speed)  \n",
       "Unnamed: 0                                      \n",
       "0                                         8.85  \n",
       "1                                         8.85  \n",
       "2                                         8.85  \n",
       "3                                         8.85  \n",
       "4                                         8.85  \n",
       "\n",
       "[5 rows x 298 columns]"
      ]
     },
     "execution_count": 11,
     "metadata": {},
     "output_type": "execute_result"
    }
   ],
   "source": [
    "feature_matrix.head()"
   ]
  },
  {
   "cell_type": "code",
   "execution_count": 12,
   "id": "7bbaf64f-7840-437f-90e3-eb745bd42dab",
   "metadata": {},
   "outputs": [],
   "source": [
    "df_merge = df_seoul_ori[['rent_count', 'year','date','datetime','rep_count', 'predicted_rep_count', 'predicted_rent_count', 'rent_count']]"
   ]
  },
  {
   "cell_type": "code",
   "execution_count": 27,
   "id": "3dbd54ac-c4e3-48a1-96ad-71d2eed48c62",
   "metadata": {
    "tags": []
   },
   "outputs": [],
   "source": [
    "pd.concat([feature_matrix.reset_index(), df_merge], axis =1).to_csv(\"../data/7days_demo_engineered.csv\")"
   ]
  }
 ],
 "metadata": {
  "colab": {
   "collapsed_sections": [],
   "name": "feature_engineering(automated).ipynb",
   "provenance": []
  },
  "kernelspec": {
   "display_name": "Python 3",
   "language": "python",
   "name": "python3"
  },
  "language_info": {
   "codemirror_mode": {
    "name": "ipython",
    "version": 3
   },
   "file_extension": ".py",
   "mimetype": "text/x-python",
   "name": "python",
   "nbconvert_exporter": "python",
   "pygments_lexer": "ipython3",
   "version": "3.8.11"
  }
 },
 "nbformat": 4,
 "nbformat_minor": 5
}
